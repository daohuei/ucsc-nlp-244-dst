{
 "cells": [
  {
   "cell_type": "code",
   "execution_count": 32,
   "id": "3ef219dd-6a48-4f12-9737-fcd32bd4b54f",
   "metadata": {},
   "outputs": [
    {
     "name": "stdout",
     "output_type": "stream",
     "text": [
      "loading cached data from resources/cached_data_lexical_test.pkl\n",
      "loading cached data from resources/cached_data_delex_test.pkl\n"
     ]
    }
   ],
   "source": [
    "from data.dataset.multiwoz import MultiWozDataset\n",
    "from utils.args_parser import ArgsParser\n",
    "\n",
    "import sys\n",
    "sys.argv = ['test_args.py']\n",
    "\n",
    "\n",
    "EVAL_SPLIT = \"test\"\n",
    "\n",
    "opt = ArgsParser().parse()\n",
    "opt.multiwoz_version = '2.1'\n",
    "opt.use_action = True\n",
    "opt.use_knowledge = True\n",
    "opt.context_knowledge = True\n",
    "opt.lexical = True\n",
    "\n",
    "opt_delex = ArgsParser().parse()\n",
    "opt_delex.multiwoz_version = '2.1'\n",
    "\n",
    "# Load the dataset\n",
    "data = MultiWozDataset(opt, split=EVAL_SPLIT, shuffle=False)\n",
    "data_delex = MultiWozDataset(opt_delex, split=EVAL_SPLIT, shuffle=False)"
   ]
  },
  {
   "cell_type": "code",
   "execution_count": 33,
   "id": "aaee8964-d058-4a5c-8077-75cbc90b29e3",
   "metadata": {},
   "outputs": [],
   "source": [
    "# structure the data\n",
    "lex_dict = {}\n",
    "delex_dict = {}\n",
    "for d in data:\n",
    "    lex_dict[d['name']] = d\n",
    "\n",
    "for d in data_delex:\n",
    "    delex_dict[d['name']] = d"
   ]
  },
  {
   "cell_type": "code",
   "execution_count": 34,
   "id": "82860ec7-8f29-406b-84d3-c0a1ef3b1927",
   "metadata": {},
   "outputs": [
    {
     "name": "stdout",
     "output_type": "stream",
     "text": [
      "PMUL3688.json [999/1000] \r"
     ]
    }
   ],
   "source": [
    "generated_dict = {}\n",
    "num_data = len(data)\n",
    "for i, dial_name in enumerate(lex_dict):\n",
    "    if EVAL_SPLIT == 'train' and i > 1000:\n",
    "        break\n",
    "    d = lex_dict[dial_name]\n",
    "    d_delex = delex_dict[dial_name]\n",
    "    print('{} [{}/{}] \\r'.format(d['name'], i, num_data), end='')\n",
    "    sys.stdout.flush()\n",
    "    beliefs_raw = d['belief_raw']\n",
    "    user = d['input_raw']\n",
    "    system = d['target_raw']\n",
    "    system_delex = d_delex['target_raw']\n",
    "    target_response = system\n",
    "    \n",
    "    # get the gold action\n",
    "    action = d['action_raw']\n",
    "    target_action = []\n",
    "    for turn_act in action:\n",
    "        turn_action = []\n",
    "        for act in turn_act:\n",
    "            act_str = '{} {} {}'.format(act[0], act[1], act[2])\n",
    "            turn_action.append(act_str)\n",
    "        target_action.append(turn_action)\n",
    "    \n",
    "    # get the gold ds\n",
    "    dialogue_aggregated_target_belief = []\n",
    "    dialogue_target_belief = []\n",
    "    for turn_belief in beliefs_raw:\n",
    "        turn_belief_str = []\n",
    "        for bs in turn_belief:\n",
    "            domain, slot, value = bs\n",
    "            if value in ['not mentioned', 'none']:\n",
    "                continue\n",
    "            bs_str = '{} {} {}'.format(domain.lower(), slot.lower(), value.lower())\n",
    "            if bs_str not in dialogue_aggregated_target_belief:\n",
    "                dialogue_aggregated_target_belief.append(bs_str)\n",
    "            turn_belief_str.append(bs_str)\n",
    "        dialogue_target_belief.append(turn_belief_str)\n",
    "\n",
    "    generated_dict[d['name']] = {\n",
    "        'target_belief': dialogue_aggregated_target_belief,\n",
    "        'target_turn_belief': dialogue_target_belief,\n",
    "        'generated_belief': dialogue_aggregated_target_belief,\n",
    "        'generated_turn_belief': dialogue_target_belief,\n",
    "        'target_response': target_response,\n",
    "        'generated_response': target_response,\n",
    "        'target_action': target_action,\n",
    "        'generated_action': target_action,\n",
    "        'target_user': user,\n",
    "        # 'model_context': model_context\n",
    "    }\n"
   ]
  },
  {
   "cell_type": "code",
   "execution_count": 35,
   "id": "8f4446d6-5506-420e-af5c-1952b86aae3e",
   "metadata": {},
   "outputs": [
    {
     "data": {
      "text/plain": [
       "{'target_belief': ['attraction area centre',\n",
       "  'train destination stansted airport',\n",
       "  'train day friday',\n",
       "  'train leaveat 08:45',\n",
       "  'train departure cambridge',\n",
       "  'train book people 3'],\n",
       " 'target_turn_belief': [['attraction area centre'],\n",
       "  ['attraction area centre'],\n",
       "  ['attraction area centre',\n",
       "   'train destination stansted airport',\n",
       "   'train day friday'],\n",
       "  ['attraction area centre',\n",
       "   'train leaveat 08:45',\n",
       "   'train destination stansted airport',\n",
       "   'train day friday',\n",
       "   'train departure cambridge'],\n",
       "  ['attraction area centre',\n",
       "   'train leaveat 08:45',\n",
       "   'train destination stansted airport',\n",
       "   'train day friday',\n",
       "   'train departure cambridge',\n",
       "   'train book people 3'],\n",
       "  ['attraction area centre',\n",
       "   'train leaveat 08:45',\n",
       "   'train destination stansted airport',\n",
       "   'train day friday',\n",
       "   'train departure cambridge',\n",
       "   'train book people 3']],\n",
       " 'generated_belief': ['attraction area centre',\n",
       "  'train destination stansted airport',\n",
       "  'train day friday',\n",
       "  'train leaveat 08:45',\n",
       "  'train departure cambridge',\n",
       "  'train book people 3'],\n",
       " 'generated_turn_belief': [['attraction area centre'],\n",
       "  ['attraction area centre'],\n",
       "  ['attraction area centre',\n",
       "   'train destination stansted airport',\n",
       "   'train day friday'],\n",
       "  ['attraction area centre',\n",
       "   'train leaveat 08:45',\n",
       "   'train destination stansted airport',\n",
       "   'train day friday',\n",
       "   'train departure cambridge'],\n",
       "  ['attraction area centre',\n",
       "   'train leaveat 08:45',\n",
       "   'train destination stansted airport',\n",
       "   'train day friday',\n",
       "   'train departure cambridge',\n",
       "   'train book people 3'],\n",
       "  ['attraction area centre',\n",
       "   'train leaveat 08:45',\n",
       "   'train destination stansted airport',\n",
       "   'train day friday',\n",
       "   'train departure cambridge',\n",
       "   'train book people 3']],\n",
       " 'target_response': ['is there any type of attraction you would like to see ?',\n",
       "  'the holy trinity church is located on market street . the entrance fee is free . is there anything else i can help with ?',\n",
       "  'where will you be departing from , and do you have a destination in mind ?',\n",
       "  'there is a train that leaves at 9:40 .',\n",
       "  'it is booked and your reference number is 7v38wv1g .',\n",
       "  'alright , thanks for using cambridge towninfo , have a great day !'],\n",
       " 'generated_response': ['is there any type of attraction you would like to see ?',\n",
       "  'the holy trinity church is located on market street . the entrance fee is free . is there anything else i can help with ?',\n",
       "  'where will you be departing from , and do you have a destination in mind ?',\n",
       "  'there is a train that leaves at 9:40 .',\n",
       "  'it is booked and your reference number is 7v38wv1g .',\n",
       "  'alright , thanks for using cambridge towninfo , have a great day !'],\n",
       " 'target_action': [['attraction request type'],\n",
       "  ['attraction recommend addr',\n",
       "   'attraction recommend name',\n",
       "   'attraction inform fee',\n",
       "   'general reqmore none'],\n",
       "  ['train request depart', 'train request dest'],\n",
       "  ['train inform leave'],\n",
       "  ['train offerbooked ref'],\n",
       "  ['general bye none', 'general welcome none']],\n",
       " 'generated_action': [['attraction request type'],\n",
       "  ['attraction recommend addr',\n",
       "   'attraction recommend name',\n",
       "   'attraction inform fee',\n",
       "   'general reqmore none'],\n",
       "  ['train request depart', 'train request dest'],\n",
       "  ['train inform leave'],\n",
       "  ['train offerbooked ref'],\n",
       "  ['general bye none', 'general welcome none']],\n",
       " 'target_user': ['i am looking for a place to go in the centre of town .',\n",
       "  'any of your choice . get me the address and entrance fee',\n",
       "  'i also need a train out to the airport on friday .',\n",
       "  'leaving cambridge and going to stansted airport and i want to leave anytime after 08:45',\n",
       "  'that will work . i will need tickets for 3 people .',\n",
       "  'perfect thats everything thanks']}"
      ]
     },
     "execution_count": 35,
     "metadata": {},
     "output_type": "execute_result"
    }
   ],
   "source": [
    "generated_dict[\"PMUL3688.json\"]"
   ]
  },
  {
   "cell_type": "code",
   "execution_count": 29,
   "id": "b9fa3f43-8e39-464e-874e-7a130a620fb4",
   "metadata": {},
   "outputs": [],
   "source": [
    "exp_name = \"test_eval\"\n",
    "save_name = '{}_{}'.format(exp_name, EVAL_SPLIT)\n",
    "save_name += '_nocarry'"
   ]
  },
  {
   "cell_type": "code",
   "execution_count": 31,
   "id": "e5e8bbf6-3887-4ef6-b08c-40bf28d9cb07",
   "metadata": {},
   "outputs": [],
   "source": [
    "import json\n",
    "with open('{}.json'.format(save_name), 'wt') as f:\n",
    "    json.dump(generated_dict, f)\n"
   ]
  },
  {
   "cell_type": "code",
   "execution_count": null,
   "id": "4e221723-b8fd-4540-99b4-2771b65f7f4d",
   "metadata": {},
   "outputs": [],
   "source": []
  }
 ],
 "metadata": {
  "kernelspec": {
   "display_name": "Python 3 (ipykernel)",
   "language": "python",
   "name": "python3"
  },
  "language_info": {
   "codemirror_mode": {
    "name": "ipython",
    "version": 3
   },
   "file_extension": ".py",
   "mimetype": "text/x-python",
   "name": "python",
   "nbconvert_exporter": "python",
   "pygments_lexer": "ipython3",
   "version": "3.8.13"
  }
 },
 "nbformat": 4,
 "nbformat_minor": 5
}
