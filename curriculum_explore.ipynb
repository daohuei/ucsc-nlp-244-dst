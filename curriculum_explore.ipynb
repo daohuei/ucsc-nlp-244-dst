{
 "cells": [
  {
   "cell_type": "code",
   "execution_count": null,
   "id": "29104609-2c7f-4a43-b6f7-3278a31bbbaa",
   "metadata": {},
   "outputs": [],
   "source": [
    "# Training Pipeline Notebook"
   ]
  },
  {
   "cell_type": "code",
   "execution_count": 1,
   "id": "bf47d06d-e6ab-4f42-9fc8-680dd4f020d2",
   "metadata": {},
   "outputs": [
    {
     "name": "stderr",
     "output_type": "stream",
     "text": [
      "Using custom data configuration default-bfc7feb1c1e93a63\n",
      "Reusing dataset multi_woz_dataset (/Users/daohuei/.cache/huggingface/datasets/multi_woz_dataset/default-bfc7feb1c1e93a63/0.0.0/214b5f86ecf324bff982d075298ac2b6490bbca4895dda93d15c69bf8e8274e7)\n"
     ]
    },
    {
     "data": {
      "application/vnd.jupyter.widget-view+json": {
       "model_id": "377953aea7cd4f6b88b654e87e292bd9",
       "version_major": 2,
       "version_minor": 0
      },
      "text/plain": [
       "  0%|          | 0/3 [00:00<?, ?it/s]"
      ]
     },
     "metadata": {},
     "output_type": "display_data"
    },
    {
     "name": "stderr",
     "output_type": "stream",
     "text": [
      "Loading cached processed dataset at /Users/daohuei/.cache/huggingface/datasets/multi_woz_dataset/default-bfc7feb1c1e93a63/0.0.0/214b5f86ecf324bff982d075298ac2b6490bbca4895dda93d15c69bf8e8274e7/cache-d16f23eccc4b23c9.arrow\n",
      "Loading cached processed dataset at /Users/daohuei/.cache/huggingface/datasets/multi_woz_dataset/default-bfc7feb1c1e93a63/0.0.0/214b5f86ecf324bff982d075298ac2b6490bbca4895dda93d15c69bf8e8274e7/cache-729a1d081f6da48b.arrow\n",
      "Loading cached processed dataset at /Users/daohuei/.cache/huggingface/datasets/multi_woz_dataset/default-bfc7feb1c1e93a63/0.0.0/214b5f86ecf324bff982d075298ac2b6490bbca4895dda93d15c69bf8e8274e7/cache-68c0f4701c954fae.arrow\n"
     ]
    },
    {
     "data": {
      "application/vnd.jupyter.widget-view+json": {
       "model_id": "270a5aa3e4f84e3aa7acbf8441db3e8b",
       "version_major": 2,
       "version_minor": 0
      },
      "text/plain": [
       "  0%|          | 0/56778 [00:00<?, ?ex/s]"
      ]
     },
     "metadata": {},
     "output_type": "display_data"
    },
    {
     "data": {
      "application/vnd.jupyter.widget-view+json": {
       "model_id": "f8542bfad78147e690e10efbcb5e42a5",
       "version_major": 2,
       "version_minor": 0
      },
      "text/plain": [
       "  0%|          | 0/7374 [00:00<?, ?ex/s]"
      ]
     },
     "metadata": {},
     "output_type": "display_data"
    },
    {
     "data": {
      "application/vnd.jupyter.widget-view+json": {
       "model_id": "416980f222d544ceb5439201ea84e784",
       "version_major": 2,
       "version_minor": 0
      },
      "text/plain": [
       "  0%|          | 0/7372 [00:00<?, ?ex/s]"
      ]
     },
     "metadata": {},
     "output_type": "display_data"
    }
   ],
   "source": [
    "# get dataset\n",
    "from pathlib import Path\n",
    "\n",
    "from datasets import load_dataset, Split\n",
    "\n",
    "from data import *\n",
    "\n",
    "data_dir = Path('resources/bart/')\n",
    "\n",
    "data_files = {\n",
    "    Split.TRAIN: str((data_dir / 'train.history_belief').absolute()),\n",
    "    Split.VALIDATION: str((data_dir / 'val.history_belief').absolute()),\n",
    "    Split.TEST: str((data_dir / 'test.history_belief').absolute())\n",
    "}\n",
    "\n",
    "dataset = load_dataset('data/dataset/multiwoz_dataset.py', data_files=data_files)\n",
    "dataset = dataset.map(flatten_conversation, batched=True, remove_columns=dataset['train'].column_names)\n",
    "masked_deltas = dataset.map(mask_delta_beliefs, remove_columns='turn')"
   ]
  },
  {
   "cell_type": "code",
   "execution_count": 86,
   "id": "50cb5f74-e5c8-498a-8ef1-3149354bcc91",
   "metadata": {},
   "outputs": [],
   "source": [
    "from datasets import Dataset\n",
    "sample_dataset = Dataset.from_dict(masked_deltas[\"validation\"][:2])\n",
    "sample_dataset_2 = Dataset.from_dict(masked_deltas[\"validation\"][50:55])"
   ]
  },
  {
   "cell_type": "code",
   "execution_count": 87,
   "id": "b6c7462c-c547-477d-81fb-9030066951b2",
   "metadata": {},
   "outputs": [
    {
     "name": "stderr",
     "output_type": "stream",
     "text": [
      "loading file https://huggingface.co/facebook/bart-base/resolve/main/vocab.json from cache at /Users/daohuei/.cache/huggingface/transformers/43978bdeaa326572886b44fcfed82f932f76571095ce31973e51c3da8ccade7f.d67d6b367eb24ab43b08ad55e014cf254076934f71d832bbab9ad35644a375ab\n",
      "loading file https://huggingface.co/facebook/bart-base/resolve/main/merges.txt from cache at /Users/daohuei/.cache/huggingface/transformers/3c167ed8af56e6605eeb794b63a79d65d85e6708c9b04408d41946337030f5cd.5d12962c5ee615a4c803841266e9c3be9a691a924f72d395d3a6c6c81157788b\n",
      "loading file https://huggingface.co/facebook/bart-base/resolve/main/added_tokens.json from cache at None\n",
      "loading file https://huggingface.co/facebook/bart-base/resolve/main/special_tokens_map.json from cache at None\n",
      "loading file https://huggingface.co/facebook/bart-base/resolve/main/tokenizer_config.json from cache at None\n",
      "loading configuration file https://huggingface.co/facebook/bart-base/resolve/main/config.json from cache at /Users/daohuei/.cache/huggingface/transformers/f5310d276a6d1648d00c32fadc8bf7b4607e0fbd5b404fc4a0045960aa2bdfdb.a243ed957122436adb0b8d8e9d20f896f45c174b6324d625ca0a20a84f72a910\n",
      "Model config BartConfig {\n",
      "  \"_name_or_path\": \"facebook/bart-base\",\n",
      "  \"activation_dropout\": 0.1,\n",
      "  \"activation_function\": \"gelu\",\n",
      "  \"add_bias_logits\": false,\n",
      "  \"add_final_layer_norm\": false,\n",
      "  \"architectures\": [\n",
      "    \"BartModel\"\n",
      "  ],\n",
      "  \"attention_dropout\": 0.1,\n",
      "  \"bos_token_id\": 0,\n",
      "  \"classif_dropout\": 0.1,\n",
      "  \"classifier_dropout\": 0.0,\n",
      "  \"d_model\": 768,\n",
      "  \"decoder_attention_heads\": 12,\n",
      "  \"decoder_ffn_dim\": 3072,\n",
      "  \"decoder_layerdrop\": 0.0,\n",
      "  \"decoder_layers\": 6,\n",
      "  \"decoder_start_token_id\": 2,\n",
      "  \"dropout\": 0.1,\n",
      "  \"early_stopping\": true,\n",
      "  \"encoder_attention_heads\": 12,\n",
      "  \"encoder_ffn_dim\": 3072,\n",
      "  \"encoder_layerdrop\": 0.0,\n",
      "  \"encoder_layers\": 6,\n",
      "  \"eos_token_id\": 2,\n",
      "  \"forced_bos_token_id\": 0,\n",
      "  \"forced_eos_token_id\": 2,\n",
      "  \"gradient_checkpointing\": false,\n",
      "  \"id2label\": {\n",
      "    \"0\": \"LABEL_0\",\n",
      "    \"1\": \"LABEL_1\",\n",
      "    \"2\": \"LABEL_2\"\n",
      "  },\n",
      "  \"init_std\": 0.02,\n",
      "  \"is_encoder_decoder\": true,\n",
      "  \"label2id\": {\n",
      "    \"LABEL_0\": 0,\n",
      "    \"LABEL_1\": 1,\n",
      "    \"LABEL_2\": 2\n",
      "  },\n",
      "  \"max_position_embeddings\": 1024,\n",
      "  \"model_type\": \"bart\",\n",
      "  \"no_repeat_ngram_size\": 3,\n",
      "  \"normalize_before\": false,\n",
      "  \"normalize_embedding\": true,\n",
      "  \"num_beams\": 4,\n",
      "  \"num_hidden_layers\": 6,\n",
      "  \"pad_token_id\": 1,\n",
      "  \"scale_embedding\": false,\n",
      "  \"task_specific_params\": {\n",
      "    \"summarization\": {\n",
      "      \"length_penalty\": 1.0,\n",
      "      \"max_length\": 128,\n",
      "      \"min_length\": 12,\n",
      "      \"num_beams\": 4\n",
      "    },\n",
      "    \"summarization_cnn\": {\n",
      "      \"length_penalty\": 2.0,\n",
      "      \"max_length\": 142,\n",
      "      \"min_length\": 56,\n",
      "      \"num_beams\": 4\n",
      "    },\n",
      "    \"summarization_xsum\": {\n",
      "      \"length_penalty\": 1.0,\n",
      "      \"max_length\": 62,\n",
      "      \"min_length\": 11,\n",
      "      \"num_beams\": 6\n",
      "    }\n",
      "  },\n",
      "  \"torch_dtype\": \"float32\",\n",
      "  \"transformers_version\": \"4.17.0\",\n",
      "  \"use_cache\": true,\n",
      "  \"vocab_size\": 50265\n",
      "}\n",
      "\n",
      "Assigning ['<|context|>', '<|user|>', '<|system|>', '<|endofcontext|>', '<|previousbelief|>', '<|endofpreviousbelief|>', '<|belief|>', '<|endofbelief|>'] to the additional_special_tokens key of the tokenizer\n",
      "Adding <|context|> to the vocabulary\n",
      "Adding <|user|> to the vocabulary\n",
      "Adding <|system|> to the vocabulary\n",
      "Adding <|endofcontext|> to the vocabulary\n",
      "Adding <|previousbelief|> to the vocabulary\n",
      "Adding <|endofpreviousbelief|> to the vocabulary\n",
      "Adding <|belief|> to the vocabulary\n",
      "Adding <|endofbelief|> to the vocabulary\n"
     ]
    },
    {
     "data": {
      "text/plain": [
       "8"
      ]
     },
     "execution_count": 87,
     "metadata": {},
     "output_type": "execute_result"
    }
   ],
   "source": [
    "# TODO: add special tokens\n",
    "from transformers import BartTokenizer\n",
    "tok = BartTokenizer.from_pretrained(\"facebook/bart-base\")\n",
    "\n",
    "tok.add_special_tokens(\n",
    "    {\"additional_special_tokens\": [\n",
    "        \"<|context|>\", \n",
    "        \"<|user|>\", \n",
    "        \"<|system|>\", \n",
    "        \"<|endofcontext|>\", \n",
    "        \"<|previousbelief|>\", \n",
    "        \"<|endofpreviousbelief|>\", \n",
    "        \"<|belief|>\",\n",
    "        \"<|endofbelief|>\",\n",
    "    ]}\n",
    ")\n"
   ]
  },
  {
   "cell_type": "code",
   "execution_count": 88,
   "id": "c47e22cb-ebb6-432b-b4e0-e2ecd7559e82",
   "metadata": {},
   "outputs": [
    {
     "data": {
      "text/plain": [
       "50273"
      ]
     },
     "execution_count": 88,
     "metadata": {},
     "output_type": "execute_result"
    }
   ],
   "source": [
    "len(tok)"
   ]
  },
  {
   "cell_type": "code",
   "execution_count": 89,
   "id": "f5fef797-e7df-4c91-bec0-4214bdb5a7ba",
   "metadata": {},
   "outputs": [
    {
     "data": {
      "text/plain": [
       "[533, 533, 533, 533, 533]"
      ]
     },
     "execution_count": 89,
     "metadata": {},
     "output_type": "execute_result"
    }
   ],
   "source": [
    "[len(x) for x in tokenization(sample_dataset_2)[\"labels\"]]"
   ]
  },
  {
   "cell_type": "code",
   "execution_count": 90,
   "id": "b20d2d82-ed3b-4fa6-91a2-80262682f01a",
   "metadata": {},
   "outputs": [
    {
     "data": {
      "application/vnd.jupyter.widget-view+json": {
       "model_id": "e36e29dbc38c4efe992024404b73a417",
       "version_major": 2,
       "version_minor": 0
      },
      "text/plain": [
       "  0%|          | 0/1 [00:00<?, ?ba/s]"
      ]
     },
     "metadata": {},
     "output_type": "display_data"
    },
    {
     "data": {
      "application/vnd.jupyter.widget-view+json": {
       "model_id": "e96365e9e24e4082b3b7fe73a691e2ec",
       "version_major": 2,
       "version_minor": 0
      },
      "text/plain": [
       "  0%|          | 0/1 [00:00<?, ?ba/s]"
      ]
     },
     "metadata": {},
     "output_type": "display_data"
    }
   ],
   "source": [
    "# tokenization\n",
    "def tokenization(examples):\n",
    "    tokenized_examples = tok(examples[\"masked\"], padding=True)\n",
    "    tokenized_examples[\"labels\"] = tok(examples[\"target\"], padding=True)[\"input_ids\"]\n",
    "    return tokenized_examples\n",
    "train_set = sample_dataset.map(tokenization, batched=True,\n",
    "            remove_columns=sample_dataset.column_names)\n",
    "            #, remove_columns='turn')\n",
    "train_set_2 = sample_dataset_2.map(tokenization, batched=True,\n",
    "            remove_columns=sample_dataset_2.column_names)"
   ]
  },
  {
   "cell_type": "code",
   "execution_count": 91,
   "id": "4a46ef38-c429-4e45-8c58-0f51603848d9",
   "metadata": {},
   "outputs": [
    {
     "name": "stderr",
     "output_type": "stream",
     "text": [
      "loading configuration file https://huggingface.co/facebook/bart-base/resolve/main/config.json from cache at /Users/daohuei/.cache/huggingface/transformers/f5310d276a6d1648d00c32fadc8bf7b4607e0fbd5b404fc4a0045960aa2bdfdb.a243ed957122436adb0b8d8e9d20f896f45c174b6324d625ca0a20a84f72a910\n",
      "Model config BartConfig {\n",
      "  \"_name_or_path\": \"bart-base\",\n",
      "  \"activation_dropout\": 0.1,\n",
      "  \"activation_function\": \"gelu\",\n",
      "  \"add_bias_logits\": false,\n",
      "  \"add_final_layer_norm\": false,\n",
      "  \"architectures\": [\n",
      "    \"BartModel\"\n",
      "  ],\n",
      "  \"attention_dropout\": 0.1,\n",
      "  \"bos_token_id\": 0,\n",
      "  \"classif_dropout\": 0.1,\n",
      "  \"classifier_dropout\": 0.0,\n",
      "  \"d_model\": 768,\n",
      "  \"decoder_attention_heads\": 12,\n",
      "  \"decoder_ffn_dim\": 3072,\n",
      "  \"decoder_layerdrop\": 0.0,\n",
      "  \"decoder_layers\": 6,\n",
      "  \"decoder_start_token_id\": 2,\n",
      "  \"dropout\": 0.1,\n",
      "  \"early_stopping\": true,\n",
      "  \"encoder_attention_heads\": 12,\n",
      "  \"encoder_ffn_dim\": 3072,\n",
      "  \"encoder_layerdrop\": 0.0,\n",
      "  \"encoder_layers\": 6,\n",
      "  \"eos_token_id\": 2,\n",
      "  \"forced_bos_token_id\": 0,\n",
      "  \"forced_eos_token_id\": 2,\n",
      "  \"gradient_checkpointing\": false,\n",
      "  \"id2label\": {\n",
      "    \"0\": \"LABEL_0\",\n",
      "    \"1\": \"LABEL_1\",\n",
      "    \"2\": \"LABEL_2\"\n",
      "  },\n",
      "  \"init_std\": 0.02,\n",
      "  \"is_encoder_decoder\": true,\n",
      "  \"label2id\": {\n",
      "    \"LABEL_0\": 0,\n",
      "    \"LABEL_1\": 1,\n",
      "    \"LABEL_2\": 2\n",
      "  },\n",
      "  \"max_position_embeddings\": 1024,\n",
      "  \"model_type\": \"bart\",\n",
      "  \"no_repeat_ngram_size\": 3,\n",
      "  \"normalize_before\": false,\n",
      "  \"normalize_embedding\": true,\n",
      "  \"num_beams\": 4,\n",
      "  \"num_hidden_layers\": 6,\n",
      "  \"pad_token_id\": 1,\n",
      "  \"scale_embedding\": false,\n",
      "  \"task_specific_params\": {\n",
      "    \"summarization\": {\n",
      "      \"length_penalty\": 1.0,\n",
      "      \"max_length\": 128,\n",
      "      \"min_length\": 12,\n",
      "      \"num_beams\": 4\n",
      "    },\n",
      "    \"summarization_cnn\": {\n",
      "      \"length_penalty\": 2.0,\n",
      "      \"max_length\": 142,\n",
      "      \"min_length\": 56,\n",
      "      \"num_beams\": 4\n",
      "    },\n",
      "    \"summarization_xsum\": {\n",
      "      \"length_penalty\": 1.0,\n",
      "      \"max_length\": 62,\n",
      "      \"min_length\": 11,\n",
      "      \"num_beams\": 6\n",
      "    }\n",
      "  },\n",
      "  \"torch_dtype\": \"float32\",\n",
      "  \"transformers_version\": \"4.17.0\",\n",
      "  \"use_cache\": true,\n",
      "  \"vocab_size\": 50265\n",
      "}\n",
      "\n",
      "loading weights file https://huggingface.co/facebook/bart-base/resolve/main/pytorch_model.bin from cache at /Users/daohuei/.cache/huggingface/transformers/486355ec722ef05fd480e999d4c763be56549ae930f6a3742ee721a5d2a05647.f2f355ad2775769afc60592b43a46d72ca548375e3a1d65f381a751e711cbadd\n",
      "All model checkpoint weights were used when initializing BartForConditionalGeneration.\n",
      "\n",
      "All the weights of BartForConditionalGeneration were initialized from the model checkpoint at facebook/bart-base.\n",
      "If your task is similar to the task the model of the checkpoint was trained on, you can already use BartForConditionalGeneration for predictions without further training.\n"
     ]
    },
    {
     "data": {
      "text/plain": [
       "['UN Chief Says There Is No War in Syria']"
      ]
     },
     "execution_count": 91,
     "metadata": {},
     "output_type": "execute_result"
    }
   ],
   "source": [
    "# get the model\n",
    "from transformers import BartForConditionalGeneration, BartConfig\n",
    "\n",
    "model = BartForConditionalGeneration.from_pretrained(\"facebook/bart-base\")\n",
    "\n",
    "model.resize_token_embeddings(len(tok))\n",
    "\n",
    "\n",
    "example_english_phrase = \"UN Chief Says There Is No <mask> in Syria\"\n",
    "batch = tok(example_english_phrase, return_tensors=\"pt\")\n",
    "generated_ids = model.generate(batch[\"input_ids\"])\n",
    "tok.batch_decode(generated_ids, skip_special_tokens=True)"
   ]
  },
  {
   "cell_type": "code",
   "execution_count": 92,
   "id": "acc1b3e4-af66-4a4e-a31f-a5af52d13d91",
   "metadata": {},
   "outputs": [],
   "source": [
    "# define the trainer"
   ]
  },
  {
   "cell_type": "code",
   "execution_count": 93,
   "id": "b4c23382-4f56-43f4-97cb-ddcefe1971b5",
   "metadata": {},
   "outputs": [],
   "source": [
    "# customize the training loop => for different trainloader"
   ]
  },
  {
   "cell_type": "code",
   "execution_count": 105,
   "id": "c8fcaee2-cdc7-42c8-9ee2-bd018cc22884",
   "metadata": {},
   "outputs": [],
   "source": [
    "from transformers import (\n",
    "    AutoModelForQuestionAnswering,\n",
    "    TrainingArguments,\n",
    "    Trainer,\n",
    ")\n"
   ]
  },
  {
   "cell_type": "code",
   "execution_count": 106,
   "id": "63ca3c9d-f641-4a0c-aa65-e8cfe4835132",
   "metadata": {},
   "outputs": [],
   "source": [
    "from transformers import TrainerCallback\n",
    "from transformers import default_data_collator\n",
    "\n",
    "# class MyCallback(TrainerCallback):\n",
    "#     \"A callback that prints a message at the beginning of training\"\n",
    "\n",
    "#     def on_train_begin(self, args, state, control, **kwargs):\n",
    "#         print(\"Starting training\")\n",
    "        \n",
    "#     def on_epoch_begin(self, args, state, control, **kwargs):\n",
    "#         print(state)\n",
    "#         print(control)\n",
    "#         print(kwargs)\n",
    "\n",
    "data_collator = default_data_collator"
   ]
  },
  {
   "cell_type": "code",
   "execution_count": 109,
   "id": "22c2d235-46ea-4154-9945-022fbe690efe",
   "metadata": {},
   "outputs": [
    {
     "name": "stderr",
     "output_type": "stream",
     "text": [
      "PyTorch: setting up devices\n",
      "The default value for the training argument `--report_to` will change in v5 (from all installed integrations to none). In v5, you will need to use `--report_to all` to get the same behavior as now. You should start updating your code and make this info disappear :-).\n",
      "/Users/daohuei/miniconda3/envs/py3_8/lib/python3.8/site-packages/transformers/optimization.py:306: FutureWarning: This implementation of AdamW is deprecated and will be removed in a future version. Use the PyTorch implementation torch.optim.AdamW instead, or set `no_deprecation_warning=True` to disable this warning\n",
      "  warnings.warn(\n",
      "***** Running training *****\n",
      "  Num examples = 2\n",
      "  Num Epochs = 1\n",
      "  Instantaneous batch size per device = 2\n",
      "  Total train batch size (w. parallel, distributed & accumulation) = 2\n",
      "  Gradient Accumulation steps = 1\n",
      "  Total optimization steps = 1\n"
     ]
    },
    {
     "data": {
      "text/html": [
       "\n",
       "    <div>\n",
       "      \n",
       "      <progress value='1' max='1' style='width:300px; height:20px; vertical-align: middle;'></progress>\n",
       "      [1/1 00:03, Epoch 1/1]\n",
       "    </div>\n",
       "    <table border=\"1\" class=\"dataframe\">\n",
       "  <thead>\n",
       " <tr style=\"text-align: left;\">\n",
       "      <th>Epoch</th>\n",
       "      <th>Training Loss</th>\n",
       "      <th>Validation Loss</th>\n",
       "      <th>Score</th>\n",
       "    </tr>\n",
       "  </thead>\n",
       "  <tbody>\n",
       "    <tr>\n",
       "      <td>1</td>\n",
       "      <td>No log</td>\n",
       "      <td>0.739805</td>\n",
       "      <td>100</td>\n",
       "    </tr>\n",
       "  </tbody>\n",
       "</table><p>"
      ],
      "text/plain": [
       "<IPython.core.display.HTML object>"
      ]
     },
     "metadata": {},
     "output_type": "display_data"
    },
    {
     "name": "stderr",
     "output_type": "stream",
     "text": [
      "***** Running Evaluation *****\n",
      "  Num examples = 2\n",
      "  Batch size = 2\n"
     ]
    },
    {
     "name": "stdout",
     "output_type": "stream",
     "text": [
      "['<s>-.ii need to book a hotel in the east that has 4 stars. New Iattraction area not mentioned, attraction name not mentioned, attraction type not mentioned, hospital department not mentioned, hotel area not mentioned, hotel book day not mentioned, hotel book people not mentioned, hotel book stay not mentioned, hotel internet not mentioned, hotel name not mentioned, hotel parking not mentioned, hotel pricerange not mentioned, hotel stars not mentioned, hotel type not mentioned, restaurant area not mentioned, restaurant book day not mentioned, restaurant book people not mentioned, restaurant book time not mentioned, restaurant food not mentioned, restaurant name not mentioned, restaurant pricerange not mentioned, taxi arriveby not mentioned, taxi departure not mentioned, taxi destination not mentioned, taxi leaveat not mentioned, train arriveby not mentioned, train book people not mentioned, train day not mentioned, train departure not mentioned, train destination not mentioned, train leaveat not mentioned New Adattraction area not mentioned, attraction name not mentioned, attraction type not mentioned, hospital department not mentioned, hotel area not, hotel book day not mentioned, hotel book people not mentioned, hotel book day not mentioned, hotel internet not mentioned, hotel name not mentioned, hotel parking not mentioned, hotel pricerange not mentioned, hotel stars not stars hotel type not mentioned, restaurant area not mentioned, restaurant book day not mentioned, restaurant book people not mentioned, hotel book time not mentioned, restaurant food not mentioned, restaurant pr not mentioned, restaurant pricerange not mentioned, taxi arriveby not mentioned, taxi departure not mentioned, taxi destination not mentioned, taxi leaveat not mentioned, train arriveby not mentioned, train book people not mentioned, train day not mentioned, train departure not mentioned, train destination not mentioned, train leaveat not mentioned</s></s></s></s></s></s></s></s></s></s></s>1 the the the the</s>c1ccccccccc', '<s>-.ii need to book a hotel in the east that has 4 stars. Ii can help you with that. what is your price range? Ithat does not matter as long as it has free wifi and parking. Wattattraction area not mentioned, attraction name not mentioned, attraction type not mentioned, hospital department not mentioned, hotel area east, hotel book day not mentioned, hotel book people not mentioned, hotel book stay not mentioned, hotel internet not mentioned, hotel name not mentioned, hotel parking not mentioned, hotel pricerange not mentioned, hotel stars 4, hotel type not mentioned, restaurant area not mentioned, restaurant book day not mentioned, restaurant book people not mentioned, restaurant book time not mentioned, restaurant food not mentioned, restaurant name not mentioned, restaurant pricerange not mentioned, taxi arriveby not mentioned, taxi departure not mentioned, taxi destination not mentioned, taxi leaveat not mentioned, train arriveby not mentioned, train book people not mentioned, train day not mentioned, train departure not mentioned, train destination not mentioned, train leaveat not mentioned Newattattraction area not mentioned, attraction name not mentioned, attraction type not mentioned, hospital department not mentioned, hotel area east, hotel book day not mentioned, hotel book people not mentioned, hotel internet stay not mentioned, hotel internet not, hotel name not mentioned, hotel name not, hotel pricerange not mentioned, hotel name 4, hotel type not mentioned, restaurant area not mentioned, restaurant book day not mentioned, restaurant book people not mentioned, restaurant book time not mentioned, restaurant name not mentioned, restaurant name not mentioned, restaurant pricerange not mentioned, taxi arriveby not mentioned, taxi departure not mentioned, taxi destination not mentioned, taxi leaveat not mentioned, train arriveby not mentioned, train book people not mentioned, hotel day not mentioned, hotel departure not mentioned, train destination not mentioned, train leaveat not mentioned A</s></s>']\n"
     ]
    },
    {
     "name": "stderr",
     "output_type": "stream",
     "text": [
      "Saving model checkpoint to checkpoints/test_trainer/course_0/checkpoint-1\n",
      "Configuration saved in checkpoints/test_trainer/course_0/checkpoint-1/config.json\n",
      "Model weights saved in checkpoints/test_trainer/course_0/checkpoint-1/pytorch_model.bin\n",
      "\n",
      "\n",
      "Training completed. Do not forget to share your model on huggingface.co/models =)\n",
      "\n",
      "\n",
      "Loading best model from checkpoints/test_trainer/course_0/checkpoint-1 (score: 0.7398045063018799).\n",
      "***** Running training *****\n",
      "  Num examples = 5\n",
      "  Num Epochs = 1\n",
      "  Instantaneous batch size per device = 2\n",
      "  Total train batch size (w. parallel, distributed & accumulation) = 2\n",
      "  Gradient Accumulation steps = 1\n",
      "  Total optimization steps = 3\n"
     ]
    },
    {
     "data": {
      "text/html": [
       "\n",
       "    <div>\n",
       "      \n",
       "      <progress value='3' max='3' style='width:300px; height:20px; vertical-align: middle;'></progress>\n",
       "      [3/3 00:10, Epoch 1/1]\n",
       "    </div>\n",
       "    <table border=\"1\" class=\"dataframe\">\n",
       "  <thead>\n",
       " <tr style=\"text-align: left;\">\n",
       "      <th>Epoch</th>\n",
       "      <th>Training Loss</th>\n",
       "      <th>Validation Loss</th>\n",
       "      <th>Score</th>\n",
       "    </tr>\n",
       "  </thead>\n",
       "  <tbody>\n",
       "    <tr>\n",
       "      <td>1</td>\n",
       "      <td>No log</td>\n",
       "      <td>0.739805</td>\n",
       "      <td>100</td>\n",
       "    </tr>\n",
       "  </tbody>\n",
       "</table><p>"
      ],
      "text/plain": [
       "<IPython.core.display.HTML object>"
      ]
     },
     "metadata": {},
     "output_type": "display_data"
    },
    {
     "name": "stderr",
     "output_type": "stream",
     "text": [
      "***** Running Evaluation *****\n",
      "  Num examples = 2\n",
      "  Batch size = 2\n"
     ]
    },
    {
     "name": "stdout",
     "output_type": "stream",
     "text": [
      "['<s>-.ii need to book a hotel in the east that has 4 stars. New Iattraction area not mentioned, attraction name not mentioned, attraction type not mentioned, hospital department not mentioned, hotel area not mentioned, hotel book day not mentioned, hotel book people not mentioned, hotel book stay not mentioned, hotel internet not mentioned, hotel name not mentioned, hotel parking not mentioned, hotel pricerange not mentioned, hotel stars not mentioned, hotel type not mentioned, restaurant area not mentioned, restaurant book day not mentioned, restaurant book people not mentioned, restaurant book time not mentioned, restaurant food not mentioned, restaurant name not mentioned, restaurant pricerange not mentioned, taxi arriveby not mentioned, taxi departure not mentioned, taxi destination not mentioned, taxi leaveat not mentioned, train arriveby not mentioned, train book people not mentioned, train day not mentioned, train departure not mentioned, train destination not mentioned, train leaveat not mentioned New Adattraction area not mentioned, attraction name not mentioned, attraction type not mentioned, hospital department not mentioned, hotel area not, hotel book day not mentioned, hotel book people not mentioned, hotel book day not mentioned, hotel internet not mentioned, hotel name not mentioned, hotel parking not mentioned, hotel pricerange not mentioned, hotel stars not stars hotel type not mentioned, restaurant area not mentioned, restaurant book day not mentioned, restaurant book people not mentioned, hotel book time not mentioned, restaurant food not mentioned, restaurant pr not mentioned, restaurant pricerange not mentioned, taxi arriveby not mentioned, taxi departure not mentioned, taxi destination not mentioned, taxi leaveat not mentioned, train arriveby not mentioned, train book people not mentioned, train day not mentioned, train departure not mentioned, train destination not mentioned, train leaveat not mentioned</s></s></s></s></s></s></s></s></s></s></s>1 the the the the</s>c1ccccccccc', '<s>-.ii need to book a hotel in the east that has 4 stars. Ii can help you with that. what is your price range? Ithat does not matter as long as it has free wifi and parking. Wattattraction area not mentioned, attraction name not mentioned, attraction type not mentioned, hospital department not mentioned, hotel area east, hotel book day not mentioned, hotel book people not mentioned, hotel book stay not mentioned, hotel internet not mentioned, hotel name not mentioned, hotel parking not mentioned, hotel pricerange not mentioned, hotel stars 4, hotel type not mentioned, restaurant area not mentioned, restaurant book day not mentioned, restaurant book people not mentioned, restaurant book time not mentioned, restaurant food not mentioned, restaurant name not mentioned, restaurant pricerange not mentioned, taxi arriveby not mentioned, taxi departure not mentioned, taxi destination not mentioned, taxi leaveat not mentioned, train arriveby not mentioned, train book people not mentioned, train day not mentioned, train departure not mentioned, train destination not mentioned, train leaveat not mentioned Newattattraction area not mentioned, attraction name not mentioned, attraction type not mentioned, hospital department not mentioned, hotel area east, hotel book day not mentioned, hotel book people not mentioned, hotel internet stay not mentioned, hotel internet not, hotel name not mentioned, hotel name not, hotel pricerange not mentioned, hotel name 4, hotel type not mentioned, restaurant area not mentioned, restaurant book day not mentioned, restaurant book people not mentioned, restaurant book time not mentioned, restaurant name not mentioned, restaurant name not mentioned, restaurant pricerange not mentioned, taxi arriveby not mentioned, taxi departure not mentioned, taxi destination not mentioned, taxi leaveat not mentioned, train arriveby not mentioned, train book people not mentioned, hotel day not mentioned, hotel departure not mentioned, train destination not mentioned, train leaveat not mentioned A</s></s>']\n"
     ]
    },
    {
     "name": "stderr",
     "output_type": "stream",
     "text": [
      "Saving model checkpoint to checkpoints/test_trainer/course_1/checkpoint-3\n",
      "Configuration saved in checkpoints/test_trainer/course_1/checkpoint-3/config.json\n",
      "Model weights saved in checkpoints/test_trainer/course_1/checkpoint-3/pytorch_model.bin\n",
      "\n",
      "\n",
      "Training completed. Do not forget to share your model on huggingface.co/models =)\n",
      "\n",
      "\n",
      "Loading best model from checkpoints/test_trainer/course_1/checkpoint-3 (score: 0.7398045063018799).\n",
      "***** Running training *****\n",
      "  Num examples = 2\n",
      "  Num Epochs = 3\n",
      "  Instantaneous batch size per device = 2\n",
      "  Total train batch size (w. parallel, distributed & accumulation) = 2\n",
      "  Gradient Accumulation steps = 1\n",
      "  Total optimization steps = 3\n"
     ]
    },
    {
     "data": {
      "text/html": [
       "\n",
       "    <div>\n",
       "      \n",
       "      <progress value='3' max='3' style='width:300px; height:20px; vertical-align: middle;'></progress>\n",
       "      [3/3 00:14, Epoch 3/3]\n",
       "    </div>\n",
       "    <table border=\"1\" class=\"dataframe\">\n",
       "  <thead>\n",
       " <tr style=\"text-align: left;\">\n",
       "      <th>Epoch</th>\n",
       "      <th>Training Loss</th>\n",
       "      <th>Validation Loss</th>\n",
       "      <th>Score</th>\n",
       "    </tr>\n",
       "  </thead>\n",
       "  <tbody>\n",
       "    <tr>\n",
       "      <td>1</td>\n",
       "      <td>No log</td>\n",
       "      <td>0.739805</td>\n",
       "      <td>100</td>\n",
       "    </tr>\n",
       "    <tr>\n",
       "      <td>2</td>\n",
       "      <td>No log</td>\n",
       "      <td>0.739805</td>\n",
       "      <td>100</td>\n",
       "    </tr>\n",
       "    <tr>\n",
       "      <td>3</td>\n",
       "      <td>No log</td>\n",
       "      <td>0.739805</td>\n",
       "      <td>100</td>\n",
       "    </tr>\n",
       "  </tbody>\n",
       "</table><p>"
      ],
      "text/plain": [
       "<IPython.core.display.HTML object>"
      ]
     },
     "metadata": {},
     "output_type": "display_data"
    },
    {
     "name": "stderr",
     "output_type": "stream",
     "text": [
      "***** Running Evaluation *****\n",
      "  Num examples = 2\n",
      "  Batch size = 2\n"
     ]
    },
    {
     "name": "stdout",
     "output_type": "stream",
     "text": [
      "['<s>-.ii need to book a hotel in the east that has 4 stars. New Iattraction area not mentioned, attraction name not mentioned, attraction type not mentioned, hospital department not mentioned, hotel area not mentioned, hotel book day not mentioned, hotel book people not mentioned, hotel book stay not mentioned, hotel internet not mentioned, hotel name not mentioned, hotel parking not mentioned, hotel pricerange not mentioned, hotel stars not mentioned, hotel type not mentioned, restaurant area not mentioned, restaurant book day not mentioned, restaurant book people not mentioned, restaurant book time not mentioned, restaurant food not mentioned, restaurant name not mentioned, restaurant pricerange not mentioned, taxi arriveby not mentioned, taxi departure not mentioned, taxi destination not mentioned, taxi leaveat not mentioned, train arriveby not mentioned, train book people not mentioned, train day not mentioned, train departure not mentioned, train destination not mentioned, train leaveat not mentioned New Adattraction area not mentioned, attraction name not mentioned, attraction type not mentioned, hospital department not mentioned, hotel area not, hotel book day not mentioned, hotel book people not mentioned, hotel book day not mentioned, hotel internet not mentioned, hotel name not mentioned, hotel parking not mentioned, hotel pricerange not mentioned, hotel stars not stars hotel type not mentioned, restaurant area not mentioned, restaurant book day not mentioned, restaurant book people not mentioned, hotel book time not mentioned, restaurant food not mentioned, restaurant pr not mentioned, restaurant pricerange not mentioned, taxi arriveby not mentioned, taxi departure not mentioned, taxi destination not mentioned, taxi leaveat not mentioned, train arriveby not mentioned, train book people not mentioned, train day not mentioned, train departure not mentioned, train destination not mentioned, train leaveat not mentioned</s></s></s></s></s></s></s></s></s></s></s>1 the the the the</s>c1ccccccccc', '<s>-.ii need to book a hotel in the east that has 4 stars. Ii can help you with that. what is your price range? Ithat does not matter as long as it has free wifi and parking. Wattattraction area not mentioned, attraction name not mentioned, attraction type not mentioned, hospital department not mentioned, hotel area east, hotel book day not mentioned, hotel book people not mentioned, hotel book stay not mentioned, hotel internet not mentioned, hotel name not mentioned, hotel parking not mentioned, hotel pricerange not mentioned, hotel stars 4, hotel type not mentioned, restaurant area not mentioned, restaurant book day not mentioned, restaurant book people not mentioned, restaurant book time not mentioned, restaurant food not mentioned, restaurant name not mentioned, restaurant pricerange not mentioned, taxi arriveby not mentioned, taxi departure not mentioned, taxi destination not mentioned, taxi leaveat not mentioned, train arriveby not mentioned, train book people not mentioned, train day not mentioned, train departure not mentioned, train destination not mentioned, train leaveat not mentioned Newattattraction area not mentioned, attraction name not mentioned, attraction type not mentioned, hospital department not mentioned, hotel area east, hotel book day not mentioned, hotel book people not mentioned, hotel internet stay not mentioned, hotel internet not, hotel name not mentioned, hotel name not, hotel pricerange not mentioned, hotel name 4, hotel type not mentioned, restaurant area not mentioned, restaurant book day not mentioned, restaurant book people not mentioned, restaurant book time not mentioned, restaurant name not mentioned, restaurant name not mentioned, restaurant pricerange not mentioned, taxi arriveby not mentioned, taxi departure not mentioned, taxi destination not mentioned, taxi leaveat not mentioned, train arriveby not mentioned, train book people not mentioned, hotel day not mentioned, hotel departure not mentioned, train destination not mentioned, train leaveat not mentioned A</s></s>']\n"
     ]
    },
    {
     "name": "stderr",
     "output_type": "stream",
     "text": [
      "Saving model checkpoint to checkpoints/test_trainer/final/checkpoint-1\n",
      "Configuration saved in checkpoints/test_trainer/final/checkpoint-1/config.json\n",
      "Model weights saved in checkpoints/test_trainer/final/checkpoint-1/pytorch_model.bin\n",
      "***** Running Evaluation *****\n",
      "  Num examples = 2\n",
      "  Batch size = 2\n"
     ]
    },
    {
     "name": "stdout",
     "output_type": "stream",
     "text": [
      "['<s>-.ii need to book a hotel in the east that has 4 stars. New Iattraction area not mentioned, attraction name not mentioned, attraction type not mentioned, hospital department not mentioned, hotel area not mentioned, hotel book day not mentioned, hotel book people not mentioned, hotel book stay not mentioned, hotel internet not mentioned, hotel name not mentioned, hotel parking not mentioned, hotel pricerange not mentioned, hotel stars not mentioned, hotel type not mentioned, restaurant area not mentioned, restaurant book day not mentioned, restaurant book people not mentioned, restaurant book time not mentioned, restaurant food not mentioned, restaurant name not mentioned, restaurant pricerange not mentioned, taxi arriveby not mentioned, taxi departure not mentioned, taxi destination not mentioned, taxi leaveat not mentioned, train arriveby not mentioned, train book people not mentioned, train day not mentioned, train departure not mentioned, train destination not mentioned, train leaveat not mentioned New Adattraction area not mentioned, attraction name not mentioned, attraction type not mentioned, hospital department not mentioned, hotel area not, hotel book day not mentioned, hotel book people not mentioned, hotel book day not mentioned, hotel internet not mentioned, hotel name not mentioned, hotel parking not mentioned, hotel pricerange not mentioned, hotel stars not stars hotel type not mentioned, restaurant area not mentioned, restaurant book day not mentioned, restaurant book people not mentioned, hotel book time not mentioned, restaurant food not mentioned, restaurant pr not mentioned, restaurant pricerange not mentioned, taxi arriveby not mentioned, taxi departure not mentioned, taxi destination not mentioned, taxi leaveat not mentioned, train arriveby not mentioned, train book people not mentioned, train day not mentioned, train departure not mentioned, train destination not mentioned, train leaveat not mentioned</s></s></s></s></s></s></s></s></s></s></s>1 the the the the</s>c1ccccccccc', '<s>-.ii need to book a hotel in the east that has 4 stars. Ii can help you with that. what is your price range? Ithat does not matter as long as it has free wifi and parking. Wattattraction area not mentioned, attraction name not mentioned, attraction type not mentioned, hospital department not mentioned, hotel area east, hotel book day not mentioned, hotel book people not mentioned, hotel book stay not mentioned, hotel internet not mentioned, hotel name not mentioned, hotel parking not mentioned, hotel pricerange not mentioned, hotel stars 4, hotel type not mentioned, restaurant area not mentioned, restaurant book day not mentioned, restaurant book people not mentioned, restaurant book time not mentioned, restaurant food not mentioned, restaurant name not mentioned, restaurant pricerange not mentioned, taxi arriveby not mentioned, taxi departure not mentioned, taxi destination not mentioned, taxi leaveat not mentioned, train arriveby not mentioned, train book people not mentioned, train day not mentioned, train departure not mentioned, train destination not mentioned, train leaveat not mentioned Newattattraction area not mentioned, attraction name not mentioned, attraction type not mentioned, hospital department not mentioned, hotel area east, hotel book day not mentioned, hotel book people not mentioned, hotel internet stay not mentioned, hotel internet not, hotel name not mentioned, hotel name not, hotel pricerange not mentioned, hotel name 4, hotel type not mentioned, restaurant area not mentioned, restaurant book day not mentioned, restaurant book people not mentioned, restaurant book time not mentioned, restaurant name not mentioned, restaurant name not mentioned, restaurant pricerange not mentioned, taxi arriveby not mentioned, taxi departure not mentioned, taxi destination not mentioned, taxi leaveat not mentioned, train arriveby not mentioned, train book people not mentioned, hotel day not mentioned, hotel departure not mentioned, train destination not mentioned, train leaveat not mentioned A</s></s>']\n"
     ]
    },
    {
     "name": "stderr",
     "output_type": "stream",
     "text": [
      "Saving model checkpoint to checkpoints/test_trainer/final/checkpoint-2\n",
      "Configuration saved in checkpoints/test_trainer/final/checkpoint-2/config.json\n",
      "Model weights saved in checkpoints/test_trainer/final/checkpoint-2/pytorch_model.bin\n",
      "***** Running Evaluation *****\n",
      "  Num examples = 2\n",
      "  Batch size = 2\n"
     ]
    },
    {
     "name": "stdout",
     "output_type": "stream",
     "text": [
      "['<s>-.ii need to book a hotel in the east that has 4 stars. New Iattraction area not mentioned, attraction name not mentioned, attraction type not mentioned, hospital department not mentioned, hotel area not mentioned, hotel book day not mentioned, hotel book people not mentioned, hotel book stay not mentioned, hotel internet not mentioned, hotel name not mentioned, hotel parking not mentioned, hotel pricerange not mentioned, hotel stars not mentioned, hotel type not mentioned, restaurant area not mentioned, restaurant book day not mentioned, restaurant book people not mentioned, restaurant book time not mentioned, restaurant food not mentioned, restaurant name not mentioned, restaurant pricerange not mentioned, taxi arriveby not mentioned, taxi departure not mentioned, taxi destination not mentioned, taxi leaveat not mentioned, train arriveby not mentioned, train book people not mentioned, train day not mentioned, train departure not mentioned, train destination not mentioned, train leaveat not mentioned New Adattraction area not mentioned, attraction name not mentioned, attraction type not mentioned, hospital department not mentioned, hotel area not, hotel book day not mentioned, hotel book people not mentioned, hotel book day not mentioned, hotel internet not mentioned, hotel name not mentioned, hotel parking not mentioned, hotel pricerange not mentioned, hotel stars not stars hotel type not mentioned, restaurant area not mentioned, restaurant book day not mentioned, restaurant book people not mentioned, hotel book time not mentioned, restaurant food not mentioned, restaurant pr not mentioned, restaurant pricerange not mentioned, taxi arriveby not mentioned, taxi departure not mentioned, taxi destination not mentioned, taxi leaveat not mentioned, train arriveby not mentioned, train book people not mentioned, train day not mentioned, train departure not mentioned, train destination not mentioned, train leaveat not mentioned</s></s></s></s></s></s></s></s></s></s></s>1 the the the the</s>c1ccccccccc', '<s>-.ii need to book a hotel in the east that has 4 stars. Ii can help you with that. what is your price range? Ithat does not matter as long as it has free wifi and parking. Wattattraction area not mentioned, attraction name not mentioned, attraction type not mentioned, hospital department not mentioned, hotel area east, hotel book day not mentioned, hotel book people not mentioned, hotel book stay not mentioned, hotel internet not mentioned, hotel name not mentioned, hotel parking not mentioned, hotel pricerange not mentioned, hotel stars 4, hotel type not mentioned, restaurant area not mentioned, restaurant book day not mentioned, restaurant book people not mentioned, restaurant book time not mentioned, restaurant food not mentioned, restaurant name not mentioned, restaurant pricerange not mentioned, taxi arriveby not mentioned, taxi departure not mentioned, taxi destination not mentioned, taxi leaveat not mentioned, train arriveby not mentioned, train book people not mentioned, train day not mentioned, train departure not mentioned, train destination not mentioned, train leaveat not mentioned Newattattraction area not mentioned, attraction name not mentioned, attraction type not mentioned, hospital department not mentioned, hotel area east, hotel book day not mentioned, hotel book people not mentioned, hotel internet stay not mentioned, hotel internet not, hotel name not mentioned, hotel name not, hotel pricerange not mentioned, hotel name 4, hotel type not mentioned, restaurant area not mentioned, restaurant book day not mentioned, restaurant book people not mentioned, restaurant book time not mentioned, restaurant name not mentioned, restaurant name not mentioned, restaurant pricerange not mentioned, taxi arriveby not mentioned, taxi departure not mentioned, taxi destination not mentioned, taxi leaveat not mentioned, train arriveby not mentioned, train book people not mentioned, hotel day not mentioned, hotel departure not mentioned, train destination not mentioned, train leaveat not mentioned A</s></s>']\n"
     ]
    },
    {
     "name": "stderr",
     "output_type": "stream",
     "text": [
      "Saving model checkpoint to checkpoints/test_trainer/final/checkpoint-3\n",
      "Configuration saved in checkpoints/test_trainer/final/checkpoint-3/config.json\n",
      "Model weights saved in checkpoints/test_trainer/final/checkpoint-3/pytorch_model.bin\n",
      "\n",
      "\n",
      "Training completed. Do not forget to share your model on huggingface.co/models =)\n",
      "\n",
      "\n",
      "Loading best model from checkpoints/test_trainer/final/checkpoint-1 (score: 0.7398045063018799).\n"
     ]
    }
   ],
   "source": [
    "def test_compute_metrics(eval_predictions):\n",
    "    logits, hidden_values = eval_predictions.predictions\n",
    "    print(tok.batch_decode(logits.argmax(-1)))\n",
    "    return {\"score\": 100}\n",
    "\n",
    "CURRICULUM_DATASET = [train_set, train_set_2]\n",
    "class CurriculumTrainer(Trainer):\n",
    "    def __init__(self, curriculum_dataset, *args, **kwargs):\n",
    "        super().__init__(*args, **kwargs)\n",
    "        self.curriculum_dataset = curriculum_dataset\n",
    "        \n",
    "    def curriculum_train(self):\n",
    "        \n",
    "        self.total_epochs = self.args.num_train_epochs\n",
    "        self.final_train_dataset = self.train_dataset\n",
    "        self.model_name = self.args.output_dir\n",
    "        \n",
    "        for idx, c_dataset in enumerate(self.curriculum_dataset):\n",
    "            # only train for 1 epoch during curriculum training\n",
    "            self.args.num_train_epochs = 1\n",
    "            self.args.output_dir = f\"{self.model_name}/course_{idx}\"\n",
    "            self.train_dataset = c_dataset\n",
    "            self.train()\n",
    "            \n",
    "        # switch back to the final training on the most difficult \n",
    "        self.args.num_train_epochs = self.total_epochs\n",
    "        self.args.output_dir = f\"{self.model_name}/final\"\n",
    "        self.train_dataset = self.final_train_dataset\n",
    "        self.train()\n",
    "#         self.train_dataset = CURRICULUM_DATASET[1]\n",
    "#         self.train()\n",
    "        \n",
    "    # def get_train_dataloader():\n",
    "    #     pass\n",
    "    # def compute_loss(self, model, inputs):\n",
    "    #     labels = inputs.pop(\"labels\")\n",
    "    #     outputs = model(**inputs)\n",
    "    #     logits = outputs[0]\n",
    "    #     return my_custom_loss(logits, labels)\n",
    "    \n",
    "    \n",
    "\n",
    "name = \"test_trainer\"\n",
    "BATCH_SIZE = 2\n",
    "EPOCHS = 3\n",
    "# setup trainer\n",
    "args = TrainingArguments(\n",
    "    output_dir=f\"checkpoints/{name}\",\n",
    "    evaluation_strategy=\"epoch\",\n",
    "    save_strategy=\"epoch\",\n",
    "    learning_rate=2e-5,\n",
    "    per_device_train_batch_size=BATCH_SIZE,\n",
    "    per_device_eval_batch_size=BATCH_SIZE,\n",
    "    num_train_epochs=EPOCHS,\n",
    "    weight_decay=0.01,\n",
    "    dataloader_num_workers=0,\n",
    "    local_rank=-1,\n",
    "    load_best_model_at_end=True,\n",
    "    # resume_from_checkpoint=f\"{name}/checkpoint-19000\",\n",
    ")\n",
    "data_collator = default_data_collator\n",
    "trainer = CurriculumTrainer(\n",
    "    CURRICULUM_DATASET,\n",
    "    model,\n",
    "    args,\n",
    "    train_dataset=train_set,\n",
    "    eval_dataset=train_set,\n",
    "    data_collator=data_collator,\n",
    "    compute_metrics=test_compute_metrics\n",
    "    # callbacks=[MyCallback],  # We can either pass the callback class this way or an instance of it (MyCallback())\n",
    ")\n",
    "trainer.curriculum_train()"
   ]
  },
  {
   "cell_type": "code",
   "execution_count": null,
   "id": "28b402c3-1c33-427e-8a6f-f3e535e7b68c",
   "metadata": {},
   "outputs": [],
   "source": []
  },
  {
   "cell_type": "code",
   "execution_count": null,
   "id": "0046a942-6197-454c-9550-0c836393f1d6",
   "metadata": {},
   "outputs": [],
   "source": [
    "\n",
    "\n",
    "#     predictions (np.ndarray) — Predictions of the model.\n",
    "# label_ids (np.ndarray) — Targets to be matched.\n",
    "# inputs (np.ndarray, optional) —\n",
    "    "
   ]
  }
 ],
 "metadata": {
  "kernelspec": {
   "display_name": "Python 3 (ipykernel)",
   "language": "python",
   "name": "python3"
  },
  "language_info": {
   "codemirror_mode": {
    "name": "ipython",
    "version": 3
   },
   "file_extension": ".py",
   "mimetype": "text/x-python",
   "name": "python",
   "nbconvert_exporter": "python",
   "pygments_lexer": "ipython3",
   "version": "3.8.13"
  }
 },
 "nbformat": 4,
 "nbformat_minor": 5
}
