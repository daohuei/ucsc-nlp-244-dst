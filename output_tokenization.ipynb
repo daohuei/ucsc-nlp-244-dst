{
 "cells": [
  {
   "cell_type": "code",
   "execution_count": 1,
   "id": "0ec2ed88-47e2-4398-9027-5c2bd43e43c8",
   "metadata": {},
   "outputs": [],
   "source": [
    "from pathlib import Path\n",
    "\n",
    "from datasets import load_dataset, Split, Dataset\n",
    "\n",
    "from data.dataset.tokenize import tokenizer\n",
    "from data.dataset.data_augmentations import (\n",
    "    flatten_conversation,\n",
    "    mask_delta_beliefs,\n",
    "    random_mask_beliefs,\n",
    "    mask_context_belief_entities,\n",
    "    random_mask_utterance,\n",
    ")\n",
    "from utils import print_stage\n",
    "\n",
    "data_dir = Path(\"resources/bart/\")\n",
    "\n",
    "data_files = {\n",
    "    Split.TRAIN: str((data_dir / \"train.history_belief\").absolute()),\n",
    "    Split.VALIDATION: str((data_dir / \"val.history_belief\").absolute()),\n",
    "    Split.TEST: str((data_dir / \"test.history_belief\").absolute()),\n",
    "}"
   ]
  },
  {
   "cell_type": "code",
   "execution_count": 2,
   "id": "4815ead5-9cfe-4544-a206-5d2aaa196819",
   "metadata": {},
   "outputs": [],
   "source": [
    "# tokenization\n",
    "def tokenization(examples):\n",
    "    tokenized_examples = tokenizer(\n",
    "        examples[\"masked\"],\n",
    "    )\n",
    "    tokenized_examples[\"labels\"] = tokenizer(\n",
    "        examples[\"target\"],\n",
    "    )[\"input_ids\"]\n",
    "    return tokenized_examples\n"
   ]
  },
  {
   "cell_type": "code",
   "execution_count": 3,
   "id": "f8cff80e-dc4d-47bf-8fde-c73b3deb0d16",
   "metadata": {},
   "outputs": [
    {
     "name": "stderr",
     "output_type": "stream",
     "text": [
      "WARNING:datasets.builder:Using custom data configuration default-fa91ae44cff1e0ff\n",
      "WARNING:datasets.builder:Reusing dataset multi_woz_dataset (/data/users/cting3/.cache/huggingface/datasets/multi_woz_dataset/default-fa91ae44cff1e0ff/0.0.0/f68a68638b040ca98e35780d893ba6dd439629d12a3b62bdda1ba2e3d7a88647)\n"
     ]
    },
    {
     "data": {
      "application/vnd.jupyter.widget-view+json": {
       "model_id": "bb0d5e41abcb473b911637a0c8782d10",
       "version_major": 2,
       "version_minor": 0
      },
      "text/plain": [
       "  0%|          | 0/3 [00:00<?, ?it/s]"
      ]
     },
     "metadata": {},
     "output_type": "display_data"
    },
    {
     "name": "stderr",
     "output_type": "stream",
     "text": [
      "WARNING:datasets.arrow_dataset:Loading cached processed dataset at /data/users/cting3/.cache/huggingface/datasets/multi_woz_dataset/default-fa91ae44cff1e0ff/0.0.0/f68a68638b040ca98e35780d893ba6dd439629d12a3b62bdda1ba2e3d7a88647/cache-a1c988fe37507e5f.arrow\n",
      "WARNING:datasets.arrow_dataset:Loading cached processed dataset at /data/users/cting3/.cache/huggingface/datasets/multi_woz_dataset/default-fa91ae44cff1e0ff/0.0.0/f68a68638b040ca98e35780d893ba6dd439629d12a3b62bdda1ba2e3d7a88647/cache-339ba30f507aa4aa.arrow\n",
      "WARNING:datasets.arrow_dataset:Loading cached processed dataset at /data/users/cting3/.cache/huggingface/datasets/multi_woz_dataset/default-fa91ae44cff1e0ff/0.0.0/f68a68638b040ca98e35780d893ba6dd439629d12a3b62bdda1ba2e3d7a88647/cache-aeb133aae4fea810.arrow\n"
     ]
    },
    {
     "name": "stdout",
     "output_type": "stream",
     "text": [
      "======================================Flattening Conversation======================================\n"
     ]
    }
   ],
   "source": [
    "dataset = load_dataset(\n",
    "    \"data/dataset/multiwoz_dataset.py\", data_files=data_files\n",
    ")\n",
    "print_stage(\"Flattening Conversation\")\n",
    "dataset = dataset.map(\n",
    "    flatten_conversation,\n",
    "    batched=True,\n",
    "    remove_columns=dataset[\"train\"].column_names,\n",
    ")"
   ]
  },
  {
   "cell_type": "code",
   "execution_count": 4,
   "id": "8d6ecaae-43aa-44b9-ad9f-bd2b5b111cbc",
   "metadata": {},
   "outputs": [
    {
     "name": "stdout",
     "output_type": "stream",
     "text": [
      "===============================Masking Difference of Dialogue States===============================\n"
     ]
    },
    {
     "data": {
      "application/vnd.jupyter.widget-view+json": {
       "model_id": "05c10dd00d93441ba271cecd947c50ae",
       "version_major": 2,
       "version_minor": 0
      },
      "text/plain": [
       "  0%|          | 0/56778 [00:00<?, ?ex/s]"
      ]
     },
     "metadata": {},
     "output_type": "display_data"
    },
    {
     "data": {
      "application/vnd.jupyter.widget-view+json": {
       "model_id": "9ba3ba91a0ee403f98fa414fb5c37b10",
       "version_major": 2,
       "version_minor": 0
      },
      "text/plain": [
       "  0%|          | 0/57 [00:00<?, ?ba/s]"
      ]
     },
     "metadata": {},
     "output_type": "display_data"
    },
    {
     "name": "stderr",
     "output_type": "stream",
     "text": [
      "Token indices sequence length is longer than the specified maximum sequence length for this model (1050 > 1024). Running this sequence through the model will result in indexing errors\n"
     ]
    },
    {
     "data": {
      "application/vnd.jupyter.widget-view+json": {
       "model_id": "172c056ab04644b5b813c730ddad2c6e",
       "version_major": 2,
       "version_minor": 0
      },
      "text/plain": [
       "Creating json from Arrow format:   0%|          | 0/6 [00:00<?, ?ba/s]"
      ]
     },
     "metadata": {},
     "output_type": "display_data"
    },
    {
     "data": {
      "text/plain": [
       "230470271"
      ]
     },
     "execution_count": 4,
     "metadata": {},
     "output_type": "execute_result"
    }
   ],
   "source": [
    "print_stage(\"Masking Difference of Dialogue States\")\n",
    "masked_deltas = dataset[\"train\"].map(\n",
    "    mask_delta_beliefs, remove_columns=\"turn\"\n",
    ")\n",
    "masked_deltas = masked_deltas.map(\n",
    "    tokenization, remove_columns=masked_deltas.column_names, batched=True\n",
    ")\n",
    "masked_deltas.to_json(\"resources/tokens/masked_deltas_token.json\")"
   ]
  },
  {
   "cell_type": "code",
   "execution_count": 5,
   "id": "26af0c45-2ea6-4c43-b796-f79e0c7b49d2",
   "metadata": {},
   "outputs": [
    {
     "name": "stderr",
     "output_type": "stream",
     "text": [
      "WARNING:datasets.arrow_dataset:Loading cached processed dataset at /data/users/cting3/.cache/huggingface/datasets/multi_woz_dataset/default-fa91ae44cff1e0ff/0.0.0/f68a68638b040ca98e35780d893ba6dd439629d12a3b62bdda1ba2e3d7a88647/cache-05db246dd32d33cd.arrow\n"
     ]
    },
    {
     "name": "stdout",
     "output_type": "stream",
     "text": [
      "=======================================Masking Beliefs (Easy)=======================================\n"
     ]
    },
    {
     "data": {
      "application/vnd.jupyter.widget-view+json": {
       "model_id": "7d98364b66644597aece0db7ad5a235e",
       "version_major": 2,
       "version_minor": 0
      },
      "text/plain": [
       "  0%|          | 0/57 [00:00<?, ?ba/s]"
      ]
     },
     "metadata": {},
     "output_type": "display_data"
    },
    {
     "data": {
      "application/vnd.jupyter.widget-view+json": {
       "model_id": "0c753625fc874f368377eede34c5859a",
       "version_major": 2,
       "version_minor": 0
      },
      "text/plain": [
       "Creating json from Arrow format:   0%|          | 0/6 [00:00<?, ?ba/s]"
      ]
     },
     "metadata": {},
     "output_type": "display_data"
    },
    {
     "data": {
      "text/plain": [
       "232591835"
      ]
     },
     "execution_count": 5,
     "metadata": {},
     "output_type": "execute_result"
    }
   ],
   "source": [
    "print_stage(\"Masking Beliefs (Easy)\")\n",
    "random_masked_beliefs_easy = dataset[\"train\"].map(\n",
    "    lambda d: random_mask_beliefs(d, 0.15), remove_columns=\"turn\"\n",
    ")\n",
    "random_masked_beliefs_easy = random_masked_beliefs_easy.map(\n",
    "    tokenization,\n",
    "    remove_columns=random_masked_beliefs_easy.column_names, batched=True\n",
    ")\n",
    "random_masked_beliefs_easy.to_json(\"resources/tokens/random_masked_beliefs_easy_token.json\")"
   ]
  },
  {
   "cell_type": "code",
   "execution_count": 6,
   "id": "f6f19ada-042d-49e5-bfa6-7d2af8b45da8",
   "metadata": {},
   "outputs": [
    {
     "name": "stderr",
     "output_type": "stream",
     "text": [
      "WARNING:datasets.arrow_dataset:Loading cached processed dataset at /data/users/cting3/.cache/huggingface/datasets/multi_woz_dataset/default-fa91ae44cff1e0ff/0.0.0/f68a68638b040ca98e35780d893ba6dd439629d12a3b62bdda1ba2e3d7a88647/cache-b5fcf37ba7cb9ecd.arrow\n"
     ]
    },
    {
     "name": "stdout",
     "output_type": "stream",
     "text": [
      "=====================================Masking Utterances (Easy)=====================================\n"
     ]
    },
    {
     "data": {
      "application/vnd.jupyter.widget-view+json": {
       "model_id": "7c8c66061bbe46ba81ad89e402577738",
       "version_major": 2,
       "version_minor": 0
      },
      "text/plain": [
       "  0%|          | 0/57 [00:00<?, ?ba/s]"
      ]
     },
     "metadata": {},
     "output_type": "display_data"
    },
    {
     "data": {
      "application/vnd.jupyter.widget-view+json": {
       "model_id": "8f4b8ba26efe4c739c19c83ae7473053",
       "version_major": 2,
       "version_minor": 0
      },
      "text/plain": [
       "Creating json from Arrow format:   0%|          | 0/6 [00:00<?, ?ba/s]"
      ]
     },
     "metadata": {},
     "output_type": "display_data"
    },
    {
     "data": {
      "text/plain": [
       "237874414"
      ]
     },
     "execution_count": 6,
     "metadata": {},
     "output_type": "execute_result"
    }
   ],
   "source": [
    "print_stage(\"Masking Utterances (Easy)\")\n",
    "random_masked_utterances_easy = dataset[\"train\"].map(\n",
    "    lambda d: random_mask_utterance(d, 0.15), remove_columns=\"turn\"\n",
    ")\n",
    "random_masked_utterances_easy = random_masked_utterances_easy.map(\n",
    "    tokenization,\n",
    "    remove_columns=random_masked_utterances_easy.column_names, batched=True\n",
    ")\n",
    "random_masked_utterances_easy.to_json(\"resources/tokens/random_masked_utterances_easy_token.json\")"
   ]
  },
  {
   "cell_type": "code",
   "execution_count": 7,
   "id": "89c05610-fea4-44ad-93b7-b4b27dfb6322",
   "metadata": {},
   "outputs": [
    {
     "name": "stdout",
     "output_type": "stream",
     "text": [
      "===============================Masking Belief Entities in the Context===============================\n"
     ]
    },
    {
     "data": {
      "application/vnd.jupyter.widget-view+json": {
       "model_id": "b87348c4d47b40dbbea743408e243a55",
       "version_major": 2,
       "version_minor": 0
      },
      "text/plain": [
       "  0%|          | 0/56778 [00:00<?, ?ex/s]"
      ]
     },
     "metadata": {},
     "output_type": "display_data"
    },
    {
     "data": {
      "application/vnd.jupyter.widget-view+json": {
       "model_id": "e04b993d47604c8db77abbae3c624565",
       "version_major": 2,
       "version_minor": 0
      },
      "text/plain": [
       "  0%|          | 0/57 [00:00<?, ?ba/s]"
      ]
     },
     "metadata": {},
     "output_type": "display_data"
    },
    {
     "data": {
      "application/vnd.jupyter.widget-view+json": {
       "model_id": "738ed6d4a90a427e9f21b3837e44c004",
       "version_major": 2,
       "version_minor": 0
      },
      "text/plain": [
       "Creating json from Arrow format:   0%|          | 0/6 [00:00<?, ?ba/s]"
      ]
     },
     "metadata": {},
     "output_type": "display_data"
    },
    {
     "data": {
      "text/plain": [
       "230754258"
      ]
     },
     "execution_count": 7,
     "metadata": {},
     "output_type": "execute_result"
    }
   ],
   "source": [
    "print_stage(\"Masking Belief Entities in the Context\")\n",
    "masked_context_belief_entities = dataset[\"train\"].map(\n",
    "    mask_context_belief_entities, remove_columns=\"turn\"\n",
    ")\n",
    "masked_context_belief_entities = masked_context_belief_entities.map(\n",
    "    tokenization,\n",
    "    remove_columns=masked_context_belief_entities.column_names, batched=True\n",
    ")\n",
    "masked_context_belief_entities.to_json(\"resources/tokens/masked_context_belief_entities_token.json\")"
   ]
  },
  {
   "cell_type": "code",
   "execution_count": 8,
   "id": "c4ce4821-9716-464d-9a9b-2c0dc27776a1",
   "metadata": {},
   "outputs": [
    {
     "name": "stderr",
     "output_type": "stream",
     "text": [
      "WARNING:datasets.arrow_dataset:Loading cached processed dataset at /data/users/cting3/.cache/huggingface/datasets/multi_woz_dataset/default-fa91ae44cff1e0ff/0.0.0/f68a68638b040ca98e35780d893ba6dd439629d12a3b62bdda1ba2e3d7a88647/cache-e57ab31ea95a73a9.arrow\n"
     ]
    },
    {
     "name": "stdout",
     "output_type": "stream",
     "text": [
      "=======================================Masking Beliefs (Hard)=======================================\n"
     ]
    },
    {
     "data": {
      "application/vnd.jupyter.widget-view+json": {
       "model_id": "d844e6e8aa3447f080ae8c5f2697b297",
       "version_major": 2,
       "version_minor": 0
      },
      "text/plain": [
       "  0%|          | 0/57 [00:00<?, ?ba/s]"
      ]
     },
     "metadata": {},
     "output_type": "display_data"
    },
    {
     "data": {
      "application/vnd.jupyter.widget-view+json": {
       "model_id": "d183282812ee42b79981d8ee335e8210",
       "version_major": 2,
       "version_minor": 0
      },
      "text/plain": [
       "Creating json from Arrow format:   0%|          | 0/6 [00:00<?, ?ba/s]"
      ]
     },
     "metadata": {},
     "output_type": "display_data"
    },
    {
     "data": {
      "text/plain": [
       "233698217"
      ]
     },
     "execution_count": 8,
     "metadata": {},
     "output_type": "execute_result"
    }
   ],
   "source": [
    "print_stage(\"Masking Beliefs (Hard)\")\n",
    "random_masked_beliefs_hard = dataset[\"train\"].map(\n",
    "    lambda d: random_mask_beliefs(d, 0.5), remove_columns=\"turn\"\n",
    ")\n",
    "random_masked_beliefs_hard = random_masked_beliefs_hard.map(\n",
    "    tokenization,\n",
    "    remove_columns=random_masked_beliefs_hard.column_names, batched=True\n",
    ")\n",
    "random_masked_beliefs_hard.to_json(\"resources/tokens/random_masked_beliefs_hard_token.json\")"
   ]
  },
  {
   "cell_type": "code",
   "execution_count": 9,
   "id": "d715fa7f-b07d-4515-82bc-79520691c19b",
   "metadata": {},
   "outputs": [
    {
     "name": "stderr",
     "output_type": "stream",
     "text": [
      "WARNING:datasets.arrow_dataset:Loading cached processed dataset at /data/users/cting3/.cache/huggingface/datasets/multi_woz_dataset/default-fa91ae44cff1e0ff/0.0.0/f68a68638b040ca98e35780d893ba6dd439629d12a3b62bdda1ba2e3d7a88647/cache-df18e3ada4959b0a.arrow\n"
     ]
    },
    {
     "name": "stdout",
     "output_type": "stream",
     "text": [
      "=====================================Masking Utterances (Hard)=====================================\n"
     ]
    },
    {
     "data": {
      "application/vnd.jupyter.widget-view+json": {
       "model_id": "fa1d2e5ee9704712b0f188c4c5685d5c",
       "version_major": 2,
       "version_minor": 0
      },
      "text/plain": [
       "  0%|          | 0/57 [00:00<?, ?ba/s]"
      ]
     },
     "metadata": {},
     "output_type": "display_data"
    },
    {
     "data": {
      "application/vnd.jupyter.widget-view+json": {
       "model_id": "426ec214c6dd48ce9d78c423722089cc",
       "version_major": 2,
       "version_minor": 0
      },
      "text/plain": [
       "Creating json from Arrow format:   0%|          | 0/6 [00:00<?, ?ba/s]"
      ]
     },
     "metadata": {},
     "output_type": "display_data"
    },
    {
     "data": {
      "text/plain": [
       "234965441"
      ]
     },
     "execution_count": 9,
     "metadata": {},
     "output_type": "execute_result"
    }
   ],
   "source": [
    "print_stage(\"Masking Utterances (Hard)\")\n",
    "random_masked_utterances_hard = dataset[\"train\"].map(\n",
    "    lambda d: random_mask_utterance(d, 0.5), remove_columns=\"turn\"\n",
    ")\n",
    "random_masked_utterances_hard = random_masked_utterances_hard.map(\n",
    "    tokenization,\n",
    "    batched=True,\n",
    "    remove_columns=random_masked_utterances_hard.column_names,\n",
    ")\n",
    "\n",
    "random_masked_utterances_hard.to_json(\"resources/tokens/random_masked_utterances_hard_token.json\")"
   ]
  },
  {
   "cell_type": "code",
   "execution_count": 10,
   "id": "8ecd154b-3e55-4e4a-b6b5-b8b318bdff4d",
   "metadata": {},
   "outputs": [
    {
     "name": "stderr",
     "output_type": "stream",
     "text": [
      "WARNING:datasets.arrow_dataset:Loading cached processed dataset at /data/users/cting3/.cache/huggingface/datasets/multi_woz_dataset/default-fa91ae44cff1e0ff/0.0.0/f68a68638b040ca98e35780d893ba6dd439629d12a3b62bdda1ba2e3d7a88647/cache-c280b8bc58ae407d.arrow\n",
      "WARNING:datasets.arrow_dataset:Loading cached processed dataset at /data/users/cting3/.cache/huggingface/datasets/multi_woz_dataset/default-fa91ae44cff1e0ff/0.0.0/f68a68638b040ca98e35780d893ba6dd439629d12a3b62bdda1ba2e3d7a88647/cache-dac256ca65c49e4c.arrow\n",
      "WARNING:datasets.arrow_dataset:Loading cached processed dataset at /data/users/cting3/.cache/huggingface/datasets/multi_woz_dataset/default-fa91ae44cff1e0ff/0.0.0/f68a68638b040ca98e35780d893ba6dd439629d12a3b62bdda1ba2e3d7a88647/cache-dbc799af6d8757af.arrow\n"
     ]
    },
    {
     "name": "stdout",
     "output_type": "stream",
     "text": [
      "=====================================Masking All Belief Values=====================================\n"
     ]
    },
    {
     "data": {
      "application/vnd.jupyter.widget-view+json": {
       "model_id": "269f7635c8cf442ba09e9a0eb0dc18fe",
       "version_major": 2,
       "version_minor": 0
      },
      "text/plain": [
       "  0%|          | 0/57 [00:00<?, ?ba/s]"
      ]
     },
     "metadata": {},
     "output_type": "display_data"
    },
    {
     "data": {
      "application/vnd.jupyter.widget-view+json": {
       "model_id": "c856fd01f9d9444ca7434c3929224797",
       "version_major": 2,
       "version_minor": 0
      },
      "text/plain": [
       "  0%|          | 0/8 [00:00<?, ?ba/s]"
      ]
     },
     "metadata": {},
     "output_type": "display_data"
    },
    {
     "data": {
      "application/vnd.jupyter.widget-view+json": {
       "model_id": "46a27aa9ef0a4ef1b7fde04a8299741d",
       "version_major": 2,
       "version_minor": 0
      },
      "text/plain": [
       "  0%|          | 0/8 [00:00<?, ?ba/s]"
      ]
     },
     "metadata": {},
     "output_type": "display_data"
    },
    {
     "data": {
      "application/vnd.jupyter.widget-view+json": {
       "model_id": "262cdef073d14654b730e34a00fedca5",
       "version_major": 2,
       "version_minor": 0
      },
      "text/plain": [
       "Creating json from Arrow format:   0%|          | 0/6 [00:00<?, ?ba/s]"
      ]
     },
     "metadata": {},
     "output_type": "display_data"
    },
    {
     "data": {
      "application/vnd.jupyter.widget-view+json": {
       "model_id": "ce50f76c9bb941dbb86348978d024de5",
       "version_major": 2,
       "version_minor": 0
      },
      "text/plain": [
       "Creating json from Arrow format:   0%|          | 0/1 [00:00<?, ?ba/s]"
      ]
     },
     "metadata": {},
     "output_type": "display_data"
    },
    {
     "data": {
      "application/vnd.jupyter.widget-view+json": {
       "model_id": "efd0450f0a064aefad8b3ee8b4d0894b",
       "version_major": 2,
       "version_minor": 0
      },
      "text/plain": [
       "Creating json from Arrow format:   0%|          | 0/1 [00:00<?, ?ba/s]"
      ]
     },
     "metadata": {},
     "output_type": "display_data"
    },
    {
     "data": {
      "text/plain": [
       "31280691"
      ]
     },
     "execution_count": 10,
     "metadata": {},
     "output_type": "execute_result"
    }
   ],
   "source": [
    "print_stage(\"Masking All Belief Values\")\n",
    "masked_beliefs_final = dataset.map(\n",
    "    lambda d: random_mask_beliefs(d, 1), remove_columns=\"turn\"\n",
    ")\n",
    "masked_beliefs_final = masked_beliefs_final.map(\n",
    "    tokenization,\n",
    "    batched=True,\n",
    "    remove_columns=masked_beliefs_final[\"train\"].column_names,\n",
    ")\n",
    "masked_beliefs_final[\"train\"].to_json(\"resources/tokens/masked_beliefs_final_train_token.json\")\n",
    "masked_beliefs_final[\"validation\"].to_json(\"resources/tokens/masked_beliefs_final_dev_token.json\")\n",
    "masked_beliefs_final[\"test\"].to_json(\"resources/tokens/masked_beliefs_final_test_token.json\")"
   ]
  },
  {
   "cell_type": "code",
   "execution_count": 13,
   "id": "ea4747fa-06f5-4e29-942c-e7e472591e4e",
   "metadata": {},
   "outputs": [
    {
     "name": "stderr",
     "output_type": "stream",
     "text": [
      "WARNING:datasets.builder:Using custom data configuration default-322ab641e8a60dd3\n",
      "WARNING:datasets.builder:Reusing dataset json (/data/users/cting3/.cache/huggingface/datasets/json/default-322ab641e8a60dd3/0.0.0/ac0ca5f5289a6cf108e706efcf040422dbbfa8e658dee6a819f20d76bb84d26b)\n"
     ]
    },
    {
     "data": {
      "application/vnd.jupyter.widget-view+json": {
       "model_id": "39a1fb6e7cf64697beec9f94613604ad",
       "version_major": 2,
       "version_minor": 0
      },
      "text/plain": [
       "  0%|          | 0/1 [00:00<?, ?it/s]"
      ]
     },
     "metadata": {},
     "output_type": "display_data"
    },
    {
     "name": "stderr",
     "output_type": "stream",
     "text": [
      "WARNING:datasets.builder:Using custom data configuration default-99297b33bffcef5e\n",
      "WARNING:datasets.builder:Reusing dataset json (/data/users/cting3/.cache/huggingface/datasets/json/default-99297b33bffcef5e/0.0.0/ac0ca5f5289a6cf108e706efcf040422dbbfa8e658dee6a819f20d76bb84d26b)\n"
     ]
    },
    {
     "data": {
      "application/vnd.jupyter.widget-view+json": {
       "model_id": "6cfa118fcfc142d98fbdbc71388012cc",
       "version_major": 2,
       "version_minor": 0
      },
      "text/plain": [
       "  0%|          | 0/1 [00:00<?, ?it/s]"
      ]
     },
     "metadata": {},
     "output_type": "display_data"
    },
    {
     "name": "stderr",
     "output_type": "stream",
     "text": [
      "WARNING:datasets.builder:Using custom data configuration default-9d69313055cb77be\n",
      "WARNING:datasets.builder:Reusing dataset json (/data/users/cting3/.cache/huggingface/datasets/json/default-9d69313055cb77be/0.0.0/ac0ca5f5289a6cf108e706efcf040422dbbfa8e658dee6a819f20d76bb84d26b)\n"
     ]
    },
    {
     "data": {
      "application/vnd.jupyter.widget-view+json": {
       "model_id": "3051fc82c4de4774bb72e534e1d47b2f",
       "version_major": 2,
       "version_minor": 0
      },
      "text/plain": [
       "  0%|          | 0/1 [00:00<?, ?it/s]"
      ]
     },
     "metadata": {},
     "output_type": "display_data"
    },
    {
     "name": "stderr",
     "output_type": "stream",
     "text": [
      "WARNING:datasets.builder:Using custom data configuration default-611d76d38c06eeb3\n",
      "WARNING:datasets.builder:Reusing dataset json (/data/users/cting3/.cache/huggingface/datasets/json/default-611d76d38c06eeb3/0.0.0/ac0ca5f5289a6cf108e706efcf040422dbbfa8e658dee6a819f20d76bb84d26b)\n"
     ]
    },
    {
     "data": {
      "application/vnd.jupyter.widget-view+json": {
       "model_id": "d779934e27404b73a4239b75a9c000e4",
       "version_major": 2,
       "version_minor": 0
      },
      "text/plain": [
       "  0%|          | 0/1 [00:00<?, ?it/s]"
      ]
     },
     "metadata": {},
     "output_type": "display_data"
    },
    {
     "name": "stderr",
     "output_type": "stream",
     "text": [
      "WARNING:datasets.builder:Using custom data configuration default-3579e0f00efaea00\n",
      "WARNING:datasets.builder:Reusing dataset json (/data/users/cting3/.cache/huggingface/datasets/json/default-3579e0f00efaea00/0.0.0/ac0ca5f5289a6cf108e706efcf040422dbbfa8e658dee6a819f20d76bb84d26b)\n"
     ]
    },
    {
     "data": {
      "application/vnd.jupyter.widget-view+json": {
       "model_id": "42d6f5bab4d8433b8e38d4f7d3278c08",
       "version_major": 2,
       "version_minor": 0
      },
      "text/plain": [
       "  0%|          | 0/1 [00:00<?, ?it/s]"
      ]
     },
     "metadata": {},
     "output_type": "display_data"
    },
    {
     "name": "stderr",
     "output_type": "stream",
     "text": [
      "WARNING:datasets.builder:Using custom data configuration default-71fa7aa6ec8493f1\n",
      "WARNING:datasets.builder:Reusing dataset json (/data/users/cting3/.cache/huggingface/datasets/json/default-71fa7aa6ec8493f1/0.0.0/ac0ca5f5289a6cf108e706efcf040422dbbfa8e658dee6a819f20d76bb84d26b)\n"
     ]
    },
    {
     "data": {
      "application/vnd.jupyter.widget-view+json": {
       "model_id": "25b23da2a93f479090970c74810ba3b1",
       "version_major": 2,
       "version_minor": 0
      },
      "text/plain": [
       "  0%|          | 0/1 [00:00<?, ?it/s]"
      ]
     },
     "metadata": {},
     "output_type": "display_data"
    }
   ],
   "source": [
    "masked_deltas = load_dataset(\n",
    "    \"json\", data_files=\"resources/tokens/masked_deltas_token.json\"\n",
    ")[\"train\"]\n",
    "random_masked_beliefs_easy = load_dataset(\n",
    "    \"json\", data_files=\"resources/tokens/random_masked_beliefs_easy_token.json\"\n",
    ")[\"train\"]\n",
    "random_masked_utterances_easy = load_dataset(\n",
    "    \"json\", data_files=\"resources/tokens/random_masked_utterances_easy_token.json\"\n",
    ")[\"train\"]\n",
    "masked_context_belief_entities = load_dataset(\n",
    "    \"json\", data_files=\"resources/tokens/masked_context_belief_entities_token.json\"\n",
    ")[\"train\"]\n",
    "random_masked_beliefs_hard = load_dataset(\n",
    "    \"json\", data_files=\"resources/tokens/random_masked_beliefs_hard_token.json\"\n",
    ")[\"train\"]\n",
    "random_masked_utterances_hard = load_dataset(\n",
    "    \"json\", data_files=\"resources/tokens/random_masked_utterances_hard_token.json\"\n",
    ")[\"train\"]"
   ]
  },
  {
   "cell_type": "code",
   "execution_count": 14,
   "id": "498cc456-113b-4f39-bd58-2c0eb4f493d0",
   "metadata": {},
   "outputs": [
    {
     "name": "stderr",
     "output_type": "stream",
     "text": [
      "WARNING:datasets.builder:Using custom data configuration default-4315d0220f240126\n",
      "WARNING:datasets.builder:Reusing dataset json (/data/users/cting3/.cache/huggingface/datasets/json/default-4315d0220f240126/0.0.0/ac0ca5f5289a6cf108e706efcf040422dbbfa8e658dee6a819f20d76bb84d26b)\n"
     ]
    },
    {
     "data": {
      "application/vnd.jupyter.widget-view+json": {
       "model_id": "e72c8935df134e88b70d3d855e90ea8d",
       "version_major": 2,
       "version_minor": 0
      },
      "text/plain": [
       "  0%|          | 0/1 [00:00<?, ?it/s]"
      ]
     },
     "metadata": {},
     "output_type": "display_data"
    },
    {
     "name": "stderr",
     "output_type": "stream",
     "text": [
      "WARNING:datasets.builder:Using custom data configuration default-45271e7ed99e064a\n",
      "WARNING:datasets.builder:Reusing dataset json (/data/users/cting3/.cache/huggingface/datasets/json/default-45271e7ed99e064a/0.0.0/ac0ca5f5289a6cf108e706efcf040422dbbfa8e658dee6a819f20d76bb84d26b)\n"
     ]
    },
    {
     "data": {
      "application/vnd.jupyter.widget-view+json": {
       "model_id": "e948ee43c1814a8288ca5875708de67f",
       "version_major": 2,
       "version_minor": 0
      },
      "text/plain": [
       "  0%|          | 0/1 [00:00<?, ?it/s]"
      ]
     },
     "metadata": {},
     "output_type": "display_data"
    },
    {
     "name": "stderr",
     "output_type": "stream",
     "text": [
      "WARNING:datasets.builder:Using custom data configuration default-0e92994c9ac4ab1c\n",
      "WARNING:datasets.builder:Reusing dataset json (/data/users/cting3/.cache/huggingface/datasets/json/default-0e92994c9ac4ab1c/0.0.0/ac0ca5f5289a6cf108e706efcf040422dbbfa8e658dee6a819f20d76bb84d26b)\n"
     ]
    },
    {
     "data": {
      "application/vnd.jupyter.widget-view+json": {
       "model_id": "81a1bbec75ad4dcfb5387b5605c5fcd1",
       "version_major": 2,
       "version_minor": 0
      },
      "text/plain": [
       "  0%|          | 0/1 [00:00<?, ?it/s]"
      ]
     },
     "metadata": {},
     "output_type": "display_data"
    }
   ],
   "source": [
    "masked_beliefs_final_train = load_dataset(\n",
    "    \"json\", data_files=\"resources/tokens/masked_beliefs_final_train_token.json\"\n",
    ")[\"train\"]\n",
    "masked_beliefs_final_dev = load_dataset(\n",
    "    \"json\", data_files=\"resources/tokens/masked_beliefs_final_dev_token.json\"\n",
    ")[\"train\"]\n",
    "masked_beliefs_final_test = load_dataset(\n",
    "    \"json\", data_files=\"resources/tokens/masked_beliefs_final_test_token.json\"\n",
    ")[\"train\"]"
   ]
  },
  {
   "cell_type": "code",
   "execution_count": 55,
   "id": "044a10cd-fe52-41e4-84bc-601b255dd647",
   "metadata": {},
   "outputs": [],
   "source": [
    "from transformers import (\n",
    "    TrainingArguments,\n",
    "    BartForConditionalGeneration,\n",
    "    default_data_collator,\n",
    ")\n",
    "\n",
    "from trainer.curriculum_trainer import CurriculumTrainer\n",
    "from data.dataset.tokenize import tokenizer"
   ]
  },
  {
   "cell_type": "code",
   "execution_count": 58,
   "id": "ac087d42-d1fb-4dff-baee-ee0c169da650",
   "metadata": {},
   "outputs": [
    {
     "name": "stderr",
     "output_type": "stream",
     "text": [
      "loading configuration file https://huggingface.co/facebook/bart-base/resolve/main/config.json from cache at /data/users/cting3/.cache/huggingface/transformers/f5310d276a6d1648d00c32fadc8bf7b4607e0fbd5b404fc4a0045960aa2bdfdb.a243ed957122436adb0b8d8e9d20f896f45c174b6324d625ca0a20a84f72a910\n",
      "Model config BartConfig {\n",
      "  \"_name_or_path\": \"bart-base\",\n",
      "  \"activation_dropout\": 0.1,\n",
      "  \"activation_function\": \"gelu\",\n",
      "  \"add_bias_logits\": false,\n",
      "  \"add_final_layer_norm\": false,\n",
      "  \"architectures\": [\n",
      "    \"BartModel\"\n",
      "  ],\n",
      "  \"attention_dropout\": 0.1,\n",
      "  \"bos_token_id\": 0,\n",
      "  \"classif_dropout\": 0.1,\n",
      "  \"classifier_dropout\": 0.0,\n",
      "  \"d_model\": 768,\n",
      "  \"decoder_attention_heads\": 12,\n",
      "  \"decoder_ffn_dim\": 3072,\n",
      "  \"decoder_layerdrop\": 0.0,\n",
      "  \"decoder_layers\": 6,\n",
      "  \"decoder_start_token_id\": 2,\n",
      "  \"dropout\": 0.1,\n",
      "  \"early_stopping\": true,\n",
      "  \"encoder_attention_heads\": 12,\n",
      "  \"encoder_ffn_dim\": 3072,\n",
      "  \"encoder_layerdrop\": 0.0,\n",
      "  \"encoder_layers\": 6,\n",
      "  \"eos_token_id\": 2,\n",
      "  \"forced_bos_token_id\": 0,\n",
      "  \"forced_eos_token_id\": 2,\n",
      "  \"gradient_checkpointing\": false,\n",
      "  \"id2label\": {\n",
      "    \"0\": \"LABEL_0\",\n",
      "    \"1\": \"LABEL_1\",\n",
      "    \"2\": \"LABEL_2\"\n",
      "  },\n",
      "  \"init_std\": 0.02,\n",
      "  \"is_encoder_decoder\": true,\n",
      "  \"label2id\": {\n",
      "    \"LABEL_0\": 0,\n",
      "    \"LABEL_1\": 1,\n",
      "    \"LABEL_2\": 2\n",
      "  },\n",
      "  \"max_position_embeddings\": 1024,\n",
      "  \"model_type\": \"bart\",\n",
      "  \"no_repeat_ngram_size\": 3,\n",
      "  \"normalize_before\": false,\n",
      "  \"normalize_embedding\": true,\n",
      "  \"num_beams\": 4,\n",
      "  \"num_hidden_layers\": 6,\n",
      "  \"pad_token_id\": 1,\n",
      "  \"scale_embedding\": false,\n",
      "  \"task_specific_params\": {\n",
      "    \"summarization\": {\n",
      "      \"length_penalty\": 1.0,\n",
      "      \"max_length\": 128,\n",
      "      \"min_length\": 12,\n",
      "      \"num_beams\": 4\n",
      "    },\n",
      "    \"summarization_cnn\": {\n",
      "      \"length_penalty\": 2.0,\n",
      "      \"max_length\": 142,\n",
      "      \"min_length\": 56,\n",
      "      \"num_beams\": 4\n",
      "    },\n",
      "    \"summarization_xsum\": {\n",
      "      \"length_penalty\": 1.0,\n",
      "      \"max_length\": 62,\n",
      "      \"min_length\": 11,\n",
      "      \"num_beams\": 6\n",
      "    }\n",
      "  },\n",
      "  \"torch_dtype\": \"float32\",\n",
      "  \"transformers_version\": \"4.17.0\",\n",
      "  \"use_cache\": true,\n",
      "  \"vocab_size\": 50265\n",
      "}\n",
      "\n",
      "loading weights file https://huggingface.co/facebook/bart-base/resolve/main/pytorch_model.bin from cache at /data/users/cting3/.cache/huggingface/transformers/486355ec722ef05fd480e999d4c763be56549ae930f6a3742ee721a5d2a05647.f2f355ad2775769afc60592b43a46d72ca548375e3a1d65f381a751e711cbadd\n",
      "All model checkpoint weights were used when initializing BartForConditionalGeneration.\n",
      "\n",
      "All the weights of BartForConditionalGeneration were initialized from the model checkpoint at facebook/bart-base.\n",
      "If your task is similar to the task the model of the checkpoint was trained on, you can already use BartForConditionalGeneration for predictions without further training.\n",
      "PyTorch: setting up devices\n",
      "The default value for the training argument `--report_to` will change in v5 (from all installed integrations to none). In v5, you will need to use `--report_to all` to get the same behavior as now. You should start updating your code and make this info disappear :-).\n"
     ]
    }
   ],
   "source": [
    "name = \"dataset_test\"\n",
    "BATCH_SIZE = 2\n",
    "EPOCHS = 10\n",
    "curriculum_datasets = [\n",
    "    masked_deltas[\"train\"],\n",
    "    random_masked_beliefs_easy[\"train\"],\n",
    "    random_masked_utterances_easy[\"train\"],\n",
    "    masked_context_belief_entities[\"train\"],\n",
    "    random_masked_beliefs_hard[\"train\"],\n",
    "    random_masked_utterances_hard[\"train\"],\n",
    "]\n",
    "\n",
    "model = BartForConditionalGeneration.from_pretrained(\n",
    "    \"facebook/bart-base\"\n",
    ")#.to(device)\n",
    "model.resize_token_embeddings(len(tokenizer))\n",
    "\n",
    "# setup trainer\n",
    "args = TrainingArguments(\n",
    "    output_dir=f\"checkpoints/{name}\",\n",
    "    evaluation_strategy=\"epoch\",\n",
    "    save_strategy=\"epoch\",\n",
    "    learning_rate=2e-5,\n",
    "    per_device_train_batch_size=BATCH_SIZE,\n",
    "    per_device_eval_batch_size=BATCH_SIZE,\n",
    "    num_train_epochs=EPOCHS,\n",
    "    weight_decay=0.01,\n",
    "    dataloader_num_workers=0,\n",
    "    local_rank=-1,\n",
    "    load_best_model_at_end=True,\n",
    "    # resume_from_checkpoint=f\"{name}/checkpoint-19000\",\n",
    ")"
   ]
  },
  {
   "cell_type": "code",
   "execution_count": 59,
   "id": "c5a1f252-a4c6-4df3-9c5c-7a08c124769a",
   "metadata": {},
   "outputs": [
    {
     "ename": "KeyError",
     "evalue": "'validation'",
     "output_type": "error",
     "traceback": [
      "\u001b[0;31m---------------------------------------------------------------------------\u001b[0m",
      "\u001b[0;31mKeyError\u001b[0m                                  Traceback (most recent call last)",
      "\u001b[0;32m<ipython-input-59-bfa707bdcb2e>\u001b[0m in \u001b[0;36m<module>\u001b[0;34m\u001b[0m\n\u001b[1;32m      7\u001b[0m     \u001b[0margs\u001b[0m\u001b[0;34m,\u001b[0m\u001b[0;34m\u001b[0m\u001b[0;34m\u001b[0m\u001b[0m\n\u001b[1;32m      8\u001b[0m     \u001b[0mtrain_dataset\u001b[0m\u001b[0;34m=\u001b[0m\u001b[0mmasked_beliefs_final_train\u001b[0m\u001b[0;34m[\u001b[0m\u001b[0;34m\"train\"\u001b[0m\u001b[0;34m]\u001b[0m\u001b[0;34m,\u001b[0m\u001b[0;34m\u001b[0m\u001b[0;34m\u001b[0m\u001b[0m\n\u001b[0;32m----> 9\u001b[0;31m     \u001b[0meval_dataset\u001b[0m\u001b[0;34m=\u001b[0m\u001b[0mmasked_beliefs_final_dev\u001b[0m\u001b[0;34m[\u001b[0m\u001b[0;34m\"validation\"\u001b[0m\u001b[0;34m]\u001b[0m\u001b[0;34m,\u001b[0m\u001b[0;34m\u001b[0m\u001b[0;34m\u001b[0m\u001b[0m\n\u001b[0m\u001b[1;32m     10\u001b[0m     \u001b[0mdata_collator\u001b[0m\u001b[0;34m=\u001b[0m\u001b[0mdata_collator\u001b[0m\u001b[0;34m,\u001b[0m\u001b[0;34m\u001b[0m\u001b[0;34m\u001b[0m\u001b[0m\n\u001b[1;32m     11\u001b[0m     \u001b[0;31m# compute_metrics=test_compute_metrics\u001b[0m\u001b[0;34m\u001b[0m\u001b[0;34m\u001b[0m\u001b[0;34m\u001b[0m\u001b[0m\n",
      "\u001b[0;32m~/miniconda3/envs/py_3_8/lib/python3.8/site-packages/datasets/dataset_dict.py\u001b[0m in \u001b[0;36m__getitem__\u001b[0;34m(self, k)\u001b[0m\n\u001b[1;32m     39\u001b[0m     \u001b[0;32mdef\u001b[0m \u001b[0m__getitem__\u001b[0m\u001b[0;34m(\u001b[0m\u001b[0mself\u001b[0m\u001b[0;34m,\u001b[0m \u001b[0mk\u001b[0m\u001b[0;34m)\u001b[0m \u001b[0;34m->\u001b[0m \u001b[0mDataset\u001b[0m\u001b[0;34m:\u001b[0m\u001b[0;34m\u001b[0m\u001b[0;34m\u001b[0m\u001b[0m\n\u001b[1;32m     40\u001b[0m         \u001b[0;32mif\u001b[0m \u001b[0misinstance\u001b[0m\u001b[0;34m(\u001b[0m\u001b[0mk\u001b[0m\u001b[0;34m,\u001b[0m \u001b[0;34m(\u001b[0m\u001b[0mstr\u001b[0m\u001b[0;34m,\u001b[0m \u001b[0mNamedSplit\u001b[0m\u001b[0;34m)\u001b[0m\u001b[0;34m)\u001b[0m \u001b[0;32mor\u001b[0m \u001b[0mlen\u001b[0m\u001b[0;34m(\u001b[0m\u001b[0mself\u001b[0m\u001b[0;34m)\u001b[0m \u001b[0;34m==\u001b[0m \u001b[0;36m0\u001b[0m\u001b[0;34m:\u001b[0m\u001b[0;34m\u001b[0m\u001b[0;34m\u001b[0m\u001b[0m\n\u001b[0;32m---> 41\u001b[0;31m             \u001b[0;32mreturn\u001b[0m \u001b[0msuper\u001b[0m\u001b[0;34m(\u001b[0m\u001b[0;34m)\u001b[0m\u001b[0;34m.\u001b[0m\u001b[0m__getitem__\u001b[0m\u001b[0;34m(\u001b[0m\u001b[0mk\u001b[0m\u001b[0;34m)\u001b[0m\u001b[0;34m\u001b[0m\u001b[0;34m\u001b[0m\u001b[0m\n\u001b[0m\u001b[1;32m     42\u001b[0m         \u001b[0;32melse\u001b[0m\u001b[0;34m:\u001b[0m\u001b[0;34m\u001b[0m\u001b[0;34m\u001b[0m\u001b[0m\n\u001b[1;32m     43\u001b[0m             available_suggested_splits = [\n",
      "\u001b[0;31mKeyError\u001b[0m: 'validation'"
     ]
    }
   ],
   "source": [
    "from transformers import DataCollatorWithPadding\n",
    "\n",
    "data_collator = DataCollatorWithPadding(tokenizer)\n",
    "trainer = CurriculumTrainer(\n",
    "    curriculum_datasets,\n",
    "    model,\n",
    "    args,\n",
    "    train_dataset=masked_beliefs_final_train[\"train\"],\n",
    "    eval_dataset=masked_beliefs_final_dev[\"train\"],\n",
    "    data_collator=data_collator,\n",
    "    # compute_metrics=test_compute_metrics\n",
    "    # callbacks=[MyCallback],  # We can either pass the callback class this way or an instance of it (MyCallback())\n",
    ")\n",
    "trainer.curriculum_train()"
   ]
  },
  {
   "cell_type": "code",
   "execution_count": 60,
   "id": "79c46fce-bc3f-4cdb-9ccd-5765754cbd21",
   "metadata": {},
   "outputs": [
    {
     "data": {
      "text/plain": [
       "DatasetDict({\n",
       "    train: Dataset({\n",
       "        features: ['input_ids', 'attention_mask', 'labels'],\n",
       "        num_rows: 7374\n",
       "    })\n",
       "})"
      ]
     },
     "execution_count": 60,
     "metadata": {},
     "output_type": "execute_result"
    }
   ],
   "source": []
  },
  {
   "cell_type": "code",
   "execution_count": 61,
   "id": "0c5bc98b-6fb0-4f38-8d46-f884261cc9d8",
   "metadata": {},
   "outputs": [],
   "source": [
    "\n"
   ]
  },
  {
   "cell_type": "code",
   "execution_count": 62,
   "id": "0c3a27fc-8734-409e-9d98-bfde68f831e8",
   "metadata": {},
   "outputs": [
    {
     "data": {
      "text/plain": [
       "'<s><s> <|context|> <|user|> am looking for a place to to stay that has cheap price range it should be in a type of hotel <|endofcontext|> <|previousbelief|> attraction area not mentioned, attraction name not mentioned, attraction type not mentioned, hospital department not mentioned, hotel area not mentioned, hotel book day not mentioned, hotel book people not mentioned, hotel book stay not mentioned, hotel internet not mentioned, hotel name not mentioned, hotel parking not mentioned, hotel pricerange not mentioned, hotel stars not mentioned, hotel type not mentioned, restaurant area not mentioned, restaurant book day not mentioned, restaurant book people not mentioned, restaurant book time not mentioned, restaurant food not mentioned, restaurant name not mentioned, restaurant pricerange not mentioned, taxi arriveby not mentioned, taxi departure not mentioned, taxi destination not mentioned, taxi leaveat not mentioned, train arriveby not mentioned, train book people not mentioned, train day not mentioned, train departure not mentioned, train destination not mentioned, train leaveat not mentioned <|endofpreviousbelief|> <|belief|> attraction area MASK, attraction name MASK, attraction type MASK, hospital department MASK, hotel area MASK, hotel book day MASK, hotel book people MASK, hotel book stay MASK, hotel internet MASK, hotel name MASK, hotel parking MASK, hotel pricerange MASK, hotel stars MASK, hotel type MASK, restaurant area MASK, restaurant book day MASK, restaurant book people MASK, restaurant book time MASK, restaurant food MASK, restaurant name MASK, restaurant pricerange MASK, taxi arriveby MASK, taxi departure MASK, taxi destination MASK, taxi leaveat MASK, train arriveby MASK, train book people MASK, train day MASK, train departure MASK, train destination MASK, train leaveat MASK <|endofbelief|> </s></s>'"
      ]
     },
     "execution_count": 62,
     "metadata": {},
     "output_type": "execute_result"
    }
   ],
   "source": [
    "tokenizer.decode(masked_beliefs_final_train[\"train\"][\"input_ids\"][0])"
   ]
  },
  {
   "cell_type": "code",
   "execution_count": null,
   "id": "de0803b8-ee77-47c9-8609-dba9190d3423",
   "metadata": {},
   "outputs": [],
   "source": [
    "data_collator()"
   ]
  }
 ],
 "metadata": {
  "kernelspec": {
   "display_name": "Python 3",
   "language": "python",
   "name": "python3"
  },
  "language_info": {
   "codemirror_mode": {
    "name": "ipython",
    "version": 3
   },
   "file_extension": ".py",
   "mimetype": "text/x-python",
   "name": "python",
   "nbconvert_exporter": "python",
   "pygments_lexer": "ipython3",
   "version": "3.8.12"
  }
 },
 "nbformat": 4,
 "nbformat_minor": 5
}
