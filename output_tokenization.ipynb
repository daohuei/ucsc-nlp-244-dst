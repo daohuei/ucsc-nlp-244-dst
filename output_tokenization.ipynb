{
 "cells": [
  {
   "cell_type": "code",
   "execution_count": 1,
   "id": "0ec2ed88-47e2-4398-9027-5c2bd43e43c8",
   "metadata": {},
   "outputs": [],
   "source": [
    "from pathlib import Path\n",
    "\n",
    "from datasets import load_dataset, Split, Dataset\n",
    "\n",
    "from data.dataset.tokenize import tokenizer\n",
    "from data.dataset.data_augmentations import (\n",
    "    flatten_conversation,\n",
    "    mask_delta_beliefs,\n",
    "    random_mask_beliefs,\n",
    "    random_mask_prev_beliefs,\n",
    "    random_mask_both_beliefs,\n",
    ")\n",
    "from utils import print_stage\n",
    "\n",
    "data_dir = Path(\"resources/bart/\")\n",
    "\n",
    "data_files = {\n",
    "    Split.TRAIN: str((data_dir / \"train.history_belief\").absolute()),\n",
    "    Split.VALIDATION: str((data_dir / \"val.history_belief\").absolute()),\n",
    "    Split.TEST: str((data_dir / \"test.history_belief\").absolute()),\n",
    "}"
   ]
  },
  {
   "cell_type": "code",
   "execution_count": 2,
   "id": "4815ead5-9cfe-4544-a206-5d2aaa196819",
   "metadata": {},
   "outputs": [],
   "source": [
    "# tokenization\n",
    "def tokenization(examples):\n",
    "    tokenized_examples = tokenizer(\n",
    "        examples[\"masked\"],\n",
    "    )\n",
    "    tokenized_examples[\"labels\"] = tokenizer(\n",
    "        examples[\"target\"],\n",
    "    )[\"input_ids\"]\n",
    "    return tokenized_examples\n"
   ]
  },
  {
   "cell_type": "code",
   "execution_count": 3,
   "id": "f8cff80e-dc4d-47bf-8fde-c73b3deb0d16",
   "metadata": {},
   "outputs": [
    {
     "name": "stderr",
     "output_type": "stream",
     "text": [
      "WARNING:datasets.builder:Using custom data configuration default-fa91ae44cff1e0ff\n"
     ]
    },
    {
     "name": "stdout",
     "output_type": "stream",
     "text": [
      "Downloading and preparing dataset multi_woz_dataset/default to /data/users/cting3/.cache/huggingface/datasets/multi_woz_dataset/default-fa91ae44cff1e0ff/0.0.0/82f2807f144539f2bf2f840f4aef1af4678190d8457d6ebd5510fcde01f3c0c9...\n"
     ]
    },
    {
     "data": {
      "application/vnd.jupyter.widget-view+json": {
       "model_id": "",
       "version_major": 2,
       "version_minor": 0
      },
      "text/plain": [
       "Generating train split: 0 examples [00:00, ? examples/s]"
      ]
     },
     "metadata": {},
     "output_type": "display_data"
    },
    {
     "data": {
      "application/vnd.jupyter.widget-view+json": {
       "model_id": "",
       "version_major": 2,
       "version_minor": 0
      },
      "text/plain": [
       "Generating validation split: 0 examples [00:00, ? examples/s]"
      ]
     },
     "metadata": {},
     "output_type": "display_data"
    },
    {
     "data": {
      "application/vnd.jupyter.widget-view+json": {
       "model_id": "",
       "version_major": 2,
       "version_minor": 0
      },
      "text/plain": [
       "Generating test split: 0 examples [00:00, ? examples/s]"
      ]
     },
     "metadata": {},
     "output_type": "display_data"
    },
    {
     "name": "stdout",
     "output_type": "stream",
     "text": [
      "Dataset multi_woz_dataset downloaded and prepared to /data/users/cting3/.cache/huggingface/datasets/multi_woz_dataset/default-fa91ae44cff1e0ff/0.0.0/82f2807f144539f2bf2f840f4aef1af4678190d8457d6ebd5510fcde01f3c0c9. Subsequent calls will reuse this data.\n"
     ]
    },
    {
     "data": {
      "application/vnd.jupyter.widget-view+json": {
       "model_id": "ad22eb4c709f4a7c85462f793de506ec",
       "version_major": 2,
       "version_minor": 0
      },
      "text/plain": [
       "  0%|          | 0/3 [00:00<?, ?it/s]"
      ]
     },
     "metadata": {},
     "output_type": "display_data"
    },
    {
     "name": "stdout",
     "output_type": "stream",
     "text": [
      "======================================Flattening Conversation======================================\n"
     ]
    },
    {
     "data": {
      "application/vnd.jupyter.widget-view+json": {
       "model_id": "8ff22335a34e471a89a94a8de7fae897",
       "version_major": 2,
       "version_minor": 0
      },
      "text/plain": [
       "  0%|          | 0/9 [00:00<?, ?ba/s]"
      ]
     },
     "metadata": {},
     "output_type": "display_data"
    },
    {
     "data": {
      "application/vnd.jupyter.widget-view+json": {
       "model_id": "f8cd29eee104401a973fe7db0e0fa04a",
       "version_major": 2,
       "version_minor": 0
      },
      "text/plain": [
       "  0%|          | 0/1 [00:00<?, ?ba/s]"
      ]
     },
     "metadata": {},
     "output_type": "display_data"
    },
    {
     "data": {
      "application/vnd.jupyter.widget-view+json": {
       "model_id": "00b932eed2c44e44abd066ec26571094",
       "version_major": 2,
       "version_minor": 0
      },
      "text/plain": [
       "  0%|          | 0/1 [00:00<?, ?ba/s]"
      ]
     },
     "metadata": {},
     "output_type": "display_data"
    }
   ],
   "source": [
    "dataset = load_dataset(\n",
    "    \"data/dataset/multiwoz_dataset.py\", data_files=data_files\n",
    ")\n",
    "print_stage(\"Flattening Conversation\")\n",
    "dataset = dataset.map(\n",
    "    flatten_conversation,\n",
    "    batched=True,\n",
    "    remove_columns=dataset[\"train\"].column_names,\n",
    ")"
   ]
  },
  {
   "cell_type": "code",
   "execution_count": 4,
   "id": "6e03d38a-b29e-4fda-af7b-1f3aad0b6590",
   "metadata": {},
   "outputs": [
    {
     "name": "stderr",
     "output_type": "stream",
     "text": [
      "<ipython-input-4-70993978d4ce>:2: FutureWarning: set_caching_enabled is deprecated and will be removed in the next major version of datasets. Use datasets.enable_caching() or datasets.disable_caching() instead. This function will be removed in a future version of datasets.\n",
      "  set_caching_enabled(False)\n"
     ]
    }
   ],
   "source": [
    "from datasets import set_caching_enabled\n",
    "set_caching_enabled(False)"
   ]
  },
  {
   "cell_type": "code",
   "execution_count": 5,
   "id": "016a6832-a399-47a0-b52f-b7a4f1fd7d0c",
   "metadata": {},
   "outputs": [
    {
     "name": "stdout",
     "output_type": "stream",
     "text": [
      "=====================================Masking All Belief Values=====================================\n"
     ]
    },
    {
     "data": {
      "application/vnd.jupyter.widget-view+json": {
       "model_id": "293a71c14c8c43d7962a9d1c82838d61",
       "version_major": 2,
       "version_minor": 0
      },
      "text/plain": [
       "  0%|          | 0/56778 [00:00<?, ?ex/s]"
      ]
     },
     "metadata": {},
     "output_type": "display_data"
    },
    {
     "data": {
      "application/vnd.jupyter.widget-view+json": {
       "model_id": "76d731a738d44aa080024e7a2343bf43",
       "version_major": 2,
       "version_minor": 0
      },
      "text/plain": [
       "  0%|          | 0/7374 [00:00<?, ?ex/s]"
      ]
     },
     "metadata": {},
     "output_type": "display_data"
    },
    {
     "data": {
      "application/vnd.jupyter.widget-view+json": {
       "model_id": "f5dbe0e4868645fd81d8282831ce8dd8",
       "version_major": 2,
       "version_minor": 0
      },
      "text/plain": [
       "  0%|          | 0/7372 [00:00<?, ?ex/s]"
      ]
     },
     "metadata": {},
     "output_type": "display_data"
    },
    {
     "data": {
      "application/vnd.jupyter.widget-view+json": {
       "model_id": "a902344d3a224ee9abdc67d85686519f",
       "version_major": 2,
       "version_minor": 0
      },
      "text/plain": [
       "  0%|          | 0/57 [00:00<?, ?ba/s]"
      ]
     },
     "metadata": {},
     "output_type": "display_data"
    },
    {
     "name": "stderr",
     "output_type": "stream",
     "text": [
      "Token indices sequence length is longer than the specified maximum sequence length for this model (1040 > 1024). Running this sequence through the model will result in indexing errors\n"
     ]
    },
    {
     "data": {
      "application/vnd.jupyter.widget-view+json": {
       "model_id": "41630c3edbf84eda9926578c3c181da9",
       "version_major": 2,
       "version_minor": 0
      },
      "text/plain": [
       "  0%|          | 0/8 [00:00<?, ?ba/s]"
      ]
     },
     "metadata": {},
     "output_type": "display_data"
    },
    {
     "data": {
      "application/vnd.jupyter.widget-view+json": {
       "model_id": "5cdb7348f7044a06a29a3203a451a1f0",
       "version_major": 2,
       "version_minor": 0
      },
      "text/plain": [
       "  0%|          | 0/8 [00:00<?, ?ba/s]"
      ]
     },
     "metadata": {},
     "output_type": "display_data"
    },
    {
     "data": {
      "application/vnd.jupyter.widget-view+json": {
       "model_id": "dbd0c2d3ea1f44d4999c833f879e165c",
       "version_major": 2,
       "version_minor": 0
      },
      "text/plain": [
       "Creating json from Arrow format:   0%|          | 0/6 [00:00<?, ?ba/s]"
      ]
     },
     "metadata": {},
     "output_type": "display_data"
    },
    {
     "data": {
      "application/vnd.jupyter.widget-view+json": {
       "model_id": "33270c8bd9304e70a565cd56ad8b7094",
       "version_major": 2,
       "version_minor": 0
      },
      "text/plain": [
       "Creating json from Arrow format:   0%|          | 0/1 [00:00<?, ?ba/s]"
      ]
     },
     "metadata": {},
     "output_type": "display_data"
    },
    {
     "data": {
      "application/vnd.jupyter.widget-view+json": {
       "model_id": "886b2119d60e4ac1805776ef314b87ad",
       "version_major": 2,
       "version_minor": 0
      },
      "text/plain": [
       "Creating json from Arrow format:   0%|          | 0/1 [00:00<?, ?ba/s]"
      ]
     },
     "metadata": {},
     "output_type": "display_data"
    },
    {
     "data": {
      "text/plain": [
       "28995371"
      ]
     },
     "execution_count": 5,
     "metadata": {},
     "output_type": "execute_result"
    }
   ],
   "source": [
    "print_stage(\"Masking All Belief Values\")\n",
    "masked_beliefs_final = dataset.map(\n",
    "    lambda d: random_mask_both_beliefs(d, 1), remove_columns=\"turn\"\n",
    ")\n",
    "masked_beliefs_final = masked_beliefs_final.map(\n",
    "    tokenization,\n",
    "    batched=True,\n",
    "    remove_columns=masked_beliefs_final[\"train\"].column_names,\n",
    ")\n",
    "masked_beliefs_final[\"train\"].to_json(\"resources/tokens/masked_beliefs_final_train_token.json\")\n",
    "masked_beliefs_final[\"validation\"].to_json(\"resources/tokens/masked_beliefs_final_dev_token.json\")\n",
    "masked_beliefs_final[\"test\"].to_json(\"resources/tokens/masked_beliefs_final_test_token.json\")"
   ]
  },
  {
   "cell_type": "code",
   "execution_count": 9,
   "id": "8d6ecaae-43aa-44b9-ad9f-bd2b5b111cbc",
   "metadata": {},
   "outputs": [
    {
     "name": "stdout",
     "output_type": "stream",
     "text": [
      "===============================Masking Difference of Dialogue States===============================\n"
     ]
    },
    {
     "data": {
      "application/vnd.jupyter.widget-view+json": {
       "model_id": "947bffa347d34174bb415c35b04d74d7",
       "version_major": 2,
       "version_minor": 0
      },
      "text/plain": [
       "  0%|          | 0/56778 [00:00<?, ?ex/s]"
      ]
     },
     "metadata": {},
     "output_type": "display_data"
    },
    {
     "data": {
      "application/vnd.jupyter.widget-view+json": {
       "model_id": "ce7c00ad411446159744308f4f606bd2",
       "version_major": 2,
       "version_minor": 0
      },
      "text/plain": [
       "  0%|          | 0/57 [00:00<?, ?ba/s]"
      ]
     },
     "metadata": {},
     "output_type": "display_data"
    },
    {
     "data": {
      "application/vnd.jupyter.widget-view+json": {
       "model_id": "c9c5fc7332c146c2a94ffe655a79503a",
       "version_major": 2,
       "version_minor": 0
      },
      "text/plain": [
       "Creating json from Arrow format:   0%|          | 0/6 [00:00<?, ?ba/s]"
      ]
     },
     "metadata": {},
     "output_type": "display_data"
    },
    {
     "data": {
      "text/plain": [
       "230470271"
      ]
     },
     "execution_count": 9,
     "metadata": {},
     "output_type": "execute_result"
    }
   ],
   "source": [
    "print_stage(\"Masking Difference of Dialogue States\")\n",
    "masked_deltas = dataset[\"train\"].map(\n",
    "    mask_delta_beliefs, remove_columns=\"turn\"\n",
    ")\n",
    "masked_deltas = masked_deltas.map(\n",
    "    tokenization, remove_columns=masked_deltas.column_names, batched=True\n",
    ")\n",
    "masked_deltas.to_json(\"resources/tokens/masked_deltas_token.json\")"
   ]
  },
  {
   "cell_type": "code",
   "execution_count": 10,
   "id": "26af0c45-2ea6-4c43-b796-f79e0c7b49d2",
   "metadata": {},
   "outputs": [
    {
     "name": "stdout",
     "output_type": "stream",
     "text": [
      "=======================================Masking Beliefs (Easy)=======================================\n"
     ]
    },
    {
     "data": {
      "application/vnd.jupyter.widget-view+json": {
       "model_id": "8b565de8c03f475db109d3448b78af03",
       "version_major": 2,
       "version_minor": 0
      },
      "text/plain": [
       "  0%|          | 0/56778 [00:00<?, ?ex/s]"
      ]
     },
     "metadata": {},
     "output_type": "display_data"
    },
    {
     "data": {
      "application/vnd.jupyter.widget-view+json": {
       "model_id": "8cfe7ef2d7864349a97b09ef1f738b08",
       "version_major": 2,
       "version_minor": 0
      },
      "text/plain": [
       "  0%|          | 0/57 [00:00<?, ?ba/s]"
      ]
     },
     "metadata": {},
     "output_type": "display_data"
    },
    {
     "data": {
      "application/vnd.jupyter.widget-view+json": {
       "model_id": "462a92341158412596c13fecc67a8712",
       "version_major": 2,
       "version_minor": 0
      },
      "text/plain": [
       "Creating json from Arrow format:   0%|          | 0/6 [00:00<?, ?ba/s]"
      ]
     },
     "metadata": {},
     "output_type": "display_data"
    },
    {
     "data": {
      "text/plain": [
       "230167228"
      ]
     },
     "execution_count": 10,
     "metadata": {},
     "output_type": "execute_result"
    }
   ],
   "source": [
    "print_stage(\"Masking Beliefs (Easy)\")\n",
    "random_masked_beliefs_easy = dataset[\"train\"].map(\n",
    "    lambda d: random_mask_beliefs(d, 0.25), remove_columns=\"turn\"\n",
    ")\n",
    "random_masked_beliefs_easy = random_masked_beliefs_easy.map(\n",
    "    tokenization,\n",
    "    remove_columns=random_masked_beliefs_easy.column_names, batched=True\n",
    ")\n",
    "random_masked_beliefs_easy.to_json(\"resources/tokens/random_masked_beliefs_easy_token.json\")"
   ]
  },
  {
   "cell_type": "code",
   "execution_count": 11,
   "id": "c4ce4821-9716-464d-9a9b-2c0dc27776a1",
   "metadata": {},
   "outputs": [
    {
     "name": "stdout",
     "output_type": "stream",
     "text": [
      "=======================================Masking Beliefs (Hard)=======================================\n"
     ]
    },
    {
     "data": {
      "application/vnd.jupyter.widget-view+json": {
       "model_id": "85eea6a893a3429bbcea58b86f2a31a3",
       "version_major": 2,
       "version_minor": 0
      },
      "text/plain": [
       "  0%|          | 0/56778 [00:00<?, ?ex/s]"
      ]
     },
     "metadata": {},
     "output_type": "display_data"
    },
    {
     "data": {
      "application/vnd.jupyter.widget-view+json": {
       "model_id": "bcc7c6afac254e0bab209851d789e1c0",
       "version_major": 2,
       "version_minor": 0
      },
      "text/plain": [
       "  0%|          | 0/57 [00:00<?, ?ba/s]"
      ]
     },
     "metadata": {},
     "output_type": "display_data"
    },
    {
     "data": {
      "application/vnd.jupyter.widget-view+json": {
       "model_id": "986d58d891964d889d22e6679e3b09fc",
       "version_major": 2,
       "version_minor": 0
      },
      "text/plain": [
       "Creating json from Arrow format:   0%|          | 0/6 [00:00<?, ?ba/s]"
      ]
     },
     "metadata": {},
     "output_type": "display_data"
    },
    {
     "data": {
      "text/plain": [
       "228244429"
      ]
     },
     "execution_count": 11,
     "metadata": {},
     "output_type": "execute_result"
    }
   ],
   "source": [
    "print_stage(\"Masking Beliefs (Hard)\")\n",
    "random_masked_beliefs_hard = dataset[\"train\"].map(\n",
    "    lambda d: random_mask_beliefs(d, 0.5), remove_columns=\"turn\"\n",
    ")\n",
    "random_masked_beliefs_hard = random_masked_beliefs_hard.map(\n",
    "    tokenization,\n",
    "    remove_columns=random_masked_beliefs_hard.column_names, batched=True\n",
    ")\n",
    "random_masked_beliefs_hard.to_json(\"resources/tokens/random_masked_beliefs_hard_token.json\")"
   ]
  },
  {
   "cell_type": "code",
   "execution_count": 12,
   "id": "e2ce6c45-7254-42d8-b47f-4226ba2194e5",
   "metadata": {},
   "outputs": [
    {
     "name": "stdout",
     "output_type": "stream",
     "text": [
      "==================================Masking Previous Beliefs (Easy)==================================\n"
     ]
    },
    {
     "data": {
      "application/vnd.jupyter.widget-view+json": {
       "model_id": "09d975be75654b9493d951a217c40613",
       "version_major": 2,
       "version_minor": 0
      },
      "text/plain": [
       "  0%|          | 0/56778 [00:00<?, ?ex/s]"
      ]
     },
     "metadata": {},
     "output_type": "display_data"
    },
    {
     "data": {
      "application/vnd.jupyter.widget-view+json": {
       "model_id": "d300a25bc17f450c8e5c8221fc405dab",
       "version_major": 2,
       "version_minor": 0
      },
      "text/plain": [
       "  0%|          | 0/57 [00:00<?, ?ba/s]"
      ]
     },
     "metadata": {},
     "output_type": "display_data"
    },
    {
     "data": {
      "application/vnd.jupyter.widget-view+json": {
       "model_id": "4680007a4ae9436fb24a2e6a0a78b0fe",
       "version_major": 2,
       "version_minor": 0
      },
      "text/plain": [
       "Creating json from Arrow format:   0%|          | 0/6 [00:00<?, ?ba/s]"
      ]
     },
     "metadata": {},
     "output_type": "display_data"
    },
    {
     "data": {
      "text/plain": [
       "230273831"
      ]
     },
     "execution_count": 12,
     "metadata": {},
     "output_type": "execute_result"
    }
   ],
   "source": [
    "print_stage(\"Masking Previous Beliefs (Easy)\")\n",
    "random_masked_prev_beliefs_easy = dataset[\"train\"].map(\n",
    "    lambda d: random_mask_prev_beliefs(d, 0.25), remove_columns=\"turn\"\n",
    ")\n",
    "random_masked_prev_beliefs_easy = random_masked_prev_beliefs_easy.map(\n",
    "    tokenization,\n",
    "    remove_columns=random_masked_prev_beliefs_easy.column_names, batched=True\n",
    ")\n",
    "random_masked_prev_beliefs_easy.to_json(\"resources/tokens/random_masked_prev_beliefs_easy_token.json\")"
   ]
  },
  {
   "cell_type": "code",
   "execution_count": 13,
   "id": "a69c6984-b613-48f7-afbf-32df96799964",
   "metadata": {},
   "outputs": [
    {
     "name": "stdout",
     "output_type": "stream",
     "text": [
      "=======================================Masking Beliefs (Hard)=======================================\n"
     ]
    },
    {
     "data": {
      "application/vnd.jupyter.widget-view+json": {
       "model_id": "d9e7be677d8b498bbf0229b065ab6ca2",
       "version_major": 2,
       "version_minor": 0
      },
      "text/plain": [
       "  0%|          | 0/56778 [00:00<?, ?ex/s]"
      ]
     },
     "metadata": {},
     "output_type": "display_data"
    },
    {
     "data": {
      "application/vnd.jupyter.widget-view+json": {
       "model_id": "cb638121ea5e4293b2c0cd01ce6c069a",
       "version_major": 2,
       "version_minor": 0
      },
      "text/plain": [
       "  0%|          | 0/57 [00:00<?, ?ba/s]"
      ]
     },
     "metadata": {},
     "output_type": "display_data"
    },
    {
     "data": {
      "application/vnd.jupyter.widget-view+json": {
       "model_id": "011bfa1e15284403a4bf7ea38f5e6850",
       "version_major": 2,
       "version_minor": 0
      },
      "text/plain": [
       "Creating json from Arrow format:   0%|          | 0/6 [00:00<?, ?ba/s]"
      ]
     },
     "metadata": {},
     "output_type": "display_data"
    },
    {
     "data": {
      "text/plain": [
       "228456935"
      ]
     },
     "execution_count": 13,
     "metadata": {},
     "output_type": "execute_result"
    }
   ],
   "source": [
    "print_stage(\"Masking Beliefs (Hard)\")\n",
    "random_masked_prev_beliefs_hard = dataset[\"train\"].map(\n",
    "    lambda d: random_mask_prev_beliefs(d, 0.5), remove_columns=\"turn\"\n",
    ")\n",
    "random_masked_prev_beliefs_hard = random_masked_prev_beliefs_hard.map(\n",
    "    tokenization,\n",
    "    remove_columns=random_masked_prev_beliefs_hard.column_names, batched=True\n",
    ")\n",
    "random_masked_prev_beliefs_hard.to_json(\"resources/tokens/random_masked_prev_beliefs_hard_token.json\")"
   ]
  },
  {
   "cell_type": "code",
   "execution_count": 14,
   "id": "e05e0d41-d355-4121-963c-57c56e186b71",
   "metadata": {},
   "outputs": [
    {
     "name": "stdout",
     "output_type": "stream",
     "text": [
      "====================================Masking Both Beliefs (Hard)====================================\n"
     ]
    },
    {
     "data": {
      "application/vnd.jupyter.widget-view+json": {
       "model_id": "ef1348aefec84389bcf9deb35abdc374",
       "version_major": 2,
       "version_minor": 0
      },
      "text/plain": [
       "  0%|          | 0/56778 [00:00<?, ?ex/s]"
      ]
     },
     "metadata": {},
     "output_type": "display_data"
    },
    {
     "data": {
      "application/vnd.jupyter.widget-view+json": {
       "model_id": "3264f516ccfb4a4a9cbfe34217b1e4d1",
       "version_major": 2,
       "version_minor": 0
      },
      "text/plain": [
       "  0%|          | 0/57 [00:00<?, ?ba/s]"
      ]
     },
     "metadata": {},
     "output_type": "display_data"
    },
    {
     "data": {
      "application/vnd.jupyter.widget-view+json": {
       "model_id": "fb4c23bc4ccd4e3e8b87dc68085fc16f",
       "version_major": 2,
       "version_minor": 0
      },
      "text/plain": [
       "Creating json from Arrow format:   0%|          | 0/6 [00:00<?, ?ba/s]"
      ]
     },
     "metadata": {},
     "output_type": "display_data"
    },
    {
     "data": {
      "text/plain": [
       "224610866"
      ]
     },
     "execution_count": 14,
     "metadata": {},
     "output_type": "execute_result"
    }
   ],
   "source": [
    "print_stage(\"Masking Both Beliefs (Hard)\")\n",
    "random_masked_both_beliefs_hard = dataset[\"train\"].map(\n",
    "    lambda d: random_mask_both_beliefs(d, 0.5), remove_columns=\"turn\"\n",
    ")\n",
    "random_masked_both_beliefs_hard = random_masked_both_beliefs_hard.map(\n",
    "    tokenization,\n",
    "    remove_columns=random_masked_both_beliefs_hard.column_names, batched=True\n",
    ")\n",
    "random_masked_both_beliefs_hard.to_json(\"resources/tokens/random_masked_both_beliefs_hard_token.json\")"
   ]
  },
  {
   "cell_type": "code",
   "execution_count": 5,
   "id": "5e615937-a967-4f38-9742-1ac7eedfe1fe",
   "metadata": {},
   "outputs": [
    {
     "name": "stdout",
     "output_type": "stream",
     "text": [
      "======================================Masking Beliefs (Medium)======================================\n"
     ]
    },
    {
     "data": {
      "application/vnd.jupyter.widget-view+json": {
       "model_id": "95c96cacdfde47e8a4cb0c4b5b80e711",
       "version_major": 2,
       "version_minor": 0
      },
      "text/plain": [
       "  0%|          | 0/56778 [00:00<?, ?ex/s]"
      ]
     },
     "metadata": {},
     "output_type": "display_data"
    },
    {
     "data": {
      "application/vnd.jupyter.widget-view+json": {
       "model_id": "c6c5ba53d8d843f982a638f475b2bdc8",
       "version_major": 2,
       "version_minor": 0
      },
      "text/plain": [
       "  0%|          | 0/57 [00:00<?, ?ba/s]"
      ]
     },
     "metadata": {},
     "output_type": "display_data"
    },
    {
     "name": "stderr",
     "output_type": "stream",
     "text": [
      "Token indices sequence length is longer than the specified maximum sequence length for this model (1047 > 1024). Running this sequence through the model will result in indexing errors\n"
     ]
    },
    {
     "data": {
      "application/vnd.jupyter.widget-view+json": {
       "model_id": "0b175fbeab62460193e69b873371256e",
       "version_major": 2,
       "version_minor": 0
      },
      "text/plain": [
       "Creating json from Arrow format:   0%|          | 0/6 [00:00<?, ?ba/s]"
      ]
     },
     "metadata": {},
     "output_type": "display_data"
    },
    {
     "data": {
      "text/plain": [
       "230168624"
      ]
     },
     "execution_count": 5,
     "metadata": {},
     "output_type": "execute_result"
    }
   ],
   "source": [
    "# print_stage(\"Masking Beliefs (Medium)\")\n",
    "# random_masked_beliefs_medium = dataset[\"train\"].map(\n",
    "#     lambda d: random_mask_beliefs(d, 0.25), remove_columns=\"turn\"\n",
    "# )\n",
    "# random_masked_beliefs_medium = random_masked_beliefs_medium.map(\n",
    "#     tokenization,\n",
    "#     remove_columns=random_masked_beliefs_medium.column_names, batched=True\n",
    "# )\n",
    "# random_masked_beliefs_medium.to_json(\"resources/tokens/random_masked_beliefs_medium_token.json\")"
   ]
  },
  {
   "cell_type": "code",
   "execution_count": 9,
   "id": "f6f19ada-042d-49e5-bfa6-7d2af8b45da8",
   "metadata": {},
   "outputs": [
    {
     "name": "stdout",
     "output_type": "stream",
     "text": [
      "=====================================Masking Utterances (Easy)=====================================\n"
     ]
    },
    {
     "data": {
      "application/vnd.jupyter.widget-view+json": {
       "model_id": "237970eacc874877882e6064886bf1c2",
       "version_major": 2,
       "version_minor": 0
      },
      "text/plain": [
       "  0%|          | 0/56778 [00:00<?, ?ex/s]"
      ]
     },
     "metadata": {},
     "output_type": "display_data"
    },
    {
     "data": {
      "application/vnd.jupyter.widget-view+json": {
       "model_id": "eb4c310702794e3193271374baff512a",
       "version_major": 2,
       "version_minor": 0
      },
      "text/plain": [
       "  0%|          | 0/57 [00:00<?, ?ba/s]"
      ]
     },
     "metadata": {},
     "output_type": "display_data"
    },
    {
     "data": {
      "application/vnd.jupyter.widget-view+json": {
       "model_id": "b30c50754aee48238dd1f1c62c2925bd",
       "version_major": 2,
       "version_minor": 0
      },
      "text/plain": [
       "Creating json from Arrow format:   0%|          | 0/6 [00:00<?, ?ba/s]"
      ]
     },
     "metadata": {},
     "output_type": "display_data"
    },
    {
     "data": {
      "text/plain": [
       "232351647"
      ]
     },
     "execution_count": 9,
     "metadata": {},
     "output_type": "execute_result"
    }
   ],
   "source": [
    "# print_stage(\"Masking Utterances (Easy)\")\n",
    "# random_masked_utterances_easy = dataset[\"train\"].map(\n",
    "#     lambda d: random_mask_utterance(d, 0.15), remove_columns=\"turn\"\n",
    "# )\n",
    "# random_masked_utterances_easy = random_masked_utterances_easy.map(\n",
    "#     tokenization,\n",
    "#     remove_columns=random_masked_utterances_easy.column_names, batched=True\n",
    "# )\n",
    "# random_masked_utterances_easy.to_json(\"resources/tokens/random_masked_utterances_easy_token.json\")"
   ]
  },
  {
   "cell_type": "code",
   "execution_count": 10,
   "id": "89c05610-fea4-44ad-93b7-b4b27dfb6322",
   "metadata": {},
   "outputs": [
    {
     "name": "stdout",
     "output_type": "stream",
     "text": [
      "===============================Masking Belief Entities in the Context===============================\n"
     ]
    },
    {
     "data": {
      "application/vnd.jupyter.widget-view+json": {
       "model_id": "92861cd112c84816802aaf5968bad881",
       "version_major": 2,
       "version_minor": 0
      },
      "text/plain": [
       "  0%|          | 0/56778 [00:00<?, ?ex/s]"
      ]
     },
     "metadata": {},
     "output_type": "display_data"
    },
    {
     "data": {
      "application/vnd.jupyter.widget-view+json": {
       "model_id": "40dc774464a849ba95a5134b056790b6",
       "version_major": 2,
       "version_minor": 0
      },
      "text/plain": [
       "  0%|          | 0/57 [00:00<?, ?ba/s]"
      ]
     },
     "metadata": {},
     "output_type": "display_data"
    },
    {
     "data": {
      "application/vnd.jupyter.widget-view+json": {
       "model_id": "1ab3f70250384e4686c6c6369ce55825",
       "version_major": 2,
       "version_minor": 0
      },
      "text/plain": [
       "Creating json from Arrow format:   0%|          | 0/6 [00:00<?, ?ba/s]"
      ]
     },
     "metadata": {},
     "output_type": "display_data"
    },
    {
     "data": {
      "text/plain": [
       "230703072"
      ]
     },
     "execution_count": 10,
     "metadata": {},
     "output_type": "execute_result"
    }
   ],
   "source": [
    "# print_stage(\"Masking Belief Entities in the Context\")\n",
    "# masked_context_belief_entities = dataset[\"train\"].map(\n",
    "#     mask_context_belief_entities, remove_columns=\"turn\"\n",
    "# )\n",
    "# masked_context_belief_entities = masked_context_belief_entities.map(\n",
    "#     tokenization,\n",
    "#     remove_columns=masked_context_belief_entities.column_names, batched=True\n",
    "# )\n",
    "# masked_context_belief_entities.to_json(\"resources/tokens/masked_context_belief_entities_token.json\")"
   ]
  },
  {
   "cell_type": "code",
   "execution_count": 6,
   "id": "92c61a98-f435-48ad-aad2-aa2dae0bed9b",
   "metadata": {},
   "outputs": [
    {
     "name": "stdout",
     "output_type": "stream",
     "text": [
      "====================================Masking Beliefs (Super Hard)====================================\n"
     ]
    },
    {
     "data": {
      "application/vnd.jupyter.widget-view+json": {
       "model_id": "417038de5e834ea09d2279b127206011",
       "version_major": 2,
       "version_minor": 0
      },
      "text/plain": [
       "  0%|          | 0/56778 [00:00<?, ?ex/s]"
      ]
     },
     "metadata": {},
     "output_type": "display_data"
    },
    {
     "data": {
      "application/vnd.jupyter.widget-view+json": {
       "model_id": "41d4ed13e62346cf8476233dc9e147f2",
       "version_major": 2,
       "version_minor": 0
      },
      "text/plain": [
       "  0%|          | 0/57 [00:00<?, ?ba/s]"
      ]
     },
     "metadata": {},
     "output_type": "display_data"
    },
    {
     "data": {
      "application/vnd.jupyter.widget-view+json": {
       "model_id": "4aaf494a224b44cbaa8a1ce99a9fe37b",
       "version_major": 2,
       "version_minor": 0
      },
      "text/plain": [
       "Creating json from Arrow format:   0%|          | 0/6 [00:00<?, ?ba/s]"
      ]
     },
     "metadata": {},
     "output_type": "display_data"
    },
    {
     "data": {
      "text/plain": [
       "226566978"
      ]
     },
     "execution_count": 6,
     "metadata": {},
     "output_type": "execute_result"
    }
   ],
   "source": [
    "print_stage(\"Masking Beliefs (Super Hard)\")\n",
    "random_masked_beliefs_super_hard = dataset[\"train\"].map(\n",
    "    lambda d: random_mask_beliefs(d, 0.75), remove_columns=\"turn\"\n",
    ")\n",
    "random_masked_beliefs_super_hard = random_masked_beliefs_super_hard.map(\n",
    "    tokenization,\n",
    "    remove_columns=random_masked_beliefs_super_hard.column_names, batched=True\n",
    ")\n",
    "random_masked_beliefs_super_hard.to_json(\"resources/tokens/random_masked_beliefs_super_hard_token.json\")"
   ]
  },
  {
   "cell_type": "code",
   "execution_count": null,
   "id": "c2888f22-f0b9-4595-b4bc-184b698cc5a0",
   "metadata": {},
   "outputs": [],
   "source": []
  },
  {
   "cell_type": "code",
   "execution_count": 12,
   "id": "d715fa7f-b07d-4515-82bc-79520691c19b",
   "metadata": {},
   "outputs": [
    {
     "name": "stdout",
     "output_type": "stream",
     "text": [
      "=====================================Masking Utterances (Hard)=====================================\n"
     ]
    },
    {
     "data": {
      "application/vnd.jupyter.widget-view+json": {
       "model_id": "abe00417795e49e681b1bbcc07c443f9",
       "version_major": 2,
       "version_minor": 0
      },
      "text/plain": [
       "  0%|          | 0/56778 [00:00<?, ?ex/s]"
      ]
     },
     "metadata": {},
     "output_type": "display_data"
    },
    {
     "data": {
      "application/vnd.jupyter.widget-view+json": {
       "model_id": "1be696603d794d23b0376a597db0d77c",
       "version_major": 2,
       "version_minor": 0
      },
      "text/plain": [
       "  0%|          | 0/57 [00:00<?, ?ba/s]"
      ]
     },
     "metadata": {},
     "output_type": "display_data"
    },
    {
     "data": {
      "application/vnd.jupyter.widget-view+json": {
       "model_id": "eb6f3395dadc49e8ad95dba2b863cff8",
       "version_major": 2,
       "version_minor": 0
      },
      "text/plain": [
       "Creating json from Arrow format:   0%|          | 0/6 [00:00<?, ?ba/s]"
      ]
     },
     "metadata": {},
     "output_type": "display_data"
    },
    {
     "data": {
      "text/plain": [
       "223608721"
      ]
     },
     "execution_count": 12,
     "metadata": {},
     "output_type": "execute_result"
    }
   ],
   "source": [
    "print_stage(\"Masking Utterances (Hard)\")\n",
    "random_masked_utterances_hard = dataset[\"train\"].map(\n",
    "    lambda d: random_mask_utterance(d, 0.5), remove_columns=\"turn\"\n",
    ")\n",
    "random_masked_utterances_hard = random_masked_utterances_hard.map(\n",
    "    tokenization,\n",
    "    batched=True,\n",
    "    remove_columns=random_masked_utterances_hard.column_names,\n",
    ")\n",
    "\n",
    "random_masked_utterances_hard.to_json(\"resources/tokens/random_masked_utterances_hard_token.json\")"
   ]
  },
  {
   "cell_type": "code",
   "execution_count": null,
   "id": "8ecd154b-3e55-4e4a-b6b5-b8b318bdff4d",
   "metadata": {},
   "outputs": [],
   "source": []
  },
  {
   "cell_type": "code",
   "execution_count": 13,
   "id": "1871029c-4d7b-46cb-9f3e-bb07f4d41e79",
   "metadata": {},
   "outputs": [
    {
     "data": {
      "text/plain": [
       "'<s><s> <|context|> <|user|> i need to book a hotel in the east that has 4 stars. <|endofcontext|> <|previousbelief|> attraction area not mentioned, attraction name not mentioned, attraction type not mentioned, hospital department not mentioned, hotel area not mentioned, hotel book day not mentioned, hotel book people not mentioned, hotel book stay not mentioned, hotel internet not mentioned, hotel name not mentioned, hotel parking not mentioned, hotel pricerange not mentioned, hotel stars not mentioned, hotel type not mentioned, restaurant area not mentioned, restaurant book day not mentioned, restaurant book people not mentioned, restaurant book time not mentioned, restaurant food not mentioned, restaurant name not mentioned, restaurant pricerange not mentioned, taxi arriveby not mentioned, taxi departure not mentioned, taxi destination not mentioned, taxi leaveat not mentioned, train arriveby not mentioned, train book people not mentioned, train day not mentioned, train departure not mentioned, train destination not mentioned, train leaveat not mentioned <|endofpreviousbelief|> <|belief|> attraction area<mask>, attraction name<mask>, attraction type<mask>, hospital department<mask>, hotel area<mask>, hotel book day<mask>, hotel book people<mask>, hotel book stay<mask>, hotel internet<mask>, hotel name<mask>, hotel parking<mask>, hotel pricerange<mask>, hotel stars<mask>, hotel type<mask>, restaurant area<mask>, restaurant book day<mask>, restaurant book people<mask>, restaurant book time<mask>, restaurant food<mask>, restaurant name<mask>, restaurant pricerange<mask>, taxi arriveby<mask>, taxi departure<mask>, taxi destination<mask>, taxi leaveat<mask>, train arriveby<mask>, train book people<mask>, train day<mask>, train departure<mask>, train destination<mask>, train leaveat<mask> <|endofbelief|> </s></s>'"
      ]
     },
     "execution_count": 13,
     "metadata": {},
     "output_type": "execute_result"
    }
   ],
   "source": [
    "sample = masked_beliefs_final[\"validation\"][\"input_ids\"][0]\n",
    "tokenizer.decode(sample)"
   ]
  },
  {
   "cell_type": "code",
   "execution_count": null,
   "id": "47fdd91b-e63a-4e4f-beb2-f995531b1c33",
   "metadata": {},
   "outputs": [],
   "source": []
  },
  {
   "cell_type": "code",
   "execution_count": 3,
   "id": "ea4747fa-06f5-4e29-942c-e7e472591e4e",
   "metadata": {},
   "outputs": [
    {
     "name": "stderr",
     "output_type": "stream",
     "text": [
      "WARNING:datasets.builder:Using custom data configuration default-c854fd9fcb45cfdc\n",
      "WARNING:datasets.builder:Reusing dataset json (/data/users/cting3/.cache/huggingface/datasets/json/default-c854fd9fcb45cfdc/0.0.0/ac0ca5f5289a6cf108e706efcf040422dbbfa8e658dee6a819f20d76bb84d26b)\n"
     ]
    },
    {
     "data": {
      "application/vnd.jupyter.widget-view+json": {
       "model_id": "f3c1e4fa10ff4246b828b1bae9cc35f3",
       "version_major": 2,
       "version_minor": 0
      },
      "text/plain": [
       "  0%|          | 0/1 [00:00<?, ?it/s]"
      ]
     },
     "metadata": {},
     "output_type": "display_data"
    },
    {
     "name": "stderr",
     "output_type": "stream",
     "text": [
      "WARNING:datasets.builder:Using custom data configuration default-9671332ccd4e4b9a\n",
      "WARNING:datasets.builder:Reusing dataset json (/data/users/cting3/.cache/huggingface/datasets/json/default-9671332ccd4e4b9a/0.0.0/ac0ca5f5289a6cf108e706efcf040422dbbfa8e658dee6a819f20d76bb84d26b)\n"
     ]
    },
    {
     "data": {
      "application/vnd.jupyter.widget-view+json": {
       "model_id": "cb65acf18b5748b0b97a2ec810683e63",
       "version_major": 2,
       "version_minor": 0
      },
      "text/plain": [
       "  0%|          | 0/1 [00:00<?, ?it/s]"
      ]
     },
     "metadata": {},
     "output_type": "display_data"
    },
    {
     "name": "stderr",
     "output_type": "stream",
     "text": [
      "WARNING:datasets.builder:Using custom data configuration default-e5e5ec012245bb96\n",
      "WARNING:datasets.builder:Reusing dataset json (/data/users/cting3/.cache/huggingface/datasets/json/default-e5e5ec012245bb96/0.0.0/ac0ca5f5289a6cf108e706efcf040422dbbfa8e658dee6a819f20d76bb84d26b)\n"
     ]
    },
    {
     "data": {
      "application/vnd.jupyter.widget-view+json": {
       "model_id": "90761053ae834b1ea40514d752163121",
       "version_major": 2,
       "version_minor": 0
      },
      "text/plain": [
       "  0%|          | 0/1 [00:00<?, ?it/s]"
      ]
     },
     "metadata": {},
     "output_type": "display_data"
    },
    {
     "name": "stderr",
     "output_type": "stream",
     "text": [
      "WARNING:datasets.builder:Using custom data configuration default-65b9045ca2299579\n",
      "WARNING:datasets.builder:Reusing dataset json (/data/users/cting3/.cache/huggingface/datasets/json/default-65b9045ca2299579/0.0.0/ac0ca5f5289a6cf108e706efcf040422dbbfa8e658dee6a819f20d76bb84d26b)\n"
     ]
    },
    {
     "data": {
      "application/vnd.jupyter.widget-view+json": {
       "model_id": "63a802631f344e378318944871722148",
       "version_major": 2,
       "version_minor": 0
      },
      "text/plain": [
       "  0%|          | 0/1 [00:00<?, ?it/s]"
      ]
     },
     "metadata": {},
     "output_type": "display_data"
    },
    {
     "name": "stderr",
     "output_type": "stream",
     "text": [
      "WARNING:datasets.builder:Using custom data configuration default-2b1f5de01efe1392\n",
      "WARNING:datasets.builder:Reusing dataset json (/data/users/cting3/.cache/huggingface/datasets/json/default-2b1f5de01efe1392/0.0.0/ac0ca5f5289a6cf108e706efcf040422dbbfa8e658dee6a819f20d76bb84d26b)\n"
     ]
    },
    {
     "data": {
      "application/vnd.jupyter.widget-view+json": {
       "model_id": "2d45d45a94b34e79bc200294d5ce8621",
       "version_major": 2,
       "version_minor": 0
      },
      "text/plain": [
       "  0%|          | 0/1 [00:00<?, ?it/s]"
      ]
     },
     "metadata": {},
     "output_type": "display_data"
    },
    {
     "name": "stderr",
     "output_type": "stream",
     "text": [
      "WARNING:datasets.builder:Using custom data configuration default-8e009890a8f54548\n",
      "WARNING:datasets.builder:Reusing dataset json (/data/users/cting3/.cache/huggingface/datasets/json/default-8e009890a8f54548/0.0.0/ac0ca5f5289a6cf108e706efcf040422dbbfa8e658dee6a819f20d76bb84d26b)\n"
     ]
    },
    {
     "data": {
      "application/vnd.jupyter.widget-view+json": {
       "model_id": "57fd2bb9a648403c905b2f9f053f1ac6",
       "version_major": 2,
       "version_minor": 0
      },
      "text/plain": [
       "  0%|          | 0/1 [00:00<?, ?it/s]"
      ]
     },
     "metadata": {},
     "output_type": "display_data"
    }
   ],
   "source": [
    "masked_deltas = load_dataset(\n",
    "    \"json\", data_files=\"resources/tokens/masked_deltas_token.json\"\n",
    ")[\"train\"]\n",
    "random_masked_beliefs_easy = load_dataset(\n",
    "    \"json\", data_files=\"resources/tokens/random_masked_beliefs_easy_token.json\"\n",
    ")[\"train\"]\n",
    "random_masked_utterances_easy = load_dataset(\n",
    "    \"json\", data_files=\"resources/tokens/random_masked_utterances_easy_token.json\"\n",
    ")[\"train\"]\n",
    "masked_context_belief_entities = load_dataset(\n",
    "    \"json\", data_files=\"resources/tokens/masked_context_belief_entities_token.json\"\n",
    ")[\"train\"]\n",
    "random_masked_beliefs_hard = load_dataset(\n",
    "    \"json\", data_files=\"resources/tokens/random_masked_beliefs_hard_token.json\"\n",
    ")[\"train\"]\n",
    "random_masked_utterances_hard = load_dataset(\n",
    "    \"json\", data_files=\"resources/tokens/random_masked_utterances_hard_token.json\"\n",
    ")[\"train\"]"
   ]
  },
  {
   "cell_type": "code",
   "execution_count": 5,
   "id": "86b5637b-6857-4f19-83b6-776c03b9f9db",
   "metadata": {},
   "outputs": [
    {
     "data": {
      "text/plain": [
       "'<s><s> <|context|> <|user|> hi, i am looking for a train that is going to cambridge and arriving there by 20:45, is there anything like that? <|endofcontext|> <|previousbelief|> attraction area not mentioned, attraction name not mentioned, attraction type not mentioned, hospital department not mentioned, hotel area not mentioned, hotel book day not mentioned, hotel book people not mentioned, hotel book stay not mentioned, hotel internet not mentioned, hotel name not mentioned, hotel parking not mentioned, hotel pricerange not mentioned, hotel stars not mentioned, hotel type not mentioned, restaurant area not mentioned, restaurant book day not mentioned, restaurant book people not mentioned, restaurant book time not mentioned, restaurant food not mentioned, restaurant name not mentioned, restaurant pricerange not mentioned, taxi arriveby not mentioned, taxi departure not mentioned, taxi destination not mentioned, taxi leaveat not mentioned, train arriveby not mentioned, train book people not mentioned, train day not mentioned, train departure not mentioned, train destination not mentioned, train leaveat not mentioned <|endofpreviousbelief|> <|belief|> attraction area not mentioned, attraction name not mentioned, attraction type not mentioned, hospital department not mentioned, hotel area not mentioned, hotel book day not mentioned, hotel book people not mentioned, hotel book stay not mentioned, hotel internet not mentioned, hotel name not mentioned, hotel parking not mentioned, hotel pricerange not mentioned, hotel stars not mentioned, hotel type not mentioned, restaurant area not mentioned, restaurant book day not mentioned, restaurant book people not mentioned, restaurant book time not mentioned, restaurant food not mentioned, restaurant name not mentioned, restaurant pricerange not mentioned, taxi arriveby not mentioned, taxi departure not mentioned, taxi destination not mentioned, taxi leaveat not mentioned, train arriveby<mask>, train book people not mentioned, train day not mentioned, train departure not mentioned, train destination<mask>, train leaveat not mentioned <|endofbelief|> </s></s>'"
      ]
     },
     "execution_count": 5,
     "metadata": {},
     "output_type": "execute_result"
    }
   ],
   "source": [
    "tokenizer.decode(masked_deltas[\"input_ids\"][10])"
   ]
  },
  {
   "cell_type": "code",
   "execution_count": 6,
   "id": "5b019b2b-c895-400d-8401-36ba7524d386",
   "metadata": {},
   "outputs": [
    {
     "data": {
      "text/plain": [
       "'<s><s> <|context|> <|user|> hi, i am looking for a train that is going to cambridge and arriving there by 20:45, is there anything like that? <|endofcontext|> <|previousbelief|> attraction area not mentioned, attraction name not mentioned, attraction type not mentioned, hospital department not mentioned, hotel area not mentioned, hotel book day not mentioned, hotel book people not mentioned, hotel book stay not mentioned, hotel internet not mentioned, hotel name not mentioned, hotel parking not mentioned, hotel pricerange not mentioned, hotel stars not mentioned, hotel type not mentioned, restaurant area not mentioned, restaurant book day not mentioned, restaurant book people not mentioned, restaurant book time not mentioned, restaurant food not mentioned, restaurant name not mentioned, restaurant pricerange not mentioned, taxi arriveby not mentioned, taxi departure not mentioned, taxi destination not mentioned, taxi leaveat not mentioned, train arriveby not mentioned, train book people not mentioned, train day not mentioned, train departure not mentioned, train destination not mentioned, train leaveat not mentioned <|endofpreviousbelief|> <|belief|> attraction area not mentioned, attraction name not mentioned, attraction type not mentioned, hospital department not mentioned, hotel area not mentioned, hotel book day not mentioned, hotel book people not mentioned, hotel book stay not mentioned, hotel internet<mask>, hotel name not mentioned, hotel parking not mentioned, hotel pricerange not mentioned, hotel stars<mask>, hotel type<mask>, restaurant area not mentioned, restaurant book day<mask>, restaurant book people not mentioned, restaurant book time not mentioned, restaurant food not mentioned, restaurant name not mentioned, restaurant pricerange not mentioned, taxi arriveby not mentioned, taxi departure not mentioned, taxi destination<mask>, taxi leaveat not mentioned, train arriveby 20:45, train book people not mentioned, train day not mentioned, train departure not mentioned, train destination cambridge, train leaveat not mentioned <|endofbelief|> </s></s>'"
      ]
     },
     "execution_count": 6,
     "metadata": {},
     "output_type": "execute_result"
    }
   ],
   "source": [
    "tokenizer.decode(random_masked_beliefs_easy[\"input_ids\"][10])"
   ]
  },
  {
   "cell_type": "code",
   "execution_count": 7,
   "id": "07e3925e-39a9-44e2-9fe7-3d90ac3478e1",
   "metadata": {},
   "outputs": [
    {
     "data": {
      "text/plain": [
       "'<s><s> <|context|> <|user|> <mask> i am looking for a<mask> that is going<mask> cambridge and arriving there by 20:45, is there anything like that? <|endofcontext|> <|previousbelief|> attraction area not mentioned, attraction name not mentioned, attraction type not mentioned, hospital department not mentioned, hotel area not mentioned, hotel book day not mentioned, hotel book people not mentioned, hotel book stay not mentioned, hotel internet not mentioned, hotel name not mentioned, hotel parking not mentioned, hotel pricerange not mentioned, hotel stars not mentioned, hotel type not mentioned, restaurant area not mentioned, restaurant book day not mentioned, restaurant book people not mentioned, restaurant book time not mentioned, restaurant food not mentioned, restaurant name not mentioned, restaurant pricerange not mentioned, taxi arriveby not mentioned, taxi departure not mentioned, taxi destination not mentioned, taxi leaveat not mentioned, train arriveby not mentioned, train book people not mentioned, train day not mentioned, train departure not mentioned, train destination not mentioned, train leaveat not mentioned <|endofpreviousbelief|> <|belief|> attraction area not mentioned, attraction name not mentioned, attraction type not mentioned, hospital department not mentioned, hotel area not mentioned, hotel book day not mentioned, hotel book people not mentioned, hotel book stay not mentioned, hotel internet not mentioned, hotel name not mentioned, hotel parking not mentioned, hotel pricerange not mentioned, hotel stars not mentioned, hotel type not mentioned, restaurant area not mentioned, restaurant book day not mentioned, restaurant book people not mentioned, restaurant book time not mentioned, restaurant food not mentioned, restaurant name not mentioned, restaurant pricerange not mentioned, taxi arriveby not mentioned, taxi departure not mentioned, taxi destination not mentioned, taxi leaveat not mentioned, train arriveby 20:45, train book people not mentioned, train day not mentioned, train departure not mentioned, train destination cambridge, train leaveat not mentioned <|endofbelief|> </s></s>'"
      ]
     },
     "execution_count": 7,
     "metadata": {},
     "output_type": "execute_result"
    }
   ],
   "source": [
    "tokenizer.decode(random_masked_utterances_easy[\"input_ids\"][10])"
   ]
  },
  {
   "cell_type": "code",
   "execution_count": 8,
   "id": "45729e02-fcd7-472e-8e3e-a92e985c9f95",
   "metadata": {},
   "outputs": [
    {
     "data": {
      "text/plain": [
       "'<s><s> <|context|> <|user|> hi, i am looking for a train that is going to<mask> and arriving there by<mask> , is there anything like that? <|endofcontext|> <|previousbelief|> attraction area not mentioned, attraction name not mentioned, attraction type not mentioned, hospital department not mentioned, hotel area not mentioned, hotel book day not mentioned, hotel book people not mentioned, hotel book stay not mentioned, hotel internet not mentioned, hotel name not mentioned, hotel parking not mentioned, hotel pricerange not mentioned, hotel stars not mentioned, hotel type not mentioned, restaurant area not mentioned, restaurant book day not mentioned, restaurant book people not mentioned, restaurant book time not mentioned, restaurant food not mentioned, restaurant name not mentioned, restaurant pricerange not mentioned, taxi arriveby not mentioned, taxi departure not mentioned, taxi destination not mentioned, taxi leaveat not mentioned, train arriveby not mentioned, train book people not mentioned, train day not mentioned, train departure not mentioned, train destination not mentioned, train leaveat not mentioned <|endofpreviousbelief|> <|belief|> attraction area not mentioned, attraction name not mentioned, attraction type not mentioned, hospital department not mentioned, hotel area not mentioned, hotel book day not mentioned, hotel book people not mentioned, hotel book stay not mentioned, hotel internet not mentioned, hotel name not mentioned, hotel parking not mentioned, hotel pricerange not mentioned, hotel stars not mentioned, hotel type not mentioned, restaurant area not mentioned, restaurant book day not mentioned, restaurant book people not mentioned, restaurant book time not mentioned, restaurant food not mentioned, restaurant name not mentioned, restaurant pricerange not mentioned, taxi arriveby not mentioned, taxi departure not mentioned, taxi destination not mentioned, taxi leaveat not mentioned, train arriveby 20:45, train book people not mentioned, train day not mentioned, train departure not mentioned, train destination cambridge, train leaveat not mentioned <|endofbelief|> </s></s>'"
      ]
     },
     "execution_count": 8,
     "metadata": {},
     "output_type": "execute_result"
    }
   ],
   "source": [
    "tokenizer.decode(masked_context_belief_entities[\"input_ids\"][10])"
   ]
  },
  {
   "cell_type": "code",
   "execution_count": null,
   "id": "498cc456-113b-4f39-bd58-2c0eb4f493d0",
   "metadata": {},
   "outputs": [],
   "source": [
    "masked_beliefs_final_train = load_dataset(\n",
    "    \"json\", data_files=\"resources/tokens/masked_beliefs_final_train_token.json\"\n",
    ")[\"train\"]\n",
    "masked_beliefs_final_dev = load_dataset(\n",
    "    \"json\", data_files=\"resources/tokens/masked_beliefs_final_dev_token.json\"\n",
    ")[\"train\"]\n",
    "masked_beliefs_final_test = load_dataset(\n",
    "    \"json\", data_files=\"resources/tokens/masked_beliefs_final_test_token.json\"\n",
    ")[\"train\"]"
   ]
  },
  {
   "cell_type": "code",
   "execution_count": null,
   "id": "203dda30-19e0-4c82-8855-026ef00b101d",
   "metadata": {},
   "outputs": [],
   "source": []
  },
  {
   "cell_type": "code",
   "execution_count": null,
   "id": "044a10cd-fe52-41e4-84bc-601b255dd647",
   "metadata": {},
   "outputs": [],
   "source": [
    "from transformers import (\n",
    "    TrainingArguments,\n",
    "    BartForConditionalGeneration,\n",
    "    default_data_collator,\n",
    ")\n",
    "\n",
    "from trainer.curriculum_trainer import CurriculumTrainer\n",
    "from data.dataset.tokenize import tokenizer"
   ]
  },
  {
   "cell_type": "code",
   "execution_count": null,
   "id": "ac087d42-d1fb-4dff-baee-ee0c169da650",
   "metadata": {},
   "outputs": [],
   "source": [
    "name = \"dataset_test\"\n",
    "BATCH_SIZE = 2\n",
    "EPOCHS = 10\n",
    "curriculum_datasets = [\n",
    "    masked_deltas[\"train\"],\n",
    "    random_masked_beliefs_easy[\"train\"],\n",
    "    random_masked_utterances_easy[\"train\"],\n",
    "    masked_context_belief_entities[\"train\"],\n",
    "    random_masked_beliefs_hard[\"train\"],\n",
    "    random_masked_utterances_hard[\"train\"],\n",
    "]\n",
    "\n",
    "model = BartForConditionalGeneration.from_pretrained(\n",
    "    \"facebook/bart-base\"\n",
    ")#.to(device)\n",
    "model.resize_token_embeddings(len(tokenizer))\n",
    "\n",
    "# setup trainer\n",
    "args = TrainingArguments(\n",
    "    output_dir=f\"checkpoints/{name}\",\n",
    "    evaluation_strategy=\"epoch\",\n",
    "    save_strategy=\"epoch\",\n",
    "    learning_rate=2e-5,\n",
    "    per_device_train_batch_size=BATCH_SIZE,\n",
    "    per_device_eval_batch_size=BATCH_SIZE,\n",
    "    num_train_epochs=EPOCHS,\n",
    "    weight_decay=0.01,\n",
    "    dataloader_num_workers=0,\n",
    "    local_rank=-1,\n",
    "    load_best_model_at_end=True,\n",
    "    # resume_from_checkpoint=f\"{name}/checkpoint-19000\",\n",
    ")"
   ]
  },
  {
   "cell_type": "code",
   "execution_count": null,
   "id": "c5a1f252-a4c6-4df3-9c5c-7a08c124769a",
   "metadata": {},
   "outputs": [],
   "source": [
    "from transformers import DataCollatorWithPadding\n",
    "\n",
    "data_collator = DataCollatorWithPadding(tokenizer)\n",
    "trainer = CurriculumTrainer(\n",
    "    curriculum_datasets,\n",
    "    model,\n",
    "    args,\n",
    "    train_dataset=masked_beliefs_final_train[\"train\"],\n",
    "    eval_dataset=masked_beliefs_final_dev[\"train\"],\n",
    "    data_collator=data_collator,\n",
    "    # compute_metrics=test_compute_metrics\n",
    "    # callbacks=[MyCallback],  # We can either pass the callback class this way or an instance of it (MyCallback())\n",
    ")\n",
    "trainer.curriculum_train()"
   ]
  },
  {
   "cell_type": "code",
   "execution_count": null,
   "id": "79c46fce-bc3f-4cdb-9ccd-5765754cbd21",
   "metadata": {},
   "outputs": [],
   "source": []
  },
  {
   "cell_type": "code",
   "execution_count": null,
   "id": "0c5bc98b-6fb0-4f38-8d46-f884261cc9d8",
   "metadata": {},
   "outputs": [],
   "source": [
    "tokenizer.encode(\"<mask>\")"
   ]
  },
  {
   "cell_type": "code",
   "execution_count": null,
   "id": "0c3a27fc-8734-409e-9d98-bfde68f831e8",
   "metadata": {},
   "outputs": [],
   "source": [
    "tokenizer.decode(30415)"
   ]
  },
  {
   "cell_type": "code",
   "execution_count": null,
   "id": "de0803b8-ee77-47c9-8609-dba9190d3423",
   "metadata": {},
   "outputs": [],
   "source": [
    "data_collator()"
   ]
  }
 ],
 "metadata": {
  "kernelspec": {
   "display_name": "Python 3",
   "language": "python",
   "name": "python3"
  },
  "language_info": {
   "codemirror_mode": {
    "name": "ipython",
    "version": 3
   },
   "file_extension": ".py",
   "mimetype": "text/x-python",
   "name": "python",
   "nbconvert_exporter": "python",
   "pygments_lexer": "ipython3",
   "version": "3.8.12"
  }
 },
 "nbformat": 4,
 "nbformat_minor": 5
}
