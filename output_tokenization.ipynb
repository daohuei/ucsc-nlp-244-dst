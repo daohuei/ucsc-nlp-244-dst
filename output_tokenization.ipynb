{
 "cells": [
  {
   "cell_type": "code",
   "execution_count": 1,
   "id": "0ec2ed88-47e2-4398-9027-5c2bd43e43c8",
   "metadata": {},
   "outputs": [],
   "source": [
    "from pathlib import Path\n",
    "\n",
    "from datasets import load_dataset, Split, Dataset\n",
    "\n",
    "from data.dataset.tokenize import tokenizer\n",
    "from data.dataset.data_augmentations import (\n",
    "    flatten_conversation,\n",
    "    mask_delta_beliefs,\n",
    "    random_mask_beliefs,\n",
    "    mask_context_belief_entities,\n",
    "    random_mask_utterance,\n",
    ")\n",
    "from utils import print_stage\n",
    "\n",
    "data_dir = Path(\"resources/bart/\")\n",
    "\n",
    "data_files = {\n",
    "    Split.TRAIN: str((data_dir / \"train.history_belief\").absolute()),\n",
    "    Split.VALIDATION: str((data_dir / \"val.history_belief\").absolute()),\n",
    "    Split.TEST: str((data_dir / \"test.history_belief\").absolute()),\n",
    "}"
   ]
  },
  {
   "cell_type": "code",
   "execution_count": 2,
   "id": "4815ead5-9cfe-4544-a206-5d2aaa196819",
   "metadata": {},
   "outputs": [],
   "source": [
    "# tokenization\n",
    "def tokenization(examples):\n",
    "    tokenized_examples = tokenizer(\n",
    "        examples[\"masked\"],\n",
    "    )\n",
    "    tokenized_examples[\"labels\"] = tokenizer(\n",
    "        examples[\"target\"],\n",
    "    )[\"input_ids\"]\n",
    "    return tokenized_examples\n"
   ]
  },
  {
   "cell_type": "code",
   "execution_count": 3,
   "id": "f8cff80e-dc4d-47bf-8fde-c73b3deb0d16",
   "metadata": {},
   "outputs": [
    {
     "name": "stderr",
     "output_type": "stream",
     "text": [
      "WARNING:datasets.builder:Using custom data configuration default-fa91ae44cff1e0ff\n",
      "WARNING:datasets.builder:Reusing dataset multi_woz_dataset (/data/users/cting3/.cache/huggingface/datasets/multi_woz_dataset/default-fa91ae44cff1e0ff/0.0.0/f68a68638b040ca98e35780d893ba6dd439629d12a3b62bdda1ba2e3d7a88647)\n"
     ]
    },
    {
     "data": {
      "application/vnd.jupyter.widget-view+json": {
       "model_id": "b3153eaa9919442d95d535379270abbe",
       "version_major": 2,
       "version_minor": 0
      },
      "text/plain": [
       "  0%|          | 0/3 [00:00<?, ?it/s]"
      ]
     },
     "metadata": {},
     "output_type": "display_data"
    },
    {
     "name": "stderr",
     "output_type": "stream",
     "text": [
      "WARNING:datasets.arrow_dataset:Loading cached processed dataset at /data/users/cting3/.cache/huggingface/datasets/multi_woz_dataset/default-fa91ae44cff1e0ff/0.0.0/f68a68638b040ca98e35780d893ba6dd439629d12a3b62bdda1ba2e3d7a88647/cache-a1c988fe37507e5f.arrow\n",
      "WARNING:datasets.arrow_dataset:Loading cached processed dataset at /data/users/cting3/.cache/huggingface/datasets/multi_woz_dataset/default-fa91ae44cff1e0ff/0.0.0/f68a68638b040ca98e35780d893ba6dd439629d12a3b62bdda1ba2e3d7a88647/cache-339ba30f507aa4aa.arrow\n",
      "WARNING:datasets.arrow_dataset:Loading cached processed dataset at /data/users/cting3/.cache/huggingface/datasets/multi_woz_dataset/default-fa91ae44cff1e0ff/0.0.0/f68a68638b040ca98e35780d893ba6dd439629d12a3b62bdda1ba2e3d7a88647/cache-aeb133aae4fea810.arrow\n"
     ]
    },
    {
     "name": "stdout",
     "output_type": "stream",
     "text": [
      "======================================Flattening Conversation======================================\n"
     ]
    }
   ],
   "source": [
    "dataset = load_dataset(\n",
    "    \"data/dataset/multiwoz_dataset.py\", data_files=data_files\n",
    ")\n",
    "print_stage(\"Flattening Conversation\")\n",
    "dataset = dataset.map(\n",
    "    flatten_conversation,\n",
    "    batched=True,\n",
    "    remove_columns=dataset[\"train\"].column_names,\n",
    ")"
   ]
  },
  {
   "cell_type": "code",
   "execution_count": 4,
   "id": "8edc34ed-a04c-4a40-be40-e3bb6ff22946",
   "metadata": {},
   "outputs": [
    {
     "data": {
      "text/plain": [
       "'<s> <|context|> <|user|> am looking for a place to to stay that has cheap price range it should be in a type of hotel <|endofcontext|> <|belief|> hotel name not mentioned , hotel area not mentioned , hotel parking not mentioned , hotel pricerange cheap , hotel stars not mentioned , hotel internet not mentioned , hotel type hotel <|endofbelief|> </s>'"
      ]
     },
     "execution_count": 4,
     "metadata": {},
     "output_type": "execute_result"
    }
   ],
   "source": [
    "dataset[\"train\"][\"turn\"][0]"
   ]
  },
  {
   "cell_type": "code",
   "execution_count": 5,
   "id": "6e03d38a-b29e-4fda-af7b-1f3aad0b6590",
   "metadata": {},
   "outputs": [
    {
     "name": "stderr",
     "output_type": "stream",
     "text": [
      "<ipython-input-5-70993978d4ce>:2: FutureWarning: set_caching_enabled is deprecated and will be removed in the next major version of datasets. Use datasets.enable_caching() or datasets.disable_caching() instead. This function will be removed in a future version of datasets.\n",
      "  set_caching_enabled(False)\n"
     ]
    }
   ],
   "source": [
    "from datasets import set_caching_enabled\n",
    "set_caching_enabled(False)"
   ]
  },
  {
   "cell_type": "code",
   "execution_count": 6,
   "id": "016a6832-a399-47a0-b52f-b7a4f1fd7d0c",
   "metadata": {},
   "outputs": [
    {
     "name": "stdout",
     "output_type": "stream",
     "text": [
      "=====================================Masking All Belief Values=====================================\n"
     ]
    },
    {
     "data": {
      "application/vnd.jupyter.widget-view+json": {
       "model_id": "62765513f65f42f999fddba0575228d1",
       "version_major": 2,
       "version_minor": 0
      },
      "text/plain": [
       "  0%|          | 0/56778 [00:00<?, ?ex/s]"
      ]
     },
     "metadata": {},
     "output_type": "display_data"
    },
    {
     "data": {
      "application/vnd.jupyter.widget-view+json": {
       "model_id": "ff01f5cdab9c497e98044ea89ccee027",
       "version_major": 2,
       "version_minor": 0
      },
      "text/plain": [
       "  0%|          | 0/7374 [00:00<?, ?ex/s]"
      ]
     },
     "metadata": {},
     "output_type": "display_data"
    },
    {
     "data": {
      "application/vnd.jupyter.widget-view+json": {
       "model_id": "52e0a1c4bd904250806448cd9776b404",
       "version_major": 2,
       "version_minor": 0
      },
      "text/plain": [
       "  0%|          | 0/7372 [00:00<?, ?ex/s]"
      ]
     },
     "metadata": {},
     "output_type": "display_data"
    },
    {
     "data": {
      "application/vnd.jupyter.widget-view+json": {
       "model_id": "c742b1ff683e4edcb96eb0d7e74d39f3",
       "version_major": 2,
       "version_minor": 0
      },
      "text/plain": [
       "  0%|          | 0/57 [00:00<?, ?ba/s]"
      ]
     },
     "metadata": {},
     "output_type": "display_data"
    },
    {
     "name": "stderr",
     "output_type": "stream",
     "text": [
      "Token indices sequence length is longer than the specified maximum sequence length for this model (1029 > 1024). Running this sequence through the model will result in indexing errors\n"
     ]
    },
    {
     "data": {
      "application/vnd.jupyter.widget-view+json": {
       "model_id": "67b6ae8d5ee34123a9547eeeb5177446",
       "version_major": 2,
       "version_minor": 0
      },
      "text/plain": [
       "  0%|          | 0/8 [00:00<?, ?ba/s]"
      ]
     },
     "metadata": {},
     "output_type": "display_data"
    },
    {
     "data": {
      "application/vnd.jupyter.widget-view+json": {
       "model_id": "b174d663fc6045689920b6a2271f6e32",
       "version_major": 2,
       "version_minor": 0
      },
      "text/plain": [
       "  0%|          | 0/8 [00:00<?, ?ba/s]"
      ]
     },
     "metadata": {},
     "output_type": "display_data"
    },
    {
     "data": {
      "application/vnd.jupyter.widget-view+json": {
       "model_id": "7048b0ebe9574a42972519a8c2ca2691",
       "version_major": 2,
       "version_minor": 0
      },
      "text/plain": [
       "Creating json from Arrow format:   0%|          | 0/6 [00:00<?, ?ba/s]"
      ]
     },
     "metadata": {},
     "output_type": "display_data"
    },
    {
     "data": {
      "application/vnd.jupyter.widget-view+json": {
       "model_id": "8696d06b78644807a6f19dda3ca859bc",
       "version_major": 2,
       "version_minor": 0
      },
      "text/plain": [
       "Creating json from Arrow format:   0%|          | 0/1 [00:00<?, ?ba/s]"
      ]
     },
     "metadata": {},
     "output_type": "display_data"
    },
    {
     "data": {
      "application/vnd.jupyter.widget-view+json": {
       "model_id": "fbbf09d665de41a881c496e9b618ce4f",
       "version_major": 2,
       "version_minor": 0
      },
      "text/plain": [
       "Creating json from Arrow format:   0%|          | 0/1 [00:00<?, ?ba/s]"
      ]
     },
     "metadata": {},
     "output_type": "display_data"
    },
    {
     "data": {
      "text/plain": [
       "29909499"
      ]
     },
     "execution_count": 6,
     "metadata": {},
     "output_type": "execute_result"
    }
   ],
   "source": [
    "print_stage(\"Masking All Belief Values\")\n",
    "masked_beliefs_final = dataset.map(\n",
    "    lambda d: random_mask_beliefs(d, 1), remove_columns=\"turn\"\n",
    ")\n",
    "masked_beliefs_final = masked_beliefs_final.map(\n",
    "    tokenization,\n",
    "    batched=True,\n",
    "    remove_columns=masked_beliefs_final[\"train\"].column_names,\n",
    ")\n",
    "masked_beliefs_final[\"train\"].to_json(\"resources/tokens/masked_beliefs_final_train_token.json\")\n",
    "masked_beliefs_final[\"validation\"].to_json(\"resources/tokens/masked_beliefs_final_dev_token.json\")\n",
    "masked_beliefs_final[\"test\"].to_json(\"resources/tokens/masked_beliefs_final_test_token.json\")"
   ]
  },
  {
   "cell_type": "code",
   "execution_count": 7,
   "id": "8d6ecaae-43aa-44b9-ad9f-bd2b5b111cbc",
   "metadata": {},
   "outputs": [
    {
     "name": "stdout",
     "output_type": "stream",
     "text": [
      "===============================Masking Difference of Dialogue States===============================\n"
     ]
    },
    {
     "data": {
      "application/vnd.jupyter.widget-view+json": {
       "model_id": "69a34f393d45435cbbcdf389e9457be5",
       "version_major": 2,
       "version_minor": 0
      },
      "text/plain": [
       "  0%|          | 0/56778 [00:00<?, ?ex/s]"
      ]
     },
     "metadata": {},
     "output_type": "display_data"
    },
    {
     "data": {
      "application/vnd.jupyter.widget-view+json": {
       "model_id": "01fa4c70c86e4340b915a333756171f8",
       "version_major": 2,
       "version_minor": 0
      },
      "text/plain": [
       "  0%|          | 0/57 [00:00<?, ?ba/s]"
      ]
     },
     "metadata": {},
     "output_type": "display_data"
    },
    {
     "data": {
      "application/vnd.jupyter.widget-view+json": {
       "model_id": "91a9ffb26cf9412e9d491b1599bf142c",
       "version_major": 2,
       "version_minor": 0
      },
      "text/plain": [
       "Creating json from Arrow format:   0%|          | 0/6 [00:00<?, ?ba/s]"
      ]
     },
     "metadata": {},
     "output_type": "display_data"
    },
    {
     "data": {
      "text/plain": [
       "230470271"
      ]
     },
     "execution_count": 7,
     "metadata": {},
     "output_type": "execute_result"
    }
   ],
   "source": [
    "print_stage(\"Masking Difference of Dialogue States\")\n",
    "masked_deltas = dataset[\"train\"].map(\n",
    "    mask_delta_beliefs, remove_columns=\"turn\"\n",
    ")\n",
    "masked_deltas = masked_deltas.map(\n",
    "    tokenization, remove_columns=masked_deltas.column_names, batched=True\n",
    ")\n",
    "masked_deltas.to_json(\"resources/tokens/masked_deltas_token.json\")"
   ]
  },
  {
   "cell_type": "code",
   "execution_count": 8,
   "id": "26af0c45-2ea6-4c43-b796-f79e0c7b49d2",
   "metadata": {},
   "outputs": [
    {
     "name": "stdout",
     "output_type": "stream",
     "text": [
      "=======================================Masking Beliefs (Easy)=======================================\n"
     ]
    },
    {
     "data": {
      "application/vnd.jupyter.widget-view+json": {
       "model_id": "7dc646dddb8a43cebaf2379f96dee485",
       "version_major": 2,
       "version_minor": 0
      },
      "text/plain": [
       "  0%|          | 0/56778 [00:00<?, ?ex/s]"
      ]
     },
     "metadata": {},
     "output_type": "display_data"
    },
    {
     "data": {
      "application/vnd.jupyter.widget-view+json": {
       "model_id": "3154bb3bf99d463cb7f019c76d29d2f5",
       "version_major": 2,
       "version_minor": 0
      },
      "text/plain": [
       "  0%|          | 0/57 [00:00<?, ?ba/s]"
      ]
     },
     "metadata": {},
     "output_type": "display_data"
    },
    {
     "data": {
      "application/vnd.jupyter.widget-view+json": {
       "model_id": "49e6b80b3a2841028211df6aa84ebe97",
       "version_major": 2,
       "version_minor": 0
      },
      "text/plain": [
       "Creating json from Arrow format:   0%|          | 0/6 [00:00<?, ?ba/s]"
      ]
     },
     "metadata": {},
     "output_type": "display_data"
    },
    {
     "data": {
      "text/plain": [
       "230889096"
      ]
     },
     "execution_count": 8,
     "metadata": {},
     "output_type": "execute_result"
    }
   ],
   "source": [
    "print_stage(\"Masking Beliefs (Easy)\")\n",
    "random_masked_beliefs_easy = dataset[\"train\"].map(\n",
    "    lambda d: random_mask_beliefs(d, 0.15), remove_columns=\"turn\"\n",
    ")\n",
    "random_masked_beliefs_easy = random_masked_beliefs_easy.map(\n",
    "    tokenization,\n",
    "    remove_columns=random_masked_beliefs_easy.column_names, batched=True\n",
    ")\n",
    "random_masked_beliefs_easy.to_json(\"resources/tokens/random_masked_beliefs_easy_token.json\")"
   ]
  },
  {
   "cell_type": "code",
   "execution_count": 9,
   "id": "f6f19ada-042d-49e5-bfa6-7d2af8b45da8",
   "metadata": {},
   "outputs": [
    {
     "name": "stdout",
     "output_type": "stream",
     "text": [
      "=====================================Masking Utterances (Easy)=====================================\n"
     ]
    },
    {
     "data": {
      "application/vnd.jupyter.widget-view+json": {
       "model_id": "237970eacc874877882e6064886bf1c2",
       "version_major": 2,
       "version_minor": 0
      },
      "text/plain": [
       "  0%|          | 0/56778 [00:00<?, ?ex/s]"
      ]
     },
     "metadata": {},
     "output_type": "display_data"
    },
    {
     "data": {
      "application/vnd.jupyter.widget-view+json": {
       "model_id": "eb4c310702794e3193271374baff512a",
       "version_major": 2,
       "version_minor": 0
      },
      "text/plain": [
       "  0%|          | 0/57 [00:00<?, ?ba/s]"
      ]
     },
     "metadata": {},
     "output_type": "display_data"
    },
    {
     "data": {
      "application/vnd.jupyter.widget-view+json": {
       "model_id": "b30c50754aee48238dd1f1c62c2925bd",
       "version_major": 2,
       "version_minor": 0
      },
      "text/plain": [
       "Creating json from Arrow format:   0%|          | 0/6 [00:00<?, ?ba/s]"
      ]
     },
     "metadata": {},
     "output_type": "display_data"
    },
    {
     "data": {
      "text/plain": [
       "232351647"
      ]
     },
     "execution_count": 9,
     "metadata": {},
     "output_type": "execute_result"
    }
   ],
   "source": [
    "print_stage(\"Masking Utterances (Easy)\")\n",
    "random_masked_utterances_easy = dataset[\"train\"].map(\n",
    "    lambda d: random_mask_utterance(d, 0.15), remove_columns=\"turn\"\n",
    ")\n",
    "random_masked_utterances_easy = random_masked_utterances_easy.map(\n",
    "    tokenization,\n",
    "    remove_columns=random_masked_utterances_easy.column_names, batched=True\n",
    ")\n",
    "random_masked_utterances_easy.to_json(\"resources/tokens/random_masked_utterances_easy_token.json\")"
   ]
  },
  {
   "cell_type": "code",
   "execution_count": 10,
   "id": "89c05610-fea4-44ad-93b7-b4b27dfb6322",
   "metadata": {},
   "outputs": [
    {
     "name": "stdout",
     "output_type": "stream",
     "text": [
      "===============================Masking Belief Entities in the Context===============================\n"
     ]
    },
    {
     "data": {
      "application/vnd.jupyter.widget-view+json": {
       "model_id": "92861cd112c84816802aaf5968bad881",
       "version_major": 2,
       "version_minor": 0
      },
      "text/plain": [
       "  0%|          | 0/56778 [00:00<?, ?ex/s]"
      ]
     },
     "metadata": {},
     "output_type": "display_data"
    },
    {
     "data": {
      "application/vnd.jupyter.widget-view+json": {
       "model_id": "40dc774464a849ba95a5134b056790b6",
       "version_major": 2,
       "version_minor": 0
      },
      "text/plain": [
       "  0%|          | 0/57 [00:00<?, ?ba/s]"
      ]
     },
     "metadata": {},
     "output_type": "display_data"
    },
    {
     "data": {
      "application/vnd.jupyter.widget-view+json": {
       "model_id": "1ab3f70250384e4686c6c6369ce55825",
       "version_major": 2,
       "version_minor": 0
      },
      "text/plain": [
       "Creating json from Arrow format:   0%|          | 0/6 [00:00<?, ?ba/s]"
      ]
     },
     "metadata": {},
     "output_type": "display_data"
    },
    {
     "data": {
      "text/plain": [
       "230703072"
      ]
     },
     "execution_count": 10,
     "metadata": {},
     "output_type": "execute_result"
    }
   ],
   "source": [
    "print_stage(\"Masking Belief Entities in the Context\")\n",
    "masked_context_belief_entities = dataset[\"train\"].map(\n",
    "    mask_context_belief_entities, remove_columns=\"turn\"\n",
    ")\n",
    "masked_context_belief_entities = masked_context_belief_entities.map(\n",
    "    tokenization,\n",
    "    remove_columns=masked_context_belief_entities.column_names, batched=True\n",
    ")\n",
    "masked_context_belief_entities.to_json(\"resources/tokens/masked_context_belief_entities_token.json\")"
   ]
  },
  {
   "cell_type": "code",
   "execution_count": 11,
   "id": "c4ce4821-9716-464d-9a9b-2c0dc27776a1",
   "metadata": {},
   "outputs": [
    {
     "name": "stdout",
     "output_type": "stream",
     "text": [
      "=======================================Masking Beliefs (Hard)=======================================\n"
     ]
    },
    {
     "data": {
      "application/vnd.jupyter.widget-view+json": {
       "model_id": "fd76b50a50614368b43657289dbc5d18",
       "version_major": 2,
       "version_minor": 0
      },
      "text/plain": [
       "  0%|          | 0/56778 [00:00<?, ?ex/s]"
      ]
     },
     "metadata": {},
     "output_type": "display_data"
    },
    {
     "data": {
      "application/vnd.jupyter.widget-view+json": {
       "model_id": "213751d677384840a4e952288ba5c920",
       "version_major": 2,
       "version_minor": 0
      },
      "text/plain": [
       "  0%|          | 0/57 [00:00<?, ?ba/s]"
      ]
     },
     "metadata": {},
     "output_type": "display_data"
    },
    {
     "data": {
      "application/vnd.jupyter.widget-view+json": {
       "model_id": "e395c2b9d9d6450c9f302dfc9b263287",
       "version_major": 2,
       "version_minor": 0
      },
      "text/plain": [
       "Creating json from Arrow format:   0%|          | 0/6 [00:00<?, ?ba/s]"
      ]
     },
     "metadata": {},
     "output_type": "display_data"
    },
    {
     "data": {
      "text/plain": [
       "228246874"
      ]
     },
     "execution_count": 11,
     "metadata": {},
     "output_type": "execute_result"
    }
   ],
   "source": [
    "print_stage(\"Masking Beliefs (Hard)\")\n",
    "random_masked_beliefs_hard = dataset[\"train\"].map(\n",
    "    lambda d: random_mask_beliefs(d, 0.5), remove_columns=\"turn\"\n",
    ")\n",
    "random_masked_beliefs_hard = random_masked_beliefs_hard.map(\n",
    "    tokenization,\n",
    "    remove_columns=random_masked_beliefs_hard.column_names, batched=True\n",
    ")\n",
    "random_masked_beliefs_hard.to_json(\"resources/tokens/random_masked_beliefs_hard_token.json\")"
   ]
  },
  {
   "cell_type": "code",
   "execution_count": 12,
   "id": "d715fa7f-b07d-4515-82bc-79520691c19b",
   "metadata": {},
   "outputs": [
    {
     "name": "stdout",
     "output_type": "stream",
     "text": [
      "=====================================Masking Utterances (Hard)=====================================\n"
     ]
    },
    {
     "data": {
      "application/vnd.jupyter.widget-view+json": {
       "model_id": "abe00417795e49e681b1bbcc07c443f9",
       "version_major": 2,
       "version_minor": 0
      },
      "text/plain": [
       "  0%|          | 0/56778 [00:00<?, ?ex/s]"
      ]
     },
     "metadata": {},
     "output_type": "display_data"
    },
    {
     "data": {
      "application/vnd.jupyter.widget-view+json": {
       "model_id": "1be696603d794d23b0376a597db0d77c",
       "version_major": 2,
       "version_minor": 0
      },
      "text/plain": [
       "  0%|          | 0/57 [00:00<?, ?ba/s]"
      ]
     },
     "metadata": {},
     "output_type": "display_data"
    },
    {
     "data": {
      "application/vnd.jupyter.widget-view+json": {
       "model_id": "eb6f3395dadc49e8ad95dba2b863cff8",
       "version_major": 2,
       "version_minor": 0
      },
      "text/plain": [
       "Creating json from Arrow format:   0%|          | 0/6 [00:00<?, ?ba/s]"
      ]
     },
     "metadata": {},
     "output_type": "display_data"
    },
    {
     "data": {
      "text/plain": [
       "223608721"
      ]
     },
     "execution_count": 12,
     "metadata": {},
     "output_type": "execute_result"
    }
   ],
   "source": [
    "print_stage(\"Masking Utterances (Hard)\")\n",
    "random_masked_utterances_hard = dataset[\"train\"].map(\n",
    "    lambda d: random_mask_utterance(d, 0.5), remove_columns=\"turn\"\n",
    ")\n",
    "random_masked_utterances_hard = random_masked_utterances_hard.map(\n",
    "    tokenization,\n",
    "    batched=True,\n",
    "    remove_columns=random_masked_utterances_hard.column_names,\n",
    ")\n",
    "\n",
    "random_masked_utterances_hard.to_json(\"resources/tokens/random_masked_utterances_hard_token.json\")"
   ]
  },
  {
   "cell_type": "code",
   "execution_count": null,
   "id": "8ecd154b-3e55-4e4a-b6b5-b8b318bdff4d",
   "metadata": {},
   "outputs": [],
   "source": []
  },
  {
   "cell_type": "code",
   "execution_count": 13,
   "id": "1871029c-4d7b-46cb-9f3e-bb07f4d41e79",
   "metadata": {},
   "outputs": [
    {
     "data": {
      "text/plain": [
       "'<s><s> <|context|> <|user|> i need to book a hotel in the east that has 4 stars. <|endofcontext|> <|previousbelief|> attraction area not mentioned, attraction name not mentioned, attraction type not mentioned, hospital department not mentioned, hotel area not mentioned, hotel book day not mentioned, hotel book people not mentioned, hotel book stay not mentioned, hotel internet not mentioned, hotel name not mentioned, hotel parking not mentioned, hotel pricerange not mentioned, hotel stars not mentioned, hotel type not mentioned, restaurant area not mentioned, restaurant book day not mentioned, restaurant book people not mentioned, restaurant book time not mentioned, restaurant food not mentioned, restaurant name not mentioned, restaurant pricerange not mentioned, taxi arriveby not mentioned, taxi departure not mentioned, taxi destination not mentioned, taxi leaveat not mentioned, train arriveby not mentioned, train book people not mentioned, train day not mentioned, train departure not mentioned, train destination not mentioned, train leaveat not mentioned <|endofpreviousbelief|> <|belief|> attraction area<mask>, attraction name<mask>, attraction type<mask>, hospital department<mask>, hotel area<mask>, hotel book day<mask>, hotel book people<mask>, hotel book stay<mask>, hotel internet<mask>, hotel name<mask>, hotel parking<mask>, hotel pricerange<mask>, hotel stars<mask>, hotel type<mask>, restaurant area<mask>, restaurant book day<mask>, restaurant book people<mask>, restaurant book time<mask>, restaurant food<mask>, restaurant name<mask>, restaurant pricerange<mask>, taxi arriveby<mask>, taxi departure<mask>, taxi destination<mask>, taxi leaveat<mask>, train arriveby<mask>, train book people<mask>, train day<mask>, train departure<mask>, train destination<mask>, train leaveat<mask> <|endofbelief|> </s></s>'"
      ]
     },
     "execution_count": 13,
     "metadata": {},
     "output_type": "execute_result"
    }
   ],
   "source": [
    "sample = masked_beliefs_final[\"validation\"][\"input_ids\"][0]\n",
    "tokenizer.decode(sample)"
   ]
  },
  {
   "cell_type": "code",
   "execution_count": null,
   "id": "47fdd91b-e63a-4e4f-beb2-f995531b1c33",
   "metadata": {},
   "outputs": [],
   "source": []
  },
  {
   "cell_type": "code",
   "execution_count": null,
   "id": "ea4747fa-06f5-4e29-942c-e7e472591e4e",
   "metadata": {},
   "outputs": [],
   "source": [
    "masked_deltas = load_dataset(\n",
    "    \"json\", data_files=\"resources/tokens/masked_deltas_token.json\"\n",
    ")[\"train\"]\n",
    "random_masked_beliefs_easy = load_dataset(\n",
    "    \"json\", data_files=\"resources/tokens/random_masked_beliefs_easy_token.json\"\n",
    ")[\"train\"]\n",
    "random_masked_utterances_easy = load_dataset(\n",
    "    \"json\", data_files=\"resources/tokens/random_masked_utterances_easy_token.json\"\n",
    ")[\"train\"]\n",
    "masked_context_belief_entities = load_dataset(\n",
    "    \"json\", data_files=\"resources/tokens/masked_context_belief_entities_token.json\"\n",
    ")[\"train\"]\n",
    "random_masked_beliefs_hard = load_dataset(\n",
    "    \"json\", data_files=\"resources/tokens/random_masked_beliefs_hard_token.json\"\n",
    ")[\"train\"]\n",
    "random_masked_utterances_hard = load_dataset(\n",
    "    \"json\", data_files=\"resources/tokens/random_masked_utterances_hard_token.json\"\n",
    ")[\"train\"]"
   ]
  },
  {
   "cell_type": "code",
   "execution_count": null,
   "id": "86b5637b-6857-4f19-83b6-776c03b9f9db",
   "metadata": {},
   "outputs": [],
   "source": []
  },
  {
   "cell_type": "code",
   "execution_count": null,
   "id": "498cc456-113b-4f39-bd58-2c0eb4f493d0",
   "metadata": {},
   "outputs": [],
   "source": [
    "masked_beliefs_final_train = load_dataset(\n",
    "    \"json\", data_files=\"resources/tokens/masked_beliefs_final_train_token.json\"\n",
    ")[\"train\"]\n",
    "masked_beliefs_final_dev = load_dataset(\n",
    "    \"json\", data_files=\"resources/tokens/masked_beliefs_final_dev_token.json\"\n",
    ")[\"train\"]\n",
    "masked_beliefs_final_test = load_dataset(\n",
    "    \"json\", data_files=\"resources/tokens/masked_beliefs_final_test_token.json\"\n",
    ")[\"train\"]"
   ]
  },
  {
   "cell_type": "code",
   "execution_count": null,
   "id": "203dda30-19e0-4c82-8855-026ef00b101d",
   "metadata": {},
   "outputs": [],
   "source": []
  },
  {
   "cell_type": "code",
   "execution_count": null,
   "id": "044a10cd-fe52-41e4-84bc-601b255dd647",
   "metadata": {},
   "outputs": [],
   "source": [
    "from transformers import (\n",
    "    TrainingArguments,\n",
    "    BartForConditionalGeneration,\n",
    "    default_data_collator,\n",
    ")\n",
    "\n",
    "from trainer.curriculum_trainer import CurriculumTrainer\n",
    "from data.dataset.tokenize import tokenizer"
   ]
  },
  {
   "cell_type": "code",
   "execution_count": null,
   "id": "ac087d42-d1fb-4dff-baee-ee0c169da650",
   "metadata": {},
   "outputs": [],
   "source": [
    "name = \"dataset_test\"\n",
    "BATCH_SIZE = 2\n",
    "EPOCHS = 10\n",
    "curriculum_datasets = [\n",
    "    masked_deltas[\"train\"],\n",
    "    random_masked_beliefs_easy[\"train\"],\n",
    "    random_masked_utterances_easy[\"train\"],\n",
    "    masked_context_belief_entities[\"train\"],\n",
    "    random_masked_beliefs_hard[\"train\"],\n",
    "    random_masked_utterances_hard[\"train\"],\n",
    "]\n",
    "\n",
    "model = BartForConditionalGeneration.from_pretrained(\n",
    "    \"facebook/bart-base\"\n",
    ")#.to(device)\n",
    "model.resize_token_embeddings(len(tokenizer))\n",
    "\n",
    "# setup trainer\n",
    "args = TrainingArguments(\n",
    "    output_dir=f\"checkpoints/{name}\",\n",
    "    evaluation_strategy=\"epoch\",\n",
    "    save_strategy=\"epoch\",\n",
    "    learning_rate=2e-5,\n",
    "    per_device_train_batch_size=BATCH_SIZE,\n",
    "    per_device_eval_batch_size=BATCH_SIZE,\n",
    "    num_train_epochs=EPOCHS,\n",
    "    weight_decay=0.01,\n",
    "    dataloader_num_workers=0,\n",
    "    local_rank=-1,\n",
    "    load_best_model_at_end=True,\n",
    "    # resume_from_checkpoint=f\"{name}/checkpoint-19000\",\n",
    ")"
   ]
  },
  {
   "cell_type": "code",
   "execution_count": null,
   "id": "c5a1f252-a4c6-4df3-9c5c-7a08c124769a",
   "metadata": {},
   "outputs": [],
   "source": [
    "from transformers import DataCollatorWithPadding\n",
    "\n",
    "data_collator = DataCollatorWithPadding(tokenizer)\n",
    "trainer = CurriculumTrainer(\n",
    "    curriculum_datasets,\n",
    "    model,\n",
    "    args,\n",
    "    train_dataset=masked_beliefs_final_train[\"train\"],\n",
    "    eval_dataset=masked_beliefs_final_dev[\"train\"],\n",
    "    data_collator=data_collator,\n",
    "    # compute_metrics=test_compute_metrics\n",
    "    # callbacks=[MyCallback],  # We can either pass the callback class this way or an instance of it (MyCallback())\n",
    ")\n",
    "trainer.curriculum_train()"
   ]
  },
  {
   "cell_type": "code",
   "execution_count": null,
   "id": "79c46fce-bc3f-4cdb-9ccd-5765754cbd21",
   "metadata": {},
   "outputs": [],
   "source": []
  },
  {
   "cell_type": "code",
   "execution_count": null,
   "id": "0c5bc98b-6fb0-4f38-8d46-f884261cc9d8",
   "metadata": {},
   "outputs": [],
   "source": [
    "tokenizer.encode(\"<mask>\")"
   ]
  },
  {
   "cell_type": "code",
   "execution_count": null,
   "id": "0c3a27fc-8734-409e-9d98-bfde68f831e8",
   "metadata": {},
   "outputs": [],
   "source": [
    "tokenizer.decode(30415)"
   ]
  },
  {
   "cell_type": "code",
   "execution_count": null,
   "id": "de0803b8-ee77-47c9-8609-dba9190d3423",
   "metadata": {},
   "outputs": [],
   "source": [
    "data_collator()"
   ]
  }
 ],
 "metadata": {
  "kernelspec": {
   "display_name": "Python 3",
   "language": "python",
   "name": "python3"
  },
  "language_info": {
   "codemirror_mode": {
    "name": "ipython",
    "version": 3
   },
   "file_extension": ".py",
   "mimetype": "text/x-python",
   "name": "python",
   "nbconvert_exporter": "python",
   "pygments_lexer": "ipython3",
   "version": "3.8.12"
  }
 },
 "nbformat": 4,
 "nbformat_minor": 5
}
