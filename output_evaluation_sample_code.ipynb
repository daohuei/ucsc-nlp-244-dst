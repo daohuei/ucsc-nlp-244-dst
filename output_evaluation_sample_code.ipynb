{
 "cells": [
  {
   "cell_type": "code",
   "execution_count": 1,
   "id": "67e6c660-78a4-4917-961c-46eda35345c0",
   "metadata": {},
   "outputs": [],
   "source": [
    "with open('baseline.test.pred.txt') as f:\n",
    "    lines = f.readlines()"
   ]
  },
  {
   "cell_type": "code",
   "execution_count": 15,
   "id": "7d8a4503-1ece-43e9-9ce3-7e92e437afb9",
   "metadata": {},
   "outputs": [
    {
     "data": {
      "application/vnd.jupyter.widget-view+json": {
       "model_id": "01ccaece4c3b4dd2a80191e91502eef3",
       "version_major": 2,
       "version_minor": 0
      },
      "text/plain": [
       "  0%|          | 0/7374 [00:00<?, ?it/s]"
      ]
     },
     "metadata": {},
     "output_type": "display_data"
    }
   ],
   "source": [
    "baseline_dev_texts = []\n",
    "with open('baseline.dev.pred.txt') as f:\n",
    "    lines = f.readlines()\n",
    "    for line in tqdm(lines):\n",
    "        baseline_dev_texts += [line]"
   ]
  },
  {
   "cell_type": "code",
   "execution_count": 10,
   "id": "20becdf7-8d4e-409b-b3fd-8f61c7028ff1",
   "metadata": {},
   "outputs": [],
   "source": [
    "import json"
   ]
  },
  {
   "cell_type": "code",
   "execution_count": 11,
   "id": "8bd85b90-6668-4518-aacd-72c789773f6b",
   "metadata": {},
   "outputs": [
    {
     "name": "stderr",
     "output_type": "stream",
     "text": [
      "WARNING:datasets.builder:Using custom data configuration default-fa91ae44cff1e0ff\n",
      "WARNING:datasets.builder:Reusing dataset multi_woz_dataset (/data/users/cting3/.cache/huggingface/datasets/multi_woz_dataset/default-fa91ae44cff1e0ff/0.0.0/3723459ecfbea4e720dbcf9088494c55753b8b14fe2a685921fa5bcc329047dd)\n"
     ]
    },
    {
     "data": {
      "application/vnd.jupyter.widget-view+json": {
       "model_id": "c3320334fbec4a4db6f713a03fea4525",
       "version_major": 2,
       "version_minor": 0
      },
      "text/plain": [
       "  0%|          | 0/3 [00:00<?, ?it/s]"
      ]
     },
     "metadata": {},
     "output_type": "display_data"
    },
    {
     "name": "stderr",
     "output_type": "stream",
     "text": [
      "WARNING:datasets.arrow_dataset:Loading cached processed dataset at /data/users/cting3/.cache/huggingface/datasets/multi_woz_dataset/default-fa91ae44cff1e0ff/0.0.0/3723459ecfbea4e720dbcf9088494c55753b8b14fe2a685921fa5bcc329047dd/cache-25a7b7ba3e6c4746.arrow\n",
      "WARNING:datasets.arrow_dataset:Loading cached processed dataset at /data/users/cting3/.cache/huggingface/datasets/multi_woz_dataset/default-fa91ae44cff1e0ff/0.0.0/3723459ecfbea4e720dbcf9088494c55753b8b14fe2a685921fa5bcc329047dd/cache-1b0d32f89564e6ff.arrow\n",
      "WARNING:datasets.arrow_dataset:Loading cached processed dataset at /data/users/cting3/.cache/huggingface/datasets/multi_woz_dataset/default-fa91ae44cff1e0ff/0.0.0/3723459ecfbea4e720dbcf9088494c55753b8b14fe2a685921fa5bcc329047dd/cache-56e3b05ad9667866.arrow\n"
     ]
    }
   ],
   "source": [
    "\n",
    "from pathlib import Path\n",
    "from datasets import Dataset, load_dataset, Split\n",
    "from data.dataset.data_augmentations import flatten_conversation\n",
    "\n",
    "data_dir = Path(\"resources/bart/\")\n",
    "\n",
    "data_files = {\n",
    "    Split.TRAIN: str((data_dir / \"train.history_belief\").absolute()),\n",
    "    Split.VALIDATION: str((data_dir / \"val.history_belief\").absolute()),\n",
    "    Split.TEST: str((data_dir / \"test.history_belief\").absolute()),\n",
    "}\n",
    "\n",
    "dataset = load_dataset(\n",
    "    \"data/dataset/multiwoz_dataset.py\", data_files=data_files\n",
    ")\n",
    "dataset = dataset.map(\n",
    "    flatten_conversation,\n",
    "    batched=True,\n",
    "    remove_columns=dataset[\"train\"].column_names,\n",
    ")"
   ]
  },
  {
   "cell_type": "code",
   "execution_count": 5,
   "id": "fc82dc49-7790-4623-bd73-39fc1078f60c",
   "metadata": {},
   "outputs": [],
   "source": [
    "from tqdm.auto import tqdm\n",
    "from postprocessing import postprocessing"
   ]
  },
  {
   "cell_type": "code",
   "execution_count": 7,
   "id": "244dbc43-ba45-4343-a587-ce5cfb6bc243",
   "metadata": {},
   "outputs": [
    {
     "data": {
      "application/vnd.jupyter.widget-view+json": {
       "model_id": "158190d9ebe7427899527e5fa73deb23",
       "version_major": 2,
       "version_minor": 0
      },
      "text/plain": [
       "  0%|          | 0/7372 [00:00<?, ?it/s]"
      ]
     },
     "metadata": {},
     "output_type": "display_data"
    }
   ],
   "source": [
    "\n",
    "split=\"test\"\n",
    "results = {}\n",
    "turn_id = 0\n",
    "for prediction_text in tqdm(lines):\n",
    "    gold_text = dataset[split][\"turn\"][turn_id]\n",
    "\n",
    "    dialogue_id = dataset[split][\"conversation_id\"][turn_id]\n",
    "    if dialogue_id not in results.keys():\n",
    "        results[dialogue_id] = {\n",
    "            \"generated_turn_belief\": [],\n",
    "            \"target_turn_belief\": [],\n",
    "        }\n",
    "\n",
    "    results[dialogue_id][\"generated_turn_belief\"] += [\n",
    "        postprocessing(prediction_text)\n",
    "    ]\n",
    "    results[dialogue_id][\"target_turn_belief\"] += [\n",
    "        postprocessing(gold_text)\n",
    "    ]\n",
    "\n",
    "    turn_id += 1\n"
   ]
  },
  {
   "cell_type": "code",
   "execution_count": 17,
   "id": "abce3c86-a89c-46c0-bc16-3fd8f6e61e64",
   "metadata": {},
   "outputs": [
    {
     "data": {
      "application/vnd.jupyter.widget-view+json": {
       "model_id": "6c80e89e406c4c2f87934f1ccee0479d",
       "version_major": 2,
       "version_minor": 0
      },
      "text/plain": [
       "  0%|          | 0/7374 [00:00<?, ?it/s]"
      ]
     },
     "metadata": {},
     "output_type": "display_data"
    }
   ],
   "source": [
    "split=\"validation\"\n",
    "baseline_dev_results = {}\n",
    "turn_id = 0\n",
    "for prediction_text in tqdm(baseline_dev_texts):\n",
    "    gold_text = dataset[split][\"turn\"][turn_id]\n",
    "\n",
    "    dialogue_id = dataset[split][\"conversation_id\"][turn_id]\n",
    "    if dialogue_id not in baseline_dev_results.keys():\n",
    "        baseline_dev_results[dialogue_id] = {\n",
    "            \"generated_turn_belief\": [],\n",
    "            \"target_turn_belief\": [],\n",
    "        }\n",
    "\n",
    "    baseline_dev_results[dialogue_id][\"generated_turn_belief\"] += [\n",
    "        postprocessing(prediction_text)\n",
    "    ]\n",
    "    baseline_dev_results[dialogue_id][\"target_turn_belief\"] += [\n",
    "        postprocessing(gold_text)\n",
    "    ]\n",
    "\n",
    "    turn_id += 1\n"
   ]
  },
  {
   "cell_type": "code",
   "execution_count": 18,
   "id": "34e4870d-45b6-4228-b50c-31086920ae8e",
   "metadata": {},
   "outputs": [],
   "source": [
    "with open(\"baseline_dev_pred.json\", \"w\") as outfile:\n",
    "    json.dump(baseline_dev_results, outfile)"
   ]
  },
  {
   "cell_type": "code",
   "execution_count": 25,
   "id": "41b86d45-3b53-41c7-b9dd-0aef5e8c17cd",
   "metadata": {},
   "outputs": [
    {
     "data": {
      "application/vnd.jupyter.widget-view+json": {
       "model_id": "6bde4d6fb44948bf9a5243618832f82a",
       "version_major": 2,
       "version_minor": 0
      },
      "text/plain": [
       "  0%|          | 0/7374 [00:00<?, ?it/s]"
      ]
     },
     "metadata": {},
     "output_type": "display_data"
    },
    {
     "data": {
      "application/vnd.jupyter.widget-view+json": {
       "model_id": "53c4cbe7a8cc4f8bb6a85371d9593bf9",
       "version_major": 2,
       "version_minor": 0
      },
      "text/plain": [
       "  0%|          | 0/7374 [00:00<?, ?it/s]"
      ]
     },
     "metadata": {},
     "output_type": "display_data"
    }
   ],
   "source": [
    "adapter_no_c_dev_texts = []\n",
    "with open('adapter_no_c.dev.pred.txt') as f:\n",
    "    lines = f.readlines()\n",
    "    for line in tqdm(lines):\n",
    "        adapter_no_c_dev_texts += [line]\n",
    "        \n",
    "split=\"validation\"\n",
    "adapter_no_c_dev_results = {}\n",
    "turn_id = 0\n",
    "for prediction_text in tqdm(adapter_no_c_dev_texts):\n",
    "    gold_text = dataset[split][\"turn\"][turn_id]\n",
    "\n",
    "    dialogue_id = dataset[split][\"conversation_id\"][turn_id]\n",
    "    if dialogue_id not in adapter_no_c_dev_results.keys():\n",
    "        adapter_no_c_dev_results[dialogue_id] = {\n",
    "            \"generated_turn_belief\": [],\n",
    "            \"target_turn_belief\": [],\n",
    "        }\n",
    "\n",
    "    adapter_no_c_dev_results[dialogue_id][\"generated_turn_belief\"] += [\n",
    "        postprocessing(prediction_text)\n",
    "    ]\n",
    "    adapter_no_c_dev_results[dialogue_id][\"target_turn_belief\"] += [\n",
    "        postprocessing(gold_text)\n",
    "    ]\n",
    "\n",
    "    turn_id += 1\n",
    "    \n",
    "with open(\"adapter_no_c_dev_pred.json\", \"w\") as outfile:\n",
    "    json.dump(adapter_no_c_dev_results, outfile)"
   ]
  },
  {
   "cell_type": "code",
   "execution_count": 26,
   "id": "b31223f1-a247-4cb9-a211-6504a3c26069",
   "metadata": {},
   "outputs": [
    {
     "data": {
      "application/vnd.jupyter.widget-view+json": {
       "model_id": "c76509c7764645e999d6b94590d80636",
       "version_major": 2,
       "version_minor": 0
      },
      "text/plain": [
       "  0%|          | 0/7372 [00:00<?, ?it/s]"
      ]
     },
     "metadata": {},
     "output_type": "display_data"
    },
    {
     "data": {
      "application/vnd.jupyter.widget-view+json": {
       "model_id": "4ac08256c1e44473b1833c49d39de30d",
       "version_major": 2,
       "version_minor": 0
      },
      "text/plain": [
       "  0%|          | 0/7372 [00:00<?, ?it/s]"
      ]
     },
     "metadata": {},
     "output_type": "display_data"
    }
   ],
   "source": [
    "adapter_no_c_test_texts = []\n",
    "with open('adapter_no_c.test.pred.txt') as f:\n",
    "    lines = f.readlines()\n",
    "    for line in tqdm(lines):\n",
    "        adapter_no_c_test_texts += [line]\n",
    "        \n",
    "split=\"test\"\n",
    "adapter_no_c_test_results = {}\n",
    "turn_id = 0\n",
    "for prediction_text in tqdm(adapter_no_c_test_texts):\n",
    "    gold_text = dataset[split][\"turn\"][turn_id]\n",
    "\n",
    "    dialogue_id = dataset[split][\"conversation_id\"][turn_id]\n",
    "    if dialogue_id not in adapter_no_c_test_results.keys():\n",
    "        adapter_no_c_test_results[dialogue_id] = {\n",
    "            \"generated_turn_belief\": [],\n",
    "            \"target_turn_belief\": [],\n",
    "        }\n",
    "\n",
    "    adapter_no_c_test_results[dialogue_id][\"generated_turn_belief\"] += [\n",
    "        postprocessing(prediction_text)\n",
    "    ]\n",
    "    adapter_no_c_test_results[dialogue_id][\"target_turn_belief\"] += [\n",
    "        postprocessing(gold_text)\n",
    "    ]\n",
    "\n",
    "    turn_id += 1\n",
    "    \n",
    "with open(\"adapter_no_c_test_pred.json\", \"w\") as outfile:\n",
    "    json.dump(adapter_no_c_test_results, outfile)"
   ]
  },
  {
   "cell_type": "code",
   "execution_count": null,
   "id": "d38b45e3-2fb4-494f-b449-8c13dd200636",
   "metadata": {},
   "outputs": [],
   "source": []
  },
  {
   "cell_type": "code",
   "execution_count": 2,
   "id": "0dc50d8e-2878-4ea8-9faa-9f90ccb3027e",
   "metadata": {},
   "outputs": [
    {
     "data": {
      "text/plain": [
       "7372"
      ]
     },
     "execution_count": 2,
     "metadata": {},
     "output_type": "execute_result"
    }
   ],
   "source": [
    "len(lines)"
   ]
  },
  {
   "cell_type": "code",
   "execution_count": 9,
   "id": "8365c073-90af-43be-be8a-68a6e4275b9c",
   "metadata": {},
   "outputs": [],
   "source": [
    "import json"
   ]
  },
  {
   "cell_type": "code",
   "execution_count": 5,
   "id": "8718125b-1be8-481c-bdc8-f30df8788547",
   "metadata": {},
   "outputs": [],
   "source": [
    "# with open(\"baseline_test_pred.json\", \"w\") as outfile:\n",
    "#     json.dump(results, outfile)"
   ]
  },
  {
   "cell_type": "code",
   "execution_count": 27,
   "id": "fe08685f-d01b-498f-bf5b-026216a75cda",
   "metadata": {},
   "outputs": [],
   "source": [
    "\n",
    "with open('baseline_dev_pred.json') as f:\n",
    "    dev_baseline_results = json.load(f)\n",
    "with open('baseline_test_pred.json') as f:\n",
    "    test_baseline_results = json.load(f)\n",
    "    \n",
    "with open('adapter_no_c_dev_pred.json') as f:\n",
    "    dev_adapter_no_c_results = json.load(f)\n",
    "with open('adapter_no_c_test_pred.json') as f:\n",
    "    test_adapter_no_c_results = json.load(f)\n",
    "    "
   ]
  },
  {
   "cell_type": "code",
   "execution_count": 6,
   "id": "15ae66a9-96f3-4dcc-a35a-c2e71092411e",
   "metadata": {},
   "outputs": [],
   "source": [
    "from tqdm.auto import tqdm\n",
    "\n",
    "from utils.Constants import SLOT_VALS\n",
    "from utils.dst import ignore_none, default_cleaning\n",
    "\n",
    "slot_template = {slot: \"\" for slot in SLOT_VALS}\n",
    "\n",
    "\n",
    "def get_slot_map(slot_triplet_str_list):\n",
    "    slot_map = slot_template.copy()\n",
    "    for slot_triplet_str in slot_triplet_str_list:\n",
    "        slot_triplets = slot_triplet_str.split()\n",
    "        key = slot_triplets[0] + \" \" + slot_triplets[1]\n",
    "        val = slot_triplets[2:]\n",
    "        if key not in SLOT_VALS:\n",
    "            continue\n",
    "        slot_map[key] = val\n",
    "    return slot_map\n",
    "\n",
    "def get_unique_slot_map(preds, targets):\n",
    "    unique_slots = set()\n",
    "    pred_map = {}\n",
    "    target_map = {}\n",
    "    \n",
    "    for pred_str in preds:\n",
    "        triplet = pred_str.split()\n",
    "        key = triplet[0] + \" \" + triplet[1]\n",
    "        val = triplet[2:]\n",
    "        if key not in SLOT_VALS: continue\n",
    "        pred_map[key] = val\n",
    "        unique_slots.add(key)\n",
    "    \n",
    "    for target_str in targets:\n",
    "        triplet = target_str.split()\n",
    "        key = triplet[0] + \" \" + triplet[1]\n",
    "        val = triplet[2:]\n",
    "        if key not in SLOT_VALS: continue\n",
    "        target_map[key] = val\n",
    "        unique_slots.add(key)\n",
    "    \n",
    "    return unique_slots.copy(), pred_map.copy(), target_map.copy()\n",
    "\n",
    "\n",
    "def evaluate_dst(input_results):\n",
    "    num_turns = 0\n",
    "    joint_acc = 0\n",
    "    slot_acc = 0\n",
    "    r_slot_acc = 0\n",
    "\n",
    "    num_slots = len(SLOT_VALS)\n",
    "    num_r_slots = 0\n",
    "\n",
    "    clean_tokens = [\"<s>\", \"</s>\"]\n",
    "    \n",
    "    results = input_results.copy()\n",
    "    \n",
    "    for dial in tqdm(results.keys()):\n",
    "        dialogue_pred = results[dial][\"generated_turn_belief\"]\n",
    "        dialogue_target = results[dial][\"target_turn_belief\"]\n",
    "\n",
    "        for turn_id, (turn_target, turn_pred) in enumerate(\n",
    "            zip(dialogue_target, dialogue_pred)\n",
    "        ):\n",
    "            \n",
    "            # clean\n",
    "            for bs in turn_pred:\n",
    "                if bs in clean_tokens + [\"\", \" \"] or bs.split()[-1] == \"none\":\n",
    "                    turn_pred.remove(bs)\n",
    "\n",
    "            new_turn_pred = []\n",
    "            for bs in turn_pred:\n",
    "                for tok in clean_tokens:\n",
    "                    bs = bs.replace(tok, \"\").strip()\n",
    "                    new_turn_pred.append(bs)\n",
    "            turn_pred = new_turn_pred\n",
    "\n",
    "            turn_pred, turn_target = ignore_none(turn_pred, turn_target)\n",
    "            # print(turn_pred, turn_target)\n",
    "            turn_pred, turn_target = default_cleaning(turn_pred, turn_target)\n",
    "\n",
    "            join_flag = False\n",
    "\n",
    "            # calculate joint accuracy\n",
    "            if set(turn_target) == set(turn_pred):\n",
    "                joint_acc += 1\n",
    "                join_flag = True\n",
    "\n",
    "            pred_slot_map = get_slot_map(turn_pred)\n",
    "            target_slot_map = get_slot_map(turn_target)\n",
    "\n",
    "            # calculate slot accuracy\n",
    "            for slot_key in SLOT_VALS:\n",
    "                if target_slot_map[slot_key] == pred_slot_map[slot_key]:\n",
    "                    slot_acc += 1\n",
    "\n",
    "            # calculate relative slot accuracy\n",
    "            (\n",
    "                unique_slots,\n",
    "                unique_pred_map,\n",
    "                unique_target_map,\n",
    "            ) = get_unique_slot_map(turn_pred, turn_target)\n",
    "            for slot_key in unique_slots:\n",
    "                if slot_key not in unique_target_map.keys():\n",
    "                    continue\n",
    "                if slot_key not in unique_pred_map.keys():\n",
    "                    continue\n",
    "                if unique_target_map[slot_key] == unique_pred_map[slot_key]:\n",
    "                    r_slot_acc += 1\n",
    "            num_r_slots += len(unique_slots)\n",
    "\n",
    "            num_turns += 1\n",
    "    joint_acc /= num_turns\n",
    "    slot_acc /= num_slots * num_turns\n",
    "    r_slot_acc /= num_r_slots\n",
    "    print(\"joint accuracy: {}\".format(joint_acc))\n",
    "    print(\"slot accuracy: {}\".format(slot_acc))\n",
    "    print(\"relative slot accuracy: {}\".format(r_slot_acc))\n",
    "    return {\n",
    "        \"joint_acc\": joint_acc,\n",
    "        \"slot_acc\": slot_acc,\n",
    "        \"r_slot_acc\": r_slot_acc,\n",
    "    }\n",
    "\n"
   ]
  },
  {
   "cell_type": "code",
   "execution_count": 29,
   "id": "7716dcca-88d9-4dc1-9197-cc32d6209859",
   "metadata": {},
   "outputs": [
    {
     "data": {
      "application/vnd.jupyter.widget-view+json": {
       "model_id": "021a511f8ce64aaf9199ae2b617b9773",
       "version_major": 2,
       "version_minor": 0
      },
      "text/plain": [
       "  0%|          | 0/1000 [00:00<?, ?it/s]"
      ]
     },
     "metadata": {},
     "output_type": "display_data"
    },
    {
     "name": "stdout",
     "output_type": "stream",
     "text": [
      "joint accuracy: 0.012747491185245458\n",
      "slot accuracy: 0.8551580531422522\n",
      "relative slot accuracy: 0.0\n"
     ]
    },
    {
     "data": {
      "application/vnd.jupyter.widget-view+json": {
       "model_id": "53945bc2217144e39f08872ac3dfe084",
       "version_major": 2,
       "version_minor": 0
      },
      "text/plain": [
       "  0%|          | 0/999 [00:00<?, ?it/s]"
      ]
     },
     "metadata": {},
     "output_type": "display_data"
    },
    {
     "name": "stdout",
     "output_type": "stream",
     "text": [
      "joint accuracy: 0.014378730330982095\n",
      "slot accuracy: 0.8514606269581503\n",
      "relative slot accuracy: 0.0\n"
     ]
    },
    {
     "data": {
      "application/vnd.jupyter.widget-view+json": {
       "model_id": "d7df955cc247498186e4e6baf8255a0e",
       "version_major": 2,
       "version_minor": 0
      },
      "text/plain": [
       "  0%|          | 0/1000 [00:00<?, ?it/s]"
      ]
     },
     "metadata": {},
     "output_type": "display_data"
    },
    {
     "name": "stdout",
     "output_type": "stream",
     "text": [
      "joint accuracy: 0.392731217792243\n",
      "slot accuracy: 0.9668451490415322\n",
      "relative slot accuracy: 0.7899157334516022\n"
     ]
    },
    {
     "data": {
      "application/vnd.jupyter.widget-view+json": {
       "model_id": "3e8b7be1a6e24427a7da3d1af2f1193b",
       "version_major": 2,
       "version_minor": 0
      },
      "text/plain": [
       "  0%|          | 0/999 [00:00<?, ?it/s]"
      ]
     },
     "metadata": {},
     "output_type": "display_data"
    },
    {
     "name": "stdout",
     "output_type": "stream",
     "text": [
      "joint accuracy: 0.3724905046120456\n",
      "slot accuracy: 0.9640225438888208\n",
      "relative slot accuracy: 0.7746471152528437\n"
     ]
    }
   ],
   "source": [
    "score = evaluate_dst(dev_baseline_results)\n",
    "with open(\"baseline_dev_score.json\", \"w\") as outfile:\n",
    "    json.dump(score, outfile)\n",
    "\n",
    "score = evaluate_dst(test_baseline_results)\n",
    "with open(\"baseline_test_score.json\", \"w\") as outfile:\n",
    "    json.dump(score, outfile)\n",
    "    \n",
    "score = evaluate_dst(dev_adapter_no_c_results)\n",
    "with open(\"adapter_no_c_dev_score.json\", \"w\") as outfile:\n",
    "    json.dump(score, outfile)\n",
    "\n",
    "score = evaluate_dst(test_adapter_no_c_results)\n",
    "with open(\"adapter_no_c_test_score.json\", \"w\") as outfile:\n",
    "    json.dump(score, outfile)"
   ]
  },
  {
   "cell_type": "code",
   "execution_count": null,
   "id": "aa00a781-cc53-44bd-9c5c-86c5132f8c18",
   "metadata": {},
   "outputs": [],
   "source": [
    "\n",
    "score = evaluate_dst(dev_adapter_no_c_results)"
   ]
  },
  {
   "cell_type": "code",
   "execution_count": 11,
   "id": "6ce7fa30-7387-41d3-8eac-7603e408e6bc",
   "metadata": {},
   "outputs": [
    {
     "data": {
      "text/plain": [
       "1"
      ]
     },
     "execution_count": 11,
     "metadata": {},
     "output_type": "execute_result"
    }
   ],
   "source": [
    "len(\"phil\".split())"
   ]
  },
  {
   "cell_type": "code",
   "execution_count": 24,
   "id": "48e68ed1-2984-4381-bb32-1250066b85aa",
   "metadata": {},
   "outputs": [
    {
     "data": {
      "application/vnd.jupyter.widget-view+json": {
       "model_id": "bcd61dcfcf7e41bb913daf1044eeb28f",
       "version_major": 2,
       "version_minor": 0
      },
      "text/plain": [
       "  0%|          | 0/999 [00:00<?, ?it/s]"
      ]
     },
     "metadata": {},
     "output_type": "display_data"
    },
    {
     "name": "stdout",
     "output_type": "stream",
     "text": [
      "joint accuracy: 0.3724905046120456\n",
      "slot accuracy: 0.9640225438888208\n",
      "relative slot accuracy: 0.7746471152528437\n"
     ]
    }
   ],
   "source": [
    "score = evaluate_dst(test_adapter_no_c_results)\n",
    "with open(\"adapter_no_c_test_pred.json\", \"w\") as outfile:\n",
    "    json.dump(score, outfile)"
   ]
  },
  {
   "cell_type": "code",
   "execution_count": 2,
   "id": "71919627-ae0c-4c25-83fd-3154e5ea9da6",
   "metadata": {},
   "outputs": [],
   "source": [
    "import json\n",
    "with open(\"result/adapter_no_c_test_pred.json\", \"r\") as outfile:\n",
    "    adapter_no_c_test_pred = json.load(outfile)"
   ]
  },
  {
   "cell_type": "code",
   "execution_count": 7,
   "id": "0f3f3640-f556-4662-9a05-28b7dd8d66ff",
   "metadata": {},
   "outputs": [],
   "source": [
    "\n",
    "with open(\"result/adapter_c_4_epoch_test_pred.json\", \"r\") as outfile:\n",
    "    adapter_c_test_pred = json.load(outfile)"
   ]
  },
  {
   "cell_type": "code",
   "execution_count": 4,
   "id": "7ccadd8f-2d13-489f-9677-96a0a67b3e25",
   "metadata": {},
   "outputs": [],
   "source": [
    "from evaluate_dst import evaluate_dst"
   ]
  },
  {
   "cell_type": "code",
   "execution_count": 5,
   "id": "3fa87bc0-a490-4759-ba12-5f5eae8dbeb0",
   "metadata": {},
   "outputs": [
    {
     "data": {
      "application/vnd.jupyter.widget-view+json": {
       "model_id": "d56227fc1c2a47f48be4c969ce5b8d79",
       "version_major": 2,
       "version_minor": 0
      },
      "text/plain": [
       "  0%|          | 0/999 [00:00<?, ?it/s]"
      ]
     },
     "metadata": {},
     "output_type": "display_data"
    },
    {
     "name": "stdout",
     "output_type": "stream",
     "text": [
      "joint accuracy: 0.3724905046120456\n",
      "slot accuracy: 0.9640225438888208\n",
      "relative slot accuracy: 0.7746471152528437\n"
     ]
    },
    {
     "data": {
      "text/plain": [
       "{'joint_acc': 0.3724905046120456,\n",
       " 'slot_acc': 0.9640225438888208,\n",
       " 'r_slot_acc': 0.7746471152528437}"
      ]
     },
     "execution_count": 5,
     "metadata": {},
     "output_type": "execute_result"
    }
   ],
   "source": [
    "evaluate_dst(adapter_no_c_test_pred)"
   ]
  },
  {
   "cell_type": "code",
   "execution_count": 8,
   "id": "fa8c90d6-15db-433b-b230-68c329f58b05",
   "metadata": {},
   "outputs": [
    {
     "data": {
      "application/vnd.jupyter.widget-view+json": {
       "model_id": "67eb7076785d42d7a924bc1f0b699079",
       "version_major": 2,
       "version_minor": 0
      },
      "text/plain": [
       "  0%|          | 0/999 [00:00<?, ?it/s]"
      ]
     },
     "metadata": {},
     "output_type": "display_data"
    },
    {
     "name": "stdout",
     "output_type": "stream",
     "text": [
      "joint accuracy: 0.37696690179055886\n",
      "slot accuracy: 0.9646220222988465\n",
      "relative slot accuracy: 0.7760015515044052\n"
     ]
    },
    {
     "data": {
      "text/plain": [
       "{'joint_acc': 0.37696690179055886,\n",
       " 'slot_acc': 0.9646220222988465,\n",
       " 'r_slot_acc': 0.7760015515044052}"
      ]
     },
     "execution_count": 8,
     "metadata": {},
     "output_type": "execute_result"
    }
   ],
   "source": [
    "evaluate_dst(adapter_c_test_pred)"
   ]
  },
  {
   "cell_type": "code",
   "execution_count": null,
   "id": "9fda806c-9609-46ee-9cc9-70cd8425c1c0",
   "metadata": {},
   "outputs": [],
   "source": [
    "adapter_c_test_pred.keys()"
   ]
  },
  {
   "cell_type": "code",
   "execution_count": null,
   "id": "2af59c8a-72bb-4ec5-9c0a-1e2ed3c7217b",
   "metadata": {},
   "outputs": [],
   "source": [
    "def evaluate_dst_diff(pred_1, pred_2):\n",
    "    num_turns = 0\n",
    "    joint_acc = 0\n",
    "    slot_acc = 0\n",
    "    r_slot_acc = 0\n",
    "\n",
    "    num_slots = len(SLOT_VALS)\n",
    "    num_r_slots = 0\n",
    "\n",
    "    clean_tokens = [\"<s>\", \"</s>\"]\n",
    "    \n",
    "    # results = input_results.copy()\n",
    "    idx = 0\n",
    "    for dial in tqdm(pred_1.keys()):\n",
    "        dialogue_pred_1 = pred_1[dial][\"generated_turn_belief\"]\n",
    "        dialogue_pred_2 = pred_2[dial][\"generated_turn_belief\"]\n",
    "        dialogue_target = pred_1[dial][\"target_turn_belief\"]\n",
    "\n",
    "        for turn_id, (turn_target, turn_pred_1, turn_pred_2) in enumerate(\n",
    "            zip(dialogue_target, dialogue_pred_1, dialogue_pred_2)\n",
    "        ):\n",
    "            # print(turn_pred_1, turn_pred_2)\n",
    "            \n",
    "            # clean\n",
    "            for bs in turn_pred_1:\n",
    "                if bs in clean_tokens + [\"\", \" \"] or bs.split()[-1] == \"none\":\n",
    "                    turn_pred_1.remove(bs)\n",
    "\n",
    "            new_turn_pred_1 = []\n",
    "            for bs in turn_pred_1:\n",
    "                for tok in clean_tokens:\n",
    "                    bs = bs.replace(tok, \"\").strip()\n",
    "                    new_turn_pred_1.append(bs)\n",
    "            turn_pred_1 = new_turn_pred_1\n",
    "            \n",
    "            \n",
    "            # clean\n",
    "            for bs in turn_pred_2:\n",
    "                if bs in clean_tokens + [\"\", \" \"] or bs.split()[-1] == \"none\":\n",
    "                    turn_pred_2.remove(bs)\n",
    "\n",
    "            new_turn_pred_2 = []\n",
    "            for bs in turn_pred_2:\n",
    "                for tok in clean_tokens:\n",
    "                    bs = bs.replace(tok, \"\").strip()\n",
    "                    new_turn_pred_2.append(bs)\n",
    "            turn_pred_2 = new_turn_pred_2\n",
    "            \n",
    "            turn_pred_1, _ = ignore_none(turn_pred_1, turn_target)\n",
    "            turn_pred_2, turn_target = ignore_none(turn_pred_2, turn_target)\n",
    "            # print(turn_pred, turn_target)\n",
    "            turn_pred_1, _ = default_cleaning(turn_pred_1, turn_target)\n",
    "            turn_pred_2, turn_target = default_cleaning(turn_pred_2, turn_target)\n",
    "            \n",
    "            join_flag_1 = False\n",
    "            join_flag_2 = False\n",
    "\n",
    "            # calculate joint accuracy\n",
    "            if set(turn_target) == set(turn_pred_1):\n",
    "                join_flag_1 = True\n",
    "            if set(turn_target) == set(turn_pred_2):\n",
    "                join_flag_2 = True\n",
    "            \n",
    "            if join_flag_1 != join_flag_2:\n",
    "                print(idx, turn_pred_1, turn_pred_2, turn_target)\n",
    "                print(join_flag_1, join_flag_2)\n",
    "                \n",
    "            idx += 1\n",
    "            # pred_slot_map = get_slot_map(turn_pred)\n",
    "            # target_slot_map = get_slot_map(turn_target)\n",
    "\n",
    "#             # calculate slot accuracy\n",
    "#             for slot_key in SLOT_VALS:\n",
    "#                 if target_slot_map[slot_key] == pred_slot_map[slot_key]:\n",
    "#                     slot_acc += 1\n",
    "\n",
    "#             # calculate relative slot accuracy\n",
    "#             (\n",
    "#                 unique_slots,\n",
    "#                 unique_pred_map,\n",
    "#                 unique_target_map,\n",
    "#             ) = get_unique_slot_map(turn_pred, turn_target)\n",
    "#             for slot_key in unique_slots:\n",
    "#                 if slot_key not in unique_target_map.keys():\n",
    "#                     continue\n",
    "#                 if slot_key not in unique_pred_map.keys():\n",
    "#                     continue\n",
    "#                 if unique_target_map[slot_key] == unique_pred_map[slot_key]:\n",
    "#                     r_slot_acc += 1\n",
    "#             num_r_slots += len(unique_slots)\n",
    "\n",
    "#             num_turns += 1\n",
    "#     joint_acc /= num_turns\n",
    "#     slot_acc /= num_slots * num_turns\n",
    "#     r_slot_acc /= num_r_slots\n",
    "#     print(\"joint accuracy: {}\".format(joint_acc))\n",
    "#     print(\"slot accuracy: {}\".format(slot_acc))\n",
    "#     print(\"relative slot accuracy: {}\".format(r_slot_acc))\n",
    "#     return {\n",
    "#         \"joint_acc\": joint_acc,\n",
    "#         \"slot_acc\": slot_acc,\n",
    "#         \"r_slot_acc\": r_slot_acc,\n",
    "#     }\n",
    "evaluate_dst_diff(adapter_no_c_test_pred, adapter_c_test_pred)"
   ]
  },
  {
   "cell_type": "code",
   "execution_count": 7,
   "id": "eb78f553-64fa-4860-ad64-04130bd00d6f",
   "metadata": {},
   "outputs": [
    {
     "data": {
      "application/vnd.jupyter.widget-view+json": {
       "model_id": "05080c87050c43afab8004d164df3537",
       "version_major": 2,
       "version_minor": 0
      },
      "text/plain": [
       "  0%|          | 0/7372 [00:00<?, ?it/s]"
      ]
     },
     "metadata": {},
     "output_type": "display_data"
    }
   ],
   "source": [
    "adapter_no_c_test_texts = []\n",
    "with open('adapter_no_c_more_train.test.pred.txt') as f:\n",
    "    lines = f.readlines()\n",
    "    for line in tqdm(lines):\n",
    "        adapter_no_c_test_texts += [line]"
   ]
  },
  {
   "cell_type": "code",
   "execution_count": 8,
   "id": "ad318f49-6632-414e-8112-36a06f310562",
   "metadata": {},
   "outputs": [
    {
     "data": {
      "application/vnd.jupyter.widget-view+json": {
       "model_id": "77866b4903f14d55a2829d3e0234e49b",
       "version_major": 2,
       "version_minor": 0
      },
      "text/plain": [
       "  0%|          | 0/7372 [00:00<?, ?it/s]"
      ]
     },
     "metadata": {},
     "output_type": "display_data"
    }
   ],
   "source": [
    "adapter_c_test_texts = []\n",
    "with open('result/adapter_c.test.pred.txt') as f:\n",
    "    lines = f.readlines()\n",
    "    for line in tqdm(lines):\n",
    "        adapter_c_test_texts += [line]"
   ]
  },
  {
   "cell_type": "code",
   "execution_count": 51,
   "id": "d88fda87-241c-498a-afda-a6d2b9d1fbec",
   "metadata": {},
   "outputs": [
    {
     "data": {
      "text/plain": [
       "(\"<s><s> <|context|> <|user|> i am looking for european restaurant in the centre. <|system|> i see there are several, can you make a recommendation? <|user|> i haven't tried any in that area before. what would you suggest? <|system|> i have the eraina that is expensive or the riverside brasserie which is in the moderate range. <|user|> can i get the phone number and postcode for eraina, please? <|endofcontext|> <|belief|> restaurant food european, restaurant pricerange not mentioned, restaurant name eraina, restaurant area centre <|endofbelief|> </s></s></s></s></s></s></s></s></s></s></s></s></s></s></s></s></s></s></s></s></s></s></s></s></s></s></s></s></s></s></s></s></s></s></s></s></s></s></s></s></s></s></s></s></s></s></s></s></s></s></s></s></s></s></s></s></s></s></s></s></s></s></s></s></s></s></s></s></s></s></s></s></s></s></s></s></s></s></s></s></s></s></s></s></s></s></s></s></s></s></s></s></s></s></s></s></s></s></s></s></s></s></s></s></s></s></s></s></s></s></s></s></s></s></s></s></s></s></s></s></s></s></s></s></s></s></s></s></s></s></s></s></s></s></s></s></s></s></s></s></s></s></s></s></s></s></s></s></s></s></s></s></s></s></s></s></s></s></s></s></s></s></s></s></s></s></s></s></s></s></s></s></s></s></s></s></s></s></s></s></s></s></s></s></s></s></s></s></s></s></s></s></s></s></s></s></s></s></s></s></s></s></s></s></s></s></s></s></s></s></s></s></s></s></s></s></s></s></s></s></s></s></s></s></s></s></s></s></s></s></s></s></s></s></s></s></s></s></s></s></s></s></s></s></s></s></s></s></s></s></s></s></s></s></s></s></s></s></s></s></s></s></s></s></s></s></s></s></s></s></s></s></s></s></s></s></s></s></s></s></s></s></s></s></s></s></s></s></s></s></s></s></s></s></s></s></s></s></s></s></s></s></s></s></s></s></s></s></s></s></s></s></s></s></s></s></s></s></s></s></s></s></s></s></s></s></s></s></s></s></s></s></s></s></s></s></s></s></s></s></s></s></s></s></s></s></s></s></s></s></s></s></s></s></s></s></s></s></s></s></s></s></s></s></s></s></s></s></s></s></s></s></s></s></s></s></s></s></s></s></s></s></s></s></s></s></s></s></s></s></s></s></s></s></s></s></s></s></s></s></s></s></s></s></s></s></s></s></s></s></s></s></s></s></s></s></s></s></s></s></s></s></s></s></s></s></s></s>\\n\",\n",
       " \"<s><s> <|context|> <|user|> i am looking for european restaurant in the centre. <|system|> i see there are several, can you make a recommendation? <|user|> i haven't tried any in that area before. what would you suggest? <|system|> i have the eraina that is expensive or the riverside brasserie which is in the moderate range. <|user|> can i get the phone number and postcode for eraina, please? <|endofcontext|> <|belief|> restaurant food european, restaurant pricerange not mentioned, restaurant name eraina, restaurant area centre <|endofbelief|> </s></s></s></s></s></s></s></s></s></s></s></s></s></s></s></s></s></s></s></s></s></s></s></s></s></s></s></s></s></s></s></s></s></s></s></s></s></s></s></s></s></s></s></s></s></s></s></s></s></s></s></s></s></s></s></s></s></s></s></s></s></s></s></s></s></s></s></s></s></s></s></s></s></s></s></s></s></s></s></s></s></s></s></s></s></s></s></s></s></s></s></s></s></s></s></s></s></s></s></s></s></s></s></s></s></s></s></s></s></s></s></s></s></s></s></s></s></s></s></s></s></s></s></s></s></s></s></s></s></s></s></s></s></s></s></s></s></s></s></s></s></s></s></s></s></s></s></s></s></s></s></s></s></s></s></s></s></s></s></s></s></s></s></s></s></s></s></s></s></s></s></s></s></s></s></s></s></s></s></s></s></s></s></s></s></s></s></s></s></s></s></s></s></s></s></s></s></s></s></s></s></s></s></s></s></s></s></s></s></s></s></s></s></s></s></s></s></s></s></s></s></s></s></s></s></s></s></s></s></s></s></s></s></s></s></s></s></s></s></s></s></s></s></s></s></s></s></s></s></s></s></s></s></s></s></s></s></s></s></s></s></s></s></s></s></s></s></s></s></s></s></s></s></s></s></s></s></s></s></s></s></s></s></s></s></s></s></s></s></s></s></s></s></s></s></s></s></s></s></s></s></s></s></s></s></s></s></s></s></s></s></s></s></s></s></s></s></s></s></s></s></s></s></s></s></s></s></s></s></s></s></s></s></s></s></s></s></s></s></s></s></s></s></s></s></s></s></s></s></s></s></s></s></s></s></s></s></s></s></s></s></s></s></s></s></s></s></s></s></s></s></s></s></s></s></s></s></s></s></s></s></s></s></s></s></s></s></s></s></s></s></s></s></s></s></s></s></s></s></s></s></s></s></s></s></s></s></s></s></s></s></s></s></s></s></s></s></s></s></s></s></s></s></s></s></s></s></s>\\n\")"
      ]
     },
     "execution_count": 51,
     "metadata": {},
     "output_type": "execute_result"
    }
   ],
   "source": [
    "idx = 6655\n",
    "adapter_no_c_test_texts[idx], adapter_c_test_texts[idx]"
   ]
  },
  {
   "cell_type": "code",
   "execution_count": 9,
   "id": "3e61aa15-8846-439a-82df-59d4fa98545a",
   "metadata": {},
   "outputs": [
    {
     "ename": "NameError",
     "evalue": "name 'idx' is not defined",
     "output_type": "error",
     "traceback": [
      "\u001b[0;31m---------------------------------------------------------------------------\u001b[0m",
      "\u001b[0;31mNameError\u001b[0m                                 Traceback (most recent call last)",
      "\u001b[0;32m<ipython-input-9-ea0d53f92fed>\u001b[0m in \u001b[0;36m<module>\u001b[0;34m\u001b[0m\n\u001b[1;32m     23\u001b[0m \u001b[0;34m\u001b[0m\u001b[0m\n\u001b[1;32m     24\u001b[0m     \u001b[0;32mreturn\u001b[0m \u001b[0mprediction\u001b[0m\u001b[0;34m\u001b[0m\u001b[0;34m\u001b[0m\u001b[0m\n\u001b[0;32m---> 25\u001b[0;31m \u001b[0msample\u001b[0m \u001b[0;34m=\u001b[0m \u001b[0madapter_no_c_test_texts\u001b[0m\u001b[0;34m[\u001b[0m\u001b[0midx\u001b[0m\u001b[0;34m]\u001b[0m\u001b[0;34m\u001b[0m\u001b[0;34m\u001b[0m\u001b[0m\n\u001b[0m\u001b[1;32m     26\u001b[0m \u001b[0msample\u001b[0m\u001b[0;34m,\u001b[0m \u001b[0mpostprocessing\u001b[0m\u001b[0;34m(\u001b[0m\u001b[0msample\u001b[0m\u001b[0;34m)\u001b[0m\u001b[0;34m\u001b[0m\u001b[0;34m\u001b[0m\u001b[0m\n",
      "\u001b[0;31mNameError\u001b[0m: name 'idx' is not defined"
     ]
    }
   ],
   "source": [
    "import re\n",
    "\n",
    "def postprocessing(ds):\n",
    "    \"\"\"\n",
    "    input ds: dialog state for the current turn as string\n",
    "    return prediction: valued prediction as list of triplet\n",
    "    \"\"\"\n",
    "    current_belief = re.search(\"<\\|belief\\|> (.*) <\\|endofbelief\\|>\", clean_ds)\n",
    "    \n",
    "    if not current_belief:\n",
    "        return []\n",
    "    \n",
    "    current_belief = current_belief.group(1)\n",
    "    belief_list = re.split(\n",
    "        \",\", current_belief\n",
    "    )  # here can split by \", domain\", in case using commas alone is not enough\n",
    "    # print(belief_list)\n",
    "    prediction = []\n",
    "    for x in belief_list:\n",
    "        not_mentioned = re.search(\"not mentioned\", x)\n",
    "        if not_mentioned == None and x.strip() and len(x.split()) > 2:\n",
    "            prediction.append(x)\n",
    "\n",
    "    return prediction\n",
    "sample = adapter_no_c_test_texts[idx]\n",
    "sample, postprocessing(sample)"
   ]
  },
  {
   "cell_type": "code",
   "execution_count": 10,
   "id": "3b55ec7f-bf3b-4fb5-9938-920ff5479cc7",
   "metadata": {},
   "outputs": [
    {
     "data": {
      "application/vnd.jupyter.widget-view+json": {
       "model_id": "14137966d11a4d39b585a46967d45aea",
       "version_major": 2,
       "version_minor": 0
      },
      "text/plain": [
       "  0%|          | 0/7372 [00:00<?, ?it/s]"
      ]
     },
     "metadata": {},
     "output_type": "display_data"
    },
    {
     "ename": "NameError",
     "evalue": "name 'clean_ds' is not defined",
     "output_type": "error",
     "traceback": [
      "\u001b[0;31m---------------------------------------------------------------------------\u001b[0m",
      "\u001b[0;31mNameError\u001b[0m                                 Traceback (most recent call last)",
      "\u001b[0;32m<ipython-input-10-a6bc8e458719>\u001b[0m in \u001b[0;36m<module>\u001b[0;34m\u001b[0m\n\u001b[1;32m     13\u001b[0m \u001b[0;34m\u001b[0m\u001b[0m\n\u001b[1;32m     14\u001b[0m     adapter_no_c_test_results[dialogue_id][\"generated_turn_belief\"] += [\n\u001b[0;32m---> 15\u001b[0;31m         \u001b[0mpostprocessing\u001b[0m\u001b[0;34m(\u001b[0m\u001b[0mprediction_text\u001b[0m\u001b[0;34m)\u001b[0m\u001b[0;34m\u001b[0m\u001b[0;34m\u001b[0m\u001b[0m\n\u001b[0m\u001b[1;32m     16\u001b[0m     ]\n\u001b[1;32m     17\u001b[0m     adapter_no_c_test_results[dialogue_id][\"target_turn_belief\"] += [\n",
      "\u001b[0;32m<ipython-input-9-ea0d53f92fed>\u001b[0m in \u001b[0;36mpostprocessing\u001b[0;34m(ds)\u001b[0m\n\u001b[1;32m      6\u001b[0m     \u001b[0;32mreturn\u001b[0m \u001b[0mprediction\u001b[0m\u001b[0;34m:\u001b[0m \u001b[0mvalued\u001b[0m \u001b[0mprediction\u001b[0m \u001b[0;32mas\u001b[0m \u001b[0mlist\u001b[0m \u001b[0mof\u001b[0m \u001b[0mtriplet\u001b[0m\u001b[0;34m\u001b[0m\u001b[0;34m\u001b[0m\u001b[0m\n\u001b[1;32m      7\u001b[0m     \"\"\"\n\u001b[0;32m----> 8\u001b[0;31m     \u001b[0mcurrent_belief\u001b[0m \u001b[0;34m=\u001b[0m \u001b[0mre\u001b[0m\u001b[0;34m.\u001b[0m\u001b[0msearch\u001b[0m\u001b[0;34m(\u001b[0m\u001b[0;34m\"<\\|belief\\|> (.*) <\\|endofbelief\\|>\"\u001b[0m\u001b[0;34m,\u001b[0m \u001b[0mclean_ds\u001b[0m\u001b[0;34m)\u001b[0m\u001b[0;34m\u001b[0m\u001b[0;34m\u001b[0m\u001b[0m\n\u001b[0m\u001b[1;32m      9\u001b[0m \u001b[0;34m\u001b[0m\u001b[0m\n\u001b[1;32m     10\u001b[0m     \u001b[0;32mif\u001b[0m \u001b[0;32mnot\u001b[0m \u001b[0mcurrent_belief\u001b[0m\u001b[0;34m:\u001b[0m\u001b[0;34m\u001b[0m\u001b[0;34m\u001b[0m\u001b[0m\n",
      "\u001b[0;31mNameError\u001b[0m: name 'clean_ds' is not defined"
     ]
    }
   ],
   "source": [
    "split=\"test\"\n",
    "adapter_no_c_test_results = {}\n",
    "turn_id = 0\n",
    "for prediction_text in tqdm(adapter_no_c_test_texts):\n",
    "    gold_text = dataset[split][\"turn\"][turn_id]\n",
    "\n",
    "    dialogue_id = dataset[split][\"conversation_id\"][turn_id]\n",
    "    if dialogue_id not in adapter_no_c_test_results.keys():\n",
    "        adapter_no_c_test_results[dialogue_id] = {\n",
    "            \"generated_turn_belief\": [],\n",
    "            \"target_turn_belief\": [],\n",
    "        }\n",
    "\n",
    "    adapter_no_c_test_results[dialogue_id][\"generated_turn_belief\"] += [\n",
    "        postprocessing(prediction_text)\n",
    "    ]\n",
    "    adapter_no_c_test_results[dialogue_id][\"target_turn_belief\"] += [\n",
    "        postprocessing(gold_text)\n",
    "    ]\n",
    "\n",
    "    turn_id += 1"
   ]
  },
  {
   "cell_type": "code",
   "execution_count": 49,
   "id": "61d2b1e5-dcea-41c4-940d-04a255a70e11",
   "metadata": {},
   "outputs": [
    {
     "data": {
      "application/vnd.jupyter.widget-view+json": {
       "model_id": "193045aaaafa493aa4c3f53a9826f4af",
       "version_major": 2,
       "version_minor": 0
      },
      "text/plain": [
       "  0%|          | 0/999 [00:00<?, ?it/s]"
      ]
     },
     "metadata": {},
     "output_type": "display_data"
    },
    {
     "name": "stdout",
     "output_type": "stream",
     "text": [
      "joint accuracy: 0.37425393380358113\n",
      "slot accuracy: 0.964079428701451\n",
      "relative slot accuracy: 0.7749972590724701\n"
     ]
    },
    {
     "data": {
      "text/plain": [
       "{'joint_acc': 0.37425393380358113,\n",
       " 'slot_acc': 0.964079428701451,\n",
       " 'r_slot_acc': 0.7749972590724701}"
      ]
     },
     "execution_count": 49,
     "metadata": {},
     "output_type": "execute_result"
    }
   ],
   "source": [
    "from evaluate_dst import evaluate_dst\n",
    "evaluate_dst(adapter_no_c_test_results)"
   ]
  },
  {
   "cell_type": "code",
   "execution_count": null,
   "id": "21e1aa23-d0fb-43a4-ac30-32bbd8ce19ba",
   "metadata": {},
   "outputs": [],
   "source": [
    "split=\"test\"\n",
    "adapter_no_c_test_results = {}\n",
    "turn_id = 0\n",
    "for prediction_text in tqdm(adapter_no_c_test_texts):\n",
    "    gold_text = dataset[split][\"turn\"][turn_id]\n",
    "\n",
    "    dialogue_id = dataset[split][\"conversation_id\"][turn_id]\n",
    "    if dialogue_id not in adapter_no_c_test_results.keys():\n",
    "        adapter_no_c_test_results[dialogue_id] = {\n",
    "            \"generated_turn_belief\": [],\n",
    "            \"target_turn_belief\": [],\n",
    "        }\n",
    "\n",
    "    adapter_no_c_test_results[dialogue_id][\"generated_turn_belief\"] += [\n",
    "        postprocessing(prediction_text)\n",
    "    ]\n",
    "    adapter_no_c_test_results[dialogue_id][\"target_turn_belief\"] += [\n",
    "        postprocessing(gold_text)\n",
    "    ]\n",
    "\n",
    "    turn_id += 1"
   ]
  },
  {
   "cell_type": "code",
   "execution_count": 14,
   "id": "49518021-b1fe-4479-bc80-8a8f0740fd72",
   "metadata": {},
   "outputs": [],
   "source": [
    "from postprocessing import postprocessing\n",
    "def prediction_for_each_turn(prediction_texts, split=\"validation\"):\n",
    "    output = {}\n",
    "    turn_id = 0\n",
    "    \n",
    "    for prediction_text in tqdm(prediction_texts):\n",
    "        gold_text = dataset[split][\"turn\"][turn_id]\n",
    "\n",
    "        dialogue_id = dataset[split][\"conversation_id\"][turn_id]\n",
    "        turn_num = dataset[split][\"turn_number\"][turn_id]\n",
    "        if turn_num not in output.keys():\n",
    "            output[turn_num] = {}\n",
    "            \n",
    "        if dialogue_id not in output[turn_num].keys():\n",
    "            output[turn_num][dialogue_id] = {\n",
    "                \"generated_turn_belief\": [],\n",
    "                \"target_turn_belief\": [],\n",
    "            }\n",
    "\n",
    "        output[turn_num][dialogue_id][\"generated_turn_belief\"] += [\n",
    "            postprocessing(prediction_text)\n",
    "        ]\n",
    "        output[turn_num][dialogue_id][\"target_turn_belief\"] += [\n",
    "            postprocessing(gold_text)\n",
    "        ]\n",
    "\n",
    "        turn_id += 1\n",
    "    return output.copy()\n"
   ]
  },
  {
   "cell_type": "code",
   "execution_count": 60,
   "id": "05edeb07-2f30-4199-8865-f5c25795ca96",
   "metadata": {},
   "outputs": [
    {
     "data": {
      "text/plain": [
       "[1, 2, 3, 4, 5, 6, 7, 8, 9, 1, 2, 3, 4, 5, 6, 7, 8, 1, 2, 3]"
      ]
     },
     "execution_count": 60,
     "metadata": {},
     "output_type": "execute_result"
    }
   ],
   "source": [
    "dataset[\"validation\"][\"turn_number\"][:20]"
   ]
  },
  {
   "cell_type": "code",
   "execution_count": 15,
   "id": "45a0120e-70c2-4b58-bd1e-9680e7124137",
   "metadata": {},
   "outputs": [
    {
     "data": {
      "application/vnd.jupyter.widget-view+json": {
       "model_id": "6ea286d136084dd484ac377fc268065e",
       "version_major": 2,
       "version_minor": 0
      },
      "text/plain": [
       "  0%|          | 0/7372 [00:00<?, ?it/s]"
      ]
     },
     "metadata": {},
     "output_type": "display_data"
    }
   ],
   "source": [
    "result = prediction_for_each_turn(adapter_no_c_test_texts, \"test\")"
   ]
  },
  {
   "cell_type": "code",
   "execution_count": 16,
   "id": "37a46e54-d67c-452a-8c2f-9268a86133e9",
   "metadata": {},
   "outputs": [
    {
     "data": {
      "application/vnd.jupyter.widget-view+json": {
       "model_id": "d10f6af4415b4839a429a93fa3b55e91",
       "version_major": 2,
       "version_minor": 0
      },
      "text/plain": [
       "  0%|          | 0/7372 [00:00<?, ?it/s]"
      ]
     },
     "metadata": {},
     "output_type": "display_data"
    }
   ],
   "source": [
    "result_c = prediction_for_each_turn(adapter_c_test_texts, \"test\")"
   ]
  },
  {
   "cell_type": "code",
   "execution_count": 17,
   "id": "c0daebef-c0c7-4467-a622-38210a58b59f",
   "metadata": {},
   "outputs": [
    {
     "data": {
      "application/vnd.jupyter.widget-view+json": {
       "model_id": "727c66ca2d9a4f61901307f4726f5944",
       "version_major": 2,
       "version_minor": 0
      },
      "text/plain": [
       "  0%|          | 0/999 [00:00<?, ?it/s]"
      ]
     },
     "metadata": {},
     "output_type": "display_data"
    },
    {
     "name": "stdout",
     "output_type": "stream",
     "text": [
      "joint accuracy: 0.8588588588588588\n",
      "slot accuracy: 0.994930414285253\n",
      "relative slot accuracy: 0.8987749838813669\n"
     ]
    },
    {
     "data": {
      "application/vnd.jupyter.widget-view+json": {
       "model_id": "d63843d6812042b4bd7de22d823cbda0",
       "version_major": 2,
       "version_minor": 0
      },
      "text/plain": [
       "  0%|          | 0/999 [00:00<?, ?it/s]"
      ]
     },
     "metadata": {},
     "output_type": "display_data"
    },
    {
     "name": "stdout",
     "output_type": "stream",
     "text": [
      "joint accuracy: 0.6676676676676677\n",
      "slot accuracy: 0.986567212373664\n",
      "relative slot accuracy: 0.8495479204339964\n"
     ]
    },
    {
     "data": {
      "application/vnd.jupyter.widget-view+json": {
       "model_id": "baca73b663da48898b17f9c18ab25578",
       "version_major": 2,
       "version_minor": 0
      },
      "text/plain": [
       "  0%|          | 0/990 [00:00<?, ?it/s]"
      ]
     },
     "metadata": {},
     "output_type": "display_data"
    },
    {
     "name": "stdout",
     "output_type": "stream",
     "text": [
      "joint accuracy: 0.4797979797979798\n",
      "slot accuracy: 0.9776148582600196\n",
      "relative slot accuracy: 0.8052168982137794\n"
     ]
    },
    {
     "data": {
      "application/vnd.jupyter.widget-view+json": {
       "model_id": "3d86c11b808e4d74926137296b131da2",
       "version_major": 2,
       "version_minor": 0
      },
      "text/plain": [
       "  0%|          | 0/943 [00:00<?, ?it/s]"
      ]
     },
     "metadata": {},
     "output_type": "display_data"
    },
    {
     "name": "stdout",
     "output_type": "stream",
     "text": [
      "joint accuracy: 0.4019088016967126\n",
      "slot accuracy: 0.9723600041049499\n",
      "relative slot accuracy: 0.8145938503900872\n"
     ]
    },
    {
     "data": {
      "application/vnd.jupyter.widget-view+json": {
       "model_id": "d71c0a7a9e174620b8ea015f3bbaea26",
       "version_major": 2,
       "version_minor": 0
      },
      "text/plain": [
       "  0%|          | 0/872 [00:00<?, ?it/s]"
      ]
     },
     "metadata": {},
     "output_type": "display_data"
    },
    {
     "name": "stdout",
     "output_type": "stream",
     "text": [
      "joint accuracy: 0.30160550458715596\n",
      "slot accuracy: 0.9665211601065404\n",
      "relative slot accuracy: 0.8157948300427438\n"
     ]
    },
    {
     "data": {
      "application/vnd.jupyter.widget-view+json": {
       "model_id": "b90daeb205a141cb9ccb63eecc047569",
       "version_major": 2,
       "version_minor": 0
      },
      "text/plain": [
       "  0%|          | 0/790 [00:00<?, ?it/s]"
      ]
     },
     "metadata": {},
     "output_type": "display_data"
    },
    {
     "name": "stdout",
     "output_type": "stream",
     "text": [
      "joint accuracy: 0.24556962025316456\n",
      "slot accuracy: 0.9583911800734994\n",
      "relative slot accuracy: 0.8002352479905901\n"
     ]
    },
    {
     "data": {
      "application/vnd.jupyter.widget-view+json": {
       "model_id": "4db28153cac04bd38afc5599e0709842",
       "version_major": 2,
       "version_minor": 0
      },
      "text/plain": [
       "  0%|          | 0/670 [00:00<?, ?it/s]"
      ]
     },
     "metadata": {},
     "output_type": "display_data"
    },
    {
     "name": "stdout",
     "output_type": "stream",
     "text": [
      "joint accuracy: 0.1925373134328358\n",
      "slot accuracy: 0.9519017814155031\n",
      "relative slot accuracy: 0.7920482930890924\n"
     ]
    },
    {
     "data": {
      "application/vnd.jupyter.widget-view+json": {
       "model_id": "7891900353c34bb5afb8e775f10ba6ed",
       "version_major": 2,
       "version_minor": 0
      },
      "text/plain": [
       "  0%|          | 0/465 [00:00<?, ?it/s]"
      ]
     },
     "metadata": {},
     "output_type": "display_data"
    },
    {
     "name": "stdout",
     "output_type": "stream",
     "text": [
      "joint accuracy: 0.17204301075268819\n",
      "slot accuracy: 0.9483177245924385\n",
      "relative slot accuracy: 0.7939142461964038\n"
     ]
    },
    {
     "data": {
      "application/vnd.jupyter.widget-view+json": {
       "model_id": "1e4e6d350d234adeaf78a488b3781707",
       "version_major": 2,
       "version_minor": 0
      },
      "text/plain": [
       "  0%|          | 0/292 [00:00<?, ?it/s]"
      ]
     },
     "metadata": {},
     "output_type": "display_data"
    },
    {
     "name": "stdout",
     "output_type": "stream",
     "text": [
      "joint accuracy: 0.1404109589041096\n",
      "slot accuracy: 0.9418912947414936\n",
      "relative slot accuracy: 0.7816521378165214\n"
     ]
    },
    {
     "data": {
      "application/vnd.jupyter.widget-view+json": {
       "model_id": "94bb61d960534ce1afeef4aa0efe8b2b",
       "version_major": 2,
       "version_minor": 0
      },
      "text/plain": [
       "  0%|          | 0/171 [00:00<?, ?it/s]"
      ]
     },
     "metadata": {},
     "output_type": "display_data"
    },
    {
     "name": "stdout",
     "output_type": "stream",
     "text": [
      "joint accuracy: 0.08771929824561403\n",
      "slot accuracy: 0.9341633654027542\n",
      "relative slot accuracy: 0.7682602921646746\n"
     ]
    },
    {
     "data": {
      "application/vnd.jupyter.widget-view+json": {
       "model_id": "84576b1e765147fcaba0531ac24fe30d",
       "version_major": 2,
       "version_minor": 0
      },
      "text/plain": [
       "  0%|          | 0/96 [00:00<?, ?it/s]"
      ]
     },
     "metadata": {},
     "output_type": "display_data"
    },
    {
     "name": "stdout",
     "output_type": "stream",
     "text": [
      "joint accuracy: 0.08333333333333333\n",
      "slot accuracy: 0.925739247311828\n",
      "relative slot accuracy: 0.7519640852974186\n"
     ]
    },
    {
     "data": {
      "application/vnd.jupyter.widget-view+json": {
       "model_id": "ef872d95d10f4b228f1ffcc038d02973",
       "version_major": 2,
       "version_minor": 0
      },
      "text/plain": [
       "  0%|          | 0/48 [00:00<?, ?it/s]"
      ]
     },
     "metadata": {},
     "output_type": "display_data"
    },
    {
     "name": "stdout",
     "output_type": "stream",
     "text": [
      "joint accuracy: 0.041666666666666664\n",
      "slot accuracy: 0.9193548387096774\n",
      "relative slot accuracy: 0.7413793103448276\n"
     ]
    },
    {
     "data": {
      "application/vnd.jupyter.widget-view+json": {
       "model_id": "9a7e0488b7ad4e6ea2244ff628455b02",
       "version_major": 2,
       "version_minor": 0
      },
      "text/plain": [
       "  0%|          | 0/21 [00:00<?, ?it/s]"
      ]
     },
     "metadata": {},
     "output_type": "display_data"
    },
    {
     "name": "stdout",
     "output_type": "stream",
     "text": [
      "joint accuracy: 0.09523809523809523\n",
      "slot accuracy: 0.9354838709677419\n",
      "relative slot accuracy: 0.7835051546391752\n"
     ]
    },
    {
     "data": {
      "application/vnd.jupyter.widget-view+json": {
       "model_id": "576f47a237e942be85845ee8ca211da6",
       "version_major": 2,
       "version_minor": 0
      },
      "text/plain": [
       "  0%|          | 0/7 [00:00<?, ?it/s]"
      ]
     },
     "metadata": {},
     "output_type": "display_data"
    },
    {
     "name": "stdout",
     "output_type": "stream",
     "text": [
      "joint accuracy: 0.2857142857142857\n",
      "slot accuracy: 0.9585253456221198\n",
      "relative slot accuracy: 0.85\n"
     ]
    },
    {
     "data": {
      "application/vnd.jupyter.widget-view+json": {
       "model_id": "f9b21d5ea95b4fe0bb518c45028c1698",
       "version_major": 2,
       "version_minor": 0
      },
      "text/plain": [
       "  0%|          | 0/5 [00:00<?, ?it/s]"
      ]
     },
     "metadata": {},
     "output_type": "display_data"
    },
    {
     "name": "stdout",
     "output_type": "stream",
     "text": [
      "joint accuracy: 0.2\n",
      "slot accuracy: 0.9548387096774194\n",
      "relative slot accuracy: 0.8409090909090909\n"
     ]
    },
    {
     "data": {
      "application/vnd.jupyter.widget-view+json": {
       "model_id": "106b13ed01214d51b9be4f9d7737e888",
       "version_major": 2,
       "version_minor": 0
      },
      "text/plain": [
       "  0%|          | 0/2 [00:00<?, ?it/s]"
      ]
     },
     "metadata": {},
     "output_type": "display_data"
    },
    {
     "name": "stdout",
     "output_type": "stream",
     "text": [
      "joint accuracy: 0.0\n",
      "slot accuracy: 0.9354838709677419\n",
      "relative slot accuracy: 0.7647058823529411\n"
     ]
    },
    {
     "data": {
      "application/vnd.jupyter.widget-view+json": {
       "model_id": "e9ea73dac97d4f8b9967cdd665e896ca",
       "version_major": 2,
       "version_minor": 0
      },
      "text/plain": [
       "  0%|          | 0/1 [00:00<?, ?it/s]"
      ]
     },
     "metadata": {},
     "output_type": "display_data"
    },
    {
     "name": "stdout",
     "output_type": "stream",
     "text": [
      "joint accuracy: 0.0\n",
      "slot accuracy: 0.9032258064516129\n",
      "relative slot accuracy: 0.7272727272727273\n"
     ]
    },
    {
     "data": {
      "application/vnd.jupyter.widget-view+json": {
       "model_id": "9d76ae441e1c412386af4d1ff264bd5f",
       "version_major": 2,
       "version_minor": 0
      },
      "text/plain": [
       "  0%|          | 0/1 [00:00<?, ?it/s]"
      ]
     },
     "metadata": {},
     "output_type": "display_data"
    },
    {
     "name": "stdout",
     "output_type": "stream",
     "text": [
      "joint accuracy: 0.0\n",
      "slot accuracy: 0.967741935483871\n",
      "relative slot accuracy: 0.9090909090909091\n"
     ]
    }
   ],
   "source": [
    "score_by_turn = {}\n",
    "for turn_num in result.keys():\n",
    "    score_by_turn[turn_num] = evaluate_dst(result[turn_num])"
   ]
  },
  {
   "cell_type": "code",
   "execution_count": 18,
   "id": "18ed10e9-d901-4fd9-a453-7740644121a9",
   "metadata": {},
   "outputs": [
    {
     "data": {
      "application/vnd.jupyter.widget-view+json": {
       "model_id": "a0be4acfaeb14f2a9fc45a7ffbd3b714",
       "version_major": 2,
       "version_minor": 0
      },
      "text/plain": [
       "  0%|          | 0/999 [00:00<?, ?it/s]"
      ]
     },
     "metadata": {},
     "output_type": "display_data"
    },
    {
     "name": "stdout",
     "output_type": "stream",
     "text": [
      "joint accuracy: 0.8538538538538538\n",
      "slot accuracy: 0.994930414285253\n",
      "relative slot accuracy: 0.898970398970399\n"
     ]
    },
    {
     "data": {
      "application/vnd.jupyter.widget-view+json": {
       "model_id": "b5f3703c19aa41058f17d804b72cd10f",
       "version_major": 2,
       "version_minor": 0
      },
      "text/plain": [
       "  0%|          | 0/999 [00:00<?, ?it/s]"
      ]
     },
     "metadata": {},
     "output_type": "display_data"
    },
    {
     "name": "stdout",
     "output_type": "stream",
     "text": [
      "joint accuracy: 0.6726726726726727\n",
      "slot accuracy: 0.986857825567503\n",
      "relative slot accuracy: 0.8529092880375858\n"
     ]
    },
    {
     "data": {
      "application/vnd.jupyter.widget-view+json": {
       "model_id": "196f25b8adcd40d9aeb4bd20ac6c50c4",
       "version_major": 2,
       "version_minor": 0
      },
      "text/plain": [
       "  0%|          | 0/990 [00:00<?, ?it/s]"
      ]
     },
     "metadata": {},
     "output_type": "display_data"
    },
    {
     "name": "stdout",
     "output_type": "stream",
     "text": [
      "joint accuracy: 0.4676767676767677\n",
      "slot accuracy: 0.9776800260671228\n",
      "relative slot accuracy: 0.8061137843192754\n"
     ]
    },
    {
     "data": {
      "application/vnd.jupyter.widget-view+json": {
       "model_id": "faa94afdc3614836837af809914c36f7",
       "version_major": 2,
       "version_minor": 0
      },
      "text/plain": [
       "  0%|          | 0/943 [00:00<?, ?it/s]"
      ]
     },
     "metadata": {},
     "output_type": "display_data"
    },
    {
     "name": "stdout",
     "output_type": "stream",
     "text": [
      "joint accuracy: 0.3987274655355249\n",
      "slot accuracy: 0.9711969349707522\n",
      "relative slot accuracy: 0.8073667353008465\n"
     ]
    },
    {
     "data": {
      "application/vnd.jupyter.widget-view+json": {
       "model_id": "8c5c9779de74455cb0f7204aa7151e23",
       "version_major": 2,
       "version_minor": 0
      },
      "text/plain": [
       "  0%|          | 0/872 [00:00<?, ?it/s]"
      ]
     },
     "metadata": {},
     "output_type": "display_data"
    },
    {
     "name": "stdout",
     "output_type": "stream",
     "text": [
      "joint accuracy: 0.3084862385321101\n",
      "slot accuracy: 0.9660032554010062\n",
      "relative slot accuracy: 0.8129071661237784\n"
     ]
    },
    {
     "data": {
      "application/vnd.jupyter.widget-view+json": {
       "model_id": "22a49a263e2d4e83916fc5bfd4d7de7c",
       "version_major": 2,
       "version_minor": 0
      },
      "text/plain": [
       "  0%|          | 0/790 [00:00<?, ?it/s]"
      ]
     },
     "metadata": {},
     "output_type": "display_data"
    },
    {
     "name": "stdout",
     "output_type": "stream",
     "text": [
      "joint accuracy: 0.2569620253164557\n",
      "slot accuracy: 0.9591670069416088\n",
      "relative slot accuracy: 0.8034204835856104\n"
     ]
    },
    {
     "data": {
      "application/vnd.jupyter.widget-view+json": {
       "model_id": "8255ecc209fd48408de1ffb009e11459",
       "version_major": 2,
       "version_minor": 0
      },
      "text/plain": [
       "  0%|          | 0/670 [00:00<?, ?it/s]"
      ]
     },
     "metadata": {},
     "output_type": "display_data"
    },
    {
     "name": "stdout",
     "output_type": "stream",
     "text": [
      "joint accuracy: 0.2044776119402985\n",
      "slot accuracy: 0.9514203177660087\n",
      "relative slot accuracy: 0.7893967856397411\n"
     ]
    },
    {
     "data": {
      "application/vnd.jupyter.widget-view+json": {
       "model_id": "d6e3ef49fb4d41dbaf4b9ef92ff5e85b",
       "version_major": 2,
       "version_minor": 0
      },
      "text/plain": [
       "  0%|          | 0/465 [00:00<?, ?it/s]"
      ]
     },
     "metadata": {},
     "output_type": "display_data"
    },
    {
     "name": "stdout",
     "output_type": "stream",
     "text": [
      "joint accuracy: 0.1956989247311828\n",
      "slot accuracy: 0.9477627471383975\n",
      "relative slot accuracy: 0.7912392570002772\n"
     ]
    },
    {
     "data": {
      "application/vnd.jupyter.widget-view+json": {
       "model_id": "29290f1956ef49b8b2938fd28f6e9981",
       "version_major": 2,
       "version_minor": 0
      },
      "text/plain": [
       "  0%|          | 0/292 [00:00<?, ?it/s]"
      ]
     },
     "metadata": {},
     "output_type": "display_data"
    },
    {
     "name": "stdout",
     "output_type": "stream",
     "text": [
      "joint accuracy: 0.15753424657534246\n",
      "slot accuracy: 0.9406760936809545\n",
      "relative slot accuracy: 0.7767151767151768\n"
     ]
    },
    {
     "data": {
      "application/vnd.jupyter.widget-view+json": {
       "model_id": "00ad1be821f44ce1b9c89c55675b00ca",
       "version_major": 2,
       "version_minor": 0
      },
      "text/plain": [
       "  0%|          | 0/171 [00:00<?, ?it/s]"
      ]
     },
     "metadata": {},
     "output_type": "display_data"
    },
    {
     "name": "stdout",
     "output_type": "stream",
     "text": [
      "joint accuracy: 0.1111111111111111\n",
      "slot accuracy: 0.9313337106206376\n",
      "relative slot accuracy: 0.7584605175846052\n"
     ]
    },
    {
     "data": {
      "application/vnd.jupyter.widget-view+json": {
       "model_id": "0ec58ca325ab4d73a35245e657d08bce",
       "version_major": 2,
       "version_minor": 0
      },
      "text/plain": [
       "  0%|          | 0/96 [00:00<?, ?it/s]"
      ]
     },
     "metadata": {},
     "output_type": "display_data"
    },
    {
     "name": "stdout",
     "output_type": "stream",
     "text": [
      "joint accuracy: 0.09375\n",
      "slot accuracy: 0.9206989247311828\n",
      "relative slot accuracy: 0.7360178970917226\n"
     ]
    },
    {
     "data": {
      "application/vnd.jupyter.widget-view+json": {
       "model_id": "00d7dea19a4e46c586227208bc275cc5",
       "version_major": 2,
       "version_minor": 0
      },
      "text/plain": [
       "  0%|          | 0/48 [00:00<?, ?it/s]"
      ]
     },
     "metadata": {},
     "output_type": "display_data"
    },
    {
     "name": "stdout",
     "output_type": "stream",
     "text": [
      "joint accuracy: 0.08333333333333333\n",
      "slot accuracy: 0.9233870967741935\n",
      "relative slot accuracy: 0.7558886509635975\n"
     ]
    },
    {
     "data": {
      "application/vnd.jupyter.widget-view+json": {
       "model_id": "5305b12bb44c44be951d1c62a81da741",
       "version_major": 2,
       "version_minor": 0
      },
      "text/plain": [
       "  0%|          | 0/21 [00:00<?, ?it/s]"
      ]
     },
     "metadata": {},
     "output_type": "display_data"
    },
    {
     "name": "stdout",
     "output_type": "stream",
     "text": [
      "joint accuracy: 0.14285714285714285\n",
      "slot accuracy: 0.9308755760368663\n",
      "relative slot accuracy: 0.7715736040609137\n"
     ]
    },
    {
     "data": {
      "application/vnd.jupyter.widget-view+json": {
       "model_id": "50c9255fdf8a4030bf3e4d61913dda6d",
       "version_major": 2,
       "version_minor": 0
      },
      "text/plain": [
       "  0%|          | 0/7 [00:00<?, ?it/s]"
      ]
     },
     "metadata": {},
     "output_type": "display_data"
    },
    {
     "name": "stdout",
     "output_type": "stream",
     "text": [
      "joint accuracy: 0.2857142857142857\n",
      "slot accuracy: 0.9585253456221198\n",
      "relative slot accuracy: 0.8571428571428571\n"
     ]
    },
    {
     "data": {
      "application/vnd.jupyter.widget-view+json": {
       "model_id": "46c7b8936e8e412ca0b61875bbedfe76",
       "version_major": 2,
       "version_minor": 0
      },
      "text/plain": [
       "  0%|          | 0/5 [00:00<?, ?it/s]"
      ]
     },
     "metadata": {},
     "output_type": "display_data"
    },
    {
     "name": "stdout",
     "output_type": "stream",
     "text": [
      "joint accuracy: 0.2\n",
      "slot accuracy: 0.9612903225806452\n",
      "relative slot accuracy: 0.8695652173913043\n"
     ]
    },
    {
     "data": {
      "application/vnd.jupyter.widget-view+json": {
       "model_id": "eec2a7b4a98a4be7ad41961c0d76e333",
       "version_major": 2,
       "version_minor": 0
      },
      "text/plain": [
       "  0%|          | 0/2 [00:00<?, ?it/s]"
      ]
     },
     "metadata": {},
     "output_type": "display_data"
    },
    {
     "name": "stdout",
     "output_type": "stream",
     "text": [
      "joint accuracy: 0.5\n",
      "slot accuracy: 0.9838709677419355\n",
      "relative slot accuracy: 0.9411764705882353\n"
     ]
    },
    {
     "data": {
      "application/vnd.jupyter.widget-view+json": {
       "model_id": "395b676b376a4081b36de3728196f711",
       "version_major": 2,
       "version_minor": 0
      },
      "text/plain": [
       "  0%|          | 0/1 [00:00<?, ?it/s]"
      ]
     },
     "metadata": {},
     "output_type": "display_data"
    },
    {
     "name": "stdout",
     "output_type": "stream",
     "text": [
      "joint accuracy: 0.0\n",
      "slot accuracy: 0.967741935483871\n",
      "relative slot accuracy: 0.9090909090909091\n"
     ]
    },
    {
     "data": {
      "application/vnd.jupyter.widget-view+json": {
       "model_id": "9b45ed1f6cda459b9e953af4e769f1d8",
       "version_major": 2,
       "version_minor": 0
      },
      "text/plain": [
       "  0%|          | 0/1 [00:00<?, ?it/s]"
      ]
     },
     "metadata": {},
     "output_type": "display_data"
    },
    {
     "name": "stdout",
     "output_type": "stream",
     "text": [
      "joint accuracy: 0.0\n",
      "slot accuracy: 0.967741935483871\n",
      "relative slot accuracy: 0.9090909090909091\n"
     ]
    }
   ],
   "source": [
    "score_by_turn_c = {}\n",
    "for turn_num in result_c.keys():\n",
    "    score_by_turn_c[turn_num] = evaluate_dst(result_c[turn_num])"
   ]
  },
  {
   "cell_type": "code",
   "execution_count": 21,
   "id": "258ba1f6-b14d-4e22-bab4-bca3669bc678",
   "metadata": {},
   "outputs": [],
   "source": [
    "import matplotlib.pyplot as plt\n",
    "import numpy as np"
   ]
  },
  {
   "cell_type": "code",
   "execution_count": 22,
   "id": "77a23aa9-7aa3-4d09-aa86-f18ab137bf13",
   "metadata": {},
   "outputs": [
    {
     "data": {
      "image/png": "[encoded data removed]",
      "text/plain": [
       "<Figure size 432x288 with 1 Axes>"
      ]
     },
     "metadata": {
      "needs_background": "light"
     },
     "output_type": "display_data"
    }
   ],
   "source": [
    "x = list(score_by_turn.keys())\n",
    "x.sort()\n",
    "y = [score_by_turn[key][\"joint_acc\"] for key in x]\n",
    "\n",
    "x_c = list(score_by_turn_c.keys())\n",
    "x_c.sort()\n",
    "y_c = [score_by_turn_c[key][\"joint_acc\"] for key in x_c]\n",
    "\n",
    "\n",
    "fig, ax = plt.subplots()\n",
    "X_axis = np.arange(len(x))\n",
    "ax.bar(X_axis-0.2, y, 0.4, label=\"bart_adapter_no_curriculum\")\n",
    "ax.bar(X_axis+0.2, y_c, 0.4, label=\"bart_adapter_with_curriculum\")\n",
    "ax.set_title('Joint Accuracy by Turns')\n",
    "ax.legend()\n",
    "fig.savefig(f\"joint_acc_by_turns.jpg\", dpi=300, bbox_inches=\"tight\")"
   ]
  },
  {
   "cell_type": "code",
   "execution_count": 23,
   "id": "72a9dde7-b76c-43eb-a1c3-0bfc39e947ac",
   "metadata": {},
   "outputs": [
    {
     "data": {
      "image/png": "[encoded data removed]",
      "text/plain": [
       "<Figure size 432x288 with 1 Axes>"
      ]
     },
     "metadata": {
      "needs_background": "light"
     },
     "output_type": "display_data"
    }
   ],
   "source": [
    "x = list(score_by_turn.keys())\n",
    "x.sort()\n",
    "y = [score_by_turn[key][\"slot_acc\"] for key in x]\n",
    "\n",
    "x_c = list(score_by_turn_c.keys())\n",
    "x_c.sort()\n",
    "y_c = [score_by_turn_c[key][\"slot_acc\"] for key in x_c]\n",
    "\n",
    "\n",
    "fig, ax = plt.subplots()\n",
    "X_axis = np.arange(len(x))\n",
    "ax.set_ylim([0.9, 1])\n",
    "ax.bar(X_axis-0.2, y, 0.4, label=\"bart_adapter_no_curriculum\")\n",
    "ax.bar(X_axis+0.2, y_c, 0.4, label=\"bart_adapter_with_curriculum\")\n",
    "ax.set_title('Slot Accuracy by Turns')\n",
    "ax.legend()\n",
    "fig.savefig(f\"slot_acc_by_turns.jpg\", dpi=300, bbox_inches=\"tight\")"
   ]
  },
  {
   "cell_type": "code",
   "execution_count": 24,
   "id": "9ff6791f-4f57-4c09-a14f-63e052ff783b",
   "metadata": {},
   "outputs": [
    {
     "data": {
      "image/png": "[encoded data removed]",
      "text/plain": [
       "<Figure size 432x288 with 1 Axes>"
      ]
     },
     "metadata": {
      "needs_background": "light"
     },
     "output_type": "display_data"
    }
   ],
   "source": [
    "x = list(score_by_turn.keys())\n",
    "x.sort()\n",
    "y = [score_by_turn[key][\"r_slot_acc\"] for key in x]\n",
    "\n",
    "x_c = list(score_by_turn_c.keys())\n",
    "x_c.sort()\n",
    "y_c = [score_by_turn_c[key][\"r_slot_acc\"] for key in x_c]\n",
    "\n",
    "fig, ax = plt.subplots()\n",
    "X_axis = np.arange(len(x))\n",
    "ax.set_ylim([0.7, 1])\n",
    "ax.bar(X_axis-0.2, y, 0.4, label=\"bart_adapter_no_curriculum\")\n",
    "ax.bar(X_axis+0.2, y_c, 0.4, label=\"bart_adapter_with_curriculum\")\n",
    "ax.set_title('Relative Slot Accuracy by Turns')\n",
    "ax.legend()\n",
    "fig.savefig(f\"r_slot_acc_by_turns.jpg\", dpi=300, bbox_inches=\"tight\")"
   ]
  },
  {
   "cell_type": "code",
   "execution_count": 29,
   "id": "3e571d57-dffd-4f9f-8e72-07358c103c68",
   "metadata": {},
   "outputs": [],
   "source": [
    "from tqdm.auto import tqdm\n",
    "\n",
    "from utils.Constants import SLOT_VALS\n",
    "from utils.dst import ignore_none, default_cleaning\n",
    "\n",
    "slot_template = {slot: \"\" for slot in SLOT_VALS}\n",
    "\n",
    "\n",
    "def get_slot_map(slot_triplet_str_list):\n",
    "    slot_map = slot_template.copy()\n",
    "    for slot_triplet_str in slot_triplet_str_list:\n",
    "        slot_triplets = slot_triplet_str.split()\n",
    "        key = slot_triplets[0] + \" \" + slot_triplets[1]\n",
    "        val = slot_triplets[2:]\n",
    "        if key not in SLOT_VALS:\n",
    "            continue\n",
    "        slot_map[key] = val\n",
    "    return slot_map\n",
    "\n",
    "\n",
    "def get_unique_slot_map(preds, targets):\n",
    "    unique_slots = set()\n",
    "    pred_map = {}\n",
    "    target_map = {}\n",
    "\n",
    "    for pred_str in preds:\n",
    "        triplet = pred_str.split()\n",
    "        key = triplet[0] + \" \" + triplet[1]\n",
    "        val = triplet[2:]\n",
    "        if key not in SLOT_VALS:\n",
    "            continue\n",
    "        pred_map[key] = val\n",
    "        unique_slots.add(key)\n",
    "\n",
    "    for target_str in targets:\n",
    "        triplet = target_str.split()\n",
    "        key = triplet[0] + \" \" + triplet[1]\n",
    "        val = triplet[2:]\n",
    "        if key not in SLOT_VALS:\n",
    "            continue\n",
    "        target_map[key] = val\n",
    "        unique_slots.add(key)\n",
    "\n",
    "    return unique_slots.copy(), pred_map.copy(), target_map.copy()\n",
    "\n",
    "\n",
    "def evaluate_dst(input_results):\n",
    "    num_turns = 0\n",
    "    joint_acc = 0\n",
    "    slot_acc = 0\n",
    "    r_slot_acc = 0\n",
    "\n",
    "    num_slots = len(SLOT_VALS)\n",
    "    num_r_slots = 0\n",
    "\n",
    "    clean_tokens = [\"<s>\", \"</s>\"]\n",
    "\n",
    "    results = input_results.copy()\n",
    "\n",
    "    for dial in tqdm(results.keys()):\n",
    "        dialogue_pred = results[dial][\"generated_turn_belief\"]\n",
    "        dialogue_target = results[dial][\"target_turn_belief\"]\n",
    "        # print(dialogue_pred, dialogue_target)\n",
    "        for turn_id, (turn_target, turn_pred) in enumerate(\n",
    "            zip(dialogue_target, dialogue_pred)\n",
    "        ):\n",
    "\n",
    "            # clean\n",
    "            for bs in turn_pred:\n",
    "                if bs in clean_tokens + [\"\", \" \"] or bs.split()[-1] == \"none\":\n",
    "                    turn_pred.remove(bs)\n",
    "\n",
    "            new_turn_pred = []\n",
    "            for bs in turn_pred:\n",
    "                for tok in clean_tokens:\n",
    "                    bs = bs.replace(tok, \"\").strip()\n",
    "                    new_turn_pred.append(bs)\n",
    "            turn_pred = new_turn_pred\n",
    "\n",
    "            turn_pred, turn_target = ignore_none(turn_pred, turn_target)\n",
    "            # if num_turns==3441:\n",
    "            #     print(turn_pred, turn_target)\n",
    "            # print(num_turns)\n",
    "            turn_pred, turn_target = default_cleaning(turn_pred, turn_target)\n",
    "            # if num_turns==3441:\n",
    "            #     print(turn_pred, turn_target)\n",
    "\n",
    "            join_flag = False\n",
    "\n",
    "            # calculate joint accuracy\n",
    "            if set(turn_target) == set(turn_pred):\n",
    "                joint_acc += 1\n",
    "                join_flag = True\n",
    "\n",
    "            pred_slot_map = get_slot_map(turn_pred)\n",
    "            target_slot_map = get_slot_map(turn_target)\n",
    "\n",
    "            # calculate slot accuracy\n",
    "            for slot_key in SLOT_VALS:\n",
    "                if target_slot_map[slot_key] == pred_slot_map[slot_key]:\n",
    "                    slot_acc += 1\n",
    "\n",
    "            # calculate relative slot accuracy\n",
    "            (\n",
    "                unique_slots,\n",
    "                unique_pred_map,\n",
    "                unique_target_map,\n",
    "            ) = get_unique_slot_map(turn_pred, turn_target)\n",
    "            for slot_key in unique_slots:\n",
    "                if slot_key not in unique_target_map.keys():\n",
    "                    continue\n",
    "                if slot_key not in unique_pred_map.keys():\n",
    "                    continue\n",
    "                if unique_target_map[slot_key] == unique_pred_map[slot_key]:\n",
    "                    r_slot_acc += 1\n",
    "            num_r_slots += len(unique_slots)\n",
    "\n",
    "            num_turns += 1\n",
    "    joint_acc /= num_turns\n",
    "    slot_acc /= num_slots * num_turns\n",
    "    r_slot_acc /= num_r_slots\n",
    "    print(\"joint accuracy: {}\".format(joint_acc))\n",
    "    print(\"slot accuracy: {}\".format(slot_acc))\n",
    "    print(\"relative slot accuracy: {}\".format(r_slot_acc))\n",
    "    return {\n",
    "        \"joint_acc\": joint_acc,\n",
    "        \"slot_acc\": slot_acc,\n",
    "        \"r_slot_acc\": r_slot_acc,\n",
    "    }\n"
   ]
  },
  {
   "cell_type": "code",
   "execution_count": 8,
   "id": "17f29e4e-0b4b-4498-81e5-1411375c5a1f",
   "metadata": {},
   "outputs": [
    {
     "data": {
      "application/vnd.jupyter.widget-view+json": {
       "model_id": "1f92e397940f4481bcf2cb86ba57a11c",
       "version_major": 2,
       "version_minor": 0
      },
      "text/plain": [
       "  0%|          | 0/7372 [00:00<?, ?it/s]"
      ]
     },
     "metadata": {},
     "output_type": "display_data"
    }
   ],
   "source": [
    "texts = []\n",
    "with open('bart_finetune_course_4_with_modified_inference.test.pred.txt') as f:\n",
    "    lines = f.readlines()\n",
    "    for line in tqdm(lines):\n",
    "        texts += [line]"
   ]
  },
  {
   "cell_type": "code",
   "execution_count": 35,
   "id": "9a0410cb-2598-4ff4-b884-6f789ae9fae0",
   "metadata": {},
   "outputs": [],
   "source": [
    "import re\n",
    "\n",
    "\n",
    "def postprocessing(ds):\n",
    "    \"\"\"\n",
    "    input ds: dialog state for the current turn as string\n",
    "    return prediction: valued prediction as list of triplet\n",
    "    \"\"\"\n",
    "    eob_token = \"<|endofbelief|>\"\n",
    "    if eob_token in ds:\n",
    "        ds = ds[:ds.index(eob_token)] + eob_token\n",
    "    current_belief = re.search(\"<\\|belief\\|> (.*) <\\|endofbelief\\|>\", ds)\n",
    "    \n",
    "    if not current_belief:\n",
    "        return []\n",
    "    \n",
    "    current_belief = current_belief.group(1)\n",
    "\n",
    "    belief_list = re.split(\n",
    "        \", \", current_belief\n",
    "    )  # here can split by \", domain\", in case using commas alone is not enough\n",
    "    prediction = []\n",
    "    for x in belief_list:\n",
    "        not_mentioned = re.search(\"not mentioned\", x)\n",
    "        if not_mentioned == None and x.strip() and len(x.strip().split()) > 2:\n",
    "            prediction.append(x)\n",
    "\n",
    "    return prediction\n",
    "\n"
   ]
  },
  {
   "cell_type": "code",
   "execution_count": 36,
   "id": "165a3a2c-6eac-4d49-b3cf-14340d47372b",
   "metadata": {},
   "outputs": [
    {
     "data": {
      "application/vnd.jupyter.widget-view+json": {
       "model_id": "dabcd1ab160a4b86a76b92e12dbd9e11",
       "version_major": 2,
       "version_minor": 0
      },
      "text/plain": [
       "  0%|          | 0/7372 [00:00<?, ?it/s]"
      ]
     },
     "metadata": {},
     "output_type": "display_data"
    }
   ],
   "source": [
    "# from postprocessing import postprocessing\n",
    "split = \"test\"\n",
    "turn_id = 0\n",
    "results = {}\n",
    "for text in tqdm(texts):\n",
    "    gold_text = dataset[split][\"turn\"][turn_id]\n",
    "\n",
    "    dialogue_id = dataset[split][\"conversation_id\"][turn_id]\n",
    "    if dialogue_id not in results.keys():\n",
    "        results[dialogue_id] = {\n",
    "            \"generated_turn_belief\": [],\n",
    "            \"target_turn_belief\": [],\n",
    "        }\n",
    "\n",
    "    results[dialogue_id][\"generated_turn_belief\"] += [\n",
    "        postprocessing(text)\n",
    "    ]\n",
    "    results[dialogue_id][\"target_turn_belief\"] += [\n",
    "        postprocessing(gold_text)\n",
    "    ]\n",
    "\n",
    "    turn_id += 1"
   ]
  },
  {
   "cell_type": "code",
   "execution_count": 37,
   "id": "cf000abc-edb6-4633-a6d0-0d9d61eede90",
   "metadata": {},
   "outputs": [
    {
     "data": {
      "application/vnd.jupyter.widget-view+json": {
       "model_id": "9c7827863c2d4296b312bf232c234624",
       "version_major": 2,
       "version_minor": 0
      },
      "text/plain": [
       "  0%|          | 0/999 [00:00<?, ?it/s]"
      ]
     },
     "metadata": {},
     "output_type": "display_data"
    },
    {
     "name": "stdout",
     "output_type": "stream",
     "text": [
      "['hotel parking people none mentioned', 'hotel parking people none mentioned', 'train departure cambridge', 'train departure cambridge', 'train name than mentioned', 'train name than mentioned', 'attraction book time none mentioned', 'attraction book time none mentioned', 'attraction pr than mentioned', 'attraction pr than mentioned', 'attraction departure than mentioned', 'attraction departure than mentioned', 'restaurant arriveat 10 mentioned', 'restaurant arriveat 10 mentioned'] ['restaurant name thanh binh ', 'train leaveat 10:30 ', 'train destination norwich ', 'train day thursday ', 'train departure cambridge ', 'train book people 8']\n",
      "['hotel parking people none mentioned', 'hotel parking people none mentioned', 'train departure cambridge', 'train departure cambridge', 'train name than mentioned', 'train name than mentioned', 'attraction book time none mentioned', 'attraction book time none mentioned', 'attraction pr than mentioned', 'attraction pr than mentioned', 'attraction departure than mentioned', 'attraction departure than mentioned', 'restaurant arriveat 10 mentioned', 'restaurant arriveat 10 mentioned'] ['restaurant name thanh binh', 'train leaveat 10:30', 'train destination norwich', 'train day thursday', 'train departure cambridge', 'train book people 8']\n",
      "joint accuracy: 0.00013564839934888768\n",
      "slot accuracy: 0.8183492902525685\n",
      "relative slot accuracy: 0.03878392145966472\n"
     ]
    },
    {
     "data": {
      "text/plain": [
       "{'joint_acc': 0.00013564839934888768,\n",
       " 'slot_acc': 0.8183492902525685,\n",
       " 'r_slot_acc': 0.03878392145966472}"
      ]
     },
     "execution_count": 37,
     "metadata": {},
     "output_type": "execute_result"
    }
   ],
   "source": [
    "evaluate_dst(results)"
   ]
  },
  {
   "cell_type": "code",
   "execution_count": 31,
   "id": "87179e31-27fd-4424-b063-0965fcb71a16",
   "metadata": {},
   "outputs": [],
   "source": [
    "import json\n",
    "with open('bart_finetune_course_4_with_modified_inference_test_pred.json') as f:\n",
    "    modified_inference_ds = json.load(f)"
   ]
  },
  {
   "cell_type": "code",
   "execution_count": 32,
   "id": "76fb9df1-26a3-4b67-9c3b-b131b0569777",
   "metadata": {},
   "outputs": [
    {
     "data": {
      "application/vnd.jupyter.widget-view+json": {
       "model_id": "97b4e5e76dae4047bd4489a7d3c5dde7",
       "version_major": 2,
       "version_minor": 0
      },
      "text/plain": [
       "  0%|          | 0/999 [00:00<?, ?it/s]"
      ]
     },
     "metadata": {},
     "output_type": "display_data"
    },
    {
     "name": "stdout",
     "output_type": "stream",
     "text": [
      "['hotel parking people none mentioned', 'hotel parking people none mentioned', 'train departure cambridge', 'train departure cambridge', 'train name than mentioned', 'train name than mentioned', 'attraction book time none mentioned', 'attraction book time none mentioned', 'attraction pr than mentioned', 'attraction pr than mentioned', 'attraction departure than mentioned', 'attraction departure than mentioned', 'restaurant arriveat 10 mentioned', 'restaurant arriveat 10 mentioned', '</s></s></s></s> <|endofbelief|> </s></s></s></s>', '<|endofbelief|>', '</s></s> book nor mentioned', 'book nor mentioned', 'train bookat 10 mentioned', 'train bookat 10 mentioned', '</s> area people not', 'area people not', '</s> train</s></s>at mentioned', 'trainat mentioned', 'train</s></s> not th', 'train not th'] ['restaurant name thanh binh ', 'train leaveat 10:30 ', 'train destination norwich ', 'train day thursday ', 'train departure cambridge ', 'train book people 8']\n"
     ]
    },
    {
     "ename": "IndexError",
     "evalue": "list index out of range",
     "output_type": "error",
     "traceback": [
      "\u001b[0;31m---------------------------------------------------------------------------\u001b[0m",
      "\u001b[0;31mIndexError\u001b[0m                                Traceback (most recent call last)",
      "\u001b[0;32m<ipython-input-32-b7f93e4a4661>\u001b[0m in \u001b[0;36m<module>\u001b[0;34m\u001b[0m\n\u001b[0;32m----> 1\u001b[0;31m \u001b[0mevaluate_dst\u001b[0m\u001b[0;34m(\u001b[0m\u001b[0mmodified_inference_ds\u001b[0m\u001b[0;34m)\u001b[0m\u001b[0;34m\u001b[0m\u001b[0;34m\u001b[0m\u001b[0m\n\u001b[0m",
      "\u001b[0;32m<ipython-input-29-100ee7b8b2de>\u001b[0m in \u001b[0;36mevaluate_dst\u001b[0;34m(input_results)\u001b[0m\n\u001b[1;32m     82\u001b[0m                 \u001b[0mprint\u001b[0m\u001b[0;34m(\u001b[0m\u001b[0mturn_pred\u001b[0m\u001b[0;34m,\u001b[0m \u001b[0mturn_target\u001b[0m\u001b[0;34m)\u001b[0m\u001b[0;34m\u001b[0m\u001b[0;34m\u001b[0m\u001b[0m\n\u001b[1;32m     83\u001b[0m             \u001b[0;31m# print(num_turns)\u001b[0m\u001b[0;34m\u001b[0m\u001b[0;34m\u001b[0m\u001b[0;34m\u001b[0m\u001b[0m\n\u001b[0;32m---> 84\u001b[0;31m             \u001b[0mturn_pred\u001b[0m\u001b[0;34m,\u001b[0m \u001b[0mturn_target\u001b[0m \u001b[0;34m=\u001b[0m \u001b[0mdefault_cleaning\u001b[0m\u001b[0;34m(\u001b[0m\u001b[0mturn_pred\u001b[0m\u001b[0;34m,\u001b[0m \u001b[0mturn_target\u001b[0m\u001b[0;34m)\u001b[0m\u001b[0;34m\u001b[0m\u001b[0;34m\u001b[0m\u001b[0m\n\u001b[0m\u001b[1;32m     85\u001b[0m             \u001b[0;32mif\u001b[0m \u001b[0mnum_turns\u001b[0m\u001b[0;34m==\u001b[0m\u001b[0;36m3441\u001b[0m\u001b[0;34m:\u001b[0m\u001b[0;34m\u001b[0m\u001b[0;34m\u001b[0m\u001b[0m\n\u001b[1;32m     86\u001b[0m                 \u001b[0mprint\u001b[0m\u001b[0;34m(\u001b[0m\u001b[0mturn_pred\u001b[0m\u001b[0;34m,\u001b[0m \u001b[0mturn_target\u001b[0m\u001b[0;34m)\u001b[0m\u001b[0;34m\u001b[0m\u001b[0;34m\u001b[0m\u001b[0m\n",
      "\u001b[0;32m~/CodeNest/ucsc-nlp-244-dst/utils/dst.py\u001b[0m in \u001b[0;36mdefault_cleaning\u001b[0;34m(pred_belief, target_belief)\u001b[0m\n\u001b[1;32m    146\u001b[0m             \u001b[0mval\u001b[0m \u001b[0;34m=\u001b[0m \u001b[0;34m' '\u001b[0m\u001b[0;34m.\u001b[0m\u001b[0mjoin\u001b[0m\u001b[0;34m(\u001b[0m\u001b[0mpred\u001b[0m\u001b[0;34m.\u001b[0m\u001b[0msplit\u001b[0m\u001b[0;34m(\u001b[0m\u001b[0;34m)\u001b[0m\u001b[0;34m[\u001b[0m\u001b[0;36m3\u001b[0m\u001b[0;34m:\u001b[0m\u001b[0;34m]\u001b[0m\u001b[0;34m)\u001b[0m\u001b[0;34m\u001b[0m\u001b[0;34m\u001b[0m\u001b[0m\n\u001b[1;32m    147\u001b[0m         \u001b[0;32melse\u001b[0m\u001b[0;34m:\u001b[0m\u001b[0;34m\u001b[0m\u001b[0;34m\u001b[0m\u001b[0m\n\u001b[0;32m--> 148\u001b[0;31m             \u001b[0mslot\u001b[0m \u001b[0;34m=\u001b[0m \u001b[0mpred\u001b[0m\u001b[0;34m.\u001b[0m\u001b[0msplit\u001b[0m\u001b[0;34m(\u001b[0m\u001b[0;34m)\u001b[0m\u001b[0;34m[\u001b[0m\u001b[0;36m1\u001b[0m\u001b[0;34m]\u001b[0m\u001b[0;34m\u001b[0m\u001b[0;34m\u001b[0m\u001b[0m\n\u001b[0m\u001b[1;32m    149\u001b[0m             \u001b[0mval\u001b[0m \u001b[0;34m=\u001b[0m \u001b[0;34m' '\u001b[0m\u001b[0;34m.\u001b[0m\u001b[0mjoin\u001b[0m\u001b[0;34m(\u001b[0m\u001b[0mpred\u001b[0m\u001b[0;34m.\u001b[0m\u001b[0msplit\u001b[0m\u001b[0;34m(\u001b[0m\u001b[0;34m)\u001b[0m\u001b[0;34m[\u001b[0m\u001b[0;36m2\u001b[0m\u001b[0;34m:\u001b[0m\u001b[0;34m]\u001b[0m\u001b[0;34m)\u001b[0m\u001b[0;34m\u001b[0m\u001b[0;34m\u001b[0m\u001b[0m\n\u001b[1;32m    150\u001b[0m \u001b[0;34m\u001b[0m\u001b[0m\n",
      "\u001b[0;31mIndexError\u001b[0m: list index out of range"
     ]
    }
   ],
   "source": [
    "evaluate_dst(modified_inference_ds)"
   ]
  },
  {
   "cell_type": "code",
   "execution_count": 22,
   "id": "7122128f-3ed7-479b-b79e-6ccd7ff45598",
   "metadata": {},
   "outputs": [
    {
     "data": {
      "text/plain": [
       "(['attraction type queens mentioned',\n",
       "  'attraction type queens mentioned',\n",
       "  'hotel book stay 1 mentioned',\n",
       "  'hotel book stay 1 mentioned',\n",
       "  'hotel parking day m mentioned',\n",
       "  'hotel parking day m mentioned',\n",
       "  'attraction departure day none mentioned',\n",
       "  'attraction departure day none mentioned'],\n",
       " [])"
      ]
     },
     "execution_count": 22,
     "metadata": {},
     "output_type": "execute_result"
    }
   ],
   "source": [
    "default_cleaning(['attraction type queens mentioned', 'attraction type queens mentioned', 'hotel book stay 1 mentioned', 'hotel book stay 1 mentioned', 'hotel parking day m mentioned', 'hotel parking day m mentioned', 'attraction departure day none mentioned', 'attraction departure day none mentioned'], [])"
   ]
  },
  {
   "cell_type": "code",
   "execution_count": null,
   "id": "82e05f87-7b47-4a36-9398-3582ed9b1d0e",
   "metadata": {},
   "outputs": [],
   "source": [
    "evaluate_dst(results)"
   ]
  },
  {
   "cell_type": "code",
   "execution_count": null,
   "id": "40355472-6012-4293-87bf-143249c0c6bf",
   "metadata": {},
   "outputs": [],
   "source": []
  }
 ],
 "metadata": {
  "kernelspec": {
   "display_name": "Python 3",
   "language": "python",
   "name": "python3"
  },
  "language_info": {
   "codemirror_mode": {
    "name": "ipython",
    "version": 3
   },
   "file_extension": ".py",
   "mimetype": "text/x-python",
   "name": "python",
   "nbconvert_exporter": "python",
   "pygments_lexer": "ipython3",
   "version": "3.8.12"
  }
 },
 "nbformat": 4,
 "nbformat_minor": 5
}
