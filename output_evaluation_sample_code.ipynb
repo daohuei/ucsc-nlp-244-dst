{
 "cells": [
  {
   "cell_type": "code",
   "execution_count": 1,
   "id": "67e6c660-78a4-4917-961c-46eda35345c0",
   "metadata": {},
   "outputs": [],
   "source": [
    "with open('baseline.test.pred.txt') as f:\n",
    "    lines = f.readlines()"
   ]
  },
  {
   "cell_type": "code",
   "execution_count": 15,
   "id": "7d8a4503-1ece-43e9-9ce3-7e92e437afb9",
   "metadata": {},
   "outputs": [
    {
     "data": {
      "application/vnd.jupyter.widget-view+json": {
       "model_id": "01ccaece4c3b4dd2a80191e91502eef3",
       "version_major": 2,
       "version_minor": 0
      },
      "text/plain": [
       "  0%|          | 0/7374 [00:00<?, ?it/s]"
      ]
     },
     "metadata": {},
     "output_type": "display_data"
    }
   ],
   "source": [
    "baseline_dev_texts = []\n",
    "with open('baseline.dev.pred.txt') as f:\n",
    "    lines = f.readlines()\n",
    "    for line in tqdm(lines):\n",
    "        baseline_dev_texts += [line]"
   ]
  },
  {
   "cell_type": "code",
   "execution_count": 1,
   "id": "20becdf7-8d4e-409b-b3fd-8f61c7028ff1",
   "metadata": {},
   "outputs": [],
   "source": [
    "import json"
   ]
  },
  {
   "cell_type": "code",
   "execution_count": 2,
   "id": "8bd85b90-6668-4518-aacd-72c789773f6b",
   "metadata": {},
   "outputs": [
    {
     "name": "stderr",
     "output_type": "stream",
     "text": [
      "Using custom data configuration default-fa91ae44cff1e0ff\n",
      "Reusing dataset multi_woz_dataset (/data/users/cting3/.cache/huggingface/datasets/multi_woz_dataset/default-fa91ae44cff1e0ff/0.0.0/f68a68638b040ca98e35780d893ba6dd439629d12a3b62bdda1ba2e3d7a88647)\n"
     ]
    },
    {
     "data": {
      "application/vnd.jupyter.widget-view+json": {
       "model_id": "70c838bcc3fb466cbf48a02db3d92886",
       "version_major": 2,
       "version_minor": 0
      },
      "text/plain": [
       "  0%|          | 0/3 [00:00<?, ?it/s]"
      ]
     },
     "metadata": {},
     "output_type": "display_data"
    },
    {
     "name": "stderr",
     "output_type": "stream",
     "text": [
      "Loading cached processed dataset at /data/users/cting3/.cache/huggingface/datasets/multi_woz_dataset/default-fa91ae44cff1e0ff/0.0.0/f68a68638b040ca98e35780d893ba6dd439629d12a3b62bdda1ba2e3d7a88647/cache-a1c988fe37507e5f.arrow\n",
      "Loading cached processed dataset at /data/users/cting3/.cache/huggingface/datasets/multi_woz_dataset/default-fa91ae44cff1e0ff/0.0.0/f68a68638b040ca98e35780d893ba6dd439629d12a3b62bdda1ba2e3d7a88647/cache-339ba30f507aa4aa.arrow\n",
      "Loading cached processed dataset at /data/users/cting3/.cache/huggingface/datasets/multi_woz_dataset/default-fa91ae44cff1e0ff/0.0.0/f68a68638b040ca98e35780d893ba6dd439629d12a3b62bdda1ba2e3d7a88647/cache-aeb133aae4fea810.arrow\n"
     ]
    }
   ],
   "source": [
    "\n",
    "from pathlib import Path\n",
    "from datasets import Dataset, load_dataset, Split\n",
    "from data.dataset.data_augmentations import flatten_conversation\n",
    "\n",
    "data_dir = Path(\"resources/bart/\")\n",
    "\n",
    "data_files = {\n",
    "    Split.TRAIN: str((data_dir / \"train.history_belief\").absolute()),\n",
    "    Split.VALIDATION: str((data_dir / \"val.history_belief\").absolute()),\n",
    "    Split.TEST: str((data_dir / \"test.history_belief\").absolute()),\n",
    "}\n",
    "\n",
    "dataset = load_dataset(\n",
    "    \"data/dataset/multiwoz_dataset.py\", data_files=data_files\n",
    ")\n",
    "dataset = dataset.map(\n",
    "    flatten_conversation,\n",
    "    batched=True,\n",
    "    remove_columns=dataset[\"train\"].column_names,\n",
    ")"
   ]
  },
  {
   "cell_type": "code",
   "execution_count": 3,
   "id": "fc82dc49-7790-4623-bd73-39fc1078f60c",
   "metadata": {},
   "outputs": [],
   "source": [
    "from tqdm.auto import tqdm\n",
    "from postprocessing import postprocessing"
   ]
  },
  {
   "cell_type": "code",
   "execution_count": 7,
   "id": "244dbc43-ba45-4343-a587-ce5cfb6bc243",
   "metadata": {},
   "outputs": [
    {
     "data": {
      "application/vnd.jupyter.widget-view+json": {
       "model_id": "158190d9ebe7427899527e5fa73deb23",
       "version_major": 2,
       "version_minor": 0
      },
      "text/plain": [
       "  0%|          | 0/7372 [00:00<?, ?it/s]"
      ]
     },
     "metadata": {},
     "output_type": "display_data"
    }
   ],
   "source": [
    "\n",
    "split=\"test\"\n",
    "results = {}\n",
    "turn_id = 0\n",
    "for prediction_text in tqdm(lines):\n",
    "    gold_text = dataset[split][\"turn\"][turn_id]\n",
    "\n",
    "    dialogue_id = dataset[split][\"conversation_id\"][turn_id]\n",
    "    if dialogue_id not in results.keys():\n",
    "        results[dialogue_id] = {\n",
    "            \"generated_turn_belief\": [],\n",
    "            \"target_turn_belief\": [],\n",
    "        }\n",
    "\n",
    "    results[dialogue_id][\"generated_turn_belief\"] += [\n",
    "        postprocessing(prediction_text)\n",
    "    ]\n",
    "    results[dialogue_id][\"target_turn_belief\"] += [\n",
    "        postprocessing(gold_text)\n",
    "    ]\n",
    "\n",
    "    turn_id += 1\n"
   ]
  },
  {
   "cell_type": "code",
   "execution_count": 17,
   "id": "abce3c86-a89c-46c0-bc16-3fd8f6e61e64",
   "metadata": {},
   "outputs": [
    {
     "data": {
      "application/vnd.jupyter.widget-view+json": {
       "model_id": "6c80e89e406c4c2f87934f1ccee0479d",
       "version_major": 2,
       "version_minor": 0
      },
      "text/plain": [
       "  0%|          | 0/7374 [00:00<?, ?it/s]"
      ]
     },
     "metadata": {},
     "output_type": "display_data"
    }
   ],
   "source": [
    "split=\"validation\"\n",
    "baseline_dev_results = {}\n",
    "turn_id = 0\n",
    "for prediction_text in tqdm(baseline_dev_texts):\n",
    "    gold_text = dataset[split][\"turn\"][turn_id]\n",
    "\n",
    "    dialogue_id = dataset[split][\"conversation_id\"][turn_id]\n",
    "    if dialogue_id not in baseline_dev_results.keys():\n",
    "        baseline_dev_results[dialogue_id] = {\n",
    "            \"generated_turn_belief\": [],\n",
    "            \"target_turn_belief\": [],\n",
    "        }\n",
    "\n",
    "    baseline_dev_results[dialogue_id][\"generated_turn_belief\"] += [\n",
    "        postprocessing(prediction_text)\n",
    "    ]\n",
    "    baseline_dev_results[dialogue_id][\"target_turn_belief\"] += [\n",
    "        postprocessing(gold_text)\n",
    "    ]\n",
    "\n",
    "    turn_id += 1\n"
   ]
  },
  {
   "cell_type": "code",
   "execution_count": 18,
   "id": "34e4870d-45b6-4228-b50c-31086920ae8e",
   "metadata": {},
   "outputs": [],
   "source": [
    "with open(\"baseline_dev_pred.json\", \"w\") as outfile:\n",
    "    json.dump(baseline_dev_results, outfile)"
   ]
  },
  {
   "cell_type": "code",
   "execution_count": 25,
   "id": "41b86d45-3b53-41c7-b9dd-0aef5e8c17cd",
   "metadata": {},
   "outputs": [
    {
     "data": {
      "application/vnd.jupyter.widget-view+json": {
       "model_id": "6bde4d6fb44948bf9a5243618832f82a",
       "version_major": 2,
       "version_minor": 0
      },
      "text/plain": [
       "  0%|          | 0/7374 [00:00<?, ?it/s]"
      ]
     },
     "metadata": {},
     "output_type": "display_data"
    },
    {
     "data": {
      "application/vnd.jupyter.widget-view+json": {
       "model_id": "53c4cbe7a8cc4f8bb6a85371d9593bf9",
       "version_major": 2,
       "version_minor": 0
      },
      "text/plain": [
       "  0%|          | 0/7374 [00:00<?, ?it/s]"
      ]
     },
     "metadata": {},
     "output_type": "display_data"
    }
   ],
   "source": [
    "adapter_no_c_dev_texts = []\n",
    "with open('adapter_no_c.dev.pred.txt') as f:\n",
    "    lines = f.readlines()\n",
    "    for line in tqdm(lines):\n",
    "        adapter_no_c_dev_texts += [line]\n",
    "        \n",
    "split=\"validation\"\n",
    "adapter_no_c_dev_results = {}\n",
    "turn_id = 0\n",
    "for prediction_text in tqdm(adapter_no_c_dev_texts):\n",
    "    gold_text = dataset[split][\"turn\"][turn_id]\n",
    "\n",
    "    dialogue_id = dataset[split][\"conversation_id\"][turn_id]\n",
    "    if dialogue_id not in adapter_no_c_dev_results.keys():\n",
    "        adapter_no_c_dev_results[dialogue_id] = {\n",
    "            \"generated_turn_belief\": [],\n",
    "            \"target_turn_belief\": [],\n",
    "        }\n",
    "\n",
    "    adapter_no_c_dev_results[dialogue_id][\"generated_turn_belief\"] += [\n",
    "        postprocessing(prediction_text)\n",
    "    ]\n",
    "    adapter_no_c_dev_results[dialogue_id][\"target_turn_belief\"] += [\n",
    "        postprocessing(gold_text)\n",
    "    ]\n",
    "\n",
    "    turn_id += 1\n",
    "    \n",
    "with open(\"adapter_no_c_dev_pred.json\", \"w\") as outfile:\n",
    "    json.dump(adapter_no_c_dev_results, outfile)"
   ]
  },
  {
   "cell_type": "code",
   "execution_count": 26,
   "id": "b31223f1-a247-4cb9-a211-6504a3c26069",
   "metadata": {},
   "outputs": [
    {
     "data": {
      "application/vnd.jupyter.widget-view+json": {
       "model_id": "c76509c7764645e999d6b94590d80636",
       "version_major": 2,
       "version_minor": 0
      },
      "text/plain": [
       "  0%|          | 0/7372 [00:00<?, ?it/s]"
      ]
     },
     "metadata": {},
     "output_type": "display_data"
    },
    {
     "data": {
      "application/vnd.jupyter.widget-view+json": {
       "model_id": "4ac08256c1e44473b1833c49d39de30d",
       "version_major": 2,
       "version_minor": 0
      },
      "text/plain": [
       "  0%|          | 0/7372 [00:00<?, ?it/s]"
      ]
     },
     "metadata": {},
     "output_type": "display_data"
    }
   ],
   "source": [
    "adapter_no_c_test_texts = []\n",
    "with open('adapter_no_c.test.pred.txt') as f:\n",
    "    lines = f.readlines()\n",
    "    for line in tqdm(lines):\n",
    "        adapter_no_c_test_texts += [line]\n",
    "        \n",
    "split=\"test\"\n",
    "adapter_no_c_test_results = {}\n",
    "turn_id = 0\n",
    "for prediction_text in tqdm(adapter_no_c_test_texts):\n",
    "    gold_text = dataset[split][\"turn\"][turn_id]\n",
    "\n",
    "    dialogue_id = dataset[split][\"conversation_id\"][turn_id]\n",
    "    if dialogue_id not in adapter_no_c_test_results.keys():\n",
    "        adapter_no_c_test_results[dialogue_id] = {\n",
    "            \"generated_turn_belief\": [],\n",
    "            \"target_turn_belief\": [],\n",
    "        }\n",
    "\n",
    "    adapter_no_c_test_results[dialogue_id][\"generated_turn_belief\"] += [\n",
    "        postprocessing(prediction_text)\n",
    "    ]\n",
    "    adapter_no_c_test_results[dialogue_id][\"target_turn_belief\"] += [\n",
    "        postprocessing(gold_text)\n",
    "    ]\n",
    "\n",
    "    turn_id += 1\n",
    "    \n",
    "with open(\"adapter_no_c_test_pred.json\", \"w\") as outfile:\n",
    "    json.dump(adapter_no_c_test_results, outfile)"
   ]
  },
  {
   "cell_type": "code",
   "execution_count": null,
   "id": "d38b45e3-2fb4-494f-b449-8c13dd200636",
   "metadata": {},
   "outputs": [],
   "source": []
  },
  {
   "cell_type": "code",
   "execution_count": 2,
   "id": "0dc50d8e-2878-4ea8-9faa-9f90ccb3027e",
   "metadata": {},
   "outputs": [
    {
     "data": {
      "text/plain": [
       "7372"
      ]
     },
     "execution_count": 2,
     "metadata": {},
     "output_type": "execute_result"
    }
   ],
   "source": [
    "len(lines)"
   ]
  },
  {
   "cell_type": "code",
   "execution_count": 9,
   "id": "8365c073-90af-43be-be8a-68a6e4275b9c",
   "metadata": {},
   "outputs": [],
   "source": [
    "import json"
   ]
  },
  {
   "cell_type": "code",
   "execution_count": 5,
   "id": "8718125b-1be8-481c-bdc8-f30df8788547",
   "metadata": {},
   "outputs": [],
   "source": [
    "# with open(\"baseline_test_pred.json\", \"w\") as outfile:\n",
    "#     json.dump(results, outfile)"
   ]
  },
  {
   "cell_type": "code",
   "execution_count": 27,
   "id": "fe08685f-d01b-498f-bf5b-026216a75cda",
   "metadata": {},
   "outputs": [],
   "source": [
    "\n",
    "with open('baseline_dev_pred.json') as f:\n",
    "    dev_baseline_results = json.load(f)\n",
    "with open('baseline_test_pred.json') as f:\n",
    "    test_baseline_results = json.load(f)\n",
    "    \n",
    "with open('adapter_no_c_dev_pred.json') as f:\n",
    "    dev_adapter_no_c_results = json.load(f)\n",
    "with open('adapter_no_c_test_pred.json') as f:\n",
    "    test_adapter_no_c_results = json.load(f)\n",
    "    "
   ]
  },
  {
   "cell_type": "code",
   "execution_count": 28,
   "id": "15ae66a9-96f3-4dcc-a35a-c2e71092411e",
   "metadata": {},
   "outputs": [],
   "source": [
    "from tqdm.auto import tqdm\n",
    "\n",
    "from utils.Constants import SLOT_VALS\n",
    "from utils.dst import ignore_none, default_cleaning\n",
    "\n",
    "slot_template = {slot: \"\" for slot in SLOT_VALS}\n",
    "\n",
    "\n",
    "def get_slot_map(slot_triplet_str_list):\n",
    "    slot_map = slot_template.copy()\n",
    "    for slot_triplet_str in slot_triplet_str_list:\n",
    "        slot_triplets = slot_triplet_str.split()\n",
    "        key = slot_triplets[0] + \" \" + slot_triplets[1]\n",
    "        val = slot_triplets[2:]\n",
    "        if key not in SLOT_VALS:\n",
    "            continue\n",
    "        slot_map[key] = val\n",
    "    return slot_map\n",
    "\n",
    "def get_unique_slot_map(preds, targets):\n",
    "    unique_slots = set()\n",
    "    pred_map = {}\n",
    "    target_map = {}\n",
    "    \n",
    "    for pred_str in preds:\n",
    "        triplet = pred_str.split()\n",
    "        key = triplet[0] + \" \" + triplet[1]\n",
    "        val = triplet[2:]\n",
    "        if key not in SLOT_VALS: continue\n",
    "        pred_map[key] = val\n",
    "        unique_slots.add(key)\n",
    "    \n",
    "    for target_str in targets:\n",
    "        triplet = target_str.split()\n",
    "        key = triplet[0] + \" \" + triplet[1]\n",
    "        val = triplet[2:]\n",
    "        if key not in SLOT_VALS: continue\n",
    "        target_map[key] = val\n",
    "        unique_slots.add(key)\n",
    "    \n",
    "    return unique_slots.copy(), pred_map.copy(), target_map.copy()\n",
    "\n",
    "\n",
    "def evaluate_dst(input_results):\n",
    "    num_turns = 0\n",
    "    joint_acc = 0\n",
    "    slot_acc = 0\n",
    "    r_slot_acc = 0\n",
    "\n",
    "    num_slots = len(SLOT_VALS)\n",
    "    num_r_slots = 0\n",
    "\n",
    "    clean_tokens = [\"<s>\", \"</s>\"]\n",
    "    \n",
    "    results = input_results.copy()\n",
    "    \n",
    "    for dial in tqdm(results.keys()):\n",
    "        dialogue_pred = results[dial][\"generated_turn_belief\"]\n",
    "        dialogue_target = results[dial][\"target_turn_belief\"]\n",
    "\n",
    "        for turn_id, (turn_target, turn_pred) in enumerate(\n",
    "            zip(dialogue_target, dialogue_pred)\n",
    "        ):\n",
    "            \n",
    "            # clean\n",
    "            for bs in turn_pred:\n",
    "                if bs in clean_tokens + [\"\", \" \"] or bs.split()[-1] == \"none\":\n",
    "                    turn_pred.remove(bs)\n",
    "\n",
    "            new_turn_pred = []\n",
    "            for bs in turn_pred:\n",
    "                for tok in clean_tokens:\n",
    "                    bs = bs.replace(tok, \"\").strip()\n",
    "                    new_turn_pred.append(bs)\n",
    "            turn_pred = new_turn_pred\n",
    "\n",
    "            turn_pred, turn_target = ignore_none(turn_pred, turn_target)\n",
    "            # print(turn_pred, turn_target)\n",
    "            turn_pred, turn_target = default_cleaning(turn_pred, turn_target)\n",
    "\n",
    "            join_flag = False\n",
    "\n",
    "            # calculate joint accuracy\n",
    "            if set(turn_target) == set(turn_pred):\n",
    "                joint_acc += 1\n",
    "                join_flag = True\n",
    "\n",
    "            pred_slot_map = get_slot_map(turn_pred)\n",
    "            target_slot_map = get_slot_map(turn_target)\n",
    "\n",
    "            # calculate slot accuracy\n",
    "            for slot_key in SLOT_VALS:\n",
    "                if target_slot_map[slot_key] == pred_slot_map[slot_key]:\n",
    "                    slot_acc += 1\n",
    "\n",
    "            # calculate relative slot accuracy\n",
    "            (\n",
    "                unique_slots,\n",
    "                unique_pred_map,\n",
    "                unique_target_map,\n",
    "            ) = get_unique_slot_map(turn_pred, turn_target)\n",
    "            for slot_key in unique_slots:\n",
    "                if slot_key not in unique_target_map.keys():\n",
    "                    continue\n",
    "                if slot_key not in unique_pred_map.keys():\n",
    "                    continue\n",
    "                if unique_target_map[slot_key] == unique_pred_map[slot_key]:\n",
    "                    r_slot_acc += 1\n",
    "            num_r_slots += len(unique_slots)\n",
    "\n",
    "            num_turns += 1\n",
    "    joint_acc /= num_turns\n",
    "    slot_acc /= num_slots * num_turns\n",
    "    r_slot_acc /= num_r_slots\n",
    "    print(\"joint accuracy: {}\".format(joint_acc))\n",
    "    print(\"slot accuracy: {}\".format(slot_acc))\n",
    "    print(\"relative slot accuracy: {}\".format(r_slot_acc))\n",
    "    return {\n",
    "        \"joint_acc\": joint_acc,\n",
    "        \"slot_acc\": slot_acc,\n",
    "        \"r_slot_acc\": r_slot_acc,\n",
    "    }\n",
    "\n"
   ]
  },
  {
   "cell_type": "code",
   "execution_count": 29,
   "id": "7716dcca-88d9-4dc1-9197-cc32d6209859",
   "metadata": {},
   "outputs": [
    {
     "data": {
      "application/vnd.jupyter.widget-view+json": {
       "model_id": "021a511f8ce64aaf9199ae2b617b9773",
       "version_major": 2,
       "version_minor": 0
      },
      "text/plain": [
       "  0%|          | 0/1000 [00:00<?, ?it/s]"
      ]
     },
     "metadata": {},
     "output_type": "display_data"
    },
    {
     "name": "stdout",
     "output_type": "stream",
     "text": [
      "joint accuracy: 0.012747491185245458\n",
      "slot accuracy: 0.8551580531422522\n",
      "relative slot accuracy: 0.0\n"
     ]
    },
    {
     "data": {
      "application/vnd.jupyter.widget-view+json": {
       "model_id": "53945bc2217144e39f08872ac3dfe084",
       "version_major": 2,
       "version_minor": 0
      },
      "text/plain": [
       "  0%|          | 0/999 [00:00<?, ?it/s]"
      ]
     },
     "metadata": {},
     "output_type": "display_data"
    },
    {
     "name": "stdout",
     "output_type": "stream",
     "text": [
      "joint accuracy: 0.014378730330982095\n",
      "slot accuracy: 0.8514606269581503\n",
      "relative slot accuracy: 0.0\n"
     ]
    },
    {
     "data": {
      "application/vnd.jupyter.widget-view+json": {
       "model_id": "d7df955cc247498186e4e6baf8255a0e",
       "version_major": 2,
       "version_minor": 0
      },
      "text/plain": [
       "  0%|          | 0/1000 [00:00<?, ?it/s]"
      ]
     },
     "metadata": {},
     "output_type": "display_data"
    },
    {
     "name": "stdout",
     "output_type": "stream",
     "text": [
      "joint accuracy: 0.392731217792243\n",
      "slot accuracy: 0.9668451490415322\n",
      "relative slot accuracy: 0.7899157334516022\n"
     ]
    },
    {
     "data": {
      "application/vnd.jupyter.widget-view+json": {
       "model_id": "3e8b7be1a6e24427a7da3d1af2f1193b",
       "version_major": 2,
       "version_minor": 0
      },
      "text/plain": [
       "  0%|          | 0/999 [00:00<?, ?it/s]"
      ]
     },
     "metadata": {},
     "output_type": "display_data"
    },
    {
     "name": "stdout",
     "output_type": "stream",
     "text": [
      "joint accuracy: 0.3724905046120456\n",
      "slot accuracy: 0.9640225438888208\n",
      "relative slot accuracy: 0.7746471152528437\n"
     ]
    }
   ],
   "source": [
    "score = evaluate_dst(dev_baseline_results)\n",
    "with open(\"baseline_dev_score.json\", \"w\") as outfile:\n",
    "    json.dump(score, outfile)\n",
    "\n",
    "score = evaluate_dst(test_baseline_results)\n",
    "with open(\"baseline_test_score.json\", \"w\") as outfile:\n",
    "    json.dump(score, outfile)\n",
    "    \n",
    "score = evaluate_dst(dev_adapter_no_c_results)\n",
    "with open(\"adapter_no_c_dev_score.json\", \"w\") as outfile:\n",
    "    json.dump(score, outfile)\n",
    "\n",
    "score = evaluate_dst(test_adapter_no_c_results)\n",
    "with open(\"adapter_no_c_test_score.json\", \"w\") as outfile:\n",
    "    json.dump(score, outfile)"
   ]
  },
  {
   "cell_type": "code",
   "execution_count": null,
   "id": "aa00a781-cc53-44bd-9c5c-86c5132f8c18",
   "metadata": {},
   "outputs": [],
   "source": [
    "\n",
    "score = evaluate_dst(dev_adapter_no_c_results)"
   ]
  },
  {
   "cell_type": "code",
   "execution_count": 11,
   "id": "6ce7fa30-7387-41d3-8eac-7603e408e6bc",
   "metadata": {},
   "outputs": [
    {
     "data": {
      "text/plain": [
       "1"
      ]
     },
     "execution_count": 11,
     "metadata": {},
     "output_type": "execute_result"
    }
   ],
   "source": [
    "len(\"phil\".split())"
   ]
  },
  {
   "cell_type": "code",
   "execution_count": 24,
   "id": "48e68ed1-2984-4381-bb32-1250066b85aa",
   "metadata": {},
   "outputs": [
    {
     "data": {
      "application/vnd.jupyter.widget-view+json": {
       "model_id": "bcd61dcfcf7e41bb913daf1044eeb28f",
       "version_major": 2,
       "version_minor": 0
      },
      "text/plain": [
       "  0%|          | 0/999 [00:00<?, ?it/s]"
      ]
     },
     "metadata": {},
     "output_type": "display_data"
    },
    {
     "name": "stdout",
     "output_type": "stream",
     "text": [
      "joint accuracy: 0.3724905046120456\n",
      "slot accuracy: 0.9640225438888208\n",
      "relative slot accuracy: 0.7746471152528437\n"
     ]
    }
   ],
   "source": [
    "score = evaluate_dst(test_adapter_no_c_results)\n",
    "with open(\"adapter_no_c_test_pred.json\", \"w\") as outfile:\n",
    "    json.dump(score, outfile)"
   ]
  },
  {
   "cell_type": "code",
   "execution_count": null,
   "id": "71919627-ae0c-4c25-83fd-3154e5ea9da6",
   "metadata": {},
   "outputs": [],
   "source": []
  }
 ],
 "metadata": {
  "kernelspec": {
   "display_name": "Python 3",
   "language": "python",
   "name": "python3"
  },
  "language_info": {
   "codemirror_mode": {
    "name": "ipython",
    "version": 3
   },
   "file_extension": ".py",
   "mimetype": "text/x-python",
   "name": "python",
   "nbconvert_exporter": "python",
   "pygments_lexer": "ipython3",
   "version": "3.8.12"
  }
 },
 "nbformat": 4,
 "nbformat_minor": 5
}
