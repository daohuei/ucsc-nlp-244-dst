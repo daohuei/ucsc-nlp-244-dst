{
 "cells": [
  {
   "cell_type": "code",
   "execution_count": 24,
   "id": "ce5fd3f2-ec8a-451d-be63-cdc1e55b0dca",
   "metadata": {},
   "outputs": [
    {
     "name": "stderr",
     "output_type": "stream",
     "text": [
      "Using custom data configuration default-322ab641e8a60dd3\n",
      "Reusing dataset json (/data/users/cting3/.cache/huggingface/datasets/json/default-322ab641e8a60dd3/0.0.0/ac0ca5f5289a6cf108e706efcf040422dbbfa8e658dee6a819f20d76bb84d26b)\n"
     ]
    },
    {
     "data": {
      "application/vnd.jupyter.widget-view+json": {
       "model_id": "8230088955604b8fbef3a7ba6691f967",
       "version_major": 2,
       "version_minor": 0
      },
      "text/plain": [
       "  0%|          | 0/1 [00:00<?, ?it/s]"
      ]
     },
     "metadata": {},
     "output_type": "display_data"
    }
   ],
   "source": [
    "from datasets import load_dataset\n",
    "masked_deltas = load_dataset(\n",
    "    \"json\", data_files=\"resources/tokens/masked_deltas_token.json\"\n",
    ")[\"train\"]\n",
    "# random_masked_beliefs_easy = load_dataset(\n",
    "#     \"json\", data_files=\"resources/tokens/random_masked_beliefs_easy_token.json\"\n",
    "# )[\"train\"]\n",
    "# random_masked_utterances_easy = load_dataset(\n",
    "#     \"json\", data_files=\"resources/tokens/random_masked_utterances_easy_token.json\"\n",
    "# )[\"train\"]\n",
    "# masked_context_belief_entities = load_dataset(\n",
    "#     \"json\", data_files=\"resources/tokens/masked_context_belief_entities_token.json\"\n",
    "# )[\"train\"]\n",
    "# random_masked_beliefs_hard = load_dataset(\n",
    "#     \"json\", data_files=\"resources/tokens/random_masked_beliefs_hard_token.json\"\n",
    "# )[\"train\"]\n",
    "# random_masked_utterances_hard = load_dataset(\n",
    "#     \"json\", data_files=\"resources/tokens/random_masked_utterances_hard_token.json\"\n",
    "# )[\"train\"]"
   ]
  },
  {
   "cell_type": "code",
   "execution_count": 25,
   "id": "2212252d-16ee-44d1-acfe-3c5e83c6b806",
   "metadata": {},
   "outputs": [],
   "source": [
    "\n",
    "from data.dataset.tokenize import tokenizer"
   ]
  },
  {
   "cell_type": "code",
   "execution_count": 26,
   "id": "da07ff1f-c8a5-458c-9f93-706f123e5f4b",
   "metadata": {},
   "outputs": [
    {
     "data": {
      "text/plain": [
       "Dataset({\n",
       "    features: ['input_ids', 'attention_mask', 'labels'],\n",
       "    num_rows: 56778\n",
       "})"
      ]
     },
     "execution_count": 26,
     "metadata": {},
     "output_type": "execute_result"
    }
   ],
   "source": [
    "masked_deltas"
   ]
  },
  {
   "cell_type": "code",
   "execution_count": 27,
   "id": "dd877022-0858-4b3d-a4dc-03696ea603f8",
   "metadata": {},
   "outputs": [
    {
     "data": {
      "text/plain": [
       "[370, 404]"
      ]
     },
     "execution_count": 27,
     "metadata": {},
     "output_type": "execute_result"
    }
   ],
   "source": [
    "[len(x) for x in masked_deltas[\"input_ids\"][:2]]"
   ]
  },
  {
   "cell_type": "code",
   "execution_count": 32,
   "id": "085b23e8-b2ba-45f5-a5c1-a67c1e9bfed2",
   "metadata": {},
   "outputs": [],
   "source": [
    "test_pad = tokenizer.pad(masked_deltas[:2])"
   ]
  },
  {
   "cell_type": "code",
   "execution_count": 33,
   "id": "1fbf7834-7bf4-4fae-9d36-2bb7ede29688",
   "metadata": {
    "tags": []
   },
   "outputs": [
    {
     "data": {
      "text/plain": [
       "[370, 404]"
      ]
     },
     "execution_count": 33,
     "metadata": {},
     "output_type": "execute_result"
    }
   ],
   "source": [
    "[len(x) for x in test_pad[\"input_ids\"][:2]]"
   ]
  },
  {
   "cell_type": "code",
   "execution_count": 41,
   "id": "235668b9-fb81-4fbd-afb6-ca09a66c389f",
   "metadata": {},
   "outputs": [
    {
     "data": {
      "text/plain": [
       "(Dataset({\n",
       "     features: ['input_ids', 'attention_mask', 'labels'],\n",
       "     num_rows: 100\n",
       " }),\n",
       " Dataset({\n",
       "     features: ['input_ids', 'attention_mask', 'labels'],\n",
       "     num_rows: 56778\n",
       " }))"
      ]
     },
     "execution_count": 42,
     "metadata": {},
     "output_type": "execute_result"
    }
   ],
   "source": [
    "Dataset.from_dict(masked_deltas[:100]), "
   ]
  },
  {
   "cell_type": "code",
   "execution_count": 60,
   "id": "2f7df32b-dfda-45ce-8ab3-6a782134ca16",
   "metadata": {},
   "outputs": [
    {
     "data": {
      "application/vnd.jupyter.widget-view+json": {
       "model_id": "12332b2f503941b3bf2bb04d0298a0ee",
       "version_major": 2,
       "version_minor": 0
      },
      "text/plain": [
       "  0%|          | 0/1775 [00:00<?, ?ba/s]"
      ]
     },
     "metadata": {},
     "output_type": "display_data"
    },
    {
     "name": "stdout",
     "output_type": "stream",
     "text": [
      "[1263, 1263, 1263, 1263, 1263, 1263, 1263, 1263, 1263, 1263, 1263, 1263, 1263, 1263, 1263, 1263, 1263, 1263, 1263, 1263, 1263, 1263, 1263, 1263, 1263, 1263, 1263, 1263, 1263, 1263, 1263, 1263, 1038, 1038, 1038, 1038, 1038, 1038, 1038, 1038, 1038, 1038, 1038, 1038, 1038, 1038, 1038, 1038, 1038, 1038, 1038, 1038, 1038, 1038, 1038, 1038, 1038, 1038, 1038, 1038, 1038, 1038, 1038, 1038, 1145, 1145, 1145, 1145, 1145, 1145, 1145, 1145, 1145, 1145, 1145, 1145, 1145, 1145, 1145, 1145, 1145, 1145, 1145, 1145, 1145, 1145, 1145, 1145, 1145, 1145, 1145, 1145, 1145, 1145, 1145, 1145, 1157, 1157, 1157, 1157, 1157, 1157, 1157, 1157, 1157, 1157, 1157, 1157, 1157, 1157, 1157, 1157, 1157, 1157, 1157, 1157, 1157, 1157, 1157, 1157, 1157, 1157, 1157, 1157, 1157, 1157, 1157, 1157, 1044, 1044, 1044, 1044, 1044, 1044, 1044, 1044, 1044, 1044, 1044, 1044, 1044, 1044, 1044, 1044, 1044, 1044, 1044, 1044, 1044, 1044, 1044, 1044, 1044, 1044, 1044, 1044, 1044, 1044, 1044, 1044, 1286, 1286, 1286, 1286, 1286, 1286, 1286, 1286, 1286, 1286, 1286, 1286, 1286, 1286, 1286, 1286, 1286, 1286, 1286, 1286, 1286, 1286, 1286, 1286, 1286, 1286, 1286, 1286, 1286, 1286, 1286, 1286]\n"
     ]
    }
   ],
   "source": [
    "from datasets import Dataset\n",
    "def preprocess_function(examples):\n",
    "    tokenized_examples = tokenizer.pad(examples)\n",
    "    tokenized_examples[\"labels\"] = tokenizer.pad(\n",
    "        {\"input_ids\": examples[\"labels\"]}\n",
    "    )[\"input_ids\"]\n",
    "    return tokenized_examples\n",
    "\n",
    "tokenized_masked_deltas = Dataset.from_dict(masked_deltas[:]).map(\n",
    "    preprocess_function, batched=True, batch_size=32,\n",
    ")\n",
    "print([len(x) for x in tokenized_masked_deltas[\"input_ids\"] if len(x) > 1024])\n",
    "# print([len(x) for x in tokenized_masked_deltas[\"attention_mask\"]])\n",
    "# print([len(x) for x in tokenized_masked_deltas[\"labels\"]])"
   ]
  },
  {
   "cell_type": "code",
   "execution_count": null,
   "id": "208c12be-c910-48cd-9d58-8641a610c29c",
   "metadata": {},
   "outputs": [],
   "source": []
  },
  {
   "cell_type": "code",
   "execution_count": 31,
   "id": "4911a631-4485-4a1c-8301-9a1e6f85a3fe",
   "metadata": {},
   "outputs": [
    {
     "name": "stdout",
     "output_type": "stream",
     "text": [
      "[370, 404, 437, 477, 510, 370, 412, 458, 477, 497]\n"
     ]
    }
   ],
   "source": [
    "\n",
    "print([len(x) for x in masked_deltas[\"input_ids\"][:10]])"
   ]
  },
  {
   "cell_type": "code",
   "execution_count": 54,
   "id": "230530f4-4d9e-4265-9b9e-eff5936eae57",
   "metadata": {},
   "outputs": [
    {
     "data": {
      "text/plain": [
       "'<|belief|>'"
      ]
     },
     "execution_count": 54,
     "metadata": {},
     "output_type": "execute_result"
    }
   ],
   "source": [
    "tokenizer.decode(50271)"
   ]
  },
  {
   "cell_type": "code",
   "execution_count": 67,
   "id": "908145c2-8368-4c91-b8bd-dc01da92436e",
   "metadata": {},
   "outputs": [
    {
     "data": {
      "text/plain": [
       "Dataset({\n",
       "    features: ['input_ids', 'attention_mask', 'labels'],\n",
       "    num_rows: 56778\n",
       "})"
      ]
     },
     "execution_count": 67,
     "metadata": {},
     "output_type": "execute_result"
    }
   ],
   "source": [
    "# Compute the total size of the returned encodings\n",
    "total_len = len_ids + len_pair_ids + (self.num_special_tokens_to_add(pair=pair) if add_special_tokens else 0)\n",
    "\n",
    "truncated, _, _ = tokenizer.truncate_sequences(masked_deltas, num_tokens_to_remove=100)\n",
    "truncated"
   ]
  },
  {
   "cell_type": "code",
   "execution_count": 68,
   "id": "7a692010-5177-4592-9b13-6a9e8703cdb3",
   "metadata": {},
   "outputs": [
    {
     "name": "stdout",
     "output_type": "stream",
     "text": [
      "[1050, 1074, 1091, 1139, 1184, 1223, 1263, 1038, 1035, 1070, 1102, 1145, 1047, 1105, 1130, 1157, 1044, 1038, 1083, 1118, 1188, 1238, 1286]\n"
     ]
    }
   ],
   "source": [
    "print([len(x) for x in truncated[\"input_ids\"] if len(x) > 1024])\n",
    "\n"
   ]
  },
  {
   "cell_type": "code",
   "execution_count": 69,
   "id": "d9e6e631-cec2-4f0e-9207-71143e75e15f",
   "metadata": {},
   "outputs": [
    {
     "data": {
      "text/plain": [
       "[0, 1]"
      ]
     },
     "execution_count": 69,
     "metadata": {},
     "output_type": "execute_result"
    }
   ],
   "source": [
    "x\n",
    "truncated, _, _ = tokenizer.truncate_sequences([0, 1, 2, 3], num_tokens_to_remove=2)\n",
    "truncated"
   ]
  },
  {
   "cell_type": "code",
   "execution_count": null,
   "id": "b194bc5a-5f00-4242-91a8-f5069dd0a1df",
   "metadata": {},
   "outputs": [],
   "source": []
  }
 ],
 "metadata": {
  "kernelspec": {
   "display_name": "Python 3",
   "language": "python",
   "name": "python3"
  },
  "language_info": {
   "codemirror_mode": {
    "name": "ipython",
    "version": 3
   },
   "file_extension": ".py",
   "mimetype": "text/x-python",
   "name": "python",
   "nbconvert_exporter": "python",
   "pygments_lexer": "ipython3",
   "version": "3.8.12"
  }
 },
 "nbformat": 4,
 "nbformat_minor": 5
}
