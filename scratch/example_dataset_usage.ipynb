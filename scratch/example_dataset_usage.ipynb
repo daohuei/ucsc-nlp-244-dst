{
 "cells": [
  {
   "cell_type": "code",
   "execution_count": 1,
   "id": "e619c2c6-829b-4b3b-b37f-3677d1751070",
   "metadata": {},
   "outputs": [
    {
     "name": "stdout",
     "output_type": "stream",
     "text": [
      "/data/users/bmak2/ucsc-nlp-244-dst\n"
     ]
    }
   ],
   "source": [
    "cd .."
   ]
  },
  {
   "cell_type": "code",
   "execution_count": 2,
   "id": "5b4db047-227f-4991-b26a-eb78391684a7",
   "metadata": {},
   "outputs": [
    {
     "name": "stderr",
     "output_type": "stream",
     "text": [
      "/data/users/bmak2/miniconda3/envs/ML-env/lib/python3.7/site-packages/tqdm/auto.py:22: TqdmWarning: IProgress not found. Please update jupyter and ipywidgets. See https://ipywidgets.readthedocs.io/en/stable/user_install.html\n",
      "  from .autonotebook import tqdm as notebook_tqdm\n"
     ]
    }
   ],
   "source": [
    "from pathlib import Path\n",
    "\n",
    "from datasets import load_dataset, Split\n",
    "\n",
    "from data import *"
   ]
  },
  {
   "cell_type": "code",
   "execution_count": 3,
   "id": "14339850-7e0c-4195-8fe0-4fc403c07116",
   "metadata": {},
   "outputs": [
    {
     "name": "stderr",
     "output_type": "stream",
     "text": [
      "Using custom data configuration default-a069ddba8ca65e6f\n"
     ]
    },
    {
     "name": "stdout",
     "output_type": "stream",
     "text": [
      "Downloading and preparing dataset multi_woz_dataset/default to /data/users/bmak2/.cache/huggingface/datasets/multi_woz_dataset/default-a069ddba8ca65e6f/0.0.0/f68a68638b040ca98e35780d893ba6dd439629d12a3b62bdda1ba2e3d7a88647...\n"
     ]
    },
    {
     "name": "stderr",
     "output_type": "stream",
     "text": [
      "                                                                     \r"
     ]
    },
    {
     "name": "stdout",
     "output_type": "stream",
     "text": [
      "Dataset multi_woz_dataset downloaded and prepared to /data/users/bmak2/.cache/huggingface/datasets/multi_woz_dataset/default-a069ddba8ca65e6f/0.0.0/f68a68638b040ca98e35780d893ba6dd439629d12a3b62bdda1ba2e3d7a88647. Subsequent calls will reuse this data.\n"
     ]
    },
    {
     "name": "stderr",
     "output_type": "stream",
     "text": [
      "100%|██████████████████████████████████████████████████████████████████████████████████████████████████████████████████████████████████████████████████████████| 3/3 [00:00<00:00, 301.56it/s]\n"
     ]
    }
   ],
   "source": [
    "data_dir = Path('resources/bart/')\n",
    "\n",
    "data_files = {\n",
    "    Split.TRAIN: str((data_dir / 'train.history_belief').absolute()),\n",
    "    Split.VALIDATION: str((data_dir / 'val.history_belief').absolute()),\n",
    "    Split.TEST: str((data_dir / 'test.history_belief').absolute())\n",
    "}\n",
    "\n",
    "dataset = load_dataset('data/dataset/multiwoz_dataset.py', data_files=data_files)"
   ]
  },
  {
   "cell_type": "code",
   "execution_count": 4,
   "id": "500b8b11-3ee6-48d0-b48c-75ee44e7d2c1",
   "metadata": {},
   "outputs": [
    {
     "name": "stderr",
     "output_type": "stream",
     "text": [
      "Using custom data configuration default-a069ddba8ca65e6f\n",
      "Reusing dataset multi_woz_dataset (/data/users/bmak2/.cache/huggingface/datasets/multi_woz_dataset/default-a069ddba8ca65e6f/0.0.0/f68a68638b040ca98e35780d893ba6dd439629d12a3b62bdda1ba2e3d7a88647)\n",
      "100%|██████████████████████████████████████████████████████████████████████████████████████████████████████████████████████████████████████████████████████████| 3/3 [00:00<00:00, 458.34it/s]\n",
      "100%|███████████████████████████████████████████████████████████████████████████████████████████████████████████████████████████████████████████████████| 8438/8438 [00:06<00:00, 1242.91ex/s]\n",
      "100%|███████████████████████████████████████████████████████████████████████████████████████████████████████████████████████████████████████████████████| 1000/1000 [00:00<00:00, 1108.19ex/s]\n",
      "100%|█████████████████████████████████████████████████████████████████████████████████████████████████████████████████████████████████████████████████████| 999/999 [00:00<00:00, 1215.80ex/s]\n",
      "100%|███████████████████████████████████████████████████████████████████████████████████████████████████████████████████████████████████████████████████████████| 9/9 [00:00<00:00, 21.15ba/s]\n",
      "100%|███████████████████████████████████████████████████████████████████████████████████████████████████████████████████████████████████████████████████████████| 1/1 [00:00<00:00,  6.45ba/s]\n",
      "100%|███████████████████████████████████████████████████████████████████████████████████████████████████████████████████████████████████████████████████████████| 1/1 [00:00<00:00, 14.50ba/s]\n"
     ]
    }
   ],
   "source": [
    "dataset = (load_dataset('data/dataset/multiwoz_dataset.py', data_files=data_files)\n",
    "                        .map(insert_previous_belief, batched=False)\n",
    "                        .map(flatten_conversation, batched=True, remove_columns=['text'])\n",
    "          )"
   ]
  },
  {
   "cell_type": "code",
   "execution_count": 5,
   "id": "9df1854a-b211-4162-89ca-d06f6f91dfa8",
   "metadata": {},
   "outputs": [
    {
     "name": "stderr",
     "output_type": "stream",
     "text": [
      "100%|█████████████████████████████████████████████████████████████████████████████████████████████████████████████████████████████████████████████████| 56778/56778 [00:14<00:00, 3855.91ex/s]\n",
      "100%|███████████████████████████████████████████████████████████████████████████████████████████████████████████████████████████████████████████████████| 7374/7374 [00:01<00:00, 3952.33ex/s]\n",
      "100%|███████████████████████████████████████████████████████████████████████████████████████████████████████████████████████████████████████████████████| 7372/7372 [00:01<00:00, 3990.57ex/s]\n"
     ]
    }
   ],
   "source": [
    "masked_deltas = dataset.map(mask_delta_beliefs, remove_columns='turn')"
   ]
  },
  {
   "cell_type": "code",
   "execution_count": null,
   "id": "091cd331-f24c-4eaa-a2ec-36f70f543e56",
   "metadata": {},
   "outputs": [
    {
     "name": "stderr",
     "output_type": "stream",
     "text": [
      " 86%|████████████████████████████████████████████████████████████████████████████████████████████████████████████████████████████▏                    | 48624/56778 [00:12<00:02, 3844.46ex/s]"
     ]
    }
   ],
   "source": [
    "random_masked_beliefs = dataset.map(lambda d: random_mask_beliefs(d, 0.15), remove_columns='turn')"
   ]
  },
  {
   "cell_type": "code",
   "execution_count": null,
   "id": "cb602274-654f-43f8-99c5-bb5cf64c9520",
   "metadata": {},
   "outputs": [],
   "source": [
    "masked_context_belief_entities = dataset.map(mask_context_belief_entities, remove_columns='turn')"
   ]
  },
  {
   "cell_type": "code",
   "execution_count": null,
   "id": "f3426484-b454-47b8-8af6-2145648fdb39",
   "metadata": {},
   "outputs": [],
   "source": [
    "random_masked_utterances = dataset.map(lambda d: random_mask_utterance(d, 0.15), remove_columns='turn')"
   ]
  },
  {
   "cell_type": "code",
   "execution_count": null,
   "id": "c655b9f0-fd50-41df-8e6c-1cb892bf56dd",
   "metadata": {},
   "outputs": [],
   "source": [
    "random_mask_beliefs(dataset['train'][12], 1)"
   ]
  },
  {
   "cell_type": "code",
   "execution_count": null,
   "id": "fe992bc4-0021-41a0-b011-d6dfa2666113",
   "metadata": {},
   "outputs": [],
   "source": [
    "masked = random_mask_utterance(dataset['train'][12], 1)"
   ]
  },
  {
   "cell_type": "code",
   "execution_count": null,
   "id": "6134d2f3-32f3-40ca-bffd-d2af1b25e6e2",
   "metadata": {},
   "outputs": [],
   "source": [
    "masked"
   ]
  },
  {
   "cell_type": "code",
   "execution_count": null,
   "id": "a93b6f9d-f68a-46d1-9dd7-dcde45f69e03",
   "metadata": {},
   "outputs": [],
   "source": [
    "random_masked_utterances['train'][0]"
   ]
  },
  {
   "cell_type": "code",
   "execution_count": null,
   "id": "b5d243b6-39c7-4b62-89ef-c609a5533f97",
   "metadata": {},
   "outputs": [],
   "source": []
  }
 ],
 "metadata": {
  "kernelspec": {
   "display_name": "Python [conda env:ML-env]",
   "language": "python",
   "name": "conda-env-ML-env-py"
  },
  "language_info": {
   "codemirror_mode": {
    "name": "ipython",
    "version": 3
   },
   "file_extension": ".py",
   "mimetype": "text/x-python",
   "name": "python",
   "nbconvert_exporter": "python",
   "pygments_lexer": "ipython3",
   "version": "3.7.13"
  }
 },
 "nbformat": 4,
 "nbformat_minor": 5
}
