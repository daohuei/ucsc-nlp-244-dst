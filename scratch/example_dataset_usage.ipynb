{
 "cells": [
  {
   "cell_type": "code",
   "execution_count": 1,
   "id": "e619c2c6-829b-4b3b-b37f-3677d1751070",
   "metadata": {},
   "outputs": [
    {
     "name": "stdout",
     "output_type": "stream",
     "text": [
      "/data/users/bmak2/ucsc-nlp-244-dst\n"
     ]
    }
   ],
   "source": [
    "cd .."
   ]
  },
  {
   "cell_type": "code",
   "execution_count": 2,
   "id": "5b4db047-227f-4991-b26a-eb78391684a7",
   "metadata": {},
   "outputs": [
    {
     "name": "stderr",
     "output_type": "stream",
     "text": [
      "/data/users/bmak2/miniconda3/envs/ML-env/lib/python3.7/site-packages/tqdm/auto.py:22: TqdmWarning: IProgress not found. Please update jupyter and ipywidgets. See https://ipywidgets.readthedocs.io/en/stable/user_install.html\n",
      "  from .autonotebook import tqdm as notebook_tqdm\n"
     ]
    }
   ],
   "source": [
    "from pathlib import Path\n",
    "\n",
    "from datasets import load_dataset, Split\n",
    "\n",
    "from data import *"
   ]
  },
  {
   "cell_type": "code",
   "execution_count": 3,
   "id": "14339850-7e0c-4195-8fe0-4fc403c07116",
   "metadata": {},
   "outputs": [
    {
     "name": "stderr",
     "output_type": "stream",
     "text": [
      "Using custom data configuration default-a069ddba8ca65e6f\n",
      "Reusing dataset multi_woz_dataset (/data/users/bmak2/.cache/huggingface/datasets/multi_woz_dataset/default-a069ddba8ca65e6f/0.0.0/214b5f86ecf324bff982d075298ac2b6490bbca4895dda93d15c69bf8e8274e7)\n",
      "100%|██████████████████████████████████████████████████████████████████████████████████████████████████████████████████████████████████████████████████████████| 3/3 [00:00<00:00, 301.65it/s]\n"
     ]
    }
   ],
   "source": [
    "data_dir = Path('resources/bart/')\n",
    "\n",
    "data_files = {\n",
    "    Split.TRAIN: str((data_dir / 'train.history_belief').absolute()),\n",
    "    Split.VALIDATION: str((data_dir / 'val.history_belief').absolute()),\n",
    "    Split.TEST: str((data_dir / 'test.history_belief').absolute())\n",
    "}\n",
    "\n",
    "dataset = load_dataset('data/dataset/multiwoz_dataset.py', data_files=data_files)"
   ]
  },
  {
   "cell_type": "code",
   "execution_count": 4,
   "id": "500b8b11-3ee6-48d0-b48c-75ee44e7d2c1",
   "metadata": {},
   "outputs": [
    {
     "name": "stderr",
     "output_type": "stream",
     "text": [
      "Using custom data configuration default-a069ddba8ca65e6f\n",
      "Reusing dataset multi_woz_dataset (/data/users/bmak2/.cache/huggingface/datasets/multi_woz_dataset/default-a069ddba8ca65e6f/0.0.0/214b5f86ecf324bff982d075298ac2b6490bbca4895dda93d15c69bf8e8274e7)\n",
      "100%|██████████████████████████████████████████████████████████████████████████████████████████████████████████████████████████████████████████████████████████| 3/3 [00:00<00:00, 362.07it/s]\n",
      "Loading cached processed dataset at /data/users/bmak2/.cache/huggingface/datasets/multi_woz_dataset/default-a069ddba8ca65e6f/0.0.0/214b5f86ecf324bff982d075298ac2b6490bbca4895dda93d15c69bf8e8274e7/cache-1464783364ee2716.arrow\n",
      "Loading cached processed dataset at /data/users/bmak2/.cache/huggingface/datasets/multi_woz_dataset/default-a069ddba8ca65e6f/0.0.0/214b5f86ecf324bff982d075298ac2b6490bbca4895dda93d15c69bf8e8274e7/cache-e97ba4cf721e75a0.arrow\n",
      "Loading cached processed dataset at /data/users/bmak2/.cache/huggingface/datasets/multi_woz_dataset/default-a069ddba8ca65e6f/0.0.0/214b5f86ecf324bff982d075298ac2b6490bbca4895dda93d15c69bf8e8274e7/cache-73e0ff7b066a85ef.arrow\n",
      "Loading cached processed dataset at /data/users/bmak2/.cache/huggingface/datasets/multi_woz_dataset/default-a069ddba8ca65e6f/0.0.0/214b5f86ecf324bff982d075298ac2b6490bbca4895dda93d15c69bf8e8274e7/cache-7e31b10066feeae9.arrow\n",
      "Loading cached processed dataset at /data/users/bmak2/.cache/huggingface/datasets/multi_woz_dataset/default-a069ddba8ca65e6f/0.0.0/214b5f86ecf324bff982d075298ac2b6490bbca4895dda93d15c69bf8e8274e7/cache-9c21127e6d8d730f.arrow\n",
      "Loading cached processed dataset at /data/users/bmak2/.cache/huggingface/datasets/multi_woz_dataset/default-a069ddba8ca65e6f/0.0.0/214b5f86ecf324bff982d075298ac2b6490bbca4895dda93d15c69bf8e8274e7/cache-c415904a11953d83.arrow\n"
     ]
    }
   ],
   "source": [
    "dataset = (load_dataset('data/dataset/multiwoz_dataset.py', data_files=data_files)\n",
    "                        .map(insert_previous_belief, batched=False)\n",
    "                        .map(flatten_conversation, batched=True, remove_columns=['text'])\n",
    "          )"
   ]
  },
  {
   "cell_type": "code",
   "execution_count": 5,
   "id": "9df1854a-b211-4162-89ca-d06f6f91dfa8",
   "metadata": {},
   "outputs": [
    {
     "name": "stderr",
     "output_type": "stream",
     "text": [
      "Loading cached processed dataset at /data/users/bmak2/.cache/huggingface/datasets/multi_woz_dataset/default-a069ddba8ca65e6f/0.0.0/214b5f86ecf324bff982d075298ac2b6490bbca4895dda93d15c69bf8e8274e7/cache-bad032d1e64bb35f.arrow\n",
      "Loading cached processed dataset at /data/users/bmak2/.cache/huggingface/datasets/multi_woz_dataset/default-a069ddba8ca65e6f/0.0.0/214b5f86ecf324bff982d075298ac2b6490bbca4895dda93d15c69bf8e8274e7/cache-5790030c9f7ad9a4.arrow\n",
      "Loading cached processed dataset at /data/users/bmak2/.cache/huggingface/datasets/multi_woz_dataset/default-a069ddba8ca65e6f/0.0.0/214b5f86ecf324bff982d075298ac2b6490bbca4895dda93d15c69bf8e8274e7/cache-00f46a5a47f2b896.arrow\n"
     ]
    }
   ],
   "source": [
    "masked_deltas = dataset.map(mask_delta_beliefs, remove_columns='turn')"
   ]
  },
  {
   "cell_type": "code",
   "execution_count": 6,
   "id": "091cd331-f24c-4eaa-a2ec-36f70f543e56",
   "metadata": {},
   "outputs": [
    {
     "name": "stderr",
     "output_type": "stream",
     "text": [
      "Loading cached processed dataset at /data/users/bmak2/.cache/huggingface/datasets/multi_woz_dataset/default-a069ddba8ca65e6f/0.0.0/214b5f86ecf324bff982d075298ac2b6490bbca4895dda93d15c69bf8e8274e7/cache-e7789aac3381ded7.arrow\n",
      "Loading cached processed dataset at /data/users/bmak2/.cache/huggingface/datasets/multi_woz_dataset/default-a069ddba8ca65e6f/0.0.0/214b5f86ecf324bff982d075298ac2b6490bbca4895dda93d15c69bf8e8274e7/cache-74e797702a382d35.arrow\n",
      "Loading cached processed dataset at /data/users/bmak2/.cache/huggingface/datasets/multi_woz_dataset/default-a069ddba8ca65e6f/0.0.0/214b5f86ecf324bff982d075298ac2b6490bbca4895dda93d15c69bf8e8274e7/cache-8ed5074bc906abe5.arrow\n"
     ]
    }
   ],
   "source": [
    "random_masked_beliefs = dataset.map(lambda d: random_mask_beliefs(d, 0.15), remove_columns='turn')"
   ]
  },
  {
   "cell_type": "code",
   "execution_count": 7,
   "id": "cb602274-654f-43f8-99c5-bb5cf64c9520",
   "metadata": {},
   "outputs": [
    {
     "name": "stderr",
     "output_type": "stream",
     "text": [
      "100%|█████████████████████████████████████████████████████████████████████████████████████████████████████████████████████████████████████████████████| 56778/56778 [00:22<00:00, 2507.52ex/s]\n",
      "100%|███████████████████████████████████████████████████████████████████████████████████████████████████████████████████████████████████████████████████| 7374/7374 [00:02<00:00, 2547.92ex/s]\n",
      "100%|███████████████████████████████████████████████████████████████████████████████████████████████████████████████████████████████████████████████████| 7372/7372 [00:02<00:00, 2490.64ex/s]\n"
     ]
    }
   ],
   "source": [
    "masked_context_belief_entities = dataset.map(mask_context_belief_entities, remove_columns='turn')"
   ]
  },
  {
   "cell_type": "code",
   "execution_count": 8,
   "id": "f3426484-b454-47b8-8af6-2145648fdb39",
   "metadata": {},
   "outputs": [
    {
     "name": "stderr",
     "output_type": "stream",
     "text": [
      "100%|█████████████████████████████████████████████████████████████████████████████████████████████████████████████████████████████████████████████████| 56778/56778 [00:19<00:00, 2906.52ex/s]\n",
      "100%|███████████████████████████████████████████████████████████████████████████████████████████████████████████████████████████████████████████████████| 7374/7374 [00:02<00:00, 3045.62ex/s]\n",
      "100%|███████████████████████████████████████████████████████████████████████████████████████████████████████████████████████████████████████████████████| 7372/7372 [00:02<00:00, 2931.48ex/s]\n"
     ]
    }
   ],
   "source": [
    "random_masked_utterances = dataset.map(lambda d: random_mask_utterance(d, 0.15), remove_columns='turn')"
   ]
  },
  {
   "cell_type": "code",
   "execution_count": 9,
   "id": "c655b9f0-fd50-41df-8e6c-1cb892bf56dd",
   "metadata": {},
   "outputs": [
    {
     "data": {
      "text/plain": [
       "{'masked': '<s> <|context|> <|user|> hi , i am looking for a train that is going to cambridge and arriving there by 20:45 , is there anything like that ? <|system|> there are over 1,000 trains like that . where will you be departing from ? <|user|> i am departing from birmingham new street . <|system|> can you confirm your desired travel day ? <|user|> i would like to leave on wednesday<|endofcontext|> <|previousbelief|> attraction area not mentioned , attraction name not mentioned , attraction type not mentioned , hospital department not mentioned , hotel area not mentioned , hotel book day not mentioned , hotel book people not mentioned , hotel book stay not mentioned , hotel internet not mentioned , hotel name not mentioned , hotel parking not mentioned , hotel pricerange not mentioned , hotel stars not mentioned , hotel type not mentioned , restaurant area not mentioned , restaurant book day not mentioned , restaurant book people not mentioned , restaurant book time not mentioned , restaurant food not mentioned , restaurant name not mentioned , restaurant pricerange not mentioned , taxi arriveby not mentioned , taxi departure not mentioned , taxi destination not mentioned , taxi leaveat not mentioned , train arriveby 20:45 , train book people not mentioned , train day not mentioned , train departure birmingham new street , train destination cambridge , train leaveat not mentioned <|endofpreviousbelief|> <|belief|> attraction area MASK , attraction name MASK , attraction type MASK , hospital department MASK , hotel area MASK , hotel book day MASK , hotel book people MASK , hotel book stay MASK , hotel internet MASK , hotel name MASK , hotel parking MASK , hotel pricerange MASK , hotel stars MASK , hotel type MASK , restaurant area MASK , restaurant book day MASK , restaurant book people MASK , restaurant book time MASK , restaurant food MASK , restaurant name MASK , restaurant pricerange MASK , taxi arriveby MASK , taxi departure MASK , taxi destination MASK , taxi leaveat MASK , train arriveby MASK , train book people MASK , train day MASK , train departure MASK , train destination MASK , train leaveat MASK <|endofbelief|> </s>',\n",
       " 'target': '<s> <|context|> <|user|> hi , i am looking for a train that is going to cambridge and arriving there by 20:45 , is there anything like that ? <|system|> there are over 1,000 trains like that . where will you be departing from ? <|user|> i am departing from birmingham new street . <|system|> can you confirm your desired travel day ? <|user|> i would like to leave on wednesday<|endofcontext|> <|previousbelief|> attraction area not mentioned , attraction name not mentioned , attraction type not mentioned , hospital department not mentioned , hotel area not mentioned , hotel book day not mentioned , hotel book people not mentioned , hotel book stay not mentioned , hotel internet not mentioned , hotel name not mentioned , hotel parking not mentioned , hotel pricerange not mentioned , hotel stars not mentioned , hotel type not mentioned , restaurant area not mentioned , restaurant book day not mentioned , restaurant book people not mentioned , restaurant book time not mentioned , restaurant food not mentioned , restaurant name not mentioned , restaurant pricerange not mentioned , taxi arriveby not mentioned , taxi departure not mentioned , taxi destination not mentioned , taxi leaveat not mentioned , train arriveby 20:45 , train book people not mentioned , train day not mentioned , train departure birmingham new street , train destination cambridge , train leaveat not mentioned <|endofpreviousbelief|> <|belief|> attraction area not mentioned , attraction name not mentioned , attraction type not mentioned , hospital department not mentioned , hotel area not mentioned , hotel book day not mentioned , hotel book people not mentioned , hotel book stay not mentioned , hotel internet not mentioned , hotel name not mentioned , hotel parking not mentioned , hotel pricerange not mentioned , hotel stars not mentioned , hotel type not mentioned , restaurant area not mentioned , restaurant book day not mentioned , restaurant book people not mentioned , restaurant book time not mentioned , restaurant food not mentioned , restaurant name not mentioned , restaurant pricerange not mentioned , taxi arriveby not mentioned , taxi departure not mentioned , taxi destination not mentioned , taxi leaveat not mentioned , train arriveby 20:45 , train book people not mentioned , train day wednesday , train departure birmingham new street , train destination cambridge , train leaveat not mentioned <|endofbelief|> </s>'}"
      ]
     },
     "execution_count": 9,
     "metadata": {},
     "output_type": "execute_result"
    }
   ],
   "source": [
    "random_mask_beliefs(dataset['train'][12], 1)"
   ]
  },
  {
   "cell_type": "code",
   "execution_count": 10,
   "id": "fe992bc4-0021-41a0-b011-d6dfa2666113",
   "metadata": {},
   "outputs": [],
   "source": [
    "masked = random_mask_utterance(dataset['train'][12], 1)"
   ]
  },
  {
   "cell_type": "code",
   "execution_count": 11,
   "id": "6134d2f3-32f3-40ca-bffd-d2af1b25e6e2",
   "metadata": {},
   "outputs": [
    {
     "data": {
      "text/plain": [
       "{'masked': '<s> <|context|> <|user|> MASK <|system|> MASK <|user|> MASK <|system|> MASK <|user|> MASK<|endofcontext|> <|previousbelief|> attraction area not mentioned , attraction name not mentioned , attraction type not mentioned , hospital department not mentioned , hotel area not mentioned , hotel book day not mentioned , hotel book people not mentioned , hotel book stay not mentioned , hotel internet not mentioned , hotel name not mentioned , hotel parking not mentioned , hotel pricerange not mentioned , hotel stars not mentioned , hotel type not mentioned , restaurant area not mentioned , restaurant book day not mentioned , restaurant book people not mentioned , restaurant book time not mentioned , restaurant food not mentioned , restaurant name not mentioned , restaurant pricerange not mentioned , taxi arriveby not mentioned , taxi departure not mentioned , taxi destination not mentioned , taxi leaveat not mentioned , train arriveby 20:45 , train book people not mentioned , train day not mentioned , train departure birmingham new street , train destination cambridge , train leaveat not mentioned <|endofpreviousbelief|> <|belief|> attraction area not mentioned , attraction name not mentioned , attraction type not mentioned , hospital department not mentioned , hotel area not mentioned , hotel book day not mentioned , hotel book people not mentioned , hotel book stay not mentioned , hotel internet not mentioned , hotel name not mentioned , hotel parking not mentioned , hotel pricerange not mentioned , hotel stars not mentioned , hotel type not mentioned , restaurant area not mentioned , restaurant book day not mentioned , restaurant book people not mentioned , restaurant book time not mentioned , restaurant food not mentioned , restaurant name not mentioned , restaurant pricerange not mentioned , taxi arriveby not mentioned , taxi departure not mentioned , taxi destination not mentioned , taxi leaveat not mentioned , train arriveby 20:45 , train book people not mentioned , train day wednesday , train departure birmingham new street , train destination cambridge , train leaveat not mentioned <|endofbelief|> </s>',\n",
       " 'target': '<s> <|context|> <|user|> hi , i am looking for a train that is going to cambridge and arriving there by 20:45 , is there anything like that ? <|system|> there are over 1,000 trains like that . where will you be departing from ? <|user|> i am departing from birmingham new street . <|system|> can you confirm your desired travel day ? <|user|> i would like to leave on wednesday<|endofcontext|> <|previousbelief|> attraction area not mentioned , attraction name not mentioned , attraction type not mentioned , hospital department not mentioned , hotel area not mentioned , hotel book day not mentioned , hotel book people not mentioned , hotel book stay not mentioned , hotel internet not mentioned , hotel name not mentioned , hotel parking not mentioned , hotel pricerange not mentioned , hotel stars not mentioned , hotel type not mentioned , restaurant area not mentioned , restaurant book day not mentioned , restaurant book people not mentioned , restaurant book time not mentioned , restaurant food not mentioned , restaurant name not mentioned , restaurant pricerange not mentioned , taxi arriveby not mentioned , taxi departure not mentioned , taxi destination not mentioned , taxi leaveat not mentioned , train arriveby 20:45 , train book people not mentioned , train day not mentioned , train departure birmingham new street , train destination cambridge , train leaveat not mentioned <|endofpreviousbelief|> <|belief|> attraction area not mentioned , attraction name not mentioned , attraction type not mentioned , hospital department not mentioned , hotel area not mentioned , hotel book day not mentioned , hotel book people not mentioned , hotel book stay not mentioned , hotel internet not mentioned , hotel name not mentioned , hotel parking not mentioned , hotel pricerange not mentioned , hotel stars not mentioned , hotel type not mentioned , restaurant area not mentioned , restaurant book day not mentioned , restaurant book people not mentioned , restaurant book time not mentioned , restaurant food not mentioned , restaurant name not mentioned , restaurant pricerange not mentioned , taxi arriveby not mentioned , taxi departure not mentioned , taxi destination not mentioned , taxi leaveat not mentioned , train arriveby 20:45 , train book people not mentioned , train day wednesday , train departure birmingham new street , train destination cambridge , train leaveat not mentioned <|endofbelief|> </s>'}"
      ]
     },
     "execution_count": 11,
     "metadata": {},
     "output_type": "execute_result"
    }
   ],
   "source": [
    "masked"
   ]
  },
  {
   "cell_type": "code",
   "execution_count": 12,
   "id": "a93b6f9d-f68a-46d1-9dd7-dcde45f69e03",
   "metadata": {},
   "outputs": [
    {
     "data": {
      "text/plain": [
       "{'conversation_id': 3,\n",
       " 'turn_number': 3,\n",
       " 'masked': '<s> <|context|> <|user|> hi , i am looking for a train that MASK to cambridge and arriving there MASK 20:45 , is there anything like MASK <|system|> there are over 1,000 trains like that . MASK will you be departing MASK ? <|user|> i am departing from birmingham new MASK . <|system|> can you confirm your desired travel MASK ? <|user|> i would like to leave on wednesday<|endofcontext|> <|previousbelief|> attraction area not mentioned , attraction name not mentioned , attraction type not mentioned , hospital department not mentioned , hotel area not mentioned , hotel book day not mentioned , hotel book people not mentioned , hotel book stay not mentioned , hotel internet not mentioned , hotel name not mentioned , hotel parking not mentioned , hotel pricerange not mentioned , hotel stars not mentioned , hotel type not mentioned , restaurant area not mentioned , restaurant book day not mentioned , restaurant book people not mentioned , restaurant book time not mentioned , restaurant food not mentioned , restaurant name not mentioned , restaurant pricerange not mentioned , taxi arriveby not mentioned , taxi departure not mentioned , taxi destination not mentioned , taxi leaveat not mentioned , train arriveby 20:45 , train book people not mentioned , train day not mentioned , train departure birmingham new street , train destination cambridge , train leaveat not mentioned <|endofpreviousbelief|> <|belief|> attraction area not mentioned , attraction name not mentioned , attraction type not mentioned , hospital department not mentioned , hotel area not mentioned , hotel book day not mentioned , hotel book people not mentioned , hotel book stay not mentioned , hotel internet not mentioned , hotel name not mentioned , hotel parking not mentioned , hotel pricerange not mentioned , hotel stars not mentioned , hotel type not mentioned , restaurant area not mentioned , restaurant book day not mentioned , restaurant book people not mentioned , restaurant book time not mentioned , restaurant food not mentioned , restaurant name not mentioned , restaurant pricerange not mentioned , taxi arriveby not mentioned , taxi departure not mentioned , taxi destination not mentioned , taxi leaveat not mentioned , train arriveby 20:45 , train book people not mentioned , train day wednesday , train departure birmingham new street , train destination cambridge , train leaveat not mentioned <|endofbelief|> </s>',\n",
       " 'target': '<s> <|context|> <|user|> hi , i am looking for a train that is going to cambridge and arriving there by 20:45 , is there anything like that ? <|system|> there are over 1,000 trains like that . where will you be departing from ? <|user|> i am departing from birmingham new street . <|system|> can you confirm your desired travel day ? <|user|> i would like to leave on wednesday<|endofcontext|> <|previousbelief|> attraction area not mentioned , attraction name not mentioned , attraction type not mentioned , hospital department not mentioned , hotel area not mentioned , hotel book day not mentioned , hotel book people not mentioned , hotel book stay not mentioned , hotel internet not mentioned , hotel name not mentioned , hotel parking not mentioned , hotel pricerange not mentioned , hotel stars not mentioned , hotel type not mentioned , restaurant area not mentioned , restaurant book day not mentioned , restaurant book people not mentioned , restaurant book time not mentioned , restaurant food not mentioned , restaurant name not mentioned , restaurant pricerange not mentioned , taxi arriveby not mentioned , taxi departure not mentioned , taxi destination not mentioned , taxi leaveat not mentioned , train arriveby 20:45 , train book people not mentioned , train day not mentioned , train departure birmingham new street , train destination cambridge , train leaveat not mentioned <|endofpreviousbelief|> <|belief|> attraction area not mentioned , attraction name not mentioned , attraction type not mentioned , hospital department not mentioned , hotel area not mentioned , hotel book day not mentioned , hotel book people not mentioned , hotel book stay not mentioned , hotel internet not mentioned , hotel name not mentioned , hotel parking not mentioned , hotel pricerange not mentioned , hotel stars not mentioned , hotel type not mentioned , restaurant area not mentioned , restaurant book day not mentioned , restaurant book people not mentioned , restaurant book time not mentioned , restaurant food not mentioned , restaurant name not mentioned , restaurant pricerange not mentioned , taxi arriveby not mentioned , taxi departure not mentioned , taxi destination not mentioned , taxi leaveat not mentioned , train arriveby 20:45 , train book people not mentioned , train day wednesday , train departure birmingham new street , train destination cambridge , train leaveat not mentioned <|endofbelief|> </s>'}"
      ]
     },
     "execution_count": 12,
     "metadata": {},
     "output_type": "execute_result"
    }
   ],
   "source": [
    "random_masked_utterances['train'][12]"
   ]
  },
  {
   "cell_type": "code",
   "execution_count": null,
   "id": "b5d243b6-39c7-4b62-89ef-c609a5533f97",
   "metadata": {},
   "outputs": [],
   "source": []
  }
 ],
 "metadata": {
  "kernelspec": {
   "display_name": "Python [conda env:ML-env]",
   "language": "python",
   "name": "conda-env-ML-env-py"
  },
  "language_info": {
   "codemirror_mode": {
    "name": "ipython",
    "version": 3
   },
   "file_extension": ".py",
   "mimetype": "text/x-python",
   "name": "python",
   "nbconvert_exporter": "python",
   "pygments_lexer": "ipython3",
   "version": "3.7.13"
  }
 },
 "nbformat": 4,
 "nbformat_minor": 5
}
