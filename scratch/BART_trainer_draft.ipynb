{
 "cells": [
  {
   "cell_type": "markdown",
   "id": "92be58bf",
   "metadata": {},
   "source": [
    "# Data prepreparation from example_dataset_usage.ipynb"
   ]
  },
  {
   "cell_type": "code",
   "execution_count": 8,
   "id": "e619c2c6-829b-4b3b-b37f-3677d1751070",
   "metadata": {},
   "outputs": [
    {
     "name": "stdout",
     "output_type": "stream",
     "text": [
      "/home/diji/ucsc-nlp-244-dst\n"
     ]
    }
   ],
   "source": [
    "cd .."
   ]
  },
  {
   "cell_type": "code",
   "execution_count": 9,
   "id": "5b4db047-227f-4991-b26a-eb78391684a7",
   "metadata": {},
   "outputs": [],
   "source": [
    "from pathlib import Path\n",
    "\n",
    "from datasets import load_dataset, Split\n",
    "\n",
    "from data import *"
   ]
  },
  {
   "cell_type": "code",
   "execution_count": 10,
   "id": "14339850-7e0c-4195-8fe0-4fc403c07116",
   "metadata": {},
   "outputs": [
    {
     "name": "stderr",
     "output_type": "stream",
     "text": [
      "Using custom data configuration default-8cc09aa9496e12d8\n",
      "Reusing dataset multi_woz_dataset (/home/diji/.cache/huggingface/datasets/multi_woz_dataset/default-8cc09aa9496e12d8/0.0.0/f68a68638b040ca98e35780d893ba6dd439629d12a3b62bdda1ba2e3d7a88647)\n",
      "100%|██████████| 3/3 [00:00<00:00, 1549.05it/s]\n"
     ]
    }
   ],
   "source": [
    "data_dir = Path('resources/bart/')\n",
    "\n",
    "data_files = {\n",
    "    Split.TRAIN: str((data_dir / 'train.history_belief').absolute()),\n",
    "    Split.VALIDATION: str((data_dir / 'val.history_belief').absolute()),\n",
    "    Split.TEST: str((data_dir / 'test.history_belief').absolute())\n",
    "}\n",
    "\n",
    "dataset = load_dataset('data/dataset/multiwoz_dataset.py', data_files=data_files)"
   ]
  },
  {
   "cell_type": "code",
   "execution_count": 11,
   "id": "500b8b11-3ee6-48d0-b48c-75ee44e7d2c1",
   "metadata": {},
   "outputs": [
    {
     "name": "stderr",
     "output_type": "stream",
     "text": [
      "Using custom data configuration default-8cc09aa9496e12d8\n",
      "Reusing dataset multi_woz_dataset (/home/diji/.cache/huggingface/datasets/multi_woz_dataset/default-8cc09aa9496e12d8/0.0.0/f68a68638b040ca98e35780d893ba6dd439629d12a3b62bdda1ba2e3d7a88647)\n",
      "100%|██████████| 3/3 [00:00<00:00, 1745.69it/s]\n",
      "Loading cached processed dataset at /home/diji/.cache/huggingface/datasets/multi_woz_dataset/default-8cc09aa9496e12d8/0.0.0/f68a68638b040ca98e35780d893ba6dd439629d12a3b62bdda1ba2e3d7a88647/cache-7f32fccd3c2188aa.arrow\n",
      "Loading cached processed dataset at /home/diji/.cache/huggingface/datasets/multi_woz_dataset/default-8cc09aa9496e12d8/0.0.0/f68a68638b040ca98e35780d893ba6dd439629d12a3b62bdda1ba2e3d7a88647/cache-8076a444f7b6f7d1.arrow\n",
      "Loading cached processed dataset at /home/diji/.cache/huggingface/datasets/multi_woz_dataset/default-8cc09aa9496e12d8/0.0.0/f68a68638b040ca98e35780d893ba6dd439629d12a3b62bdda1ba2e3d7a88647/cache-917fe497b744b755.arrow\n",
      "Loading cached processed dataset at /home/diji/.cache/huggingface/datasets/multi_woz_dataset/default-8cc09aa9496e12d8/0.0.0/f68a68638b040ca98e35780d893ba6dd439629d12a3b62bdda1ba2e3d7a88647/cache-869c4d1578aceb56.arrow\n",
      "Loading cached processed dataset at /home/diji/.cache/huggingface/datasets/multi_woz_dataset/default-8cc09aa9496e12d8/0.0.0/f68a68638b040ca98e35780d893ba6dd439629d12a3b62bdda1ba2e3d7a88647/cache-cce870d8094cac02.arrow\n",
      "Loading cached processed dataset at /home/diji/.cache/huggingface/datasets/multi_woz_dataset/default-8cc09aa9496e12d8/0.0.0/f68a68638b040ca98e35780d893ba6dd439629d12a3b62bdda1ba2e3d7a88647/cache-3a554a654d541779.arrow\n"
     ]
    }
   ],
   "source": [
    "dataset = (load_dataset('data/dataset/multiwoz_dataset.py', data_files=data_files)\n",
    "                        .map(insert_previous_belief, batched=False)\n",
    "                        .map(flatten_conversation, batched=True, remove_columns=['text'])\n",
    "          )"
   ]
  },
  {
   "cell_type": "code",
   "execution_count": 12,
   "id": "9df1854a-b211-4162-89ca-d06f6f91dfa8",
   "metadata": {},
   "outputs": [
    {
     "name": "stderr",
     "output_type": "stream",
     "text": [
      "Loading cached processed dataset at /home/diji/.cache/huggingface/datasets/multi_woz_dataset/default-8cc09aa9496e12d8/0.0.0/f68a68638b040ca98e35780d893ba6dd439629d12a3b62bdda1ba2e3d7a88647/cache-639d63530fb4e0f4.arrow\n",
      "Loading cached processed dataset at /home/diji/.cache/huggingface/datasets/multi_woz_dataset/default-8cc09aa9496e12d8/0.0.0/f68a68638b040ca98e35780d893ba6dd439629d12a3b62bdda1ba2e3d7a88647/cache-98d1f83c1486e3ad.arrow\n",
      "Loading cached processed dataset at /home/diji/.cache/huggingface/datasets/multi_woz_dataset/default-8cc09aa9496e12d8/0.0.0/f68a68638b040ca98e35780d893ba6dd439629d12a3b62bdda1ba2e3d7a88647/cache-bfd847285015c35f.arrow\n"
     ]
    }
   ],
   "source": [
    "masked_deltas = dataset.map(mask_delta_beliefs, remove_columns='turn')"
   ]
  },
  {
   "cell_type": "code",
   "execution_count": 13,
   "id": "091cd331-f24c-4eaa-a2ec-36f70f543e56",
   "metadata": {},
   "outputs": [
    {
     "name": "stderr",
     "output_type": "stream",
     "text": [
      "Loading cached processed dataset at /home/diji/.cache/huggingface/datasets/multi_woz_dataset/default-8cc09aa9496e12d8/0.0.0/f68a68638b040ca98e35780d893ba6dd439629d12a3b62bdda1ba2e3d7a88647/cache-6b216c2e23096cae.arrow\n",
      "Loading cached processed dataset at /home/diji/.cache/huggingface/datasets/multi_woz_dataset/default-8cc09aa9496e12d8/0.0.0/f68a68638b040ca98e35780d893ba6dd439629d12a3b62bdda1ba2e3d7a88647/cache-498d8eb07860f60a.arrow\n",
      "Loading cached processed dataset at /home/diji/.cache/huggingface/datasets/multi_woz_dataset/default-8cc09aa9496e12d8/0.0.0/f68a68638b040ca98e35780d893ba6dd439629d12a3b62bdda1ba2e3d7a88647/cache-d4f8576d81ee6f5a.arrow\n"
     ]
    }
   ],
   "source": [
    "random_masked_beliefs = dataset.map(lambda d: random_mask_beliefs(d, 0.15), remove_columns='turn')"
   ]
  },
  {
   "cell_type": "code",
   "execution_count": 14,
   "id": "cb602274-654f-43f8-99c5-bb5cf64c9520",
   "metadata": {},
   "outputs": [
    {
     "name": "stderr",
     "output_type": "stream",
     "text": [
      "Loading cached processed dataset at /home/diji/.cache/huggingface/datasets/multi_woz_dataset/default-8cc09aa9496e12d8/0.0.0/f68a68638b040ca98e35780d893ba6dd439629d12a3b62bdda1ba2e3d7a88647/cache-1954b278b7ad39b5.arrow\n",
      "Loading cached processed dataset at /home/diji/.cache/huggingface/datasets/multi_woz_dataset/default-8cc09aa9496e12d8/0.0.0/f68a68638b040ca98e35780d893ba6dd439629d12a3b62bdda1ba2e3d7a88647/cache-72b2e02089ec397c.arrow\n",
      "Loading cached processed dataset at /home/diji/.cache/huggingface/datasets/multi_woz_dataset/default-8cc09aa9496e12d8/0.0.0/f68a68638b040ca98e35780d893ba6dd439629d12a3b62bdda1ba2e3d7a88647/cache-1fa195469e806ab0.arrow\n"
     ]
    }
   ],
   "source": [
    "masked_context_belief_entities = dataset.map(mask_context_belief_entities, remove_columns='turn')"
   ]
  },
  {
   "cell_type": "code",
   "execution_count": 15,
   "id": "f3426484-b454-47b8-8af6-2145648fdb39",
   "metadata": {},
   "outputs": [
    {
     "name": "stderr",
     "output_type": "stream",
     "text": [
      "Loading cached processed dataset at /home/diji/.cache/huggingface/datasets/multi_woz_dataset/default-8cc09aa9496e12d8/0.0.0/f68a68638b040ca98e35780d893ba6dd439629d12a3b62bdda1ba2e3d7a88647/cache-48b85f3ab439ae2a.arrow\n",
      "Loading cached processed dataset at /home/diji/.cache/huggingface/datasets/multi_woz_dataset/default-8cc09aa9496e12d8/0.0.0/f68a68638b040ca98e35780d893ba6dd439629d12a3b62bdda1ba2e3d7a88647/cache-d160590c9eb3ce86.arrow\n",
      "Loading cached processed dataset at /home/diji/.cache/huggingface/datasets/multi_woz_dataset/default-8cc09aa9496e12d8/0.0.0/f68a68638b040ca98e35780d893ba6dd439629d12a3b62bdda1ba2e3d7a88647/cache-d579f721608beae2.arrow\n"
     ]
    }
   ],
   "source": [
    "random_masked_utterances = dataset.map(lambda d: random_mask_utterance(d, 0.15), remove_columns='turn')"
   ]
  },
  {
   "cell_type": "code",
   "execution_count": 16,
   "id": "c655b9f0-fd50-41df-8e6c-1cb892bf56dd",
   "metadata": {},
   "outputs": [
    {
     "data": {
      "text/plain": [
       "{'masked': '<s> <|context|> <|user|> hi , i am looking for a train that is going to cambridge and arriving there by 20:45 , is there anything like that ? <|system|> there are over 1,000 trains like that . where will you be departing from ? <|user|> i am departing from birmingham new street . <|system|> can you confirm your desired travel day ? <|user|> i would like to leave on wednesday<|endofcontext|> <|previousbelief|> attraction area not mentioned , attraction name not mentioned , attraction type not mentioned , hospital department not mentioned , hotel area not mentioned , hotel book day not mentioned , hotel book people not mentioned , hotel book stay not mentioned , hotel internet not mentioned , hotel name not mentioned , hotel parking not mentioned , hotel pricerange not mentioned , hotel stars not mentioned , hotel type not mentioned , restaurant area not mentioned , restaurant book day not mentioned , restaurant book people not mentioned , restaurant book time not mentioned , restaurant food not mentioned , restaurant name not mentioned , restaurant pricerange not mentioned , taxi arriveby not mentioned , taxi departure not mentioned , taxi destination not mentioned , taxi leaveat not mentioned , train arriveby 20:45 , train book people not mentioned , train day not mentioned , train departure birmingham new street , train destination cambridge , train leaveat not mentioned <|endofpreviousbelief|> <|belief|> attraction area MASK , attraction name MASK , attraction type MASK , hospital department MASK , hotel area MASK , hotel book day MASK , hotel book people MASK , hotel book stay MASK , hotel internet MASK , hotel name MASK , hotel parking MASK , hotel pricerange MASK , hotel stars MASK , hotel type MASK , restaurant area MASK , restaurant book day MASK , restaurant book people MASK , restaurant book time MASK , restaurant food MASK , restaurant name MASK , restaurant pricerange MASK , taxi arriveby MASK , taxi departure MASK , taxi destination MASK , taxi leaveat MASK , train arriveby MASK , train book people MASK , train day MASK , train departure MASK , train destination MASK , train leaveat MASK <|endofbelief|> </s>',\n",
       " 'target': '<s> <|context|> <|user|> hi , i am looking for a train that is going to cambridge and arriving there by 20:45 , is there anything like that ? <|system|> there are over 1,000 trains like that . where will you be departing from ? <|user|> i am departing from birmingham new street . <|system|> can you confirm your desired travel day ? <|user|> i would like to leave on wednesday<|endofcontext|> <|previousbelief|> attraction area not mentioned , attraction name not mentioned , attraction type not mentioned , hospital department not mentioned , hotel area not mentioned , hotel book day not mentioned , hotel book people not mentioned , hotel book stay not mentioned , hotel internet not mentioned , hotel name not mentioned , hotel parking not mentioned , hotel pricerange not mentioned , hotel stars not mentioned , hotel type not mentioned , restaurant area not mentioned , restaurant book day not mentioned , restaurant book people not mentioned , restaurant book time not mentioned , restaurant food not mentioned , restaurant name not mentioned , restaurant pricerange not mentioned , taxi arriveby not mentioned , taxi departure not mentioned , taxi destination not mentioned , taxi leaveat not mentioned , train arriveby 20:45 , train book people not mentioned , train day not mentioned , train departure birmingham new street , train destination cambridge , train leaveat not mentioned <|endofpreviousbelief|> <|belief|> attraction area not mentioned , attraction name not mentioned , attraction type not mentioned , hospital department not mentioned , hotel area not mentioned , hotel book day not mentioned , hotel book people not mentioned , hotel book stay not mentioned , hotel internet not mentioned , hotel name not mentioned , hotel parking not mentioned , hotel pricerange not mentioned , hotel stars not mentioned , hotel type not mentioned , restaurant area not mentioned , restaurant book day not mentioned , restaurant book people not mentioned , restaurant book time not mentioned , restaurant food not mentioned , restaurant name not mentioned , restaurant pricerange not mentioned , taxi arriveby not mentioned , taxi departure not mentioned , taxi destination not mentioned , taxi leaveat not mentioned , train arriveby 20:45 , train book people not mentioned , train day wednesday , train departure birmingham new street , train destination cambridge , train leaveat not mentioned <|endofbelief|> </s>'}"
      ]
     },
     "execution_count": 16,
     "metadata": {},
     "output_type": "execute_result"
    }
   ],
   "source": [
    "random_mask_beliefs(dataset['train'][12], 1)"
   ]
  },
  {
   "cell_type": "code",
   "execution_count": 17,
   "id": "fe992bc4-0021-41a0-b011-d6dfa2666113",
   "metadata": {},
   "outputs": [],
   "source": [
    "masked = random_mask_utterance(dataset['train'][12], 1)"
   ]
  },
  {
   "cell_type": "code",
   "execution_count": 18,
   "id": "6134d2f3-32f3-40ca-bffd-d2af1b25e6e2",
   "metadata": {},
   "outputs": [
    {
     "data": {
      "text/plain": [
       "{'masked': '<s> <|context|> <|user|> MASK <|system|> MASK <|user|> MASK <|system|> MASK <|user|> MASK<|endofcontext|> <|previousbelief|> attraction area not mentioned , attraction name not mentioned , attraction type not mentioned , hospital department not mentioned , hotel area not mentioned , hotel book day not mentioned , hotel book people not mentioned , hotel book stay not mentioned , hotel internet not mentioned , hotel name not mentioned , hotel parking not mentioned , hotel pricerange not mentioned , hotel stars not mentioned , hotel type not mentioned , restaurant area not mentioned , restaurant book day not mentioned , restaurant book people not mentioned , restaurant book time not mentioned , restaurant food not mentioned , restaurant name not mentioned , restaurant pricerange not mentioned , taxi arriveby not mentioned , taxi departure not mentioned , taxi destination not mentioned , taxi leaveat not mentioned , train arriveby 20:45 , train book people not mentioned , train day not mentioned , train departure birmingham new street , train destination cambridge , train leaveat not mentioned <|endofpreviousbelief|> <|belief|> attraction area not mentioned , attraction name not mentioned , attraction type not mentioned , hospital department not mentioned , hotel area not mentioned , hotel book day not mentioned , hotel book people not mentioned , hotel book stay not mentioned , hotel internet not mentioned , hotel name not mentioned , hotel parking not mentioned , hotel pricerange not mentioned , hotel stars not mentioned , hotel type not mentioned , restaurant area not mentioned , restaurant book day not mentioned , restaurant book people not mentioned , restaurant book time not mentioned , restaurant food not mentioned , restaurant name not mentioned , restaurant pricerange not mentioned , taxi arriveby not mentioned , taxi departure not mentioned , taxi destination not mentioned , taxi leaveat not mentioned , train arriveby 20:45 , train book people not mentioned , train day wednesday , train departure birmingham new street , train destination cambridge , train leaveat not mentioned <|endofbelief|> </s>',\n",
       " 'target': '<s> <|context|> <|user|> hi , i am looking for a train that is going to cambridge and arriving there by 20:45 , is there anything like that ? <|system|> there are over 1,000 trains like that . where will you be departing from ? <|user|> i am departing from birmingham new street . <|system|> can you confirm your desired travel day ? <|user|> i would like to leave on wednesday<|endofcontext|> <|previousbelief|> attraction area not mentioned , attraction name not mentioned , attraction type not mentioned , hospital department not mentioned , hotel area not mentioned , hotel book day not mentioned , hotel book people not mentioned , hotel book stay not mentioned , hotel internet not mentioned , hotel name not mentioned , hotel parking not mentioned , hotel pricerange not mentioned , hotel stars not mentioned , hotel type not mentioned , restaurant area not mentioned , restaurant book day not mentioned , restaurant book people not mentioned , restaurant book time not mentioned , restaurant food not mentioned , restaurant name not mentioned , restaurant pricerange not mentioned , taxi arriveby not mentioned , taxi departure not mentioned , taxi destination not mentioned , taxi leaveat not mentioned , train arriveby 20:45 , train book people not mentioned , train day not mentioned , train departure birmingham new street , train destination cambridge , train leaveat not mentioned <|endofpreviousbelief|> <|belief|> attraction area not mentioned , attraction name not mentioned , attraction type not mentioned , hospital department not mentioned , hotel area not mentioned , hotel book day not mentioned , hotel book people not mentioned , hotel book stay not mentioned , hotel internet not mentioned , hotel name not mentioned , hotel parking not mentioned , hotel pricerange not mentioned , hotel stars not mentioned , hotel type not mentioned , restaurant area not mentioned , restaurant book day not mentioned , restaurant book people not mentioned , restaurant book time not mentioned , restaurant food not mentioned , restaurant name not mentioned , restaurant pricerange not mentioned , taxi arriveby not mentioned , taxi departure not mentioned , taxi destination not mentioned , taxi leaveat not mentioned , train arriveby 20:45 , train book people not mentioned , train day wednesday , train departure birmingham new street , train destination cambridge , train leaveat not mentioned <|endofbelief|> </s>'}"
      ]
     },
     "execution_count": 18,
     "metadata": {},
     "output_type": "execute_result"
    }
   ],
   "source": [
    "masked"
   ]
  },
  {
   "cell_type": "code",
   "execution_count": 19,
   "id": "a93b6f9d-f68a-46d1-9dd7-dcde45f69e03",
   "metadata": {},
   "outputs": [
    {
     "data": {
      "text/plain": [
       "{'conversation_id': 1,\n",
       " 'turn_number': 1,\n",
       " 'masked': '<s> <|context|> <|user|> am looking for a MASK to to stay that has cheap MASK range it MASK be in a type of hotel<|endofcontext|> <|previousbelief|> attraction area not mentioned , attraction name not mentioned , attraction type not mentioned , hospital department not mentioned , hotel area not mentioned , hotel book day not mentioned , hotel book people not mentioned , hotel book stay not mentioned , hotel internet not mentioned , hotel name not mentioned , hotel parking not mentioned , hotel pricerange not mentioned , hotel stars not mentioned , hotel type not mentioned , restaurant area not mentioned , restaurant book day not mentioned , restaurant book people not mentioned , restaurant book time not mentioned , restaurant food not mentioned , restaurant name not mentioned , restaurant pricerange not mentioned , taxi arriveby not mentioned , taxi departure not mentioned , taxi destination not mentioned , taxi leaveat not mentioned , train arriveby not mentioned , train book people not mentioned , train day not mentioned , train departure not mentioned , train destination not mentioned , train leaveat not mentioned <|endofpreviousbelief|> <|belief|> attraction area not mentioned , attraction name not mentioned , attraction type not mentioned , hospital department not mentioned , hotel area not mentioned , hotel book day not mentioned , hotel book people not mentioned , hotel book stay not mentioned , hotel internet not mentioned , hotel name not mentioned , hotel parking not mentioned , hotel pricerange cheap , hotel stars not mentioned , hotel type hotel , restaurant area not mentioned , restaurant book day not mentioned , restaurant book people not mentioned , restaurant book time not mentioned , restaurant food not mentioned , restaurant name not mentioned , restaurant pricerange not mentioned , taxi arriveby not mentioned , taxi departure not mentioned , taxi destination not mentioned , taxi leaveat not mentioned , train arriveby not mentioned , train book people not mentioned , train day not mentioned , train departure not mentioned , train destination not mentioned , train leaveat not mentioned <|endofbelief|> </s>',\n",
       " 'target': '<s> <|context|> <|user|> am looking for a place to to stay that has cheap price range it should be in a type of hotel <|endofcontext|> <|previousbelief|> attraction area not mentioned , attraction name not mentioned , attraction type not mentioned , hospital department not mentioned , hotel area not mentioned , hotel book day not mentioned , hotel book people not mentioned , hotel book stay not mentioned , hotel internet not mentioned , hotel name not mentioned , hotel parking not mentioned , hotel pricerange not mentioned , hotel stars not mentioned , hotel type not mentioned , restaurant area not mentioned , restaurant book day not mentioned , restaurant book people not mentioned , restaurant book time not mentioned , restaurant food not mentioned , restaurant name not mentioned , restaurant pricerange not mentioned , taxi arriveby not mentioned , taxi departure not mentioned , taxi destination not mentioned , taxi leaveat not mentioned , train arriveby not mentioned , train book people not mentioned , train day not mentioned , train departure not mentioned , train destination not mentioned , train leaveat not mentioned <|endofpreviousbelief|> <|belief|> attraction area not mentioned , attraction name not mentioned , attraction type not mentioned , hospital department not mentioned , hotel area not mentioned , hotel book day not mentioned , hotel book people not mentioned , hotel book stay not mentioned , hotel internet not mentioned , hotel name not mentioned , hotel parking not mentioned , hotel pricerange cheap , hotel stars not mentioned , hotel type hotel , restaurant area not mentioned , restaurant book day not mentioned , restaurant book people not mentioned , restaurant book time not mentioned , restaurant food not mentioned , restaurant name not mentioned , restaurant pricerange not mentioned , taxi arriveby not mentioned , taxi departure not mentioned , taxi destination not mentioned , taxi leaveat not mentioned , train arriveby not mentioned , train book people not mentioned , train day not mentioned , train departure not mentioned , train destination not mentioned , train leaveat not mentioned <|endofbelief|> </s>'}"
      ]
     },
     "execution_count": 19,
     "metadata": {},
     "output_type": "execute_result"
    }
   ],
   "source": [
    "random_masked_utterances['train'][0]"
   ]
  },
  {
   "cell_type": "markdown",
   "id": "aa470268",
   "metadata": {},
   "source": [
    "# Data processing\n"
   ]
  },
  {
   "cell_type": "code",
   "execution_count": null,
   "id": "c6563bf4",
   "metadata": {},
   "outputs": [],
   "source": [
    "# uninstall transfomers to avoid later bugs\n",
    "\n",
    "#pip install adapter-transformers  "
   ]
  },
  {
   "cell_type": "code",
   "execution_count": null,
   "id": "a039a576",
   "metadata": {},
   "outputs": [],
   "source": [
    "from transformers import BartTokenizer\n",
    "\n",
    "tokenizer = BartTokenizer.from_pretrained(\"facebook/bart-base\")\n",
    "'''\n",
    "return dataset = {'masked': tensor,\n",
    "                'target': tensor}\n",
    "'''"
   ]
  },
  {
   "cell_type": "markdown",
   "id": "209bd3e1",
   "metadata": {},
   "source": [
    "# Trainer"
   ]
  },
  {
   "cell_type": "code",
   "execution_count": 3,
   "id": "ade60f67",
   "metadata": {},
   "outputs": [],
   "source": [
    "import torch\n",
    "from transformers.adapters import BartAdapterModel\n",
    "\n",
    "model = BartAdapterModel.from_pretrained(\"facebook/bart-base\")"
   ]
  },
  {
   "cell_type": "code",
   "execution_count": 4,
   "id": "92fe82df",
   "metadata": {},
   "outputs": [],
   "source": [
    "model.add_adapter(\"dst\")\n",
    "\n",
    "model.train_adapter(\"dst\")"
   ]
  },
  {
   "cell_type": "code",
   "execution_count": null,
   "id": "0c9648f6",
   "metadata": {},
   "outputs": [],
   "source": [
    "from transformers import AdapterTrainer, TrainingArguments\n",
    "training_args = TrainingArguments(\n",
    "  do_train=True,\n",
    "  evaluation_strategy='step',\n",
    "  learning_rate=1e-4,\n",
    "  num_train_epochs=5,\n",
    ")\n",
    "\n",
    "# https://docs.adapterhub.ml/classes/models/bart.html\n",
    "\n",
    "trainer = AdapterTrainer(\n",
    "        model=model,\n",
    "        args=training_args,\n",
    "        tokenizer=tokenizer,\n",
    "        train_dataset= , # train set\n",
    "        eval_dataset=,    # val set\n",
    "    )"
   ]
  }
 ],
 "metadata": {
  "interpreter": {
   "hash": "0504d0b88a116eec0f5d3641dc854c025912b694bad83363df6b6383caf75690"
  },
  "kernelspec": {
   "display_name": "Python 3.10.4 ('dst')",
   "language": "python",
   "name": "python3"
  },
  "language_info": {
   "codemirror_mode": {
    "name": "ipython",
    "version": 3
   },
   "file_extension": ".py",
   "mimetype": "text/x-python",
   "name": "python",
   "nbconvert_exporter": "python",
   "pygments_lexer": "ipython3",
   "version": "3.10.4"
  }
 },
 "nbformat": 4,
 "nbformat_minor": 5
}
