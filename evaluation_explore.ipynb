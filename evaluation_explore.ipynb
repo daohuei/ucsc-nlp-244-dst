{
 "cells": [
  {
   "cell_type": "code",
   "execution_count": 82,
   "id": "a64fcb53-a507-45f4-b9fd-0c8a19636590",
   "metadata": {},
   "outputs": [],
   "source": [
    "import json\n",
    "# from sklearn.metrics import f1_score, accuracy_score\n",
    "# import numpy as np\n",
    "from utils.Constants import SLOT_VALS\n",
    "from utils.dst import ignore_none, default_cleaning, IGNORE_TURNS_TYPE2\n",
    "import argparse\n",
    "import sys\n",
    "sys.argv = ['test_args.py']\n",
    "\n",
    "\n",
    "parser = argparse.ArgumentParser()\n",
    "parser.add_argument('--eval_file', default=str,\n",
    "                    help='evaluate file name (json)')\n",
    "parser.add_argument('--default_cleaning', action='store_true',\n",
    "                    help='use default cleaning from multiwoz')\n",
    "parser.add_argument('--type2_cleaning', action='store_true',\n",
    "                    help='use type 2 cleaning, refer to [https://arxiv.org/abs/2005.00796]')\n",
    "args = parser.parse_args()\n",
    "args.eval_file = \"test_eval_test_nocarry.json\"\n",
    "data = json.load(open(args.eval_file, 'r'))"
   ]
  },
  {
   "cell_type": "code",
   "execution_count": 83,
   "id": "23739c31-6324-4bb2-baf3-f9602af7d26f",
   "metadata": {},
   "outputs": [],
   "source": [
    "data[\"SNG0073.json\"][\"generated_turn_belief\"][3][1] = data[\"PMUL3688.json\"][\"generated_turn_belief\"][3][1] + \"1\""
   ]
  },
  {
   "cell_type": "code",
   "execution_count": 84,
   "id": "7d741f42-9248-45ff-8071-b277f7eafe58",
   "metadata": {},
   "outputs": [],
   "source": [
    "data[\"SNG0073.json\"][\"generated_turn_belief\"][2][1] = \"some thing wrong\""
   ]
  },
  {
   "cell_type": "code",
   "execution_count": 85,
   "id": "8f29da1e-72b2-42b9-90b7-c04e3fa49eb5",
   "metadata": {},
   "outputs": [],
   "source": [
    "data = {\n",
    "    \"a\": data[\"SNG0073.json\"]\n",
    "}"
   ]
  },
  {
   "cell_type": "code",
   "execution_count": 86,
   "id": "2cc19b71-233f-43cf-ab05-da27b2f8d237",
   "metadata": {},
   "outputs": [],
   "source": [
    "\n",
    "slot_template = {slot:\"\" for slot in SLOT_VALS}\n",
    "def get_slot_map(slot_triplet_str_list):\n",
    "    slot_map = slot_template.copy()\n",
    "    for slot_triplet_str in slot_triplet_str_list:\n",
    "        slot_triplets = slot_triplet_str.split()\n",
    "        key = slot_triplets[0] + \" \" + slot_triplets[1]\n",
    "        val = slot_triplets[2]\n",
    "        if key not in SLOT_VALS:\n",
    "            continue\n",
    "        slot_map[key] = val\n",
    "    return slot_map\n",
    "\n",
    "def get_unique_slot_map(preds, targets):\n",
    "    unique_slots = set()\n",
    "    pred_map = {}\n",
    "    target_map = {}\n",
    "    \n",
    "    for pred_str in preds:\n",
    "        triplet = pred_str.split()\n",
    "        key = triplet[0] + \" \" + triplet[1]\n",
    "        val = triplet[2]\n",
    "        pred_map[key] = val\n",
    "        unique_slots.add(key)\n",
    "    \n",
    "    for target_str in targets:\n",
    "        triplet = target_str.split()\n",
    "        key = triplet[0] + \" \" + triplet[1]\n",
    "        val = triplet[2]\n",
    "        target_map[key] = val\n",
    "        unique_slots.add(key)\n",
    "    \n",
    "    return unique_slots.copy(), pred_map.copy(), target_map.copy()\n",
    "        "
   ]
  },
  {
   "cell_type": "code",
   "execution_count": 87,
   "id": "eca51052-b1dc-4191-83d4-d60d7e4c599a",
   "metadata": {},
   "outputs": [
    {
     "data": {
      "application/vnd.jupyter.widget-view+json": {
       "model_id": "7a1e65d715b940019024247101668114",
       "version_major": 2,
       "version_minor": 0
      },
      "text/plain": [
       "  0%|          | 0/1 [00:00<?, ?it/s]"
      ]
     },
     "metadata": {},
     "output_type": "display_data"
    }
   ],
   "source": [
    "from tqdm.auto import tqdm\n",
    "num_turns = 0\n",
    "joint_acc = 0\n",
    "slot_acc = 0\n",
    "r_slot_acc = 0\n",
    "\n",
    "num_slots = len(SLOT_VALS)\n",
    "num_r_slots = 0\n",
    "\n",
    "clean_tokens = ['<|endoftext|>']\n",
    "\n",
    "for dial in tqdm(data):\n",
    "    dialogue_pred = data[dial]['generated_turn_belief']\n",
    "    dialogue_target = data[dial]['target_turn_belief']\n",
    "\n",
    "    for turn_id, (turn_target, turn_pred) in enumerate(zip(dialogue_target, dialogue_pred)):\n",
    "        \n",
    "        # clean\n",
    "        for bs in turn_pred:\n",
    "            if bs in clean_tokens + ['', ' '] or bs.split()[-1] == 'none':\n",
    "                turn_pred.remove(bs)\n",
    "                \n",
    "        new_turn_pred = []\n",
    "        for bs in turn_pred:\n",
    "            for tok in clean_tokens:\n",
    "                bs = bs.replace(tok, '').strip()\n",
    "                new_turn_pred.append(bs)\n",
    "        turn_pred = new_turn_pred\n",
    "\n",
    "        turn_pred, turn_target = ignore_none(turn_pred, turn_target)\n",
    "        \n",
    "        # MultiWOZ default cleaning\n",
    "        if args.default_cleaning:\n",
    "            turn_pred, turn_target = default_cleaning(turn_pred, turn_target)\n",
    "\n",
    "        join_flag = False\n",
    "        \n",
    "        # calculate joint accuracy\n",
    "        if set(turn_target) == set(turn_pred):\n",
    "            joint_acc += 1\n",
    "            join_flag = True\n",
    "        \n",
    "        pred_slot_map = get_slot_map(turn_pred)\n",
    "        target_slot_map = get_slot_map(turn_target)\n",
    "        \n",
    "        # calculate slot accuracy\n",
    "        for slot_key in SLOT_VALS:\n",
    "            if target_slot_map[slot_key] == pred_slot_map[slot_key]:\n",
    "                slot_acc += 1\n",
    "                \n",
    "        # calculate relative slot accuracy\n",
    "        unique_slots, unique_pred_map, unique_target_map = get_unique_slot_map(turn_pred, turn_target)\n",
    "        for slot_key in unique_slots:\n",
    "            if slot_key not in unique_target_map.keys(): continue\n",
    "            if slot_key not in unique_pred_map.keys(): continue\n",
    "            if unique_target_map[slot_key] == unique_pred_map[slot_key]:\n",
    "                r_slot_acc += 1\n",
    "        num_r_slots += len(unique_slots)\n",
    "        \n",
    "            \n",
    "#         elif args.type2_cleaning: # check for possible Type 2 noisy annotations\n",
    "#             flag = True\n",
    "#             for bs in turn_target:\n",
    "#                 if bs not in turn_pred:\n",
    "#                     flag = False\n",
    "#                     break\n",
    "#             if flag:\n",
    "#                 for bs in turn_pred:\n",
    "#                     if bs not in dialogue_target_final:\n",
    "#                         flag = False\n",
    "#                         break\n",
    "\n",
    "#             if flag: # model prediction might be correct if found in Type 2 list of noisy annotations\n",
    "#                 dial_name = dial.split('.')[0]\n",
    "#                 if dial_name in IGNORE_TURNS_TYPE2 and turn_id in IGNORE_TURNS_TYPE2[dial_name]: # ignore these turns\n",
    "#                     pass\n",
    "#                 else:\n",
    "#                     joint_acc += 1\n",
    "#                     join_flag = True\n",
    "\n",
    "        num_turns += 1"
   ]
  },
  {
   "cell_type": "code",
   "execution_count": 88,
   "id": "12774182-5b25-4fd4-8023-b93daf3b9863",
   "metadata": {},
   "outputs": [
    {
     "name": "stdout",
     "output_type": "stream",
     "text": [
      "joint accuracy: 0.5\n"
     ]
    }
   ],
   "source": [
    "print('joint accuracy: {}'.format(joint_acc / num_turns))"
   ]
  },
  {
   "cell_type": "code",
   "execution_count": 89,
   "id": "34303a4d-dac0-40e1-a446-70ef65ee304f",
   "metadata": {},
   "outputs": [
    {
     "name": "stdout",
     "output_type": "stream",
     "text": [
      "slot accuracy: 0.9758064516129032\n"
     ]
    }
   ],
   "source": [
    "total_slot_num = num_slots * num_turns\n",
    "slot_acc /= total_slot_num\n",
    "\n",
    "print('slot accuracy: {}'.format(slot_acc))"
   ]
  },
  {
   "cell_type": "code",
   "execution_count": 90,
   "id": "e685e307-6ab4-4556-81ec-e00b21f3df2b",
   "metadata": {},
   "outputs": [
    {
     "name": "stdout",
     "output_type": "stream",
     "text": [
      "relative slot accuracy: 0.6923076923076923\n"
     ]
    }
   ],
   "source": [
    "r_slot_acc /= num_r_slots\n",
    "\n",
    "print('relative slot accuracy: {}'.format(r_slot_acc))"
   ]
  },
  {
   "cell_type": "code",
   "execution_count": null,
   "id": "84ab8dfc-1545-4147-93ad-af439d085aae",
   "metadata": {},
   "outputs": [],
   "source": []
  }
 ],
 "metadata": {
  "kernelspec": {
   "display_name": "Python 3 (ipykernel)",
   "language": "python",
   "name": "python3"
  },
  "language_info": {
   "codemirror_mode": {
    "name": "ipython",
    "version": 3
   },
   "file_extension": ".py",
   "mimetype": "text/x-python",
   "name": "python",
   "nbconvert_exporter": "python",
   "pygments_lexer": "ipython3",
   "version": "3.8.13"
  }
 },
 "nbformat": 4,
 "nbformat_minor": 5
}
